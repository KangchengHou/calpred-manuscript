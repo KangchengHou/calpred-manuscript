{
 "cells": [
  {
   "cell_type": "code",
   "execution_count": 3,
   "id": "5347044f-3403-43eb-a40d-6cb74f4618e9",
   "metadata": {},
   "outputs": [
    {
     "name": "stdout",
     "output_type": "stream",
     "text": [
      "The lab_black extension is already loaded. To reload it, use:\n",
      "  %reload_ext lab_black\n",
      "The autoreload extension is already loaded. To reload it, use:\n",
      "  %reload_ext autoreload\n"
     ]
    }
   ],
   "source": [
    "%load_ext lab_black\n",
    "%load_ext autoreload\n",
    "%autoreload 2\n",
    "\n",
    "import submitit\n",
    "import admix\n",
    "import numpy as np\n",
    "import pandas as pd\n",
    "import admix_prs\n",
    "import os\n",
    "import statsmodels.api as sm\n",
    "import matplotlib.pyplot as plt\n",
    "from scipy.stats import pearsonr\n",
    "import glob\n",
    "from tqdm import tqdm"
   ]
  },
  {
   "cell_type": "code",
   "execution_count": 15,
   "id": "68116d24-d479-4b10-b0e0-5a4482fd0d7e",
   "metadata": {},
   "outputs": [
    {
     "name": "stdout",
     "output_type": "stream",
     "text": [
      "Covariates: AGE, SEX, DEPRIVATION_INDEX, PC1, PC2, PC3, PC4, PC5, PC6, PC7, PC8, PC9, PC10\n",
      "Testing: SEX, glasses, AGE_Q, years_of_edu_Q, income_Q, DEPRIVATION_INDEX_Q, PC1_Q, PC2_Q\n"
     ]
    }
   ],
   "source": [
    "DATA_DIR = \"/u/project/pasaniuc/pasaniucdata/admixture/projects/admix-prs-uncertainty/experiments/00-compile-data/out\"\n",
    "PHENO_DIR = \"/u/project/sgss/UKBB/PRS-RESEARCH/03-compile-pheno/out\"\n",
    "\n",
    "TEST_COLS = [\"SEX\", \"glasses\"] + [\n",
    "    col + \"_Q\"\n",
    "    for col in [\"AGE\", \"years_of_edu\", \"income\", \"DEPRIVATION_INDEX\", \"PC1\", \"PC2\"]\n",
    "]\n",
    "COVAR_COLS = [\"AGE\", \"SEX\", \"DEPRIVATION_INDEX\"] + [f\"PC{i}\" for i in range(1, 11)]\n",
    "\n",
    "print(\"Covariates:\", \", \".join(COVAR_COLS))\n",
    "print(\"Testing:\", \", \".join(TEST_COLS))"
   ]
  },
  {
   "cell_type": "code",
   "execution_count": 5,
   "id": "12b7a45d-486f-4cff-a93a-e0d27da77c66",
   "metadata": {},
   "outputs": [],
   "source": [
    "def load_trait_info(trait):\n",
    "\n",
    "    ## 1. load trait and score\n",
    "    df_trait = pd.read_csv(\n",
    "        os.path.join(PHENO_DIR, f\"{trait}.tsv\"), sep=\"\\t\", index_col=0\n",
    "    ).drop(columns=[\"IID\"])\n",
    "\n",
    "    df_score = pd.read_csv(\n",
    "        os.path.join(DATA_DIR, f\"pred/{trait}.score_summary.tsv.gz\"),\n",
    "        sep=\"\\t\",\n",
    "        index_col=0,\n",
    "    )\n",
    "    df_score.index = [int(i.split(\"_\")[0]) for i in df_score.index]\n",
    "\n",
    "    ## 2. load covariates\n",
    "    df_covar = pd.read_csv(os.path.join(DATA_DIR, \"covar.tsv\"), sep=\"\\t\", index_col=0)\n",
    "\n",
    "    # add some phenotype to the covariates\n",
    "    for t in [\"years_of_edu\", \"glasses\", \"income\"]:\n",
    "        df_tmp = pd.read_csv(\n",
    "            os.path.join(PHENO_DIR, f\"{t}.tsv\"), sep=\"\\t\", index_col=0\n",
    "        ).drop(columns=[\"IID\"])\n",
    "        df_covar[t] = df_tmp[\"PHENO\"].reindex(df_covar.index)\n",
    "\n",
    "    # convert continuous phenotype to discrete phenotypes\n",
    "    for col in [\"years_of_edu\", \"income\", \"AGE\", \"DEPRIVATION_INDEX\", \"PC1\", \"PC2\"]:\n",
    "        df_covar[f\"{col}_Q\"] = pd.qcut(df_covar[col], q=5, duplicates=\"drop\").cat.codes\n",
    "\n",
    "    # merge all files together\n",
    "    df_trait = pd.merge(df_score, df_trait, left_index=True, right_index=True)\n",
    "    df_trait = pd.merge(df_trait, df_covar, left_index=True, right_index=True)\n",
    "\n",
    "    # restricted to UK ancestry\n",
    "    df_trait = df_trait[df_trait.group == \"United Kingdom\"]\n",
    "    df_trait = df_trait.dropna()\n",
    "    return df_trait\n",
    "\n",
    "\n",
    "def compute_r2(trait, out_prefix, n_bootstrap=1000):\n",
    "    df_trait = load_trait_info(trait)\n",
    "    # residual after regressing out COVAR_COLS\n",
    "    df_trait[\"PHENO_RESID\"] = (\n",
    "        sm.OLS(\n",
    "            df_trait[\"PHENO\"].values,\n",
    "            sm.add_constant(df_trait[COVAR_COLS]),\n",
    "            missing=\"drop\",\n",
    "        )\n",
    "        .fit()\n",
    "        .resid\n",
    "    )\n",
    "    # baseline\n",
    "    df_baseline = admix_prs.summarize_pred(\n",
    "        df_trait,\n",
    "        y_col=\"PHENO_RESID\",\n",
    "        pred_col=\"MEAN\",\n",
    "    )\n",
    "    # R2 diff\n",
    "    df_out = []\n",
    "    for col in TEST_COLS:\n",
    "\n",
    "        df_res, df_res_se, r2_diff = admix_prs.summarize_pred(\n",
    "            df_trait,\n",
    "            y_col=\"PHENO_RESID\",\n",
    "            pred_col=\"MEAN\",\n",
    "            group_col=col,\n",
    "            n_bootstrap=n_bootstrap,\n",
    "            return_r2_diff=True,\n",
    "        )\n",
    "        df_out.append(\n",
    "            [col, df_res[\"r2\"].iloc[-1] - df_res[\"r2\"].iloc[0], np.mean(r2_diff > 0)]\n",
    "        )\n",
    "\n",
    "    df_out = pd.DataFrame(df_out, columns=[\"test_col\", \"r2_diff\", \"prob>0\"])\n",
    "    df_baseline.to_csv(out_prefix + \".baseline.tsv\", sep=\"\\t\", header=False)\n",
    "    df_out.to_csv(out_prefix + \".r2_diff.tsv\", sep=\"\\t\", index=False)"
   ]
  },
  {
   "cell_type": "code",
   "execution_count": 6,
   "id": "1fd64342-3c61-47b2-83bb-21809a8065a2",
   "metadata": {},
   "outputs": [
    {
     "name": "stdout",
     "output_type": "stream",
     "text": [
      "111 traits in total.\n"
     ]
    }
   ],
   "source": [
    "trait_list = list(\n",
    "    set(\n",
    "        [\n",
    "            t.split(\"/\")[-1].split(\".\")[0]\n",
    "            for t in glob.glob(os.path.join(DATA_DIR, \"pred/*\"))\n",
    "        ]\n",
    "    )\n",
    ")\n",
    "print(f\"{len(trait_list)} traits in total.\")"
   ]
  },
  {
   "cell_type": "code",
   "execution_count": 8,
   "id": "55b1f197-70b6-460c-8632-7bd7b8e3aa3c",
   "metadata": {},
   "outputs": [
    {
     "name": "stdout",
     "output_type": "stream",
     "text": [
      "111 jobs in total\n"
     ]
    }
   ],
   "source": [
    "df_params = pd.DataFrame({\"trait\": trait_list})\n",
    "df_params[\"out_prefix\"] = df_params.trait.apply(lambda x: f\"out/r2-diff/{x}\")\n",
    "print(f\"{len(df_params)} jobs in total\")"
   ]
  },
  {
   "cell_type": "code",
   "execution_count": 9,
   "id": "388d69c3-085d-43dd-82e4-5ed0f16e5654",
   "metadata": {},
   "outputs": [],
   "source": [
    "executor = submitit.SgeExecutor(folder=\"./submitit-logs\")\n",
    "\n",
    "executor.update_parameters(\n",
    "    time_min=10,\n",
    "    memory_g=12,\n",
    "    queue=\"highp\",\n",
    "    setup=[\n",
    "        \"export PATH=~/project-pasaniuc/software/miniconda3/bin:$PATH\",\n",
    "        \"export PYTHONNOUSERSITE=True\",\n",
    "    ],\n",
    ")"
   ]
  },
  {
   "cell_type": "code",
   "execution_count": 10,
   "id": "d3c584f3-b35d-479d-83be-2ac49f4bbfd1",
   "metadata": {},
   "outputs": [
    {
     "name": "stdout",
     "output_type": "stream",
     "text": [
      "1 jobs remains\n"
     ]
    }
   ],
   "source": [
    "df_todo_params = df_params[\n",
    "    ~df_params.apply(lambda x: os.path.exists(x.out_prefix + \".r2_diff.tsv\"), axis=1)\n",
    "]\n",
    "print(f\"{len(df_todo_params)} jobs remains\")"
   ]
  },
  {
   "cell_type": "code",
   "execution_count": 11,
   "id": "6fbb90b6-8d35-4c1e-a637-bcb39b1bfb4f",
   "metadata": {},
   "outputs": [],
   "source": [
    "jobs = executor.map_array(\n",
    "    compute_r2,\n",
    "    df_todo_params.trait,\n",
    "    df_todo_params.out_prefix,\n",
    ")"
   ]
  },
  {
   "cell_type": "markdown",
   "id": "83dc7e9b-328b-4f9b-8b6d-a9bc0a4ea9a2",
   "metadata": {},
   "source": [
    "# Summarize the results"
   ]
  },
  {
   "cell_type": "code",
   "execution_count": 12,
   "id": "a8ab4695-c189-4159-931c-0666a15fe823",
   "metadata": {},
   "outputs": [
    {
     "name": "stderr",
     "output_type": "stream",
     "text": [
      "111it [00:00, 140.31it/s]"
     ]
    },
    {
     "name": "stdout",
     "output_type": "stream",
     "text": [
      "out/r2-diff/F_length_menstrual_cycle.baseline.tsv does not exist.\n"
     ]
    },
    {
     "name": "stderr",
     "output_type": "stream",
     "text": [
      "\n"
     ]
    }
   ],
   "source": [
    "df_baseline_r2 = []\n",
    "df_r2_diff = []\n",
    "for _, row in tqdm(df_params.iterrows()):\n",
    "    baseline_file = row.out_prefix + \".baseline.tsv\"\n",
    "    if not os.path.exists(baseline_file):\n",
    "        print(f\"{baseline_file} does not exist.\")\n",
    "        continue\n",
    "    df_tmp = pd.read_csv(baseline_file, sep=\"\\t\", header=None, index_col=0).squeeze()\n",
    "    df_baseline_r2.append([row.trait, df_tmp[\"r2\"]])\n",
    "\n",
    "    df_tmp = pd.read_csv(row.out_prefix + \".r2_diff.tsv\", sep=\"\\t\")\n",
    "    df_tmp.insert(0, \"trait\", row.trait)\n",
    "    df_r2_diff.append(df_tmp)"
   ]
  },
  {
   "cell_type": "code",
   "execution_count": 13,
   "id": "1f85b51d-8d79-430a-a5f2-2c8ffa950432",
   "metadata": {},
   "outputs": [],
   "source": [
    "df_baseline_r2 = pd.DataFrame(df_baseline_r2, columns=[\"trait\", \"baseline_r2\"])\n",
    "df_r2_diff = pd.concat(df_r2_diff)"
   ]
  },
  {
   "cell_type": "code",
   "execution_count": 14,
   "id": "fa6d1b72-6eb1-4309-a024-0b8b0042d404",
   "metadata": {},
   "outputs": [],
   "source": [
    "df_baseline_r2.to_csv(\"out/baseline_r2.tsv\", sep=\"\\t\", index=False)\n",
    "df_r2_diff.to_csv(\"out/r2_diff.tsv\", sep=\"\\t\", index=False)"
   ]
  },
  {
   "cell_type": "code",
   "execution_count": null,
   "id": "bef4788d-793a-4b0f-ac5a-d8d3d94747c8",
   "metadata": {},
   "outputs": [],
   "source": []
  }
 ],
 "metadata": {
  "kernelspec": {
   "display_name": "Python 3",
   "language": "python",
   "name": "python3"
  },
  "language_info": {
   "codemirror_mode": {
    "name": "ipython",
    "version": 3
   },
   "file_extension": ".py",
   "mimetype": "text/x-python",
   "name": "python",
   "nbconvert_exporter": "python",
   "pygments_lexer": "ipython3",
   "version": "3.8.5"
  }
 },
 "nbformat": 4,
 "nbformat_minor": 5
}
