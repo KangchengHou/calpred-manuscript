{
 "cells": [
  {
   "cell_type": "code",
   "execution_count": 1,
   "id": "5347044f-3403-43eb-a40d-6cb74f4618e9",
   "metadata": {},
   "outputs": [],
   "source": [
    "%load_ext lab_black\n",
    "%load_ext autoreload\n",
    "%autoreload 2\n",
    "\n",
    "import submitit\n",
    "import admix\n",
    "import numpy as np\n",
    "import pandas as pd\n",
    "import calpgs\n",
    "import os\n",
    "import statsmodels.api as sm\n",
    "import matplotlib.pyplot as plt\n",
    "from scipy.stats import pearsonr\n",
    "import glob\n",
    "from tqdm import tqdm\n",
    "import itertools\n",
    "from typing import List\n",
    "import subprocess\n",
    "from admix.data import quantile_normalize"
   ]
  },
  {
   "cell_type": "code",
   "execution_count": 2,
   "id": "89b0fbca-5ec8-4bdd-8290-54270672e934",
   "metadata": {},
   "outputs": [],
   "source": [
    "DATA_DIR = \"../compile-data/out/per-trait-info/\""
   ]
  },
  {
   "cell_type": "code",
   "execution_count": 3,
   "id": "23ca0972-dd58-489c-900a-da7dfac96bd0",
   "metadata": {},
   "outputs": [],
   "source": [
    "# COVAR_COLS = [\n",
    "#     \"AGE\",\n",
    "#     \"SEX\",\n",
    "#     \"DEPRIVATION_INDEX\",\n",
    "#     \"log_BMI\",\n",
    "#     \"income\",\n",
    "#     \"ever_smoked\",\n",
    "#     \"drink_alcohol\",\n",
    "#     \"glasses\",\n",
    "#     \"years_of_edu\",\n",
    "# ] + [f\"PC{i}\" for i in range(1, 11)]\n",
    "\n",
    "# TEST_COLS = COVAR_COLS\n",
    "\n",
    "TEST_COLS = [\n",
    "    \"AGE\",\n",
    "    \"SEX\",\n",
    "    \"DEPRIVATION_INDEX\",\n",
    "    \"log_BMI\",\n",
    "    \"income\",\n",
    "    \"ever_smoked\",\n",
    "    \"drink_alcohol\",\n",
    "    \"glasses\",\n",
    "    \"years_of_edu\",\n",
    "] + [f\"PC{i}\" for i in range(1, 11)]\n",
    "\n",
    "COVAR_COLS = [\"AGE\", \"SEX\"] + [f\"PC{i}\" for i in range(1, 11)]"
   ]
  },
  {
   "cell_type": "code",
   "execution_count": 4,
   "id": "68116d24-d479-4b10-b0e0-5a4482fd0d7e",
   "metadata": {},
   "outputs": [
    {
     "name": "stdout",
     "output_type": "stream",
     "text": [
      "Covariates: AGE, SEX, PC1, PC2, PC3, PC4, PC5, PC6, PC7, PC8, PC9, PC10\n",
      "Testing: AGE, SEX, DEPRIVATION_INDEX, log_BMI, income, ever_smoked, drink_alcohol, glasses, years_of_edu, PC1, PC2, PC3, PC4, PC5, PC6, PC7, PC8, PC9, PC10\n"
     ]
    }
   ],
   "source": [
    "print(\"Covariates:\", \", \".join(COVAR_COLS))\n",
    "print(\"Testing:\", \", \".join(TEST_COLS))"
   ]
  },
  {
   "cell_type": "code",
   "execution_count": 5,
   "id": "6e11e0c6-0e24-464a-8c2e-1ae2a7efec9f",
   "metadata": {},
   "outputs": [],
   "source": [
    "df_trait = pd.read_csv(os.path.join(DATA_DIR, f\"height.tsv.gz\"), index_col=0, sep=\"\\t\")"
   ]
  },
  {
   "cell_type": "code",
   "execution_count": 11,
   "id": "6f18638a-9ab4-497a-ba89-97eb5897c338",
   "metadata": {},
   "outputs": [
    {
     "data": {
      "text/plain": [
       "array([ 1.,  0., nan])"
      ]
     },
     "execution_count": 11,
     "metadata": {},
     "output_type": "execute_result"
    }
   ],
   "source": [
    "df_trait[\"drink_alcohol\"].unique()"
   ]
  },
  {
   "cell_type": "code",
   "execution_count": 14,
   "id": "da8628b9-9c5a-4064-827a-4fcb36c80924",
   "metadata": {},
   "outputs": [
    {
     "data": {
      "text/plain": [
       "19"
      ]
     },
     "execution_count": 14,
     "metadata": {},
     "output_type": "execute_result"
    }
   ],
   "source": [
    "len(TEST_COLS)"
   ]
  },
  {
   "cell_type": "code",
   "execution_count": 13,
   "id": "0dd283fa-bc8a-43d2-9604-d3c9f7305e68",
   "metadata": {},
   "outputs": [
    {
     "name": "stdout",
     "output_type": "stream",
     "text": [
      "AGE: 34\n",
      "SEX: 2: 1,0\n",
      "DEPRIVATION_INDEX: 37749\n",
      "log_BMI: 24050\n",
      "income: 6: 1.41421,2.0,2.23607,1.0,nan,1.73205\n",
      "ever_smoked: 3: 1.0,0.0,nan\n",
      "drink_alcohol: 3: 1.0,0.0,nan\n",
      "glasses: 3: 0.0,1.0,nan\n",
      "years_of_edu: 6: 10.0,20.0,nan,13.0,19.0,15.0\n",
      "PC1: 83739\n",
      "PC2: 109388\n",
      "PC3: 110619\n",
      "PC4: 112421\n",
      "PC5: 112133\n",
      "PC6: 111659\n",
      "PC7: 111722\n",
      "PC8: 111893\n",
      "PC9: 111243\n",
      "PC10: 111880\n"
     ]
    }
   ],
   "source": [
    "for col in TEST_COLS:\n",
    "    unique = df_trait[col].unique()\n",
    "    line = f\"{col}: {len(df_trait[col].unique())}\"\n",
    "    if len(unique) < 10:\n",
    "        line += f\": {','.join([str(u) for u in unique])}\"\n",
    "    print(line)"
   ]
  },
  {
   "cell_type": "code",
   "execution_count": 15,
   "id": "06f0845a-9c0f-40fd-aa2f-902c683118a9",
   "metadata": {},
   "outputs": [],
   "source": [
    "def compute_r2(\n",
    "    trait: str,\n",
    "    indiv_group: str,\n",
    "    out_prefix: str,\n",
    "    test_cols: List[str],\n",
    "    n_bootstrap: int = 1000,\n",
    "):\n",
    "    \"\"\"\n",
    "    Compute R2 across covariate for trait and group of individuals\n",
    "\n",
    "    Parameters\n",
    "    ----------\n",
    "    trait: str\n",
    "        trait to load\n",
    "    indiv_group: str\n",
    "        group of individuals\n",
    "    out_prefix: str\n",
    "        output prefix\n",
    "        <out_prefix>.baseline.tsv and <out_prefix>.r2_diff.tsv will be produced\n",
    "    \"\"\"\n",
    "\n",
    "    df_trait = pd.read_csv(\n",
    "        os.path.join(DATA_DIR, f\"{trait}.tsv.gz\"), index_col=0, sep=\"\\t\"\n",
    "    )\n",
    "    if indiv_group == \"white\":\n",
    "        df_trait = df_trait[df_trait.group == \"United Kingdom\"]\n",
    "    elif indiv_group == \"other\":\n",
    "        df_trait = df_trait[~(df_trait.group == \"United Kingdom\")]\n",
    "    elif indiv_group == \"all\":\n",
    "        df_trait = df_trait.copy()\n",
    "    else:\n",
    "        raise NotImplementedError\n",
    "\n",
    "    # trait and covar can be the same, remove trait in COVAR\n",
    "    covar_cols = [col for col in COVAR_COLS if col != trait]\n",
    "\n",
    "    # residual after regressing out covar_cols (covariates are imputed)\n",
    "    df_covar = df_trait[covar_cols].copy()\n",
    "    for col in df_covar.columns:\n",
    "        df_covar[col] = df_covar[col].fillna(df_covar[col].mean())\n",
    "\n",
    "    # residual after regressing out covar_cols\n",
    "    df_trait[\"PHENO_RESID\"] = (\n",
    "        sm.OLS(\n",
    "            df_trait[\"PHENO\"].values,\n",
    "            sm.add_constant(df_covar),\n",
    "        )\n",
    "        .fit()\n",
    "        .resid\n",
    "    )\n",
    "    # baseline\n",
    "    df_baseline = calpgs.compute_group_stats(\n",
    "        df_trait,\n",
    "        y_col=\"PHENO_RESID\",\n",
    "        pred_col=\"MEAN\",\n",
    "    )\n",
    "    df_baseline.to_csv(out_prefix + \".baseline.tsv\", sep=\"\\t\", header=False)\n",
    "\n",
    "    tmp_file = out_prefix + \".tmp.tsv\"\n",
    "    df_trait.to_csv(tmp_file, sep=\"\\t\")\n",
    "    cmds = [\n",
    "        \"calpgs group-stats\",\n",
    "        f\"--df {tmp_file}\",\n",
    "        \"--y PHENO_RESID\",\n",
    "        \"--pred MEAN\",\n",
    "        f\"--group {','.join(test_cols)}\",\n",
    "        \"--cor spearman\",\n",
    "        f\"--out {out_prefix}\",\n",
    "    ]\n",
    "    subprocess.check_call(\" \".join(cmds), shell=True)\n",
    "    os.remove(tmp_file)"
   ]
  },
  {
   "cell_type": "code",
   "execution_count": 16,
   "id": "1fd64342-3c61-47b2-83bb-21809a8065a2",
   "metadata": {},
   "outputs": [
    {
     "name": "stdout",
     "output_type": "stream",
     "text": [
      "247 traits in total.\n"
     ]
    }
   ],
   "source": [
    "trait_list = list(\n",
    "    set(\n",
    "        [\n",
    "            t.split(\"/\")[-1].rsplit(\".\", 2)[0]\n",
    "            for t in glob.glob(os.path.join(DATA_DIR, \"*.tsv.gz\"))\n",
    "        ]\n",
    "    )\n",
    ")\n",
    "print(f\"{len(trait_list)} traits in total.\")"
   ]
  },
  {
   "cell_type": "code",
   "execution_count": 17,
   "id": "d2f280e1-39c5-429e-a717-14296d776078",
   "metadata": {},
   "outputs": [
    {
     "name": "stdout",
     "output_type": "stream",
     "text": [
      "741 jobs in total\n"
     ]
    }
   ],
   "source": [
    "df_params = pd.DataFrame(\n",
    "    [params for params in itertools.product(trait_list, [\"white\", \"other\", \"all\"])],\n",
    "    columns=[\"trait\", \"group\"],\n",
    ")\n",
    "df_params[\"out_prefix\"] = df_params.apply(\n",
    "    lambda r: f\"out/r2-diff/{r.trait}-{r.group}\", axis=1\n",
    ")\n",
    "print(f\"{len(df_params)} jobs in total\")\n",
    "os.makedirs(\"out/r2-diff/\", exist_ok=True)"
   ]
  },
  {
   "cell_type": "code",
   "execution_count": 18,
   "id": "388d69c3-085d-43dd-82e4-5ed0f16e5654",
   "metadata": {},
   "outputs": [],
   "source": [
    "executor = submitit.SgeExecutor(folder=\"./submitit-logs\")\n",
    "\n",
    "executor.update_parameters(\n",
    "    time_min=120,\n",
    "    memory_g=12,\n",
    "    setup=[\n",
    "        \"export PATH=~/project-pasaniuc/software/miniconda3/bin:$PATH\",\n",
    "        \"export PYTHONNOUSERSITE=True\",\n",
    "    ],\n",
    ")"
   ]
  },
  {
   "cell_type": "code",
   "execution_count": 21,
   "id": "d3c584f3-b35d-479d-83be-2ac49f4bbfd1",
   "metadata": {},
   "outputs": [
    {
     "name": "stdout",
     "output_type": "stream",
     "text": [
      "0 jobs remains\n"
     ]
    }
   ],
   "source": [
    "df_todo_params = df_params[\n",
    "    ~df_params.apply(lambda x: os.path.exists(x.out_prefix + \".r2diff.tsv\"), axis=1)\n",
    "]\n",
    "print(f\"{len(df_todo_params)} jobs remains\")"
   ]
  },
  {
   "cell_type": "code",
   "execution_count": 22,
   "id": "6fbb90b6-8d35-4c1e-a637-bcb39b1bfb4f",
   "metadata": {},
   "outputs": [
    {
     "name": "stderr",
     "output_type": "stream",
     "text": [
      "/u/project/pasaniuc/kangchen/software/submitit-sge/submitit/core/core.py:699: UserWarning: Received an empty job array\n",
      "  warnings.warn(\"Received an empty job array\")\n"
     ]
    }
   ],
   "source": [
    "jobs = executor.map_array(\n",
    "    compute_r2,\n",
    "    df_todo_params.trait,\n",
    "    df_todo_params.group,\n",
    "    df_todo_params.out_prefix,\n",
    "    [TEST_COLS] * len(df_todo_params),\n",
    ")"
   ]
  },
  {
   "cell_type": "markdown",
   "id": "d6dae693-6a4f-4d94-9542-11895ce98ccc",
   "metadata": {},
   "source": [
    "# Summarize the results"
   ]
  },
  {
   "cell_type": "code",
   "execution_count": 23,
   "id": "4f19fd60-20aa-41f1-bcfb-0a8cccf8d766",
   "metadata": {},
   "outputs": [
    {
     "name": "stderr",
     "output_type": "stream",
     "text": [
      "247it [00:10, 24.45it/s]\n",
      "247it [00:08, 27.57it/s]\n",
      "247it [00:07, 34.05it/s]\n"
     ]
    }
   ],
   "source": [
    "for group in [\"white\", \"other\", \"all\"]:\n",
    "    df_group_params = df_params[df_params.group == group]\n",
    "    df_baseline_r2 = []\n",
    "    df_r2_diff = []\n",
    "    for _, row in tqdm(df_group_params.iterrows()):\n",
    "        baseline_file = row.out_prefix + \".baseline.tsv\"\n",
    "        if not os.path.exists(baseline_file):\n",
    "            print(f\"{baseline_file} does not exist.\")\n",
    "            continue\n",
    "        df_tmp = pd.read_csv(\n",
    "            baseline_file, sep=\"\\t\", header=None, index_col=0\n",
    "        ).squeeze()\n",
    "        df_baseline_r2.append([row.trait, df_tmp[\"r2\"]])\n",
    "\n",
    "        df_tmp = pd.read_csv(row.out_prefix + \".r2diff.tsv\", sep=\"\\t\")\n",
    "        df_tmp.insert(0, \"trait\", row.trait)\n",
    "        df_r2_diff.append(df_tmp)\n",
    "    df_baseline_r2 = pd.DataFrame(df_baseline_r2, columns=[\"trait\", \"baseline_r2\"])\n",
    "    df_r2_diff = pd.concat(df_r2_diff)\n",
    "    df_baseline_r2.to_csv(f\"out/baseline_r2.{group}.tsv\", sep=\"\\t\", index=False)\n",
    "    df_r2_diff.to_csv(f\"out/r2diff.{group}.tsv\", sep=\"\\t\", index=False)"
   ]
  }
 ],
 "metadata": {
  "kernelspec": {
   "display_name": "Python 3",
   "language": "python",
   "name": "python3"
  },
  "language_info": {
   "codemirror_mode": {
    "name": "ipython",
    "version": 3
   },
   "file_extension": ".py",
   "mimetype": "text/x-python",
   "name": "python",
   "nbconvert_exporter": "python",
   "pygments_lexer": "ipython3",
   "version": "3.8.5"
  }
 },
 "nbformat": 4,
 "nbformat_minor": 5
}
