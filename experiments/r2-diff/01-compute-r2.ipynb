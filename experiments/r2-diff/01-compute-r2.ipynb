{
 "cells": [
  {
   "cell_type": "code",
   "execution_count": 1,
   "id": "5347044f-3403-43eb-a40d-6cb74f4618e9",
   "metadata": {},
   "outputs": [],
   "source": [
    "%load_ext lab_black\n",
    "%load_ext autoreload\n",
    "%autoreload 2\n",
    "\n",
    "import submitit\n",
    "import admix\n",
    "import numpy as np\n",
    "import pandas as pd\n",
    "import calprs\n",
    "import os\n",
    "import statsmodels.api as sm\n",
    "import matplotlib.pyplot as plt\n",
    "from scipy.stats import pearsonr\n",
    "import glob\n",
    "from tqdm import tqdm\n",
    "import itertools\n",
    "from typing import List\n",
    "import subprocess"
   ]
  },
  {
   "cell_type": "code",
   "execution_count": 2,
   "id": "89b0fbca-5ec8-4bdd-8290-54270672e934",
   "metadata": {},
   "outputs": [],
   "source": [
    "DATA_DIR = \"../compile-data/out/per-trait-info/\""
   ]
  },
  {
   "cell_type": "code",
   "execution_count": 3,
   "id": "68116d24-d479-4b10-b0e0-5a4482fd0d7e",
   "metadata": {},
   "outputs": [
    {
     "name": "stdout",
     "output_type": "stream",
     "text": [
      "Covariates: AGE, SEX, DEPRIVATION_INDEX, PC1, PC2, PC3, PC4, PC5, PC6, PC7, PC8, PC9, PC10\n",
      "Testing: SEX, glasses, AGE, years_of_edu, income, DEPRIVATION_INDEX, PC1, PC2, ever_smoked\n"
     ]
    }
   ],
   "source": [
    "COVAR_COLS = [\"AGE\", \"SEX\", \"DEPRIVATION_INDEX\"] + [f\"PC{i}\" for i in range(1, 11)]\n",
    "\n",
    "TEST_COLS = [\"SEX\", \"glasses\"] + [\n",
    "    \"AGE\",\n",
    "    \"years_of_edu\",\n",
    "    \"income\",\n",
    "    \"DEPRIVATION_INDEX\",\n",
    "    \"PC1\",\n",
    "    \"PC2\",\n",
    "    \"ever_smoked\",\n",
    "]\n",
    "\n",
    "print(\"Covariates:\", \", \".join(COVAR_COLS))\n",
    "print(\"Testing:\", \", \".join(TEST_COLS))"
   ]
  },
  {
   "cell_type": "code",
   "execution_count": 4,
   "id": "06f0845a-9c0f-40fd-aa2f-902c683118a9",
   "metadata": {},
   "outputs": [],
   "source": [
    "def compute_r2(\n",
    "    trait: str,\n",
    "    indiv_group: str,\n",
    "    out_prefix: str,\n",
    "    test_cols: List[str],\n",
    "    n_bootstrap: int = 1000,\n",
    "):\n",
    "    \"\"\"\n",
    "    Compute R2 across covariate for trait and group of individuals\n",
    "\n",
    "    Parameters\n",
    "    ----------\n",
    "    trait: str\n",
    "        trait to load\n",
    "    indiv_group: str\n",
    "        group of individuals\n",
    "    out_prefix: str\n",
    "        output prefix\n",
    "        <out_prefix>.baseline.tsv and <out_prefix>.r2_diff.tsv will be produced\n",
    "    \"\"\"\n",
    "\n",
    "    df_trait = pd.read_csv(\n",
    "        os.path.join(DATA_DIR, f\"{trait}.tsv.gz\"), index_col=0, sep=\"\\t\"\n",
    "    )\n",
    "    if indiv_group == \"white_british\":\n",
    "        df_trait = df_trait[df_trait.group == \"United Kingdom\"]\n",
    "    elif indiv_group == \"other\":\n",
    "        df_trait = df_trait[df_trait.group != \"United Kingdom\"]\n",
    "    else:\n",
    "        raise NotImplementedError\n",
    "\n",
    "    # residual after regressing out COVAR_COLS\n",
    "    df_trait[\"PHENO_RESID\"] = (\n",
    "        sm.OLS(\n",
    "            df_trait[\"PHENO\"].values,\n",
    "            sm.add_constant(df_trait[COVAR_COLS]),\n",
    "            missing=\"drop\",\n",
    "        )\n",
    "        .fit()\n",
    "        .resid\n",
    "    )\n",
    "    # baseline\n",
    "    df_baseline = calprs.summarize_pred(\n",
    "        df_trait,\n",
    "        y_col=\"PHENO_RESID\",\n",
    "        pred_col=\"MEAN\",\n",
    "    )\n",
    "    df_baseline.to_csv(out_prefix + \".baseline.tsv\", sep=\"\\t\", header=False)\n",
    "\n",
    "    tmp_file = out_prefix + \".tmp.tsv\"\n",
    "    df_trait.to_csv(tmp_file, sep=\"\\t\")\n",
    "    cmds = [\n",
    "        \"calprs r2diff\",\n",
    "        f\"--df {tmp_file}\",\n",
    "        \"--y PHENO_RESID\",\n",
    "        \"--pred MEAN\",\n",
    "        f\"--group {','.join(test_cols)}\",\n",
    "        f\"--out {out_prefix}.r2_diff.tsv\",\n",
    "    ]\n",
    "    subprocess.check_call(\" \".join(cmds), shell=True)\n",
    "    os.remove(tmp_file)"
   ]
  },
  {
   "cell_type": "code",
   "execution_count": 5,
   "id": "1fd64342-3c61-47b2-83bb-21809a8065a2",
   "metadata": {},
   "outputs": [
    {
     "name": "stdout",
     "output_type": "stream",
     "text": [
      "13 traits in total.\n"
     ]
    }
   ],
   "source": [
    "trait_list = list(\n",
    "    set(\n",
    "        [t.split(\"/\")[-1].split(\".\")[0] for t in glob.glob(os.path.join(DATA_DIR, \"*\"))]\n",
    "    )\n",
    ")\n",
    "print(f\"{len(trait_list)} traits in total.\")"
   ]
  },
  {
   "cell_type": "code",
   "execution_count": 6,
   "id": "d2f280e1-39c5-429e-a717-14296d776078",
   "metadata": {},
   "outputs": [
    {
     "name": "stdout",
     "output_type": "stream",
     "text": [
      "26 jobs in total\n"
     ]
    }
   ],
   "source": [
    "df_params = pd.DataFrame(\n",
    "    [params for params in itertools.product(trait_list, [\"white_british\", \"other\"])],\n",
    "    columns=[\"trait\", \"group\"],\n",
    ")\n",
    "df_params[\"out_prefix\"] = df_params.apply(\n",
    "    lambda r: f\"out/r2-diff/{r.trait}-{r.group}\", axis=1\n",
    ")\n",
    "print(f\"{len(df_params)} jobs in total\")"
   ]
  },
  {
   "cell_type": "code",
   "execution_count": 7,
   "id": "388d69c3-085d-43dd-82e4-5ed0f16e5654",
   "metadata": {},
   "outputs": [],
   "source": [
    "executor = submitit.SgeExecutor(folder=\"./submitit-logs\")\n",
    "\n",
    "executor.update_parameters(\n",
    "    time_min=10,\n",
    "    memory_g=12,\n",
    "    queue=\"highp\",\n",
    "    setup=[\n",
    "        \"export PATH=~/project-pasaniuc/software/miniconda3/bin:$PATH\",\n",
    "        \"export PYTHONNOUSERSITE=True\",\n",
    "    ],\n",
    ")"
   ]
  },
  {
   "cell_type": "code",
   "execution_count": 8,
   "id": "d3c584f3-b35d-479d-83be-2ac49f4bbfd1",
   "metadata": {},
   "outputs": [
    {
     "name": "stdout",
     "output_type": "stream",
     "text": [
      "0 jobs remains\n"
     ]
    }
   ],
   "source": [
    "df_todo_params = df_params[\n",
    "    ~df_params.apply(lambda x: os.path.exists(x.out_prefix + \".r2_diff.tsv\"), axis=1)\n",
    "]\n",
    "print(f\"{len(df_todo_params)} jobs remains\")"
   ]
  },
  {
   "cell_type": "code",
   "execution_count": 9,
   "id": "6fbb90b6-8d35-4c1e-a637-bcb39b1bfb4f",
   "metadata": {},
   "outputs": [
    {
     "name": "stderr",
     "output_type": "stream",
     "text": [
      "/u/project/pasaniuc/kangchen/software/submitit-sge/submitit/core/core.py:699: UserWarning: Received an empty job array\n",
      "  warnings.warn(\"Received an empty job array\")\n"
     ]
    }
   ],
   "source": [
    "jobs = executor.map_array(\n",
    "    compute_r2,\n",
    "    df_todo_params.trait,\n",
    "    df_todo_params.group,\n",
    "    df_todo_params.out_prefix,\n",
    "    [TEST_COLS] * len(df_todo_params),\n",
    ")"
   ]
  },
  {
   "cell_type": "markdown",
   "id": "83dc7e9b-328b-4f9b-8b6d-a9bc0a4ea9a2",
   "metadata": {},
   "source": [
    "# Summarize the results"
   ]
  },
  {
   "cell_type": "code",
   "execution_count": 10,
   "id": "4f19fd60-20aa-41f1-bcfb-0a8cccf8d766",
   "metadata": {},
   "outputs": [
    {
     "name": "stderr",
     "output_type": "stream",
     "text": [
      "13it [00:00, 37.20it/s]\n",
      "13it [00:00, 44.96it/s]\n"
     ]
    }
   ],
   "source": [
    "for group in [\"white_british\", \"other\"]:\n",
    "    df_group_params = df_params[df_params.group == group]\n",
    "    df_baseline_r2 = []\n",
    "    df_r2_diff = []\n",
    "    for _, row in tqdm(df_group_params.iterrows()):\n",
    "        baseline_file = row.out_prefix + \".baseline.tsv\"\n",
    "        if not os.path.exists(baseline_file):\n",
    "            print(f\"{baseline_file} does not exist.\")\n",
    "            continue\n",
    "        df_tmp = pd.read_csv(\n",
    "            baseline_file, sep=\"\\t\", header=None, index_col=0\n",
    "        ).squeeze()\n",
    "        df_baseline_r2.append([row.trait, df_tmp[\"r2\"]])\n",
    "\n",
    "        df_tmp = pd.read_csv(row.out_prefix + \".r2_diff.tsv\", sep=\"\\t\")\n",
    "        df_tmp.insert(0, \"trait\", row.trait)\n",
    "        df_r2_diff.append(df_tmp)\n",
    "    df_baseline_r2 = pd.DataFrame(df_baseline_r2, columns=[\"trait\", \"baseline_r2\"])\n",
    "    df_r2_diff = pd.concat(df_r2_diff)\n",
    "    df_baseline_r2.to_csv(f\"out/baseline_r2.{group}.tsv\", sep=\"\\t\", index=False)\n",
    "    df_r2_diff.to_csv(f\"out/r2_diff.{group}.tsv\", sep=\"\\t\", index=False)"
   ]
  }
 ],
 "metadata": {
  "kernelspec": {
   "display_name": "Python 3",
   "language": "python",
   "name": "python3"
  },
  "language_info": {
   "codemirror_mode": {
    "name": "ipython",
    "version": 3
   },
   "file_extension": ".py",
   "mimetype": "text/x-python",
   "name": "python",
   "nbconvert_exporter": "python",
   "pygments_lexer": "ipython3",
   "version": "3.8.5"
  }
 },
 "nbformat": 4,
 "nbformat_minor": 5
}
