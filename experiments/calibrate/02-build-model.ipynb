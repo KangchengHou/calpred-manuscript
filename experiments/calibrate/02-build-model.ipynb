{
    "cells": [
        {
            "cell_type": "code",
            "execution_count": 1,
            "id": "8f662068-fd0c-4711-a117-2f8c487d8c13",
            "metadata": {},
            "outputs": [],
            "source": [
                "%load_ext autoreload\n",
                "%autoreload 2\n",
                "%load_ext lab_black\n",
                "\n",
                "import numpy as np\n",
                "import pandas as pd\n",
                "from glob import glob\n",
                "import os\n",
                "import statsmodels.api as sm\n",
                "from sklearn.model_selection import train_test_split\n",
                "import itertools\n",
                "from tqdm import tqdm\n",
                "import calpgs\n",
                "import pickle"
            ]
        },
        {
            "cell_type": "code",
            "execution_count": 2,
            "id": "260bc40c-26cf-4df7-908a-bf41ec33f942",
            "metadata": {},
            "outputs": [],
            "source": [
                "DATA_DIR = \"../compile-data/out/per-trait-info/\"\n",
                "\n",
                "COVAR_COLS = [\"AGE\", \"SEX\", \"DEPRIVATION_INDEX\"] + [f\"PC{i}\" for i in range(1, 11)]\n",
                "\n",
                "trait_list = [\n",
                "    os.path.basename(f)[:-7] for f in glob(os.path.join(DATA_DIR, \"*.tsv.gz\"))\n",
                "]"
            ]
        },
        {
            "cell_type": "markdown",
            "id": "cc4338a2-44dd-4340-877d-79b933658661",
            "metadata": {},
            "source": [
                "# Build calibration model"
            ]
        },
        {
            "cell_type": "code",
            "execution_count": 23,
            "id": "541ae98b-9178-4430-b4a0-3072475974c1",
            "metadata": {},
            "outputs": [],
            "source": [
                "def build_model(data_prefix: str, ci_adjust: str, out_prefix: str):\n",
                "    assert ci_adjust in [\"none\", \"all\"]\n",
                "\n",
                "    df_train = pd.read_csv(data_prefix + \".train.tsv\", sep=\"\\t\", index_col=0)\n",
                "    df_test = pd.read_csv(data_prefix + \".test.tsv\", sep=\"\\t\", index_col=0)\n",
                "\n",
                "    # train model\n",
                "    if ci_adjust == \"none\":\n",
                "        ci_adjust_vars = None\n",
                "    elif ci_adjust == \"all\":\n",
                "        ci_adjust_vars = df_train.iloc[:, 3:]\n",
                "    else:\n",
                "        raise NotImplementedError\n",
                "\n",
                "    model = calpgs.calibrate_model(\n",
                "        y=df_train[\"pheno\"].values,\n",
                "        pred=df_train[\"pred\"].values,\n",
                "        predstd=df_train[\"predstd\"].values,\n",
                "        ci_method=\"scale\",\n",
                "        ci_adjust_vars=ci_adjust_vars,\n",
                "    )\n",
                "\n",
                "    # adjust model\n",
                "    if ci_adjust == \"none\":\n",
                "        ci_adjust_vars = None\n",
                "    elif ci_adjust == \"all\":\n",
                "        ci_adjust_vars = df_test.iloc[:, 3:]\n",
                "    else:\n",
                "        raise NotImplementedError\n",
                "\n",
                "    df_test[\"cal_pred\"], df_test[\"cal_predstd\"] = calpgs.calibrate_adjust(\n",
                "        model=model,\n",
                "        pred=df_test[\"pred\"].values,\n",
                "        predstd=df_test[\"predstd\"].values,\n",
                "        ci_adjust_vars=ci_adjust_vars,\n",
                "    )\n",
                "\n",
                "    out_dir = os.path.dirname(out_prefix)\n",
                "    os.makedirs(out_dir, exist_ok=True)\n",
                "\n",
                "    with open(out_prefix + \".model\", \"wb\") as f:\n",
                "        pickle.dump(model, f)\n",
                "    df_test.to_csv(out_prefix + \".test_info.tsv\", sep=\"\\t\")"
            ]
        },
        {
            "cell_type": "code",
            "execution_count": 24,
            "id": "e0fd9276-4a9f-4273-95d9-796e5b41519f",
            "metadata": {},
            "outputs": [],
            "source": [
                "data_prefix_list = np.unique([p.split(\".\")[0] for p in glob(\"out/data/*/*\")])\n",
                "df_params = pd.DataFrame(\n",
                "    [params for params in itertools.product(data_prefix_list, [\"all\", \"none\"])],\n",
                "    columns=[\"data_prefix\", \"ci_adjust\"],\n",
                ")\n",
                "df_params[\"out_prefix\"] = (\n",
                "    df_params.data_prefix.str.replace(\"/data/\", \"/model/\")\n",
                "    + \"-\"\n",
                "    + df_params[\"ci_adjust\"]\n",
                ")"
            ]
        },
        {
            "cell_type": "code",
            "execution_count": 25,
            "id": "96368882-a0af-4b03-8099-0610cedf4ec7",
            "metadata": {},
            "outputs": [
                {
                    "name": "stderr",
                    "output_type": "stream",
                    "text": [
                        "  4%|▍         | 14/360 [00:10<03:57,  1.46it/s]/u/project/pasaniuc/kangchen/software/miniconda3/lib/python3.8/site-packages/statsmodels/regression/quantile_regression.py:190: IterationLimitWarning: Maximum number of iterations (1000) reached.\n",
                        "  warnings.warn(\"Maximum number of iterations (\" + str(max_iter) +\n",
                        " 17%|█▋        | 60/360 [00:45<03:45,  1.33it/s]/u/project/pasaniuc/kangchen/software/miniconda3/lib/python3.8/site-packages/statsmodels/regression/quantile_regression.py:190: IterationLimitWarning: Maximum number of iterations (1000) reached.\n",
                        "  warnings.warn(\"Maximum number of iterations (\" + str(max_iter) +\n",
                        "100%|██████████| 360/360 [02:58<00:00,  2.02it/s]\n"
                    ]
                }
            ],
            "source": [
                "for _, param in tqdm(df_params.iterrows(), total=len(df_params)):\n",
                "    build_model(\n",
                "        data_prefix=param.data_prefix,\n",
                "        ci_adjust=param.ci_adjust,\n",
                "        out_prefix=param.out_prefix,\n",
                "    )"
            ]
        }
    ],
    "metadata": {
        "kernelspec": {
            "display_name": "Python 3",
            "language": "python",
            "name": "python3"
        },
        "language_info": {
            "codemirror_mode": {
                "name": "ipython",
                "version": 3
            },
            "file_extension": ".py",
            "mimetype": "text/x-python",
            "name": "python",
            "nbconvert_exporter": "python",
            "pygments_lexer": "ipython3",
            "version": "3.8.5"
        }
    },
    "nbformat": 4,
    "nbformat_minor": 5
}