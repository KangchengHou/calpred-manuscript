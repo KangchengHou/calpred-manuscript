{
 "cells": [
  {
   "cell_type": "code",
   "execution_count": 1,
   "id": "8f662068-fd0c-4711-a117-2f8c487d8c13",
   "metadata": {},
   "outputs": [],
   "source": [
    "%load_ext autoreload\n",
    "%autoreload 2\n",
    "%load_ext lab_black\n",
    "\n",
    "import numpy as np\n",
    "import pandas as pd\n",
    "from glob import glob\n",
    "import os\n",
    "import statsmodels.api as sm\n",
    "import itertools\n",
    "from tqdm import tqdm\n",
    "import calpgs\n",
    "import pickle\n",
    "\n",
    "\n",
    "os.environ[\"R_HOME\"] = \"/u/project/pasaniuc/kangchen/software/miniconda3/envs/r/lib/R\"\n",
    "# os.environ['R_USER'] = 'C:/Program Files/Python/Lib/site-packages/rpy2'"
   ]
  },
  {
   "cell_type": "markdown",
   "id": "0bc73ddb-a9b9-4048-9023-0b7674bee785",
   "metadata": {},
   "source": [
    "# Meta data"
   ]
  },
  {
   "cell_type": "code",
   "execution_count": 2,
   "id": "260bc40c-26cf-4df7-908a-bf41ec33f942",
   "metadata": {},
   "outputs": [],
   "source": [
    "DATA_DIR = \"../compile-data/out/per-trait-info/\"\n",
    "\n",
    "DATA_URL = \"../r2-diff/data-table.xlsx\"\n",
    "\n",
    "df_trait_info = pd.read_excel(DATA_URL, sheet_name=0)\n",
    "trait_map = {\n",
    "    row.id: row.short if row.short is not np.nan else row.description\n",
    "    for _, row in df_trait_info.iterrows()\n",
    "}\n",
    "\n",
    "df_covar_info = pd.read_excel(DATA_URL, sheet_name=1)\n",
    "covar_map = {row.id: row.short for _, row in df_covar_info.iterrows()}\n",
    "\n",
    "df_display = pd.read_excel(DATA_URL, sheet_name=2)"
   ]
  },
  {
   "cell_type": "markdown",
   "id": "cc4338a2-44dd-4340-877d-79b933658661",
   "metadata": {},
   "source": [
    "# Build calibration model"
   ]
  },
  {
   "cell_type": "code",
   "execution_count": 3,
   "id": "541ae98b-9178-4430-b4a0-3072475974c1",
   "metadata": {},
   "outputs": [],
   "source": [
    "def build_model(data_prefix: str, method: str, out_prefix: str):\n",
    "    \"\"\"Build calibration model\n",
    "\n",
    "    Parameters\n",
    "    ----------\n",
    "    data_prefix : str\n",
    "        <data_prefix>.train.tsv, <data_prefix>.test.tsv will be loaded\n",
    "    method: str\n",
    "        'mean' or 'mean+var'\n",
    "        mean: PGS + covariates used to fit the mean model, only a constant term is fitted to var\n",
    "        mean+var: PGS + covariates used to fit both the mean and variance model\n",
    "    out_prefix : str\n",
    "        output prefix\n",
    "    \"\"\"\n",
    "    assert method in [\"mean\", \"mean+var\"]\n",
    "\n",
    "    df_train = pd.read_csv(data_prefix + \".train.tsv\", sep=\"\\t\", index_col=0)\n",
    "    df_test = pd.read_csv(data_prefix + \".test.tsv\", sep=\"\\t\", index_col=0)\n",
    "\n",
    "    covar_cols = list(df_train.columns[2:])\n",
    "    # train model\n",
    "    if method == \"mean\":\n",
    "        mean_cols = [\"PGS\"] + covar_cols\n",
    "        var_cols = []\n",
    "    elif method == \"mean+var\":\n",
    "        mean_cols = [\"PGS\"] + covar_cols\n",
    "        var_cols = mean_cols\n",
    "    else:\n",
    "        raise NotImplementedError\n",
    "    # calibrate\n",
    "    train_x = sm.add_constant(df_train[mean_cols])\n",
    "    train_z = sm.add_constant(df_train[var_cols])\n",
    "    train_y = df_train[\"pheno\"].values\n",
    "\n",
    "    test_x = sm.add_constant(df_test[mean_cols])\n",
    "    test_z = sm.add_constant(df_test[var_cols])\n",
    "\n",
    "    # adjust\n",
    "    res = calpgs.calibrate_and_adjust(\n",
    "        train_x=train_x, train_z=train_z, train_y=train_y, test_x=test_x, test_z=test_z\n",
    "    )\n",
    "    df_test[\"cal_pred\"], df_test[\"cal_predstd\"] = res[0:2]\n",
    "\n",
    "    df_param = pd.concat(\n",
    "        [\n",
    "            pd.Series(res[2], index=train_x.columns, name=\"beta\"),\n",
    "            pd.Series(res[3], index=train_z.columns, name=\"gamma\"),\n",
    "        ],\n",
    "        axis=1,\n",
    "    )\n",
    "    out_dir = os.path.dirname(out_prefix)\n",
    "    os.makedirs(out_dir, exist_ok=True)\n",
    "\n",
    "    df_test.to_csv(out_prefix + \".test_info.tsv\", sep=\"\\t\")\n",
    "    df_param.to_csv(out_prefix + \".param.tsv\", sep=\"\\t\", na_rep=\"NA\")"
   ]
  },
  {
   "cell_type": "code",
   "execution_count": 4,
   "id": "e0fd9276-4a9f-4273-95d9-796e5b41519f",
   "metadata": {},
   "outputs": [],
   "source": [
    "data_prefix_list = np.unique([p.split(\".\")[0] for p in glob(\"out/data/*/*\")])\n",
    "df_params = pd.DataFrame(\n",
    "    [params for params in itertools.product(data_prefix_list, [\"mean\", \"mean+var\"])],\n",
    "    columns=[\"data_prefix\", \"method\"],\n",
    ")\n",
    "df_params[\"out_prefix\"] = (\n",
    "    df_params.data_prefix.str.replace(\"/data/\", \"/model/\") + \"-\" + df_params[\"method\"]\n",
    ")"
   ]
  },
  {
   "cell_type": "code",
   "execution_count": 5,
   "id": "96368882-a0af-4b03-8099-0610cedf4ec7",
   "metadata": {},
   "outputs": [
    {
     "name": "stderr",
     "output_type": "stream",
     "text": [
      "100%|██████████| 240/240 [01:33<00:00,  2.58it/s]\n"
     ]
    }
   ],
   "source": [
    "for _, param in tqdm(df_params.iterrows(), total=len(df_params)):\n",
    "    build_model(\n",
    "        data_prefix=param.data_prefix,\n",
    "        method=param.method,\n",
    "        out_prefix=param.out_prefix,\n",
    "    )"
   ]
  }
 ],
 "metadata": {
  "kernelspec": {
   "display_name": "Python 3",
   "language": "python",
   "name": "python3"
  },
  "language_info": {
   "codemirror_mode": {
    "name": "ipython",
    "version": 3
   },
   "file_extension": ".py",
   "mimetype": "text/x-python",
   "name": "python",
   "nbconvert_exporter": "python",
   "pygments_lexer": "ipython3",
   "version": "3.8.5"
  }
 },
 "nbformat": 4,
 "nbformat_minor": 5
}
