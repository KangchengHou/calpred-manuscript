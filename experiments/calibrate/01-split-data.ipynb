{
 "cells": [
  {
   "cell_type": "markdown",
   "id": "e0f64256-50d1-44d0-ac7c-37f3e5b9b665",
   "metadata": {},
   "source": [
    "# Build model for calibration\n",
    "\n",
    "- `out/data/<pop>-<split>/[train.tsv|test.tsv]`: data for calibration and testing for the population and split.\n",
    "- `out/model/<pop>-<split>/model.pkl`: model that has been trained from the training individuals."
   ]
  },
  {
   "cell_type": "code",
   "execution_count": 6,
   "id": "7c3eef97-2636-40dc-b062-7fde553a5b0e",
   "metadata": {},
   "outputs": [
    {
     "name": "stdout",
     "output_type": "stream",
     "text": [
      "The autoreload extension is already loaded. To reload it, use:\n",
      "  %reload_ext autoreload\n",
      "The lab_black extension is already loaded. To reload it, use:\n",
      "  %reload_ext lab_black\n"
     ]
    }
   ],
   "source": [
    "%load_ext autoreload\n",
    "%autoreload 2\n",
    "%load_ext lab_black\n",
    "\n",
    "import numpy as np\n",
    "import pandas as pd\n",
    "from glob import glob\n",
    "import os\n",
    "import statsmodels.api as sm\n",
    "from typing import List\n",
    "from sklearn.model_selection import train_test_split\n",
    "import itertools\n",
    "from tqdm import tqdm\n",
    "from admix.data import quantile_normalize\n",
    "import matplotlib.pyplot as plt"
   ]
  },
  {
   "cell_type": "code",
   "execution_count": 7,
   "id": "54a3449d-1f46-440e-bff3-97b9bf019746",
   "metadata": {},
   "outputs": [],
   "source": [
    "DATA_DIR = \"../compile-data/out/per-trait-info/\"\n",
    "DATA_URL = \"../r2-diff/data-table.xlsx\"\n",
    "\n",
    "df_trait_info = pd.read_excel(DATA_URL, sheet_name=0)\n",
    "trait_map = {\n",
    "    row.id: row.short if row.short is not np.nan else row.description\n",
    "    for _, row in df_trait_info.iterrows()\n",
    "}\n",
    "\n",
    "df_covar_info = pd.read_excel(DATA_URL, sheet_name=1)\n",
    "covar_map = {row.id: row.short for _, row in df_covar_info.iterrows()}\n",
    "\n",
    "df_display = pd.read_excel(DATA_URL, sheet_name=2)\n",
    "\n",
    "trait_list = df_display.id.values\n",
    "\n",
    "COVAR_COLS = [\n",
    "    \"AGE\",\n",
    "    \"SEX\",\n",
    "    \"DEPRIVATION_INDEX\",\n",
    "    \"log_BMI\",\n",
    "    \"income\",\n",
    "    \"ever_smoked\",\n",
    "    \"drink_alcohol\",\n",
    "] + [f\"PC{i}\" for i in range(1, 5)]"
   ]
  },
  {
   "cell_type": "code",
   "execution_count": 12,
   "id": "1d4f8577-2516-445e-a239-abaa0943b0cb",
   "metadata": {},
   "outputs": [],
   "source": [
    "def expand_pgs_interact(df, cols=[\"AGE\", \"SEX\", \"PC1\", \"PC2\", \"PC3\", \"PC4\"]):\n",
    "    # expand PGS interaction term\n",
    "    df = df.copy()\n",
    "    for col in cols:\n",
    "        df[f\"PGS*{col}\"] = df[\"PGS\"] * df[col]\n",
    "    # add age * sex\n",
    "    df[\"AGE*SEX\"] = df[\"AGE\"] * df[\"SEX\"]\n",
    "    return df"
   ]
  },
  {
   "cell_type": "code",
   "execution_count": 13,
   "id": "a24e2da7-bb2b-4028-bc4c-574f63265f21",
   "metadata": {},
   "outputs": [],
   "source": [
    "def split_data(\n",
    "    trait: str,\n",
    "    indiv_group: str,\n",
    "    out_prefix: str,\n",
    "    q_normalize: str = \"none\",\n",
    "    seed: int = 1234,\n",
    "):\n",
    "    \"\"\"\n",
    "    split training and testing data\n",
    "\n",
    "    Parameters\n",
    "    ----------\n",
    "    trait: str\n",
    "        trait name\n",
    "    indiv_group: str\n",
    "        (1) white: white British individuals\n",
    "        (2) other individuals\n",
    "    out_prefix: str\n",
    "        output prefix\n",
    "    quantile_normalize: str\n",
    "        (1) none no quantile normalization\n",
    "        (2) pheno (quantile normalization on phenotype)\n",
    "        (3) pheno+covar (quantile normalization for both phenotype and covar)\n",
    "    seed: int\n",
    "        random seed\n",
    "    \"\"\"\n",
    "    assert q_normalize in [\"none\", \"pheno\", \"pheno+covar\"]\n",
    "    df_trait = pd.read_csv(\n",
    "        os.path.join(DATA_DIR, f\"{trait}.tsv.gz\"), index_col=0, sep=\"\\t\"\n",
    "    )\n",
    "    if indiv_group == \"white\":\n",
    "        df_trait = df_trait[df_trait.group == \"United Kingdom\"]\n",
    "    elif indiv_group == \"other\":\n",
    "        df_trait = df_trait[~(df_trait.group == \"United Kingdom\")]\n",
    "    elif indiv_group == \"all\":\n",
    "        df_trait = df_trait\n",
    "    else:\n",
    "        raise NotImplementedError\n",
    "\n",
    "    df_trait = df_trait.rename(columns={\"MEAN\": \"PGS\", \"PHENO\": \"pheno\"}).dropna(\n",
    "        subset=[\"pheno\", \"PGS\"]\n",
    "    )\n",
    "\n",
    "    # impute 0 and standardize covariates\n",
    "    for col in [\"PGS\"] + COVAR_COLS:\n",
    "        df_trait[col] = df_trait[col].fillna(df_trait[col].mean())\n",
    "        df_trait[col] = (df_trait[col] - df_trait[col].mean()) / df_trait[col].std()\n",
    "        if q_normalize == \"pheno+covar\":\n",
    "            df_trait[col] = quantile_normalize(df_trait[col])\n",
    "\n",
    "    if q_normalize in [\"pheno\", \"pheno+covar\"]:\n",
    "        df_trait[\"pheno\"] = quantile_normalize(df_trait[\"pheno\"])\n",
    "\n",
    "    df_trait = df_trait[[\"pheno\", \"PGS\"] + COVAR_COLS]\n",
    "    df_trait = expand_pgs_interact(df_trait)\n",
    "\n",
    "    ## split train and test\n",
    "    df_train, df_test = train_test_split(\n",
    "        df_trait, train_size=5000, test_size=5000, random_state=seed\n",
    "    )\n",
    "    out_dir = os.path.dirname(out_prefix)\n",
    "    os.makedirs(out_dir, exist_ok=True)\n",
    "    df_train.to_csv(out_prefix + \".train.tsv\", sep=\"\\t\")\n",
    "    df_test.to_csv(out_prefix + \".test.tsv\", sep=\"\\t\")"
   ]
  },
  {
   "cell_type": "code",
   "execution_count": 14,
   "id": "95fba2f0-ddc2-41bf-b1dc-dad6cf27cbf5",
   "metadata": {},
   "outputs": [
    {
     "name": "stdout",
     "output_type": "stream",
     "text": [
      "180 jobs in total\n"
     ]
    }
   ],
   "source": [
    "df_params = pd.DataFrame(\n",
    "    [\n",
    "        params\n",
    "        for params in itertools.product(\n",
    "            [\"LDL\", \"height\"],\n",
    "            [\"white\", \"other\", \"all\"],\n",
    "            np.arange(1, 31),\n",
    "        )\n",
    "    ],\n",
    "    columns=[\"trait\", \"group\", \"seed\"],\n",
    ")\n",
    "df_params[\"out_prefix\"] = df_params.apply(\n",
    "    lambda r: f\"out/data/{r.trait}-{r.group}/{r.seed}\", axis=1\n",
    ")\n",
    "print(f\"{len(df_params)} jobs in total\")"
   ]
  },
  {
   "cell_type": "code",
   "execution_count": 15,
   "id": "77b24631-e500-4131-a279-e4c342bc2f96",
   "metadata": {},
   "outputs": [
    {
     "name": "stderr",
     "output_type": "stream",
     "text": [
      "100%|██████████| 180/180 [02:02<00:00,  1.47it/s]\n"
     ]
    }
   ],
   "source": [
    "for _, param in tqdm(df_params.iterrows(), total=len(df_params)):\n",
    "    split_data(\n",
    "        trait=param.trait,\n",
    "        indiv_group=param.group,\n",
    "        out_prefix=param.out_prefix,\n",
    "        seed=param.seed,\n",
    "    )"
   ]
  },
  {
   "cell_type": "code",
   "execution_count": null,
   "id": "d7623df3-4a88-4503-9373-805e39ff0129",
   "metadata": {},
   "outputs": [],
   "source": []
  }
 ],
 "metadata": {
  "kernelspec": {
   "display_name": "Python 3",
   "language": "python",
   "name": "python3"
  },
  "language_info": {
   "codemirror_mode": {
    "name": "ipython",
    "version": 3
   },
   "file_extension": ".py",
   "mimetype": "text/x-python",
   "name": "python",
   "nbconvert_exporter": "python",
   "pygments_lexer": "ipython3",
   "version": "3.8.5"
  }
 },
 "nbformat": 4,
 "nbformat_minor": 5
}
