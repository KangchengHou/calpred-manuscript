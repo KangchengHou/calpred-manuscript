{
 "cells": [
  {
   "cell_type": "markdown",
   "id": "e0f64256-50d1-44d0-ac7c-37f3e5b9b665",
   "metadata": {},
   "source": [
    "# Build model for calibration\n",
    "\n",
    "- `out/data/<pop>-<split>/[train.tsv|test.tsv]`: data for calibration and testing for the population and split.\n",
    "- `out/model/<pop>-<split>/model.pkl`: model that has been trained from the training individuals."
   ]
  },
  {
   "cell_type": "code",
   "execution_count": 15,
   "id": "7c3eef97-2636-40dc-b062-7fde553a5b0e",
   "metadata": {},
   "outputs": [
    {
     "name": "stdout",
     "output_type": "stream",
     "text": [
      "The autoreload extension is already loaded. To reload it, use:\n",
      "  %reload_ext autoreload\n",
      "The lab_black extension is already loaded. To reload it, use:\n",
      "  %reload_ext lab_black\n"
     ]
    }
   ],
   "source": [
    "%load_ext autoreload\n",
    "%autoreload 2\n",
    "%load_ext lab_black\n",
    "\n",
    "import numpy as np\n",
    "import pandas as pd\n",
    "from glob import glob\n",
    "import os\n",
    "import statsmodels.api as sm\n",
    "from typing import List\n",
    "from sklearn.model_selection import train_test_split\n",
    "import itertools\n",
    "from tqdm import tqdm\n",
    "from admix.data import quantile_normalize"
   ]
  },
  {
   "cell_type": "code",
   "execution_count": 19,
   "id": "54a3449d-1f46-440e-bff3-97b9bf019746",
   "metadata": {},
   "outputs": [],
   "source": [
    "DATA_DIR = \"../compile-data/out/per-trait-info/\""
   ]
  },
  {
   "cell_type": "code",
   "execution_count": 20,
   "id": "df6ccbb2-e07f-4a2e-85b7-32c21959700c",
   "metadata": {},
   "outputs": [],
   "source": [
    "DATA_URL = \"../r2-diff/data-table.xlsx\"\n",
    "\n",
    "df_trait_info = pd.read_excel(DATA_URL, sheet_name=0)\n",
    "trait_map = {\n",
    "    row.id: row.short if row.short is not np.nan else row.description\n",
    "    for _, row in df_trait_info.iterrows()\n",
    "}\n",
    "\n",
    "df_covar_info = pd.read_excel(DATA_URL, sheet_name=1)\n",
    "covar_map = {row.id: row.short for _, row in df_covar_info.iterrows()}\n",
    "\n",
    "df_display = pd.read_excel(DATA_URL, sheet_name=2)"
   ]
  },
  {
   "cell_type": "code",
   "execution_count": 21,
   "id": "d3d50a41-b48a-4025-b706-2cb11997b854",
   "metadata": {},
   "outputs": [],
   "source": [
    "trait_list = df_display.id.values\n",
    "\n",
    "# trait_list = [\n",
    "#     os.path.basename(f)[:-7] for f in glob(os.path.join(DATA_DIR, \"*.tsv.gz\"))\n",
    "# ]\n",
    "\n",
    "# covariates used to adjust the mean\n",
    "COVAR_COLS = [\"AGE\", \"SEX\", \"DEPRIVATION_INDEX\"] + [f\"PC{i}\" for i in range(1, 11)]"
   ]
  },
  {
   "cell_type": "code",
   "execution_count": 22,
   "id": "a24e2da7-bb2b-4028-bc4c-574f63265f21",
   "metadata": {},
   "outputs": [],
   "source": [
    "def split_data(\n",
    "    trait: str,\n",
    "    indiv_group: str,\n",
    "    adjust_cols: List[str],\n",
    "    out_prefix: str,\n",
    "    predstd: str,\n",
    "    seed: int = 1234,\n",
    "):\n",
    "    \"\"\"\n",
    "    split training and testing data\n",
    "\n",
    "    Parameters\n",
    "    ----------\n",
    "    trait: str\n",
    "        trait name\n",
    "    indiv_group: str\n",
    "        white: white British individuals / other individuals\n",
    "    adjust_cols: List[str]\n",
    "        covariates used to adjust the standard deviation\n",
    "    out_prefix: str\n",
    "        output prefix\n",
    "    predstd: str\n",
    "        type of prediction std\n",
    "        TODO: (replace with linear combination of top 20 PCs later)\n",
    "    seed: int\n",
    "        random seed\n",
    "    \"\"\"\n",
    "\n",
    "    df_trait = pd.read_csv(\n",
    "        os.path.join(DATA_DIR, f\"{trait}.tsv.gz\"), index_col=0, sep=\"\\t\"\n",
    "    )\n",
    "    if indiv_group == \"white\":\n",
    "        df_trait = df_trait[df_trait.group == \"United Kingdom\"]\n",
    "    elif indiv_group == \"other\":\n",
    "        df_trait = df_trait[df_trait.group != \"United Kingdom\"]\n",
    "    else:\n",
    "        raise NotImplementedError\n",
    "\n",
    "    # residual after regressing out COVAR_COLS\n",
    "    df_trait[\"PHENO_RESID\"] = (\n",
    "        sm.OLS(\n",
    "            quantile_normalize(df_trait[\"PHENO\"].values),\n",
    "            sm.add_constant(df_trait[COVAR_COLS]),\n",
    "            missing=\"drop\",\n",
    "        )\n",
    "        .fit()\n",
    "        .resid\n",
    "    )\n",
    "\n",
    "    ## TODO: add `income` variable back (dropping this for now because too many zeros.)\n",
    "    if predstd == \"const\":\n",
    "        df_trait[\"predstd\"] = 1.0\n",
    "    elif predstd == \"mcmc\":\n",
    "        df_trait[\"predstd\"] = df_trait[\"SD\"]\n",
    "    elif predstd == \"pc\":\n",
    "        df_trait[\"predstd\"] = df_trait[\"PC1\"]\n",
    "    else:\n",
    "        raise NotImplementedError\n",
    "\n",
    "    df_trait = (\n",
    "        df_trait[[\"PHENO_RESID\", \"MEAN\", \"predstd\"] + adjust_cols]\n",
    "        .rename(columns={\"PHENO_RESID\": \"pheno\", \"MEAN\": \"pred\"})\n",
    "        .dropna()\n",
    "    )\n",
    "\n",
    "    ## split train and test\n",
    "    df_train, df_test = train_test_split(df_trait, train_size=5000, random_state=seed)\n",
    "    out_dir = os.path.dirname(out_prefix)\n",
    "    os.makedirs(out_dir, exist_ok=True)\n",
    "    df_train.to_csv(out_prefix + \".train.tsv\", sep=\"\\t\")\n",
    "    df_test.to_csv(out_prefix + \".test.tsv\", sep=\"\\t\")"
   ]
  },
  {
   "cell_type": "code",
   "execution_count": 26,
   "id": "95fba2f0-ddc2-41bf-b1dc-dad6cf27cbf5",
   "metadata": {},
   "outputs": [
    {
     "name": "stdout",
     "output_type": "stream",
     "text": [
      "40 jobs in total\n"
     ]
    }
   ],
   "source": [
    "df_params = pd.DataFrame(\n",
    "    [\n",
    "        params\n",
    "        for params in itertools.product(\n",
    "            [\n",
    "                \"LDL\",\n",
    "                \"log_SHBG\",\n",
    "            ],\n",
    "            [\"white\", \"other\"],\n",
    "            [\"const\"],\n",
    "            np.arange(1, 11),\n",
    "        )\n",
    "    ],\n",
    "    columns=[\"trait\", \"group\", \"predstd\", \"seed\"],\n",
    ")\n",
    "df_params[\"out_prefix\"] = df_params.apply(\n",
    "    lambda r: f\"out/data/{r.trait}-{r.group}/{r.predstd}-{r.seed}\", axis=1\n",
    ")\n",
    "print(f\"{len(df_params)} jobs in total\")"
   ]
  },
  {
   "cell_type": "code",
   "execution_count": 29,
   "id": "2af872bd-a200-4a61-815e-d1bc5c32f74a",
   "metadata": {},
   "outputs": [],
   "source": [
    "adjust_cols = [\n",
    "    \"AGE\",\n",
    "    \"SEX\",\n",
    "    \"log_BMI\",\n",
    "    \"PC1\",\n",
    "    \"PC2\",\n",
    "]"
   ]
  },
  {
   "cell_type": "code",
   "execution_count": 30,
   "id": "77b24631-e500-4131-a279-e4c342bc2f96",
   "metadata": {},
   "outputs": [
    {
     "name": "stderr",
     "output_type": "stream",
     "text": [
      "100%|██████████| 40/40 [00:54<00:00,  1.37s/it]\n"
     ]
    }
   ],
   "source": [
    "for _, param in tqdm(df_params.iterrows(), total=len(df_params)):\n",
    "    split_data(\n",
    "        trait=param.trait,\n",
    "        indiv_group=param.group,\n",
    "        adjust_cols=adjust_cols,\n",
    "        predstd=param.predstd,\n",
    "        out_prefix=param.out_prefix,\n",
    "        seed=param.seed,\n",
    "    )"
   ]
  },
  {
   "cell_type": "code",
   "execution_count": null,
   "id": "cbd04918-ecba-4fe0-ba4b-1b3a394da059",
   "metadata": {},
   "outputs": [],
   "source": []
  }
 ],
 "metadata": {
  "kernelspec": {
   "display_name": "Python 3",
   "language": "python",
   "name": "python3"
  },
  "language_info": {
   "codemirror_mode": {
    "name": "ipython",
    "version": 3
   },
   "file_extension": ".py",
   "mimetype": "text/x-python",
   "name": "python",
   "nbconvert_exporter": "python",
   "pygments_lexer": "ipython3",
   "version": "3.8.5"
  }
 },
 "nbformat": 4,
 "nbformat_minor": 5
}
