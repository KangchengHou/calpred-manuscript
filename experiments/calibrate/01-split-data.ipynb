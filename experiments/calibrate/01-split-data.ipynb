{
 "cells": [
  {
   "cell_type": "markdown",
   "id": "e0f64256-50d1-44d0-ac7c-37f3e5b9b665",
   "metadata": {},
   "source": [
    "# Build model for calibration\n",
    "\n",
    "- `out/data/<pop>-<split>/[train.tsv|test.tsv]`: data for calibration and testing for the population and split.\n",
    "- `out/model/<pop>-<split>/model.pkl`: model that has been trained from the training individuals."
   ]
  },
  {
   "cell_type": "code",
   "execution_count": 7,
   "id": "7c3eef97-2636-40dc-b062-7fde553a5b0e",
   "metadata": {},
   "outputs": [],
   "source": [
    "%load_ext autoreload\n",
    "%autoreload 2\n",
    "%load_ext lab_black\n",
    "\n",
    "import numpy as np\n",
    "import pandas as pd\n",
    "from glob import glob\n",
    "import os\n",
    "import statsmodels.api as sm\n",
    "from typing import List\n",
    "from sklearn.model_selection import train_test_split\n",
    "import itertools\n",
    "from tqdm import tqdm\n",
    "from admix.data import quantile_normalize\n",
    "import matplotlib.pyplot as plt"
   ]
  },
  {
   "cell_type": "code",
   "execution_count": 8,
   "id": "54a3449d-1f46-440e-bff3-97b9bf019746",
   "metadata": {},
   "outputs": [],
   "source": [
    "DATA_DIR = \"../compile-data/out/per-trait-info/\""
   ]
  },
  {
   "cell_type": "code",
   "execution_count": 9,
   "id": "df6ccbb2-e07f-4a2e-85b7-32c21959700c",
   "metadata": {},
   "outputs": [],
   "source": [
    "DATA_URL = \"../r2-diff/data-table.xlsx\"\n",
    "\n",
    "df_trait_info = pd.read_excel(DATA_URL, sheet_name=0)\n",
    "trait_map = {\n",
    "    row.id: row.short if row.short is not np.nan else row.description\n",
    "    for _, row in df_trait_info.iterrows()\n",
    "}\n",
    "\n",
    "df_covar_info = pd.read_excel(DATA_URL, sheet_name=1)\n",
    "covar_map = {row.id: row.short for _, row in df_covar_info.iterrows()}\n",
    "\n",
    "df_display = pd.read_excel(DATA_URL, sheet_name=2)\n",
    "\n",
    "trait_list = df_display.id.values\n",
    "\n",
    "COVAR_COLS = [\"AGE\", \"SEX\", \"DEPRIVATION_INDEX\", \"log_BMI\", \"income\"] + [\n",
    "    f\"PC{i}\" for i in range(1, 11)\n",
    "]"
   ]
  },
  {
   "cell_type": "code",
   "execution_count": 18,
   "id": "a24e2da7-bb2b-4028-bc4c-574f63265f21",
   "metadata": {},
   "outputs": [],
   "source": [
    "def split_data(\n",
    "    trait: str,\n",
    "    indiv_group: str,\n",
    "    adjust_cols: List[str],\n",
    "    out_prefix: str,\n",
    "    predstd: str,\n",
    "    seed: int = 1234,\n",
    "):\n",
    "    \"\"\"\n",
    "    split training and testing data\n",
    "\n",
    "    Parameters\n",
    "    ----------\n",
    "    trait: str\n",
    "        trait name\n",
    "    indiv_group: str\n",
    "        white: white British individuals / other individuals\n",
    "    adjust_cols: List[str]\n",
    "        covariates used to adjust the standard deviation\n",
    "    out_prefix: str\n",
    "        output prefix\n",
    "    predstd: str\n",
    "        type of prediction std\n",
    "        TODO: (replace with linear combination of top 20 PCs later)\n",
    "    seed: int\n",
    "        random seed\n",
    "    \"\"\"\n",
    "\n",
    "    df_trait = pd.read_csv(\n",
    "        os.path.join(DATA_DIR, f\"{trait}.tsv.gz\"), index_col=0, sep=\"\\t\"\n",
    "    )\n",
    "    if indiv_group == \"white\":\n",
    "        df_trait = df_trait[df_trait.group == \"United Kingdom\"]\n",
    "    elif indiv_group == \"other\":\n",
    "        df_trait = df_trait[~(df_trait.group == \"United Kingdom\")]\n",
    "    else:\n",
    "        raise NotImplementedError\n",
    "    \n",
    "    # standardize covariates\n",
    "    df_trait[COVAR_COLS] = (\n",
    "        df_trait[COVAR_COLS] - df_trait[COVAR_COLS].mean()\n",
    "    ) / df_trait[COVAR_COLS].std()\n",
    "\n",
    "    for col in COVAR_COLS:\n",
    "        df_trait[col] = quantile_normalize(df_trait[col])\n",
    "\n",
    "    # residual after regressing out COVAR_COLS\n",
    "    df_trait[\"PHENO_RESID\"] = (\n",
    "        sm.OLS(\n",
    "            df_trait[\"PHENO\"].values,\n",
    "            sm.add_constant(df_trait[COVAR_COLS]),\n",
    "            missing=\"drop\",\n",
    "        )\n",
    "        .fit()\n",
    "        .resid\n",
    "    )\n",
    "\n",
    "    ## TODO: add `income` variable back (dropping this for now because too many zeros.)\n",
    "    if predstd == \"const\":\n",
    "        df_trait[\"predstd\"] = 1.0\n",
    "    elif predstd == \"mcmc\":\n",
    "        df_trait[\"predstd\"] = df_trait[\"SD\"]\n",
    "    elif predstd == \"pc\":\n",
    "        df_trait[\"predstd\"] = df_trait[\"PC1\"]\n",
    "    else:\n",
    "        raise NotImplementedError\n",
    "\n",
    "    # remove this dropna part\n",
    "    df_trait = (\n",
    "        df_trait[[\"PHENO_RESID\", \"MEAN\", \"predstd\"] + adjust_cols]\n",
    "        .rename(columns={\"PHENO_RESID\": \"pheno\", \"MEAN\": \"pred\"})\n",
    "        .dropna()\n",
    "    )\n",
    "\n",
    "    ## split train and test\n",
    "    df_train, df_test = train_test_split(\n",
    "        df_trait, train_size=5000, test_size=5000, random_state=seed\n",
    "    )\n",
    "    out_dir = os.path.dirname(out_prefix)\n",
    "    os.makedirs(out_dir, exist_ok=True)\n",
    "    df_train.to_csv(out_prefix + \".train.tsv\", sep=\"\\t\")\n",
    "    df_test.to_csv(out_prefix + \".test.tsv\", sep=\"\\t\")"
   ]
  },
  {
   "cell_type": "code",
   "execution_count": 19,
   "id": "95fba2f0-ddc2-41bf-b1dc-dad6cf27cbf5",
   "metadata": {},
   "outputs": [
    {
     "name": "stdout",
     "output_type": "stream",
     "text": [
      "40 jobs in total\n"
     ]
    }
   ],
   "source": [
    "df_params = pd.DataFrame(\n",
    "    [\n",
    "        params\n",
    "        for params in itertools.product(\n",
    "            [\"LDL\", \"height\"],\n",
    "            [\"white\", \"other\"],\n",
    "            [\"const\"],\n",
    "            np.arange(1, 11),\n",
    "        )\n",
    "    ],\n",
    "    columns=[\"trait\", \"group\", \"predstd\", \"seed\"],\n",
    ")\n",
    "df_params[\"out_prefix\"] = df_params.apply(\n",
    "    lambda r: f\"out/data/{r.trait}-{r.group}/{r.predstd}-{r.seed}\", axis=1\n",
    ")\n",
    "print(f\"{len(df_params)} jobs in total\")"
   ]
  },
  {
   "cell_type": "code",
   "execution_count": 20,
   "id": "2af872bd-a200-4a61-815e-d1bc5c32f74a",
   "metadata": {},
   "outputs": [],
   "source": [
    "adjust_cols = [\"AGE\", \"SEX\", \"log_BMI\", \"PC1\", \"PC2\", \"PC3\", \"PC4\", \"income\"]"
   ]
  },
  {
   "cell_type": "code",
   "execution_count": 21,
   "id": "77b24631-e500-4131-a279-e4c342bc2f96",
   "metadata": {},
   "outputs": [
    {
     "name": "stderr",
     "output_type": "stream",
     "text": [
      "100%|██████████| 40/40 [00:26<00:00,  1.51it/s]\n"
     ]
    }
   ],
   "source": [
    "for _, param in tqdm(df_params.iterrows(), total=len(df_params)):\n",
    "    split_data(\n",
    "        trait=param.trait,\n",
    "        indiv_group=param.group,\n",
    "        adjust_cols=adjust_cols,\n",
    "        predstd=param.predstd,\n",
    "        out_prefix=param.out_prefix,\n",
    "        seed=param.seed,\n",
    "    )"
   ]
  },
  {
   "cell_type": "code",
   "execution_count": null,
   "id": "94a8a126-a27b-40ac-9ea2-a5d72f127580",
   "metadata": {},
   "outputs": [],
   "source": []
  }
 ],
 "metadata": {
  "kernelspec": {
   "display_name": "Python 3",
   "language": "python",
   "name": "python3"
  },
  "language_info": {
   "codemirror_mode": {
    "name": "ipython",
    "version": 3
   },
   "file_extension": ".py",
   "mimetype": "text/x-python",
   "name": "python",
   "nbconvert_exporter": "python",
   "pygments_lexer": "ipython3",
   "version": "3.8.5"
  }
 },
 "nbformat": 4,
 "nbformat_minor": 5
}
