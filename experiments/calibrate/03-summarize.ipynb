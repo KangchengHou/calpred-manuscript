{
 "cells": [
  {
   "cell_type": "code",
   "execution_count": 13,
   "id": "cef9b79b-fb35-4cbe-9abd-c414b286cba2",
   "metadata": {},
   "outputs": [
    {
     "name": "stdout",
     "output_type": "stream",
     "text": [
      "The autoreload extension is already loaded. To reload it, use:\n",
      "  %reload_ext autoreload\n",
      "The lab_black extension is already loaded. To reload it, use:\n",
      "  %reload_ext lab_black\n"
     ]
    }
   ],
   "source": [
    "%load_ext autoreload\n",
    "%autoreload 2\n",
    "%load_ext lab_black\n",
    "\n",
    "import numpy as np\n",
    "import matplotlib.pyplot as plt\n",
    "import pandas as pd\n",
    "import os\n",
    "import statsmodels.api as sm\n",
    "from scipy.stats import pearsonr\n",
    "import matplotlib\n",
    "from tqdm import tqdm\n",
    "from typing import List, Dict\n",
    "import calpgs\n",
    "import glob\n",
    "from natsort import natsorted\n",
    "import tempfile\n",
    "import subprocess\n",
    "from typing import Dict\n",
    "import itertools\n",
    "import submitit\n",
    "\n",
    "matplotlib.rcParams[\"font.family\"] = [\"Liberation Sans\"]"
   ]
  },
  {
   "cell_type": "code",
   "execution_count": 6,
   "id": "cda8582e-30e7-4996-a934-d221a1c77f09",
   "metadata": {},
   "outputs": [],
   "source": [
    "def plot_figure(\n",
    "    dict_r2: Dict,\n",
    "    dict_cov1: Dict,\n",
    "    dict_cov2: Dict,\n",
    "    trait: str,\n",
    "    xlabels: List,\n",
    "    xlabel_map: Dict,\n",
    "    ylim_r2: List = None,\n",
    "    ylim_cov: List = None,\n",
    "):\n",
    "    \"\"\"\n",
    "    Plot the figure for both R2 and coverage\n",
    "\n",
    "    Parameters\n",
    "    ----------\n",
    "    dict_r2: Dict [group -> np.ndarray]\n",
    "        each group is a R2 matrix [n_seed, n_group] np.ndarray\n",
    "    dict_cov1: Dict[group -> np.ndarray]\n",
    "        each group corresponds to a coverage matrix measuring overall calibration\n",
    "    dict_cov2: Dict[group -> np.ndarray]\n",
    "        each group corresponds to a coverage matrix measureing by-covariate calibration\n",
    "    trait: str\n",
    "        trait\n",
    "\n",
    "    \"\"\"\n",
    "    width_ratios = [len(dict_r2[x][0]) for x in xlabels]\n",
    "    fig, axes = plt.subplots(\n",
    "        figsize=(0.2 * sum(width_ratios) + 0.1 * len(width_ratios), 3.5),\n",
    "        dpi=150,\n",
    "        nrows=2,\n",
    "        ncols=len(xlabels),\n",
    "        sharex=\"col\",\n",
    "        sharey=\"row\",\n",
    "        gridspec_kw={\"width_ratios\": width_ratios},\n",
    "    )\n",
    "    for i, group in enumerate(xlabels):\n",
    "        ax = axes[0, i]\n",
    "        df_r2 = dict_r2[group]\n",
    "        n_group = df_r2.shape[1]\n",
    "        mean, sd = df_r2.mean(axis=0), df_r2.std(axis=0)\n",
    "        ax.errorbar(\n",
    "            x=np.arange(n_group),\n",
    "            y=mean,\n",
    "            yerr=sd,\n",
    "            fmt=\".--\",\n",
    "            ms=4,\n",
    "            mew=1,\n",
    "            linewidth=1,\n",
    "            color=\"black\",\n",
    "        )\n",
    "        ax.set_xlim(-0.5, n_group - 0.5)\n",
    "        if ylim_r2 is not None:\n",
    "            ax.set_ylim(*ylim_r2)\n",
    "        if i == 0:\n",
    "            ax.set_ylabel(f\"{trait} $R^2$\")\n",
    "\n",
    "    # coverage\n",
    "    for i, group in enumerate(xlabels):\n",
    "        ax = axes[1, i]\n",
    "\n",
    "        ax.axhline(y=0.9, ls=\"--\", lw=1.0, color=\"black\", alpha=0.5)\n",
    "        if ylim_cov is not None:\n",
    "            ax.set_ylim(*ylim_cov)\n",
    "        if i == 0:\n",
    "            ax.set_ylabel(f\"{trait} coverage\")\n",
    "\n",
    "        for cov_i, dict_cov in enumerate([dict_cov1, dict_cov2]):\n",
    "            cov_vals = dict_cov[group].values\n",
    "            cov_mean, cov_sd = cov_vals.mean(axis=0), cov_vals.std(axis=0)\n",
    "            n_group = cov_vals.shape[1]\n",
    "            label = [\"Overall\", \"By-cov\"][cov_i]\n",
    "            ax.errorbar(\n",
    "                x=np.arange(n_group) - 0.1 + cov_i * 0.2,\n",
    "                y=cov_mean,\n",
    "                yerr=cov_sd,\n",
    "                fmt=\".--\",\n",
    "                ms=4,\n",
    "                mew=1,\n",
    "                linewidth=0.8,\n",
    "                label=label,\n",
    "            )\n",
    "        ax.set_xticks(np.arange(n_group))\n",
    "        ax.set_xlabel(xlabel_map[group])\n",
    "\n",
    "    return fig, axes"
   ]
  },
  {
   "cell_type": "code",
   "execution_count": 10,
   "id": "1c87504b-015e-42fc-be6a-eae0dcd6eea7",
   "metadata": {},
   "outputs": [],
   "source": [
    "def summarize_result(trait: str, indiv_group: str, method: str, out: str):\n",
    "    \"\"\"Summarize calibration results\n",
    "\n",
    "    Parameters\n",
    "    ----------\n",
    "    trait : str\n",
    "        trait name\n",
    "    indiv_group : str\n",
    "        white or other\n",
    "    method : str\n",
    "        all or none\n",
    "    out : str\n",
    "        output path\n",
    "    \"\"\"\n",
    "    path_list = natsorted(\n",
    "        glob.glob(f\"out/model/{trait}-{indiv_group}/const-*-{method}.test_info.tsv\")\n",
    "    )\n",
    "    df_predint = []\n",
    "\n",
    "    for seed_i, path in enumerate(path_list):\n",
    "        with tempfile.TemporaryDirectory() as tmp_dir:\n",
    "            cmds = [\n",
    "                \"calpgs group-r2\",\n",
    "                f\"--df {path}\",\n",
    "                \"--y pheno --pred cal_pred --predstd cal_predstd\",\n",
    "                \"--group PC1,AGE,SEX\",\n",
    "                f\"--out {tmp_dir}/out\",\n",
    "                \"--n-bootstrap 10 --n-subgroup 5\",\n",
    "            ]\n",
    "            subprocess.check_call(\" \".join(cmds), shell=True)\n",
    "            df_out = pd.read_csv(f\"{tmp_dir}/out.predint.tsv\", sep=\"\\t\")\n",
    "            df_out.insert(0, \"seed\", seed_i)\n",
    "            df_r2 = pd.read_csv(f\"{tmp_dir}/out.r2.tsv\", sep=\"\\t\")\n",
    "            df_out[\"r2\"] = df_r2[\"r2\"]\n",
    "            df_predint.append(df_out)\n",
    "    pd.concat(df_predint, axis=0).to_csv(out, sep=\"\\t\", index=False)"
   ]
  },
  {
   "cell_type": "code",
   "execution_count": 14,
   "id": "c8e9c555-b810-4297-b45d-75474daa33e8",
   "metadata": {},
   "outputs": [
    {
     "name": "stdout",
     "output_type": "stream",
     "text": [
      "8 jobs in total\n"
     ]
    }
   ],
   "source": [
    "df_params = pd.DataFrame(\n",
    "    [\n",
    "        params\n",
    "        for params in itertools.product(\n",
    "            [\"LDL\", \"height\"],\n",
    "            [\"white\", \"other\"],\n",
    "            [\"none\", \"all\"],\n",
    "        )\n",
    "    ],\n",
    "    columns=[\"trait\", \"group\", \"method\"],\n",
    ")\n",
    "df_params[\"out\"] = df_params.apply(\n",
    "    lambda row: f\"out/summary/{row.trait}-{row.group}.{row.method}.tsv\", axis=1\n",
    ")\n",
    "print(f\"{len(df_params)} jobs in total\")\n",
    "\n",
    "executor = submitit.SgeExecutor(folder=\"./submitit-logs\")\n",
    "\n",
    "executor.update_parameters(\n",
    "    time_min=10,\n",
    "    memory_g=16,\n",
    "    setup=[\n",
    "        \"export PATH=~/project-pasaniuc/software/miniconda3/bin:$PATH\",\n",
    "        \"export PATH=~/project-pasaniuc/software/bin:$PATH\",\n",
    "        \"export PYTHONNOUSERSITE=True\",\n",
    "    ],\n",
    ")\n",
    "\n",
    "jobs = executor.map_array(\n",
    "    summarize_result, df_params.trait, df_params.group, df_params.method, df_params.out\n",
    ")"
   ]
  },
  {
   "cell_type": "code",
   "execution_count": 26,
   "id": "087c5d22-d989-4f46-9e37-30069eb9d2c8",
   "metadata": {},
   "outputs": [],
   "source": [
    "trait = \"height\"\n",
    "indiv_group = \"other\""
   ]
  },
  {
   "cell_type": "code",
   "execution_count": 27,
   "id": "b432e6e6-b46d-4700-8d66-567d9ec85240",
   "metadata": {},
   "outputs": [],
   "source": [
    "df_predint_none = pd.read_csv(f\"out/summary/{trait}-{indiv_group}.none.tsv\", sep=\"\\t\")\n",
    "df_predint_all = pd.read_csv(f\"out/summary/{trait}-{indiv_group}.all.tsv\", sep=\"\\t\")"
   ]
  },
  {
   "cell_type": "code",
   "execution_count": 28,
   "id": "c2145fce-7cc7-4924-bbfd-e7745e7c14d3",
   "metadata": {},
   "outputs": [],
   "source": [
    "dict_r2 = {\n",
    "    group: df_predint_all[df_predint_all.group == group].pivot(\n",
    "        index=\"seed\", columns=\"subgroup\", values=\"r2\"\n",
    "    )\n",
    "    for group in df_predint_all.group.unique()\n",
    "}\n",
    "dict_cov1 = {\n",
    "    group: df_predint_none[df_predint_none.group == group].pivot(\n",
    "        index=\"seed\", columns=\"subgroup\", values=\"coverage\"\n",
    "    )\n",
    "    for group in df_predint_none.group.unique()\n",
    "}\n",
    "dict_cov2 = {\n",
    "    group: df_predint_all[df_predint_all.group == group].pivot(\n",
    "        index=\"seed\", columns=\"subgroup\", values=\"coverage\"\n",
    "    )\n",
    "    for group in df_predint_all.group.unique()\n",
    "}"
   ]
  },
  {
   "cell_type": "code",
   "execution_count": 30,
   "id": "e9293b3a-3f99-4b09-a292-621c252b7f4d",
   "metadata": {},
   "outputs": [
    {
     "data": {
      "text/plain": [
       "(<Figure size 945x525 with 6 Axes>,\n",
       " array([[<AxesSubplot:ylabel='height $R^2$'>, <AxesSubplot:>,\n",
       "         <AxesSubplot:>],\n",
       "        [<AxesSubplot:xlabel='PC1 quintile', ylabel='height coverage'>,\n",
       "         <AxesSubplot:xlabel='Age quitile'>, <AxesSubplot:xlabel='Sex'>]],\n",
       "       dtype=object))"
      ]
     },
     "execution_count": 30,
     "metadata": {},
     "output_type": "execute_result"
    },
    {
     "data": {
      "image/png": "[encoded data removed]",
      "text/plain": [
       "<Figure size 945x525 with 6 Axes>"
      ]
     },
     "metadata": {
      "needs_background": "light"
     },
     "output_type": "display_data"
    }
   ],
   "source": [
    "plot_figure(\n",
    "    dict_r2=dict_r2,\n",
    "    dict_cov1=dict_cov1,\n",
    "    dict_cov2=dict_cov2,\n",
    "    trait=trait,\n",
    "    xlabels=[\"PC1\", \"AGE\", \"SEX\"],\n",
    "    xlabel_map={\"PC1\": \"PC1 quintile\", \"AGE\": \"Age quitile\", \"SEX\": \"Sex\"},\n",
    "    ylim_cov=[0.83, 0.97],\n",
    ")"
   ]
  }
 ],
 "metadata": {
  "kernelspec": {
   "display_name": "Python 3",
   "language": "python",
   "name": "python3"
  },
  "language_info": {
   "codemirror_mode": {
    "name": "ipython",
    "version": 3
   },
   "file_extension": ".py",
   "mimetype": "text/x-python",
   "name": "python",
   "nbconvert_exporter": "python",
   "pygments_lexer": "ipython3",
   "version": "3.8.5"
  }
 },
 "nbformat": 4,
 "nbformat_minor": 5
}
