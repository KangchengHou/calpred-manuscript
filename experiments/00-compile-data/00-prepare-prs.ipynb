{
 "cells": [
  {
   "cell_type": "code",
   "execution_count": 1,
   "id": "b402c890-0079-4d87-9523-094f40589ea5",
   "metadata": {},
   "outputs": [],
   "source": [
    "%load_ext lab_black\n",
    "\n",
    "import numpy as np\n",
    "import admix\n",
    "import pandas as pd\n",
    "import os\n",
    "import subprocess\n",
    "import glob\n",
    "import submitit"
   ]
  },
  {
   "cell_type": "markdown",
   "id": "ff0f8959-adff-43e6-a8e0-5f65f51a40cf",
   "metadata": {},
   "source": [
    "# Format data\n",
    "1. For each phenotype, we have one file, where every individual has a mean PRS, ground truth phenotype, SD PRS, 5% and 95% quantile.\n",
    "2. The covariates are shared across all phenotype files."
   ]
  },
  {
   "cell_type": "code",
   "execution_count": 2,
   "id": "9cd565a3-1b26-43d4-ba3c-e1b415f84f42",
   "metadata": {},
   "outputs": [],
   "source": [
    "DATA_DIR = (\n",
    "    \"/u/project/sgss/UKBB/PRS-RESEARCH/02-yi-simulate-prs/experiments/real-trait-sub\"\n",
    ")\n",
    "PHENO_DIR = \"/u/project/sgss/UKBB/PRS-RESEARCH/03-compile-pheno/out\"\n",
    "PLINK_DIR = \"/u/project/sgss/UKBB/PRS-RESEARCH/00-compile-data/out/PLINK/all\""
   ]
  },
  {
   "cell_type": "code",
   "execution_count": 3,
   "id": "c9f4bf09-2ff0-4ef7-bc80-7e6e047d8b86",
   "metadata": {},
   "outputs": [],
   "source": [
    "# form the covariate file with group information\n",
    "df_covar = pd.read_csv(\n",
    "    os.path.join(PHENO_DIR, \"covar.tsv\"), sep=\"\\t\", index_col=0\n",
    ").drop(columns=[\"IID\"])\n",
    "df_covar_sub = pd.read_csv(\n",
    "    os.path.join(DATA_DIR, \"meta/covariates.txt\"), sep=\"\\t\", index_col=0\n",
    ")\n",
    "df_covar[\"group\"] = df_covar_sub[\"group\"].reindex(df_covar.index)\n",
    "df_covar.index.name = \"INDIV\"\n",
    "df_covar.to_csv(\"out/covar.tsv\", sep=\"\\t\", float_format=\"%.8g\")"
   ]
  },
  {
   "cell_type": "code",
   "execution_count": 4,
   "id": "a75f5b00-60e4-4049-9c92-5a9ed85e5e7e",
   "metadata": {},
   "outputs": [],
   "source": [
    "# format individual list\n",
    "with open(os.path.join(DATA_DIR, \"meta/uk_train.list\")) as f:\n",
    "    uk_train_index = sorted([int(l.split()[0]) for l in f.readlines()])\n",
    "\n",
    "with open(os.path.join(DATA_DIR, \"meta/uk_val.list\")) as f:\n",
    "    uk_val_index = sorted([int(l.split()[0]) for l in f.readlines()])\n",
    "\n",
    "test_index = set(df_covar.index.values) - (set(uk_train_index) | set(uk_val_index))\n",
    "test_index = sorted(list(test_index))\n",
    "for name, index in zip(\n",
    "    [\"uk-train\", \"uk-val\", \"test\"], [uk_train_index, uk_val_index, test_index]\n",
    "):\n",
    "    with open(f\"out/indiv/{name}.indivlist\", \"w\") as f:\n",
    "        f.writelines(\"\\n\".join([str(i) for i in index]))"
   ]
  },
  {
   "cell_type": "code",
   "execution_count": 5,
   "id": "2bae3fa4-16e0-4cbc-b277-73edfd00ab5b",
   "metadata": {},
   "outputs": [],
   "source": [
    "def submit_summarize(trait):\n",
    "    # TODO: add SNP mean + SD.\n",
    "    weights_path = os.path.join(DATA_DIR, f\"out/{trait}/PHENO.auto.weight.tsv.gz\")\n",
    "    cmds = [\n",
    "        \"dapgen score\",\n",
    "        f\"--plink {PLINK_DIR}\",\n",
    "        \"--freq-suffix .uk-train.afreq\",\n",
    "        f\"--weights {weights_path}\",\n",
    "        \"--weight-col-prefix SAMPLE_\",\n",
    "        f\"--out out/pred/{trait}.score.tsv.gz\",\n",
    "        \"--chrom-col CHR --pos-col POS --alt-col A1 --ref-col A2\",\n",
    "        \"--keep-fam out/indiv/test.indivlist\",\n",
    "        \"--center True\",\n",
    "        \"--threads 8\",\n",
    "        \"--memory 40000\",\n",
    "    ]\n",
    "    subprocess.check_call(\" \".join(cmds), shell=True)\n",
    "    df_score = pd.read_csv(\n",
    "        os.path.join(f\"out/pred/{trait}.score.tsv.gz\"), sep=\"\\t\", index_col=0\n",
    "    )\n",
    "    df_summary = pd.DataFrame(\n",
    "        {\"MEAN\": df_score.mean(axis=1), \"SD\": df_score.std(axis=1)}\n",
    "    )\n",
    "    q_list = [0.05, 0.5, 0.95]\n",
    "    df_quantile = df_score.quantile(q=q_list, axis=1).T\n",
    "    df_quantile.columns = [f\"QUANTILE_{int(q * 100)}\" for q in q_list]\n",
    "    df_summary = pd.merge(df_summary, df_quantile, left_index=True, right_index=True)\n",
    "    df_summary.to_csv(\n",
    "        os.path.join(f\"out/pred/{trait}.score_summary.tsv.gz\"),\n",
    "        sep=\"\\t\",\n",
    "        float_format=\"%.6g\",\n",
    "    )"
   ]
  },
  {
   "cell_type": "code",
   "execution_count": 6,
   "id": "cd236fbf-3d0f-405f-929c-bed5fded44f4",
   "metadata": {},
   "outputs": [],
   "source": [
    "trait_list = [\n",
    "    t.split(\"/\")[-2]\n",
    "    for t in glob.glob(os.path.join(DATA_DIR, \"out/*/PHENO.auto.weight.tsv.gz\"))\n",
    "]"
   ]
  },
  {
   "cell_type": "code",
   "execution_count": 7,
   "id": "f6f9158c-64bd-457b-be5e-e13417aa834f",
   "metadata": {},
   "outputs": [],
   "source": [
    "executor = submitit.SgeExecutor(folder=\"./submitit-logs\")\n",
    "\n",
    "executor.update_parameters(\n",
    "    time_min=80,\n",
    "    memory_g=60,\n",
    "    queue=\"highp\",\n",
    "    setup=[\n",
    "        \"export PATH=~/project-pasaniuc/software/miniconda3/bin:$PATH\",\n",
    "        \"export PYTHONNOUSERSITE=True\",\n",
    "    ],\n",
    ")\n",
    "\n",
    "jobs = executor.map_array(submit_summarize, trait_list)"
   ]
  },
  {
   "cell_type": "code",
   "execution_count": 8,
   "id": "438f982c-3550-42b4-8089-889c7e0858bc",
   "metadata": {},
   "outputs": [],
   "source": [
    "# for trait in [\"height\", \"insomnia\", \"darker_skin\"]:\n",
    "#     df_prs = pd.read_csv(\n",
    "#         os.path.join(DATA_DIR, f\"out/{trait}/PHENO.auto.eur.test_prs.tsv.gz\"),\n",
    "#         sep=\"\\t\",\n",
    "#         index_col=0,\n",
    "#     )\n",
    "#     df_prs.index = [int(i.split(\"_\")[0]) for i in df_prs.index]\n",
    "#     df_prs = df_prs[[\"MEAN\"]].rename(columns={\"MEAN\": \"PRS_MEAN\"})\n",
    "#     df_pheno = pd.read_csv(\n",
    "#         os.path.join(PHENO_DIR, f\"{trait}.tsv\"), sep=\"\\t\", index_col=0\n",
    "#     ).drop(columns=[\"IID\"])\n",
    "#     df_trait = pd.merge(df_prs, df_pheno, left_index=True, right_index=True)\n",
    "#     df_trait.index.name = \"INDIV\"\n",
    "#     df_trait.to_csv(f\"out/pred/{trait}.tsv\", sep=\"\\t\", float_format=\"%.8g\")"
   ]
  }
 ],
 "metadata": {
  "kernelspec": {
   "display_name": "Python 3",
   "language": "python",
   "name": "python3"
  },
  "language_info": {
   "codemirror_mode": {
    "name": "ipython",
    "version": 3
   },
   "file_extension": ".py",
   "mimetype": "text/x-python",
   "name": "python",
   "nbconvert_exporter": "python",
   "pygments_lexer": "ipython3",
   "version": "3.8.5"
  }
 },
 "nbformat": 4,
 "nbformat_minor": 5
}
