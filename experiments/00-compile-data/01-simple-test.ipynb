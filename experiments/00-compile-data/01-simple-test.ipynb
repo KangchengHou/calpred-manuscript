{
 "cells": [
  {
   "cell_type": "code",
   "execution_count": 56,
   "id": "baf28e4b-f21b-4e95-b5da-3cb2a377d519",
   "metadata": {},
   "outputs": [
    {
     "name": "stdout",
     "output_type": "stream",
     "text": [
      "The lab_black extension is already loaded. To reload it, use:\n",
      "  %reload_ext lab_black\n"
     ]
    }
   ],
   "source": [
    "%load_ext lab_black\n",
    "\n",
    "import admix\n",
    "import numpy as np\n",
    "import pandas as pd\n",
    "import admix_prs\n",
    "import os\n",
    "import statsmodels.api as sm\n",
    "import matplotlib.pyplot as plt\n",
    "from scipy.stats import pearsonr"
   ]
  },
  {
   "cell_type": "code",
   "execution_count": 57,
   "id": "cd5241d9-4f8a-4e12-8957-c3a1aa76b2d5",
   "metadata": {},
   "outputs": [],
   "source": [
    "DATA_DIR = \"./out\""
   ]
  },
  {
   "cell_type": "code",
   "execution_count": 9,
   "id": "6abc41bb-27ba-460c-8f00-bca3ae86c21e",
   "metadata": {},
   "outputs": [],
   "source": [
    "df_covar = pd.read_csv(os.path.join(DATA_DIR, \"covar.tsv\"), sep='\\t', index_col=0)"
   ]
  },
  {
   "cell_type": "code",
   "execution_count": 114,
   "id": "09204188-2e99-4cb3-96ff-e75e826d665d",
   "metadata": {},
   "outputs": [],
   "source": [
    "trait = \"insomnia\"\n",
    "covar_cols = [\"AGE\", \"SEX\", \"DEPRIVATION_INDEX\"] + [f\"PC{i}\" for i in range(1, 17)]"
   ]
  },
  {
   "cell_type": "code",
   "execution_count": 115,
   "id": "01dc421f-7e1b-4c16-a698-6e81aea5e3ba",
   "metadata": {},
   "outputs": [],
   "source": [
    "df_trait = pd.read_csv(\n",
    "    os.path.join(DATA_DIR, f\"pred/{trait}.tsv\"), sep=\"\\t\", index_col=0\n",
    ")\n",
    "df_trait = pd.merge(df_trait, df_covar, left_index=True, right_index=True)\n",
    "df_trait = df_trait[df_trait.group == \"United Kingdom\"]\n",
    "df_trait = df_trait.dropna()\n",
    "df_trait[\"PHENO_RESID\"] = (\n",
    "    sm.OLS(\n",
    "        df_trait[\"PHENO\"].values, sm.add_constant(df_trait[covar_cols]), missing=\"drop\"\n",
    "    )\n",
    "    .fit()\n",
    "    .resid\n",
    ")"
   ]
  },
  {
   "cell_type": "code",
   "execution_count": 116,
   "id": "7f12482b-02f8-4b4a-ada0-40bf4547b954",
   "metadata": {},
   "outputs": [
    {
     "name": "stdout",
     "output_type": "stream",
     "text": [
      "insomnia: R2=0.02\n"
     ]
    }
   ],
   "source": [
    "print(\n",
    "    f\"{trait}: R2={pearsonr(df_trait['PRS_MEAN'], df_trait['PHENO_RESID'])[0] ** 2:.2g}\"\n",
    ")"
   ]
  },
  {
   "cell_type": "code",
   "execution_count": 117,
   "id": "ade97c41-376b-430f-b02c-082cf31c336a",
   "metadata": {},
   "outputs": [],
   "source": [
    "test_cols = [\"AGE\", \"SEX\", \"DEPRIVATION_INDEX\", \"PC1\", \"PC2\"]"
   ]
  },
  {
   "cell_type": "code",
   "execution_count": 118,
   "id": "0eef8725-1389-4909-bc33-e17aed3aad11",
   "metadata": {},
   "outputs": [
    {
     "name": "stdout",
     "output_type": "stream",
     "text": [
      "AGE 0.16052081674497903\n",
      "SEX 1.8559681715283013e-16\n",
      "DEPRIVATION_INDEX 0.40153800285660013\n",
      "PC1 0.2784140540968132\n",
      "PC2 0.18797248681978554\n"
     ]
    }
   ],
   "source": [
    "for col in test_cols:\n",
    "    het_stats, het_model = admix_prs.test_het_breuschpagan(\n",
    "        df=df_trait,\n",
    "        y_col=\"PHENO_RESID\",\n",
    "        pred_col=f\"PRS_MEAN\",\n",
    "        test_col=col,\n",
    "    )\n",
    "    print(col, het_stats[\"p-value\"])"
   ]
  }
 ],
 "metadata": {
  "kernelspec": {
   "display_name": "Python 3",
   "language": "python",
   "name": "python3"
  },
  "language_info": {
   "codemirror_mode": {
    "name": "ipython",
    "version": 3
   },
   "file_extension": ".py",
   "mimetype": "text/x-python",
   "name": "python",
   "nbconvert_exporter": "python",
   "pygments_lexer": "ipython3",
   "version": "3.8.5"
  }
 },
 "nbformat": 4,
 "nbformat_minor": 5
}
