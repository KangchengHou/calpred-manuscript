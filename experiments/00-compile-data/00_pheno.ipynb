{
 "cells": [
  {
   "cell_type": "markdown",
   "id": "6f37ea74-9414-4d19-bab8-d92afd50aa31",
   "metadata": {},
   "source": [
    "# Train PRS on European population and apply to admixed population"
   ]
  },
  {
   "cell_type": "markdown",
   "id": "e3cdd98c-d05d-450c-8857-0eb89d633e50",
   "metadata": {},
   "source": [
    "1. Divide into training / validation / testing for European\n",
    "    - prs/pheno/eur_{train, val, test}.indiv\n",
    "    - Admixed testing population from plink/admix.merged.fam\n",
    "2. Extract phenotypes\n",
    "    - Raw phenotypes: prs/pheno/{group}.{trait}.pheno \n",
    "    - Raw covariates: prs/covar/{group}.covar\n",
    "    - Regressed phenotypes: prs/pheno/{group}.{trait}.residual_pheno\n",
    "    - Regression model (train on European and apply to other populations): prs/pheno/eur_train.{trait}.model\n",
    "2. Perform GWAS\n",
    "    - Simple PLINK GWAS\n",
    "3. Apply PRS uncertainty"
   ]
  },
  {
   "cell_type": "markdown",
   "id": "caf46b9c-949b-4a39-84e7-b71e9bfa7f5e",
   "metadata": {},
   "source": [
    "# Divide into training / validation / testing for European"
   ]
  },
  {
   "cell_type": "code",
   "execution_count": 1,
   "id": "5732395d-d46a-4881-966e-3da76972ab36",
   "metadata": {},
   "outputs": [],
   "source": [
    "%load_ext autoreload\n",
    "%autoreload 2\n",
    "%load_ext lab_black"
   ]
  },
  {
   "cell_type": "code",
   "execution_count": 2,
   "id": "7637e258-8b3c-413d-9de5-b3bffc62a271",
   "metadata": {},
   "outputs": [],
   "source": [
    "import admix\n",
    "import numpy as np\n",
    "import pandas as pd\n",
    "from os.path import join\n",
    "import statsmodels.api as sm\n",
    "import matplotlib.pyplot as plt"
   ]
  },
  {
   "cell_type": "markdown",
   "id": "7207a098-8c33-4cac-b2ec-9367e62829e0",
   "metadata": {},
   "source": [
    "# 1. Divide into training / validation / testing for European"
   ]
  },
  {
   "cell_type": "code",
   "execution_count": 16,
   "id": "bf2561db-f5a2-4627-929f-d8115e280c84",
   "metadata": {},
   "outputs": [],
   "source": [
    "PLINK_DIR = \"../../data/PLINK\"\n",
    "OUT_DIR = \"../../data/pheno\""
   ]
  },
  {
   "cell_type": "code",
   "execution_count": 7,
   "id": "c60ee7f9-20c8-4a70-9129-d7b9f81e3b87",
   "metadata": {},
   "outputs": [],
   "source": [
    "# RUN ONLY ONCE \n",
    "\n",
    "# df_admix = admix.tools.plink.read_fam(join(PLINK_DIR, \"admix.fam\"))\n",
    "# assert np.all(df_admix.FID == df_admix.IID)\n",
    "\n",
    "# df_eur_fam = admix.tools.plink_read_fam(\n",
    "#     \"/u/project/sriram/ukbiobank/data/geno/cal/filter4.fam\"\n",
    "# ).astype(str)\n",
    "\n",
    "# np.random.seed(1234)\n",
    "# n_train = 250_000\n",
    "# n_val = 20_000\n",
    "# n_total = df_eur_fam.shape[0]\n",
    "# # the rest is testing individuals\n",
    "# train_index = np.sort(np.random.choice(np.arange(n_total), size=n_train, replace=False))\n",
    "# val_test_index = np.setdiff1d(np.arange(n_total), train_index)\n",
    "# val_index = np.sort(np.random.choice(val_test_index, size=n_val, replace=False))\n",
    "# test_index = np.setdiff1d(val_test_index, val_index)\n",
    "\n",
    "# for name, index in zip(\n",
    "#     [\"eur_train\", \"eur_val\", \"eur_test\"], [train_index, val_index, test_index]\n",
    "# ):\n",
    "#     df_tmp = df_eur_fam.iloc[index, :]\n",
    "#     df_tmp = df_tmp[~df_tmp.FID.isin(df_admix.FID.values)]\n",
    "#     df_tmp.to_csv(join(PLINK_DIR, f\"{name}.fam\"), sep=\"\\t\", index=False, header=False)"
   ]
  },
  {
   "cell_type": "markdown",
   "id": "4b0e20d6-c364-4bab-a0e4-312d514bf2e0",
   "metadata": {},
   "source": [
    "# 2. Extract phenotypes"
   ]
  },
  {
   "cell_type": "code",
   "execution_count": null,
   "id": "7a86cfd1-0637-4e82-afde-bc2f89153089",
   "metadata": {},
   "outputs": [],
   "source": [
    "import numpy as np\n",
    "import pandas as pd\n",
    "\n",
    "col_dict = {\n",
    "    \"eid\": \"ID\",\n",
    "    \"21003-0.0\": \"AGE\",\n",
    "    \"31-0.0\": \"SEX\",\n",
    "}\n",
    "for i in range(1, 41):\n",
    "    col_dict[f\"22009-0.{i}\"] = f\"PC{i}\"\n",
    "\n",
    "pheno1 = pd.read_csv(\n",
    "    \"/u/project/sriram/ukbiobank/33127/ukb21970.csv\", \n",
    "    usecols=col_dict.keys(), \n",
    "    encoding= 'unicode_escape'\n",
    ").rename(columns=col_dict)\n",
    "pheno1.ID = pheno1.ID.astype(str)\n",
    "pheno1 = pheno1.set_index(\"ID\")\n",
    "\n",
    "# extract phenotype from another file (because in another UKB application)\n",
    "col_dict = {\n",
    "    \"eid\": \"ID\",\n",
    "    \"31-0.0\": \"SEX\",\n",
    "    \"21000-0.0\": \"SIRE\",\n",
    "    \"50-0.0\": \"height\",\n",
    "    \"23104-0.0\": \"bmi\",\n",
    "    \"30897-0.0\": \"dilution_factor\",\n",
    "    \"30690-0.0\": \"cholesterol\",\n",
    "    \"30780-0.0\": \"ldl_direct\",\n",
    "    \"30760-0.0\": \"hdl_cholesterol\",\n",
    "}\n",
    "\n",
    "pheno2 = pd.read_csv(\n",
    "    \"/u/project/sriram/ukbiobank/33127/ukb39967.enc_ukb.converted2.csv\",\n",
    "    usecols=col_dict.keys(),\n",
    "    encoding=\"unicode_escape\",\n",
    ").rename(columns=col_dict)\n",
    "pheno2.ID = pheno2.ID.astype(str)\n",
    "pheno2 = pheno2.set_index(\"ID\")\n",
    "\n",
    "df_all = pd.merge(pheno1, pheno2.drop(\"SEX\", axis=1), left_index=True, right_index=True)\n",
    "df_all.to_csv(\"out/all_pheno.csv\")"
   ]
  },
  {
   "cell_type": "code",
   "execution_count": 20,
   "id": "aa5bbc8e-5e87-4a92-918d-1250b91489aa",
   "metadata": {},
   "outputs": [],
   "source": [
    "trait_list = [\"height\", \"bmi\", \"cholesterol\", \"hdl_cholesterol\", \"ldl_direct\"]\n",
    "group_list = [\"eur_train\", \"eur_val\", \"eur_test\", \"admix\"]"
   ]
  },
  {
   "cell_type": "code",
   "execution_count": 24,
   "id": "355bcce9-9ac6-4722-8fb6-3ddbb269f826",
   "metadata": {},
   "outputs": [],
   "source": [
    "dict_df_group = {\n",
    "    group: admix.tools.plink.read_fam(join(PLINK_DIR, f\"{group}.fam\")).astype(str)\n",
    "    for group in group_list\n",
    "}"
   ]
  },
  {
   "cell_type": "code",
   "execution_count": 31,
   "id": "93d07c6d-b6f8-4e7b-8d7d-7e7167b111f4",
   "metadata": {},
   "outputs": [],
   "source": [
    "import pandas as pd\n",
    "\n",
    "df_pheno = pd.read_csv(\"out/all_pheno.csv\").astype({\"ID\": str})\n",
    "df_covar = df_pheno[[\"ID\", \"ID\", \"SEX\", \"AGE\"] + [f\"PC{i}\" for i in range(1, 11)]]\n",
    "df_covar.columns = [\"FID\", \"IID\"] + list(df_covar.columns[2:])\n",
    "\n",
    "for group in group_list:\n",
    "    df_group_covar = dict_df_group[group].merge(df_covar, on=[\"FID\", \"IID\"])\n",
    "    df_group_covar.to_csv(\n",
    "        join(OUT_DIR, f\"{group}.covar\"), sep=\"\\t\", index=False, na_rep=\"NA\"\n",
    "    )\n",
    "\n",
    "    for trait in trait_list:\n",
    "        df_trait = df_pheno[[\"ID\", \"ID\", trait]].copy()\n",
    "        df_trait.columns = [\"FID\", \"IID\", \"PHENO\"]\n",
    "        df_trait[\"PHENO\"] = admix.data.quantile_normalize(df_trait[\"PHENO\"])\n",
    "        df_group_trait = dict_df_group[group].merge(df_trait, on=[\"FID\", \"IID\"])\n",
    "        df_group_trait.to_csv(\n",
    "            join(OUT_DIR, f\"{group}.{trait}.pheno\"), sep=\"\\t\", index=False, na_rep=\"NA\"\n",
    "        )"
   ]
  },
  {
   "cell_type": "code",
   "execution_count": 37,
   "id": "1ff51271-1a14-4349-a378-89f7475a5a2f",
   "metadata": {},
   "outputs": [],
   "source": [
    "dict_df_covar = {\n",
    "    group: pd.read_csv(join(OUT_DIR, f\"{group}.covar\"), sep=\"\\t\")\n",
    "    for group in group_list\n",
    "}\n",
    "for trait in trait_list:\n",
    "    # load trait\n",
    "    col_covar = [\"SEX\", \"AGE\"] + [f\"PC{i}\" for i in range(1, 11)]\n",
    "    dict_df_trait = {\n",
    "        group: pd.read_csv(join(OUT_DIR, f\"{group}.{trait}.pheno\"), sep=\"\\t\")\n",
    "        for group in group_list\n",
    "    }\n",
    "\n",
    "    df_train = pd.merge(\n",
    "        dict_df_trait[\"eur_train\"], dict_df_covar[\"eur_train\"], on=[\"FID\", \"IID\"]\n",
    "    )\n",
    "    model = sm.OLS(\n",
    "        df_train[\"PHENO\"], sm.add_constant(df_train[col_covar].values), missing=\"drop\"\n",
    "    ).fit()\n",
    "    model.save(join(OUT_DIR, f\"eur_train.{trait}.model\"))\n",
    "    # regress out\n",
    "    for group in group_list:\n",
    "        df_group = pd.merge(\n",
    "            dict_df_trait[group], dict_df_covar[group], on=[\"FID\", \"IID\"]\n",
    "        )\n",
    "        df_group[\"PHENO\"] -= model.predict(sm.add_constant(df_group[col_covar].values))\n",
    "        df_group[[\"FID\", \"IID\", \"PHENO\"]].to_csv(\n",
    "            join(OUT_DIR, f\"{group}.{trait}.residual_pheno\"),\n",
    "            sep=\"\\t\",\n",
    "            index=False,\n",
    "            na_rep=\"NA\",\n",
    "        )"
   ]
  },
  {
   "cell_type": "markdown",
   "id": "acd709f3-45b8-4758-a22d-44d7fbd0a347",
   "metadata": {
    "tags": []
   },
   "source": [
    "# 3. Perform GWAS\n",
    "```bash\n",
    "for trait in height bmi cholesterol hdl_cholesterol ldl_direct; do\n",
    "    qsub prepare-train-gwas.sh ${trait}\n",
    "done\n",
    "```"
   ]
  },
  {
   "cell_type": "markdown",
   "id": "9b3155d1-fae9-42db-b963-17e01d4ec39b",
   "metadata": {},
   "source": [
    "# 4. Format GWAS"
   ]
  },
  {
   "cell_type": "code",
   "execution_count": 11,
   "id": "59236a3a-8996-4e28-8e9c-dafdad7e85d3",
   "metadata": {},
   "outputs": [],
   "source": [
    "from scipy.stats import spearmanr\n",
    "import matplotlib.pyplot as plt\n",
    "import admix\n",
    "import admix_prs\n",
    "from os.path import join"
   ]
  },
  {
   "cell_type": "code",
   "execution_count": 12,
   "id": "f339b363-e848-40e9-92c4-648a1e67abbb",
   "metadata": {},
   "outputs": [],
   "source": [
    "trait_list = [\"height\", \"bmi\", \"cholesterol\", \"hdl_cholesterol\", \"ldl_direct\"]"
   ]
  },
  {
   "cell_type": "code",
   "execution_count": 13,
   "id": "1cf519f0-844b-43e6-894f-61f677757d1d",
   "metadata": {},
   "outputs": [],
   "source": [
    "GWAS_DIR = \"../../data/train_gwas\"\n",
    "for trait in trait_list:\n",
    "    assoc = admix_prs.plink2_assoc_to_ldpred2(\n",
    "        join(GWAS_DIR, trait, \"assoc.PHENO.glm.linear\")\n",
    "    )\n",
    "    assoc.to_csv(\n",
    "        join(GWAS_DIR, trait, \"assoc.ldpred2.tsv\"), index=False, sep=\"\\t\"\n",
    "    )"
   ]
  }
 ],
 "metadata": {
  "kernelspec": {
   "display_name": "Python 3",
   "language": "python",
   "name": "python3"
  },
  "language_info": {
   "codemirror_mode": {
    "name": "ipython",
    "version": 3
   },
   "file_extension": ".py",
   "mimetype": "text/x-python",
   "name": "python",
   "nbconvert_exporter": "python",
   "pygments_lexer": "ipython3",
   "version": "3.8.5"
  }
 },
 "nbformat": 4,
 "nbformat_minor": 5
}
