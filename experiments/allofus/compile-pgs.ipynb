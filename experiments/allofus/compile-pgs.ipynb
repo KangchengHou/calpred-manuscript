{
 "cells": [
  {
   "cell_type": "code",
   "execution_count": 6,
   "id": "fee9db3e-e35d-4305-aff5-3cffa6240539",
   "metadata": {},
   "outputs": [
    {
     "name": "stdout",
     "output_type": "stream",
     "text": [
      "The autoreload extension is already loaded. To reload it, use:\n",
      "  %reload_ext autoreload\n",
      "The lab_black extension is already loaded. To reload it, use:\n",
      "  %reload_ext lab_black\n"
     ]
    }
   ],
   "source": [
    "%load_ext autoreload\n",
    "%autoreload 2\n",
    "%load_ext lab_black\n",
    "\n",
    "import pandas as pd\n",
    "import numpy as np\n",
    "import os\n",
    "from tqdm import tqdm\n",
    "from glob import glob"
   ]
  },
  {
   "cell_type": "code",
   "execution_count": 7,
   "id": "d195b421-449e-4e24-8aaf-2db8d77fecd1",
   "metadata": {},
   "outputs": [],
   "source": [
    "trait_list = pd.read_excel(\"../r2-diff/results/trait_info.xlsx\")[\"id\"].values\n",
    "\n",
    "trait_list = [\n",
    "    \"log_hip_circ\",\n",
    "    \"log_leukocyte\",\n",
    "    \"height\",\n",
    "    \"systolic_BP\",\n",
    "    \"diastolic_BP\",\n",
    "    \"LDL\",\n",
    "    \"waist_hip_ratio\",\n",
    "    \"log_waist_circ\",\n",
    "    \"log_HDL\",\n",
    "    \"log_BMI\",\n",
    "    \"log_triglycerides\",\n",
    "    \"years_of_edu\",\n",
    "]"
   ]
  },
  {
   "cell_type": "code",
   "execution_count": 8,
   "id": "37151580-3159-4b08-98ad-6347b0b8e611",
   "metadata": {},
   "outputs": [],
   "source": [
    "DATA_DIR = \"/u/scratch/y/yiding/prs/ukbb-aou/out/\""
   ]
  },
  {
   "cell_type": "code",
   "execution_count": 9,
   "id": "4fba8d5e-9e69-4ffe-8fd7-a8614e015c6c",
   "metadata": {},
   "outputs": [],
   "source": [
    "trait_list = [p.split(\"/\")[-1] for p in glob(DATA_DIR + \"*\")]"
   ]
  },
  {
   "cell_type": "code",
   "execution_count": 10,
   "id": "f7abffc1-81d3-409a-bb2b-325f55ac6c68",
   "metadata": {},
   "outputs": [
    {
     "data": {
      "text/plain": [
       "['systolic_BP',\n",
       " 'log_leukocyte',\n",
       " 'log_triglycerides',\n",
       " 'log_HDL',\n",
       " 'LDL',\n",
       " 'diastolic_BP',\n",
       " 'height',\n",
       " 'log_CRP',\n",
       " 'neuroticism',\n",
       " 'cholesterol',\n",
       " 'log_BMI',\n",
       " 'years_of_edu',\n",
       " 'waist_hip_ratio']"
      ]
     },
     "execution_count": 10,
     "metadata": {},
     "output_type": "execute_result"
    }
   ],
   "source": [
    "trait_list"
   ]
  },
  {
   "cell_type": "code",
   "execution_count": 11,
   "id": "24575fb7-19b8-4ff3-8cd8-1853e51dccc1",
   "metadata": {},
   "outputs": [
    {
     "name": "stderr",
     "output_type": "stream",
     "text": [
      "100%|██████████| 13/13 [12:48<00:00, 59.09s/it]\n"
     ]
    }
   ],
   "source": [
    "df_pgs = None\n",
    "dict_columns = {\n",
    "    \"CHR\": \"CHROM\",\n",
    "    \"A1\": \"ALT\",\n",
    "    \"A2\": \"REF\",\n",
    "    \"SNP\": \"SNP\",\n",
    "    \"POS\": \"POS\",\n",
    "    \"WEIGHT\": \"WEIGHT\",\n",
    "}\n",
    "\n",
    "for trait in tqdm(trait_list):\n",
    "    weights_path = os.path.join(\n",
    "        DATA_DIR, f\"{trait}/{trait}.auto.weight.aou_snp_id.tsv.gz\"\n",
    "    )\n",
    "    df_weights = pd.read_csv(weights_path, sep=\"\\t\")\n",
    "    sample_cols = [col for col in df_weights.columns if col.startswith(\"SAMPLE_\")]\n",
    "    df_weights[\"WEIGHT\"] = df_weights[sample_cols].mean(axis=1)\n",
    "    df_weights = (\n",
    "        df_weights[dict_columns.keys()]\n",
    "        .rename(columns=dict_columns)\n",
    "        .rename(columns={\"WEIGHT\": trait})\n",
    "    )\n",
    "    if df_pgs is None:\n",
    "        df_pgs = df_weights\n",
    "    else:\n",
    "        assert df_weights.iloc[:, 0:5].equals(df_pgs.iloc[:, 0:5])\n",
    "        df_pgs[trait] = df_weights[trait]"
   ]
  },
  {
   "cell_type": "code",
   "execution_count": 13,
   "id": "e0a990a2-f4f7-46d7-89d1-0cea6d8696ad",
   "metadata": {},
   "outputs": [],
   "source": [
    "df_pgs.to_csv(\"results/pgs_weights.v1.tsv.gz\", sep=\"\\t\", index=False)"
   ]
  },
  {
   "cell_type": "code",
   "execution_count": null,
   "id": "d9c796ca-ef03-4d95-905f-8988f7cc5cc0",
   "metadata": {},
   "outputs": [],
   "source": []
  }
 ],
 "metadata": {
  "kernelspec": {
   "display_name": "Python 3",
   "language": "python",
   "name": "python3"
  },
  "language_info": {
   "codemirror_mode": {
    "name": "ipython",
    "version": 3
   },
   "file_extension": ".py",
   "mimetype": "text/x-python",
   "name": "python",
   "nbconvert_exporter": "python",
   "pygments_lexer": "ipython3",
   "version": "3.8.5"
  }
 },
 "nbformat": 4,
 "nbformat_minor": 5
}
