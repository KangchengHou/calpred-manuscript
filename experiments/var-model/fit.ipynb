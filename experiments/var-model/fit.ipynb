{
 "cells": [
  {
   "cell_type": "code",
   "execution_count": 1,
   "id": "d70eee8e-73ab-4c26-88d3-c1a50245960b",
   "metadata": {},
   "outputs": [],
   "source": [
    "%load_ext autoreload\n",
    "%autoreload 2\n",
    "%load_ext lab_black\n",
    "\n",
    "import numpy as np\n",
    "import pandas as pd\n",
    "from glob import glob\n",
    "import os\n",
    "import statsmodels.api as sm\n",
    "from typing import List\n",
    "from sklearn.model_selection import train_test_split\n",
    "import itertools\n",
    "from tqdm import tqdm\n",
    "from admix.data import quantile_normalize\n",
    "import matplotlib.pyplot as plt\n",
    "import calpgs\n",
    "import subprocess\n",
    "\n",
    "os.environ[\"R_HOME\"] = \"/u/project/pasaniuc/kangchen/software/miniconda3/envs/r/lib/R\""
   ]
  },
  {
   "cell_type": "code",
   "execution_count": 2,
   "id": "97e854a7-c047-48ef-8c2a-e749d06b97c2",
   "metadata": {},
   "outputs": [],
   "source": [
    "DATA_DIR = \"../compile-data/out/per-trait-info/\"\n",
    "DATA_URL = \"../r2-diff/data-table.xlsx\"\n",
    "\n",
    "df_trait_info = pd.read_excel(DATA_URL, sheet_name=0)\n",
    "trait_map = {\n",
    "    row.id: row.short if row.short is not np.nan else row.description\n",
    "    for _, row in df_trait_info.iterrows()\n",
    "}\n",
    "\n",
    "df_covar_info = pd.read_excel(DATA_URL, sheet_name=1)\n",
    "covar_map = {row.id: row.short for _, row in df_covar_info.iterrows()}\n",
    "\n",
    "df_display = pd.read_excel(DATA_URL, sheet_name=2)\n",
    "\n",
    "trait_list = df_display.id.values\n",
    "\n",
    "COVAR_COLS = [\n",
    "    \"AGE\",\n",
    "    \"SEX\",\n",
    "    \"DEPRIVATION_INDEX\",\n",
    "    \"log_BMI\",\n",
    "    \"income\",\n",
    "    \"ever_smoked\",\n",
    "    \"drink_alcohol\",\n",
    "    \"glasses\",\n",
    "    \"years_of_edu\",\n",
    "] + [f\"PC{i}\" for i in range(1, 11)]\n",
    "FIT_COLS = [\"PGS\"] + COVAR_COLS"
   ]
  },
  {
   "cell_type": "code",
   "execution_count": 3,
   "id": "d3cd41d8-5409-4dbb-8228-da04c7b46209",
   "metadata": {},
   "outputs": [],
   "source": [
    "df_params = pd.DataFrame(\n",
    "    [params for params in itertools.product(trait_list, [\"white\", \"other\"])],\n",
    "    columns=[\"trait\", \"group\"],\n",
    ")\n",
    "df_params[\"out_prefix\"] = df_params.apply(\n",
    "    lambda r: f\"out/joint-fit/{r.trait}-{r.group}\", axis=1\n",
    ")"
   ]
  },
  {
   "cell_type": "code",
   "execution_count": 4,
   "id": "50844f89-7f4f-484d-b0cc-8aaf0841926f",
   "metadata": {},
   "outputs": [],
   "source": [
    "def estimate(df, mean_cols, var_cols):\n",
    "    df = df.copy()\n",
    "    # format data set\n",
    "    train_x = sm.add_constant(df[mean_cols])\n",
    "    train_z = sm.add_constant(df[var_cols])\n",
    "    train_y = df[\"pheno\"].values\n",
    "    test_x = sm.add_constant(df[mean_cols])\n",
    "    test_z = sm.add_constant(df[var_cols])\n",
    "\n",
    "    # adjust\n",
    "    beta, gamma, beta_cov, gamma_cov = calpgs.fit_het_linear(\n",
    "        y=train_y, mean_covar=train_x, var_covar=train_z, return_est_covar=True\n",
    "    )\n",
    "\n",
    "    beta_se = np.sqrt(np.diag(beta_cov))\n",
    "    gamma_se = np.sqrt(np.diag(gamma_cov))\n",
    "\n",
    "    df_params = pd.DataFrame(\n",
    "        {\n",
    "            \"beta\": beta,\n",
    "            \"beta_se\": beta_se,\n",
    "            \"beta_z\": beta / beta_se,\n",
    "            \"gamma\": gamma,\n",
    "            \"gamma_se\": gamma_se,\n",
    "            \"gamma_z\": gamma / gamma_se,\n",
    "        },\n",
    "        index=train_x.columns,\n",
    "    )\n",
    "    pred_mean = test_x.dot(beta)\n",
    "    pred_std = np.sqrt(np.exp(test_z.dot(gamma)))\n",
    "\n",
    "    df[\"cal_pred\"], df[\"cal_predstd\"] = pred_mean, pred_std\n",
    "    return df_params, df"
   ]
  },
  {
   "cell_type": "code",
   "execution_count": 5,
   "id": "15d6ac2c-1cfb-474b-8883-ca4460f4b8f5",
   "metadata": {},
   "outputs": [],
   "source": [
    "def joint_fit(trait, indiv_group, out_prefix):\n",
    "    df_trait = pd.read_csv(\n",
    "        os.path.join(DATA_DIR, f\"{trait}.tsv.gz\"), index_col=0, sep=\"\\t\"\n",
    "    )\n",
    "\n",
    "    if indiv_group == \"white\":\n",
    "        df_trait = df_trait[df_trait.group == \"United Kingdom\"]\n",
    "    elif indiv_group == \"other\":\n",
    "        df_trait = df_trait[~(df_trait.group == \"United Kingdom\")]\n",
    "    else:\n",
    "        raise NotImplementedError\n",
    "\n",
    "    df_trait = df_trait.rename(columns={\"MEAN\": \"PGS\", \"PHENO\": \"pheno\"}).dropna(\n",
    "        subset=[\"pheno\", \"PGS\"]\n",
    "    )\n",
    "\n",
    "    # impute 0 and standardize covariates\n",
    "    for col in [\"PGS\"] + COVAR_COLS:\n",
    "        df_trait[col] = df_trait[col].fillna(0)\n",
    "        df_trait[col] = (df_trait[col] - df_trait[col].mean()) / df_trait[col].std()\n",
    "\n",
    "    df_trait = df_trait[[\"pheno\", \"PGS\"] + COVAR_COLS]\n",
    "\n",
    "    fit_cols = [col for col in FIT_COLS if col != trait]\n",
    "\n",
    "    df_params, df_cal = estimate(df_trait, mean_cols=fit_cols, var_cols=fit_cols)\n",
    "    df_params.to_csv(out_prefix + \".params.tsv\", sep=\"\\t\", float_format=\"%.6g\")\n",
    "    df_cal.to_csv(out_prefix + \".predint.tsv\", sep=\"\\t\", float_format=\"%.6g\")"
   ]
  },
  {
   "cell_type": "code",
   "execution_count": 6,
   "id": "aa017051-800b-4d30-9350-6b7057ee01b0",
   "metadata": {},
   "outputs": [
    {
     "name": "stderr",
     "output_type": "stream",
     "text": [
      "100%|██████████| 22/22 [02:02<00:00,  5.55s/it]\n"
     ]
    }
   ],
   "source": [
    "for _, params in tqdm(df_params.iterrows(), total=len(df_params)):\n",
    "    joint_fit(params.trait, params.group, params.out_prefix)"
   ]
  },
  {
   "cell_type": "code",
   "execution_count": 7,
   "id": "d18c2644-27b9-4caa-8ca7-89648b749877",
   "metadata": {},
   "outputs": [],
   "source": [
    "# trait = \"height\"\n",
    "# indiv_group = \"other\""
   ]
  },
  {
   "cell_type": "code",
   "execution_count": 8,
   "id": "8d72cd38-fc32-4fed-b754-8c5413a283ae",
   "metadata": {},
   "outputs": [],
   "source": [
    "# path = \"tmp.tsv\"\n",
    "# df_test.to_csv(\"tmp.tsv\", sep=\"\\t\")\n",
    "\n",
    "# cmds = [\n",
    "#     \"calpgs group-r2\",\n",
    "#     f\"--df {path}\",\n",
    "#     \"--y pheno --pred cal_pred --predstd cal_predstd\",\n",
    "#     \"--group PC1,AGE,SEX\",\n",
    "#     f\"--out tmp_out\",\n",
    "#     \"--n-bootstrap 10 --n-subgroup 5\",\n",
    "# ]\n",
    "# subprocess.check_call(\" \".join(cmds), shell=True)\n",
    "\n",
    "# df_predint = pd.read_csv(f\"tmp_out.predint.tsv\", sep=\"\\t\")\n",
    "# df_r2 = pd.read_csv(\"tmp_out.r2.tsv\", sep=\"\\t\")"
   ]
  }
 ],
 "metadata": {
  "kernelspec": {
   "display_name": "Python 3",
   "language": "python",
   "name": "python3"
  },
  "language_info": {
   "codemirror_mode": {
    "name": "ipython",
    "version": 3
   },
   "file_extension": ".py",
   "mimetype": "text/x-python",
   "name": "python",
   "nbconvert_exporter": "python",
   "pygments_lexer": "ipython3",
   "version": "3.8.5"
  }
 },
 "nbformat": 4,
 "nbformat_minor": 5
}
