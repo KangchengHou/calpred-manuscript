{
 "cells": [
  {
   "cell_type": "code",
   "execution_count": 1,
   "id": "21d7aacc-ff09-4713-9a38-36f3fb3b26b6",
   "metadata": {},
   "outputs": [],
   "source": [
    "# %load_ext lab_black\n",
    "# %load_ext autoreload\n",
    "# %autoreload 2\n",
    "\n",
    "# import numpy as np\n",
    "# import pandas as pd\n",
    "# import glob\n",
    "# import os\n",
    "\n",
    "# from matplotlib import pyplot as plt\n",
    "# from sklearn.cluster import SpectralCoclustering\n",
    "# import itertools\n",
    "# import matplotlib\n",
    "# import calpgs\n",
    "# from admix.data import pval2chisq, zsc2pval\n",
    "# from utils import load_r2_result, plot_heatmap, plot_heatmap2\n",
    "\n",
    "# matplotlib.rcParams[\"font.family\"] = [\"Liberation Sans\"]"
   ]
  },
  {
   "cell_type": "code",
   "execution_count": 2,
   "id": "c3aae0e6-1935-43dd-8ef2-858d3f794788",
   "metadata": {},
   "outputs": [],
   "source": [
    "import numpy as np\n",
    "import pandas as pd"
   ]
  },
  {
   "cell_type": "code",
   "execution_count": 3,
   "id": "8195e9ab-d884-4128-ab5a-fca1be4b0222",
   "metadata": {},
   "outputs": [],
   "source": [
    "DATA_DIR = \"../compile-data/out/per-trait-info/\"\n",
    "DATA_URL = \"../r2-diff/data-table.xlsx\"\n",
    "\n",
    "df_trait_info = pd.read_excel(DATA_URL, sheet_name=0)\n",
    "trait_map = {\n",
    "    row.id: row.short if row.short is not np.nan else row.description\n",
    "    for _, row in df_trait_info.iterrows()\n",
    "}\n",
    "\n",
    "df_covar_info = pd.read_excel(DATA_URL, sheet_name=1)\n",
    "covar_map = {row.id: row.short for _, row in df_covar_info.iterrows()}\n",
    "\n",
    "df_display = pd.read_excel(DATA_URL, sheet_name=2)\n",
    "\n",
    "trait_list = df_display.id.values\n",
    "\n",
    "COVAR_COLS = [\n",
    "    \"AGE\",\n",
    "    \"SEX\",\n",
    "    \"DEPRIVATION_INDEX\",\n",
    "    \"log_BMI\",\n",
    "    \"income\",\n",
    "    \"ever_smoked\",\n",
    "    \"drink_alcohol\",\n",
    "    \"glasses\",\n",
    "    \"years_of_edu\",\n",
    "] + [f\"PC{i}\" for i in range(1, 11)]\n",
    "FIT_COLS = [\"PGS\"] + COVAR_COLS"
   ]
  }
 ],
 "metadata": {
  "kernelspec": {
   "display_name": "Python 3",
   "language": "python",
   "name": "python3"
  },
  "language_info": {
   "codemirror_mode": {
    "name": "ipython",
    "version": 3
   },
   "file_extension": ".py",
   "mimetype": "text/x-python",
   "name": "python",
   "nbconvert_exporter": "python",
   "pygments_lexer": "ipython3",
   "version": "3.8.5"
  }
 },
 "nbformat": 4,
 "nbformat_minor": 5
}
