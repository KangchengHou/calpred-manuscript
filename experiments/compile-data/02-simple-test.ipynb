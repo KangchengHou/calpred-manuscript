{
 "cells": [
  {
   "cell_type": "code",
   "execution_count": 1,
   "id": "baf28e4b-f21b-4e95-b5da-3cb2a377d519",
   "metadata": {},
   "outputs": [],
   "source": [
    "%load_ext lab_black\n",
    "%load_ext autoreload\n",
    "%autoreload 2\n",
    "\n",
    "import admix\n",
    "import numpy as np\n",
    "import pandas as pd\n",
    "import admix_prs\n",
    "import os\n",
    "import statsmodels.api as sm\n",
    "import matplotlib.pyplot as plt\n",
    "from scipy.stats import pearsonr"
   ]
  },
  {
   "cell_type": "code",
   "execution_count": 2,
   "id": "cd5241d9-4f8a-4e12-8957-c3a1aa76b2d5",
   "metadata": {},
   "outputs": [],
   "source": [
    "DATA_DIR = \"/u/project/pasaniuc/pasaniucdata/admixture/projects/admix-prs-uncertainty/experiments/00-compile-data/out\"\n",
    "PHENO_DIR = \"/u/project/sgss/UKBB/PRS-RESEARCH/03-compile-pheno/out\""
   ]
  },
  {
   "cell_type": "code",
   "execution_count": 3,
   "id": "5f1fa39c-74ef-4ebf-8c1c-73318210d961",
   "metadata": {},
   "outputs": [
    {
     "name": "stdout",
     "output_type": "stream",
     "text": [
      "Covariates: AGE, SEX, DEPRIVATION_INDEX, PC1, PC2, PC3, PC4, PC5, PC6, PC7, PC8, PC9, PC10\n",
      "Testing: SEX, glasses, AGE_Q, years_of_edu_Q, income_Q, DEPRIVATION_INDEX_Q, PC1_Q, PC2_Q\n"
     ]
    }
   ],
   "source": [
    "COVAR_COLS = [\"AGE\", \"SEX\", \"DEPRIVATION_INDEX\"] + [f\"PC{i}\" for i in range(1, 11)]\n",
    "TEST_COLS = [\"SEX\", \"glasses\"] + [\n",
    "    col + \"_Q\"\n",
    "    for col in [\"AGE\", \"years_of_edu\", \"income\", \"DEPRIVATION_INDEX\", \"PC1\", \"PC2\"]\n",
    "]\n",
    "print(\"Covariates:\", \", \".join(COVAR_COLS))\n",
    "print(\"Testing:\", \", \".join(TEST_COLS))"
   ]
  },
  {
   "cell_type": "code",
   "execution_count": 4,
   "id": "6abc41bb-27ba-460c-8f00-bca3ae86c21e",
   "metadata": {},
   "outputs": [],
   "source": [
    "df_covar = pd.read_csv(os.path.join(DATA_DIR, \"covar.tsv\"), sep=\"\\t\", index_col=0)\n",
    "\n",
    "# add some phenotype to the covariates\n",
    "for trait in [\"years_of_edu\", \"glasses\", \"income\"]:\n",
    "    df_trait = pd.read_csv(\n",
    "        os.path.join(PHENO_DIR, f\"{trait}.tsv\"), sep=\"\\t\", index_col=0\n",
    "    ).drop(columns=[\"IID\"])\n",
    "    df_covar[trait] = df_trait[\"PHENO\"].reindex(df_covar.index)\n",
    "\n",
    "# convert continuous phenotype to discrete phenotypes\n",
    "for col in [\"years_of_edu\", \"income\", \"AGE\", \"DEPRIVATION_INDEX\", \"PC1\", \"PC2\"]:\n",
    "    df_covar[f\"{col}_Q\"] = pd.qcut(df_covar[col], q=5, duplicates=\"drop\").cat.codes"
   ]
  },
  {
   "cell_type": "code",
   "execution_count": 5,
   "id": "40d5c77a-eee3-4927-aa8a-cb7367f73f18",
   "metadata": {},
   "outputs": [
    {
     "name": "stderr",
     "output_type": "stream",
     "text": [
      "/u/project/pasaniuc/kangchen/software/miniconda3/lib/python3.8/site-packages/statsmodels/tsa/tsatools.py:142: FutureWarning: In a future version of pandas all arguments of concat except for the argument 'objs' will be keyword-only\n",
      "  x = pd.concat(x[::order], 1)\n"
     ]
    }
   ],
   "source": [
    "trait = \"height\"\n",
    "df_trait = pd.read_csv(\n",
    "    os.path.join(PHENO_DIR, f\"{trait}.tsv\"), sep=\"\\t\", index_col=0\n",
    ").drop(columns=[\"IID\"])\n",
    "\n",
    "# add score\n",
    "df_score = pd.read_csv(\n",
    "    os.path.join(DATA_DIR, f\"pred/{trait}.score_summary.tsv.gz\"), sep=\"\\t\", index_col=0\n",
    ")\n",
    "df_score.index = [int(i.split(\"_\")[0]) for i in df_score.index]\n",
    "df_trait = pd.merge(df_score, df_trait, left_index=True, right_index=True)\n",
    "\n",
    "# add covariates\n",
    "df_trait = pd.merge(df_trait, df_covar, left_index=True, right_index=True)\n",
    "\n",
    "# within single UK ancestry\n",
    "df_trait = df_trait[df_trait.group == \"United Kingdom\"]\n",
    "df_trait = df_trait.dropna()\n",
    "\n",
    "df_trait[\"PHENO_RESID\"] = (\n",
    "    sm.OLS(\n",
    "        df_trait[\"PHENO\"].values, sm.add_constant(df_trait[COVAR_COLS]), missing=\"drop\"\n",
    "    )\n",
    "    .fit()\n",
    "    .resid\n",
    ")"
   ]
  }
 ],
 "metadata": {
  "kernelspec": {
   "display_name": "Python 3",
   "language": "python",
   "name": "python3"
  },
  "language_info": {
   "codemirror_mode": {
    "name": "ipython",
    "version": 3
   },
   "file_extension": ".py",
   "mimetype": "text/x-python",
   "name": "python",
   "nbconvert_exporter": "python",
   "pygments_lexer": "ipython3",
   "version": "3.8.5"
  }
 },
 "nbformat": 4,
 "nbformat_minor": 5
}
