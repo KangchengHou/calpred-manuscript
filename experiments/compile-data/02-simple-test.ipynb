{
 "cells": [
  {
   "cell_type": "code",
   "execution_count": 1,
   "id": "baf28e4b-f21b-4e95-b5da-3cb2a377d519",
   "metadata": {},
   "outputs": [],
   "source": [
    "%load_ext lab_black\n",
    "%load_ext autoreload\n",
    "%autoreload 2\n",
    "\n",
    "import admix\n",
    "import numpy as np\n",
    "import pandas as pd\n",
    "import admix_prs\n",
    "import os\n",
    "import statsmodels.api as sm\n",
    "import matplotlib.pyplot as plt\n",
    "from scipy.stats import pearsonr"
   ]
  },
  {
   "cell_type": "code",
   "execution_count": 2,
   "id": "cd5241d9-4f8a-4e12-8957-c3a1aa76b2d5",
   "metadata": {},
   "outputs": [],
   "source": [
    "DATA_DIR = \"/u/project/pasaniuc/pasaniucdata/admixture/projects/admix-prs-uncertainty/experiments/00-compile-data/out\"\n",
    "PHENO_DIR = \"/u/project/sgss/UKBB/PRS-RESEARCH/03-compile-pheno/out\""
   ]
  },
  {
   "cell_type": "code",
   "execution_count": 3,
   "id": "5f1fa39c-74ef-4ebf-8c1c-73318210d961",
   "metadata": {},
   "outputs": [
    {
     "name": "stdout",
     "output_type": "stream",
     "text": [
      "Covariates: AGE, SEX, DEPRIVATION_INDEX, PC1, PC2, PC3, PC4, PC5, PC6, PC7, PC8, PC9, PC10\n",
      "Testing: SEX, glasses, AGE_Q, years_of_edu_Q, income_Q, DEPRIVATION_INDEX_Q, PC1_Q, PC2_Q\n"
     ]
    }
   ],
   "source": [
    "COVAR_COLS = [\"AGE\", \"SEX\", \"DEPRIVATION_INDEX\"] + [f\"PC{i}\" for i in range(1, 11)]\n",
    "TEST_COLS = [\"SEX\", \"glasses\"] + [\n",
    "    col + \"_Q\"\n",
    "    for col in [\"AGE\", \"years_of_edu\", \"income\", \"DEPRIVATION_INDEX\", \"PC1\", \"PC2\"]\n",
    "]\n",
    "print(\"Covariates:\", \", \".join(COVAR_COLS))\n",
    "print(\"Testing:\", \", \".join(TEST_COLS))"
   ]
  },
  {
   "cell_type": "code",
   "execution_count": 4,
   "id": "6abc41bb-27ba-460c-8f00-bca3ae86c21e",
   "metadata": {},
   "outputs": [],
   "source": [
    "df_covar = pd.read_csv(os.path.join(DATA_DIR, \"covar.tsv\"), sep=\"\\t\", index_col=0)\n",
    "\n",
    "# add some phenotype to the covariates\n",
    "for trait in [\"years_of_edu\", \"glasses\", \"income\"]:\n",
    "    df_trait = pd.read_csv(\n",
    "        os.path.join(PHENO_DIR, f\"{trait}.tsv\"), sep=\"\\t\", index_col=0\n",
    "    ).drop(columns=[\"IID\"])\n",
    "    df_covar[trait] = df_trait[\"PHENO\"].reindex(df_covar.index)\n",
    "\n",
    "# convert continuous phenotype to discrete phenotypes\n",
    "for col in [\"years_of_edu\", \"income\", \"AGE\", \"DEPRIVATION_INDEX\", \"PC1\", \"PC2\"]:\n",
    "    df_covar[f\"{col}_Q\"] = pd.qcut(df_covar[col], q=5, duplicates=\"drop\").cat.codes"
   ]
  },
  {
   "cell_type": "code",
   "execution_count": 5,
   "id": "40d5c77a-eee3-4927-aa8a-cb7367f73f18",
   "metadata": {},
   "outputs": [
    {
     "name": "stderr",
     "output_type": "stream",
     "text": [
      "/u/project/pasaniuc/kangchen/software/miniconda3/lib/python3.8/site-packages/statsmodels/tsa/tsatools.py:142: FutureWarning: In a future version of pandas all arguments of concat except for the argument 'objs' will be keyword-only\n",
      "  x = pd.concat(x[::order], 1)\n"
     ]
    }
   ],
   "source": [
    "trait = \"height\"\n",
    "df_trait = pd.read_csv(\n",
    "    os.path.join(PHENO_DIR, f\"{trait}.tsv\"), sep=\"\\t\", index_col=0\n",
    ").drop(columns=[\"IID\"])\n",
    "\n",
    "# add score\n",
    "df_score = pd.read_csv(\n",
    "    os.path.join(DATA_DIR, f\"pred/{trait}.score_summary.tsv.gz\"), sep=\"\\t\", index_col=0\n",
    ")\n",
    "df_score.index = [int(i.split(\"_\")[0]) for i in df_score.index]\n",
    "df_trait = pd.merge(df_score, df_trait, left_index=True, right_index=True)\n",
    "\n",
    "# add covariates\n",
    "df_trait = pd.merge(df_trait, df_covar, left_index=True, right_index=True)\n",
    "\n",
    "# within single UK ancestry\n",
    "df_trait = df_trait[df_trait.group == \"United Kingdom\"]\n",
    "df_trait = df_trait.dropna()\n",
    "\n",
    "df_trait[\"PHENO_RESID\"] = (\n",
    "    sm.OLS(\n",
    "        df_trait[\"PHENO\"].values, sm.add_constant(df_trait[COVAR_COLS]), missing=\"drop\"\n",
    "    )\n",
    "    .fit()\n",
    "    .resid\n",
    ")"
   ]
  },
  {
   "cell_type": "code",
   "execution_count": 14,
   "id": "349fc4e5-5e08-476a-a33b-2733f7d47083",
   "metadata": {},
   "outputs": [
    {
     "name": "stderr",
     "output_type": "stream",
     "text": [
      "Bootstrapping: 100%|██████████| 199/199 [00:03<00:00, 55.87it/s]\n"
     ]
    }
   ],
   "source": [
    "df_res, df_res_se, r2_diff = admix_prs.summarize_pred(\n",
    "    df_trait,\n",
    "    y_col=\"PHENO_RESID\",\n",
    "    pred_col=\"MEAN\",\n",
    "    group_col=\"glasses\",\n",
    "    n_bootstrap=199,\n",
    "    return_r2_diff=True,\n",
    ")"
   ]
  },
  {
   "cell_type": "code",
   "execution_count": 15,
   "id": "cdb5eaa2-6ee7-4dd0-8325-83c624b18cc5",
   "metadata": {},
   "outputs": [
    {
     "data": {
      "text/html": [
       "<div>\n",
       "<style scoped>\n",
       "    .dataframe tbody tr th:only-of-type {\n",
       "        vertical-align: middle;\n",
       "    }\n",
       "\n",
       "    .dataframe tbody tr th {\n",
       "        vertical-align: top;\n",
       "    }\n",
       "\n",
       "    .dataframe thead th {\n",
       "        text-align: right;\n",
       "    }\n",
       "</style>\n",
       "<table border=\"1\" class=\"dataframe\">\n",
       "  <thead>\n",
       "    <tr style=\"text-align: right;\">\n",
       "      <th></th>\n",
       "      <th>r2</th>\n",
       "      <th>std(y)</th>\n",
       "      <th>std(pred)</th>\n",
       "    </tr>\n",
       "    <tr>\n",
       "      <th>glasses</th>\n",
       "      <th></th>\n",
       "      <th></th>\n",
       "      <th></th>\n",
       "    </tr>\n",
       "  </thead>\n",
       "  <tbody>\n",
       "    <tr>\n",
       "      <th>0.0</th>\n",
       "      <td>0.352353</td>\n",
       "      <td>6.401658</td>\n",
       "      <td>4.217528</td>\n",
       "    </tr>\n",
       "    <tr>\n",
       "      <th>1.0</th>\n",
       "      <td>0.390903</td>\n",
       "      <td>6.252049</td>\n",
       "      <td>4.303912</td>\n",
       "    </tr>\n",
       "  </tbody>\n",
       "</table>\n",
       "</div>"
      ],
      "text/plain": [
       "               r2    std(y)  std(pred)\n",
       "glasses                               \n",
       "0.0      0.352353  6.401658   4.217528\n",
       "1.0      0.390903  6.252049   4.303912"
      ]
     },
     "execution_count": 15,
     "metadata": {},
     "output_type": "execute_result"
    }
   ],
   "source": [
    "df_res"
   ]
  },
  {
   "cell_type": "code",
   "execution_count": 6,
   "id": "e73cf358-089b-4dd7-8c7a-61db4232ef72",
   "metadata": {},
   "outputs": [
    {
     "ename": "NameError",
     "evalue": "name 'df_res' is not defined",
     "output_type": "error",
     "traceback": [
      "\u001b[0;31m---------------------------------------------------------------------------\u001b[0m",
      "\u001b[0;31mNameError\u001b[0m                                 Traceback (most recent call last)",
      "\u001b[0;32m<ipython-input-6-e61ce86b9fdc>\u001b[0m in \u001b[0;36m<module>\u001b[0;34m\u001b[0m\n\u001b[0;32m----> 1\u001b[0;31m \u001b[0mdisplay\u001b[0m\u001b[0;34m(\u001b[0m\u001b[0mdf_res\u001b[0m\u001b[0;34m)\u001b[0m\u001b[0;34m\u001b[0m\u001b[0;34m\u001b[0m\u001b[0m\n\u001b[0m\u001b[1;32m      2\u001b[0m \u001b[0mdisplay\u001b[0m\u001b[0;34m(\u001b[0m\u001b[0mdf_res_se\u001b[0m\u001b[0;34m)\u001b[0m\u001b[0;34m\u001b[0m\u001b[0;34m\u001b[0m\u001b[0m\n\u001b[1;32m      3\u001b[0m \u001b[0;34m\u001b[0m\u001b[0m\n\u001b[1;32m      4\u001b[0m \u001b[0mfig\u001b[0m\u001b[0;34m,\u001b[0m \u001b[0max\u001b[0m \u001b[0;34m=\u001b[0m \u001b[0mplt\u001b[0m\u001b[0;34m.\u001b[0m\u001b[0msubplots\u001b[0m\u001b[0;34m(\u001b[0m\u001b[0mfigsize\u001b[0m\u001b[0;34m=\u001b[0m\u001b[0;34m(\u001b[0m\u001b[0;36m3\u001b[0m\u001b[0;34m,\u001b[0m \u001b[0;36m1.5\u001b[0m\u001b[0;34m)\u001b[0m\u001b[0;34m,\u001b[0m \u001b[0mdpi\u001b[0m\u001b[0;34m=\u001b[0m\u001b[0;36m150\u001b[0m\u001b[0;34m)\u001b[0m\u001b[0;34m\u001b[0m\u001b[0;34m\u001b[0m\u001b[0m\n\u001b[1;32m      5\u001b[0m \u001b[0max\u001b[0m\u001b[0;34m.\u001b[0m\u001b[0mhist\u001b[0m\u001b[0;34m(\u001b[0m\u001b[0mr2_diff\u001b[0m\u001b[0;34m,\u001b[0m \u001b[0medgecolor\u001b[0m\u001b[0;34m=\u001b[0m\u001b[0;34m\"black\"\u001b[0m\u001b[0;34m,\u001b[0m \u001b[0mlinewidth\u001b[0m\u001b[0;34m=\u001b[0m\u001b[0;36m0.8\u001b[0m\u001b[0;34m,\u001b[0m \u001b[0mbins\u001b[0m\u001b[0;34m=\u001b[0m\u001b[0;36m25\u001b[0m\u001b[0;34m)\u001b[0m\u001b[0;34m\u001b[0m\u001b[0;34m\u001b[0m\u001b[0m\n",
      "\u001b[0;31mNameError\u001b[0m: name 'df_res' is not defined"
     ]
    }
   ],
   "source": [
    "display(df_res)\n",
    "display(df_res_se)\n",
    "\n",
    "fig, ax = plt.subplots(figsize=(3, 1.5), dpi=150)\n",
    "ax.hist(r2_diff, edgecolor=\"black\", linewidth=0.8, bins=25)\n",
    "ax.axvline(x=0, ls=\"--\", color=\"r\")\n",
    "ax.set_title(f\"p-value: {np.mean(r2_diff < 0):.2g}\")"
   ]
  },
  {
   "cell_type": "code",
   "execution_count": 8,
   "id": "e440ff12-e70a-4d09-bb23-9f82ececa355",
   "metadata": {},
   "outputs": [],
   "source": [
    "# TODO:\n",
    "# have a notion of effect sizes, unit of R2 reductment per unit of covariate\n",
    "# (maybe a simple grouped R2 would suffice (top quantile and bottom 5th quantile))"
   ]
  }
 ],
 "metadata": {
  "kernelspec": {
   "display_name": "Python 3",
   "language": "python",
   "name": "python3"
  },
  "language_info": {
   "codemirror_mode": {
    "name": "ipython",
    "version": 3
   },
   "file_extension": ".py",
   "mimetype": "text/x-python",
   "name": "python",
   "nbconvert_exporter": "python",
   "pygments_lexer": "ipython3",
   "version": "3.8.5"
  }
 },
 "nbformat": 4,
 "nbformat_minor": 5
}
