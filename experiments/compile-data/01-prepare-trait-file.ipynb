{
 "cells": [
  {
   "cell_type": "markdown",
   "id": "6a16b589-70cb-4105-8804-841069021c88",
   "metadata": {},
   "source": [
    "# Trait-specific file\n",
    "\n",
    "one trait for each file, include all covariate information (it is okay to have redundant information across traits) and PRS mean and standard errors. The standard errors can come from different sources, e.g., (1) sampling (2) PC1 (3) genetic distance (L2 distane of all PCs)"
   ]
  },
  {
   "cell_type": "code",
   "execution_count": 2,
   "id": "2dce4e3f-493b-4ab3-930a-029755b97676",
   "metadata": {},
   "outputs": [],
   "source": [
    "%load_ext lab_black\n",
    "\n",
    "import numpy as np\n",
    "import pandas as pd\n",
    "import os\n",
    "import glob\n",
    "from typing import List\n",
    "from tqdm import tqdm\n",
    "import submitit\n",
    "import matplotlib.pyplot as plt"
   ]
  },
  {
   "cell_type": "code",
   "execution_count": 3,
   "id": "6a32a73c-9ae0-4403-a4f4-54552bd10c1d",
   "metadata": {},
   "outputs": [],
   "source": [
    "COVAR_COLS = [\"AGE\", \"SEX\", \"DEPRIVATION_INDEX\"] + [f\"PC{i}\" for i in range(1, 11)]\n",
    "\n",
    "TEST_COLS = [\"SEX\", \"glasses\"] + [\n",
    "    \"AGE\",\n",
    "    \"years_of_edu\",\n",
    "    \"income\",\n",
    "    \"DEPRIVATION_INDEX\",\n",
    "    \"PC1\",\n",
    "    \"PC2\",\n",
    "    \"ever_smoked\",\n",
    "]\n",
    "\n",
    "DATA_DIR = \"out\"\n",
    "PHENO_DIR = \"/u/project/sgss/UKBB/PRS-RESEARCH/03-compile-pheno/out\""
   ]
  },
  {
   "cell_type": "code",
   "execution_count": 4,
   "id": "27284426-4475-4079-8bd4-a1855e2174e7",
   "metadata": {},
   "outputs": [],
   "source": [
    "def load_trait_info(trait: str, covar_cols: List[str]) -> pd.DataFrame:\n",
    "    \"\"\"\n",
    "    Load\n",
    "    (1) trait values PHENO_DIR/{trait}.tsv\n",
    "    (2) polygenic score DATA_DIR/pred/{trait}.score_summary.tsv.gz\n",
    "    (3) covariates DATA_DIR/covar.tsv\n",
    "    (3) covariates to adjust for, e.g., age, sex, top 10 PCs\n",
    "    (4) covariate to test\n",
    "\n",
    "    Parameters\n",
    "    ----------\n",
    "    trait: str\n",
    "        trait name\n",
    "    covar_cols: List[str]\n",
    "        list of covariates to load from covar file\n",
    "    \"\"\"\n",
    "\n",
    "    ## 1. load trait and score\n",
    "    df_trait = pd.read_csv(\n",
    "        os.path.join(PHENO_DIR, f\"{trait}.tsv\"), sep=\"\\t\", index_col=0\n",
    "    ).drop(columns=[\"IID\"])\n",
    "\n",
    "    df_score = pd.read_csv(\n",
    "        os.path.join(DATA_DIR, f\"pred/{trait}.score_summary.tsv.gz\"),\n",
    "        sep=\"\\t\",\n",
    "        index_col=0,\n",
    "    )\n",
    "    df_score.index = [int(i.split(\"_\")[0]) for i in df_score.index]\n",
    "\n",
    "    ## 2. load covariates\n",
    "    df_covar = pd.read_csv(os.path.join(DATA_DIR, \"covar.tsv\"), sep=\"\\t\", index_col=0)\n",
    "\n",
    "    # add some phenotype to the covariates\n",
    "    for col in covar_cols:\n",
    "        if col in df_covar.columns:\n",
    "            continue\n",
    "        else:\n",
    "            tmp_path = os.path.join(PHENO_DIR, f\"{col}.tsv\")\n",
    "            if os.path.exists(tmp_path):\n",
    "                df_tmp = pd.read_csv(tmp_path, sep=\"\\t\", index_col=0).drop(\n",
    "                    columns=[\"IID\"]\n",
    "                )\n",
    "                df_covar[col] = df_tmp[\"PHENO\"].reindex(df_covar.index)\n",
    "            else:\n",
    "                warnings.warn(f\"{tmp_path} does not exist\")\n",
    "\n",
    "    # merge all files together\n",
    "    df_trait = pd.merge(df_score, df_trait, left_index=True, right_index=True)\n",
    "    df_trait = pd.merge(df_trait, df_covar, left_index=True, right_index=True)\n",
    "\n",
    "    return df_trait"
   ]
  },
  {
   "cell_type": "code",
   "execution_count": 5,
   "id": "1a40910f-7caf-43d5-bae4-22e4f8285b5a",
   "metadata": {},
   "outputs": [
    {
     "name": "stdout",
     "output_type": "stream",
     "text": [
      "111 traits in total.\n"
     ]
    }
   ],
   "source": [
    "trait_list = list(\n",
    "    set(\n",
    "        [\n",
    "            t.split(\"/\")[-1].split(\".\")[0]\n",
    "            for t in glob.glob(os.path.join(DATA_DIR, \"pred/*\"))\n",
    "        ]\n",
    "    )\n",
    ")\n",
    "print(f\"{len(trait_list)} traits in total.\")"
   ]
  },
  {
   "cell_type": "code",
   "execution_count": 12,
   "id": "6110106e-9301-403d-9375-3ecb18d76003",
   "metadata": {},
   "outputs": [],
   "source": [
    "MAIN_TRAIT_LIST = [\n",
    "    \"log_monocyte\",\n",
    "    \"log_leukocyte\",\n",
    "    \"log_CRP\",\n",
    "    \"log_triglycerides\",\n",
    "    \"LDL\",\n",
    "    \"log_SHBG\",\n",
    "    \"systolic_BP\",\n",
    "    \"diastolic_BP\",\n",
    "    \"FEV1\",\n",
    "    \"log_heel_BMD\",\n",
    "    \"height\",\n",
    "    \"years_of_edu\",\n",
    "    \"neuroticism\",\n",
    "]"
   ]
  },
  {
   "cell_type": "code",
   "execution_count": 13,
   "id": "eef05128-752e-4999-8094-b60ab3a96f09",
   "metadata": {},
   "outputs": [
    {
     "name": "stderr",
     "output_type": "stream",
     "text": [
      "100%|██████████| 13/13 [02:37<00:00, 12.14s/it]\n"
     ]
    }
   ],
   "source": [
    "for trait in tqdm(MAIN_TRAIT_LIST):\n",
    "    df_trait = load_trait_info(trait, list(set(TEST_COLS) | set(COVAR_COLS)))\n",
    "    df_trait.index.name = \"indiv\"\n",
    "    df_trait.to_csv(f\"out/per-trait-info/{trait}.tsv.gz\", sep=\"\\t\", na_rep=\"NA\")"
   ]
  }
 ],
 "metadata": {
  "kernelspec": {
   "display_name": "Python 3",
   "language": "python",
   "name": "python3"
  },
  "language_info": {
   "codemirror_mode": {
    "name": "ipython",
    "version": 3
   },
   "file_extension": ".py",
   "mimetype": "text/x-python",
   "name": "python",
   "nbconvert_exporter": "python",
   "pygments_lexer": "ipython3",
   "version": "3.8.5"
  }
 },
 "nbformat": 4,
 "nbformat_minor": 5
}
