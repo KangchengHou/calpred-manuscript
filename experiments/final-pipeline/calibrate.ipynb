{
 "cells": [
  {
   "cell_type": "code",
   "execution_count": 1,
   "id": "2fd76e8b-cba7-49ee-a51e-d8b34c1c971e",
   "metadata": {},
   "outputs": [],
   "source": [
    "%load_ext lab_black\n",
    "import numpy as np\n",
    "import pandas as pd\n",
    "from sklearn.model_selection import train_test_split\n",
    "import statsmodels.api as sm\n",
    "import itertools\n",
    "from tqdm import tqdm\n",
    "import yaml\n",
    "import os\n",
    "import calpgs\n",
    "import submitit\n",
    "import matplotlib.pyplot as plt\n",
    "\n",
    "os.environ[\"R_HOME\"] = \"/u/project/pasaniuc/kangchen/software/miniconda3/envs/r/lib/R\""
   ]
  },
  {
   "cell_type": "code",
   "execution_count": 2,
   "id": "6b73607d-bcb5-493c-9371-97dac295c7c6",
   "metadata": {},
   "outputs": [],
   "source": [
    "trait_list = np.loadtxt(\"data/traits.txt\", dtype=str)\n",
    "with open(f\"data/meta.yaml\", \"r\") as f:\n",
    "    metadata = yaml.safe_load(f)\n",
    "\n",
    "VAR_COLS = metadata[\"VAR_COLS\"]\n",
    "COVAR_COLS = metadata[\"COVAR_COLS\"]"
   ]
  },
  {
   "cell_type": "code",
   "execution_count": 3,
   "id": "cc34b046-f8c2-4846-a3a9-48211a11d349",
   "metadata": {},
   "outputs": [
    {
     "data": {
      "text/plain": [
       "['AGE',\n",
       " 'SEX',\n",
       " 'PC1',\n",
       " 'PC2',\n",
       " 'log_BMI',\n",
       " 'ever_smoked',\n",
       " 'drink_alcohol',\n",
       " 'glasses',\n",
       " 'income',\n",
       " 'DEPRIVATION_INDEX',\n",
       " 'years_of_edu']"
      ]
     },
     "execution_count": 3,
     "metadata": {},
     "output_type": "execute_result"
    }
   ],
   "source": [
    "VAR_COLS"
   ]
  },
  {
   "cell_type": "code",
   "execution_count": 4,
   "id": "bcce722e-2dfa-49f8-b050-b6418f89ab7d",
   "metadata": {},
   "outputs": [
    {
     "data": {
      "text/plain": [
       "['AGE',\n",
       " 'SEX',\n",
       " 'AGE*SEX',\n",
       " 'PC1',\n",
       " 'PC2',\n",
       " 'PC3',\n",
       " 'PC4',\n",
       " 'PC5',\n",
       " 'PC6',\n",
       " 'PC7',\n",
       " 'PC8',\n",
       " 'PC9',\n",
       " 'PC10']"
      ]
     },
     "execution_count": 4,
     "metadata": {},
     "output_type": "execute_result"
    }
   ],
   "source": [
    "COVAR_COLS"
   ]
  },
  {
   "cell_type": "code",
   "execution_count": 5,
   "id": "7f3150ef-5bc7-453e-bc10-cb096b7966dd",
   "metadata": {},
   "outputs": [],
   "source": [
    "def calibrate(prefix: str, trait: str):\n",
    "    \"\"\"Build calibration model\n",
    "\n",
    "    Parameters\n",
    "    ----------\n",
    "    prefix : str\n",
    "        <prefix>.train.tsv, <prefix>.test.tsv will be loaded\n",
    "    \"\"\"\n",
    "\n",
    "    train_path = prefix + \".train.tsv\"\n",
    "    test_path = prefix + \".test.tsv\"\n",
    "\n",
    "    # train model\n",
    "    for method in [\"mean\", \"mean+var\", \"mean+var+interact\"]:\n",
    "\n",
    "        if method == \"mean\":\n",
    "            mean_cols = [\"PGS\"] + COVAR_COLS\n",
    "            var_cols = []\n",
    "        elif method == \"mean+var\":\n",
    "            # remove BMI for BMI, edu for edu\n",
    "            mean_cols = [\"PGS\"] + COVAR_COLS\n",
    "            var_cols = [col for col in VAR_COLS if col != trait]\n",
    "        elif method == \"mean+var+interact\":\n",
    "            mean_cols = (\n",
    "                [\"PGS\"]\n",
    "                + COVAR_COLS\n",
    "                + [\n",
    "                    \"PGS*AGE\",\n",
    "                    \"PGS*SEX\",\n",
    "                    \"PGS*PC1\",\n",
    "                    \"PGS*PC2\",\n",
    "                ]\n",
    "            )\n",
    "            var_cols = [col for col in VAR_COLS if col != trait]\n",
    "        else:\n",
    "            raise NotImplementedError\n",
    "\n",
    "        out_prefix = prefix + \".\" + method\n",
    "        calpgs.estimate_coef(\n",
    "            df_path=train_path,\n",
    "            y_col=\"QPHENO\",\n",
    "            mean_cols=mean_cols,\n",
    "            var_cols=var_cols,\n",
    "            target_df_path=test_path,\n",
    "            out_prefix=out_prefix,\n",
    "        )\n",
    "\n",
    "        calpgs.quantify_r2(\n",
    "            df_path=out_prefix + \".pred.tsv\",\n",
    "            y_col=\"QPHENO\",\n",
    "            pred_col=\"pred_mean\",\n",
    "            predstd_col=\"pred_std\",\n",
    "            test_cols=VAR_COLS,\n",
    "            out_prefix=out_prefix,\n",
    "            n_bootstrap=10,\n",
    "        )"
   ]
  },
  {
   "cell_type": "code",
   "execution_count": 6,
   "id": "f89a8b91-1129-4b06-9762-a51df3828b89",
   "metadata": {},
   "outputs": [],
   "source": [
    "def report_quantile_1sd(q, y, qticks=np.arange(-3, 4)):\n",
    "    for qtick in qticks:\n",
    "        idx1 = np.argmin(np.abs(q - qtick + 0.5))\n",
    "        idx2 = np.argmin(np.abs(q - qtick - 0.5))\n",
    "        print(f\"{qtick}: {y[idx1]:.1f}-{y[idx2]:.1f}\")\n",
    "\n",
    "\n",
    "def report_quantile_at(center, q, y, length):\n",
    "    idx = np.argmin(np.abs(y - center))\n",
    "    ycenter = y[idx]\n",
    "    qcenter = q[idx]\n",
    "    q1, q2 = (qcenter - length / 2), (qcenter + length / 2)\n",
    "    idx1, idx2 = np.argmin(np.abs(q - q1)), np.argmin(np.abs(q - q2))\n",
    "    print(\n",
    "        f\"For phenotype at {center}, the range with {length} in normalized scale is {y[idx2] - y[idx1]:.1f}\"\n",
    "    )"
   ]
  },
  {
   "cell_type": "code",
   "execution_count": 8,
   "id": "26f5890c-4920-4ae9-92de-350f428f4b18",
   "metadata": {},
   "outputs": [
    {
     "data": {
      "image/png": "[encoded data removed]",
      "text/plain": [
       "<Figure size 600x300 with 1 Axes>"
      ]
     },
     "metadata": {
      "needs_background": "light"
     },
     "output_type": "display_data"
    },
    {
     "data": {
      "image/png": "[encoded data removed]",
      "text/plain": [
       "<Figure size 600x600 with 1 Axes>"
      ]
     },
     "metadata": {
      "needs_background": "light"
     },
     "output_type": "display_data"
    },
    {
     "name": "stdout",
     "output_type": "stream",
     "text": [
      "-3: 41.3-62.4\n",
      "-2: 62.4-87.7\n",
      "-1: 87.7-118.0\n",
      "0: 118.0-151.6\n",
      "1: 151.6-188.1\n",
      "2: 188.1-229.5\n",
      "3: 229.5-282.2\n",
      "For phenotype at 150, the range with 1.33 in normalized scale is 46.6\n",
      "For phenotype at 150, the range with 1.36 in normalized scale is 47.6\n",
      "For phenotype at 150, the range with 1.68 in normalized scale is 58.7\n",
      "For phenotype at 150, the range with 1.78 in normalized scale is 62.1\n"
     ]
    }
   ],
   "source": [
    "trait = \"LDL\"\n",
    "group = \"all\"\n",
    "\n",
    "df_trait = pd.read_csv(\n",
    "    os.path.join(f\"out/format-data/{trait}.{group}.tsv\"), index_col=0, sep=\"\\t\"\n",
    ")\n",
    "if trait == \"LDL\":\n",
    "    # mmol/L to mg/dL\n",
    "    df_trait[\"PHENO\"] *= 38.66976\n",
    "\n",
    "\n",
    "def plot_quantile(q, y, xticks=np.arange(-4, 5)):\n",
    "    fig, ax = plt.subplots(figsize=(4, 4), dpi=150)\n",
    "    ax.scatter(q, y, s=2)\n",
    "    ax.set_xlabel(\"Quantile normalized)\")\n",
    "    ax.set_ylabel(\"Raw\")\n",
    "    xlim, ylim = ax.get_xlim(), ax.get_ylim()\n",
    "    for xtick in xticks:\n",
    "        idx = np.argmin(np.abs(q - xtick))\n",
    "        ytick = y[idx]\n",
    "        ax.vlines(x=xtick, ymin=ylim[0], ymax=ytick, ls=\"--\", color=\"black\", lw=0.5)\n",
    "        ax.hlines(y=ytick, xmin=xlim[0], xmax=xtick, ls=\"--\", color=\"black\", lw=0.5)\n",
    "    ax.set_xlim(xlim)\n",
    "    ax.set_ylim(ylim)\n",
    "    ax.set_xticks(xticks)\n",
    "    return fig, ax\n",
    "\n",
    "\n",
    "fig, ax = plt.subplots(figsize=(4, 2), dpi=150)\n",
    "ax.hist(df_trait[\"PHENO\"].values, bins=30, edgecolor=\"black\")\n",
    "ax.set_xlabel(\"LDL (mg/dL)\")\n",
    "# ax.set_xticks(np.arange(0, 501, 50))\n",
    "ax.set_title(\"UK Biobank\")\n",
    "plt.show()\n",
    "\n",
    "fig, ax = plot_quantile(q=df_trait[\"QPHENO\"].values, y=df_trait[\"PHENO\"].values)\n",
    "ax.set_xlabel(\"LDL quantile normalized\")\n",
    "ax.set_ylabel(\"LDL (mg/dL)\")\n",
    "# ax.set_yticks(np.arange(0, 501, 50))\n",
    "ax.set_title(\"UK Biobank\")\n",
    "plt.show()\n",
    "\n",
    "report_quantile_1sd(q=df_trait[\"QPHENO\"].values, y=df_trait[\"PHENO\"].values)\n",
    "\n",
    "for length in [1.33, 1.36, 1.68, 1.78]:\n",
    "    report_quantile_at(\n",
    "        center=150,\n",
    "        q=df_trait[\"QPHENO\"].values,\n",
    "        y=df_trait[\"PHENO\"].values,\n",
    "        length=length,\n",
    "    )"
   ]
  },
  {
   "cell_type": "code",
   "execution_count": 9,
   "id": "b2501d21-640a-4782-a07e-b5c6682526dd",
   "metadata": {},
   "outputs": [
    {
     "data": {
      "text/plain": [
       "AGE_q  PC1_q\n",
       "0      0        1.339076\n",
       "       1        1.335386\n",
       "       2        1.335140\n",
       "       3        1.358341\n",
       "       4        1.454436\n",
       "1      0        1.419943\n",
       "       1        1.420705\n",
       "       2        1.417511\n",
       "       3        1.436047\n",
       "       4        1.536458\n",
       "2      0        1.504321\n",
       "       1        1.503315\n",
       "       2        1.502509\n",
       "       3        1.516985\n",
       "       4        1.612191\n",
       "3      0        1.591919\n",
       "       1        1.590012\n",
       "       2        1.590803\n",
       "       3        1.598526\n",
       "       4        1.696376\n",
       "4      0        1.674495\n",
       "       1        1.674333\n",
       "       2        1.670733\n",
       "       3        1.683834\n",
       "       4        1.780123\n",
       "dtype: float64"
      ]
     },
     "execution_count": 9,
     "metadata": {},
     "output_type": "execute_result"
    }
   ],
   "source": [
    "out_prefix = \"./tmp\"\n",
    "df_trait.to_csv(out_prefix + \".train.tsv\", sep=\"\\t\")\n",
    "df_trait.to_csv(out_prefix + \".test.tsv\", sep=\"\\t\")\n",
    "calibrate(prefix=out_prefix, trait=trait)\n",
    "\n",
    "df_params = pd.read_csv(f\"{out_prefix}.mean+var.params.tsv\", sep=\"\\t\", index_col=0)\n",
    "df_pred = pd.read_csv(f\"{out_prefix}.mean+var.pred.tsv\", sep=\"\\t\", index_col=0)\n",
    "\n",
    "df_pred[\"AGE_q\"] = pd.qcut(df_pred[\"AGE\"], q=5).cat.codes\n",
    "df_pred[\"PC1_q\"] = pd.qcut(df_pred[\"PC1\"], q=5).cat.codes\n",
    "df_pred.groupby([\"AGE_q\", \"PC1_q\"]).apply(lambda x: np.mean(x[\"pred_std\"] * 1.65))"
   ]
  },
  {
   "cell_type": "code",
   "execution_count": 10,
   "id": "296d8dff-efe1-457e-b4d3-bb4327c1f2df",
   "metadata": {},
   "outputs": [
    {
     "data": {
      "image/png": "[encoded data removed]",
      "text/plain": [
       "<Figure size 450x450 with 1 Axes>"
      ]
     },
     "metadata": {
      "needs_background": "light"
     },
     "output_type": "display_data"
    }
   ],
   "source": [
    "out_dir = \"out/calibrate/LDL.all\"\n",
    "\n",
    "df_plot = []\n",
    "\n",
    "for seed in range(1, 31):\n",
    "    df = pd.read_csv(f\"{out_dir}/{seed}.mean+var.pred.tsv\", sep=\"\\t\", index_col=0)\n",
    "    df[\"AGE_q\"] = pd.qcut(df[\"AGE\"], q=5).cat.codes\n",
    "    df[\"PC1_q\"] = pd.qcut(df[\"PC1\"], q=5).cat.codes\n",
    "    df_plot.append(\n",
    "        df.groupby([\"PC1_q\", \"AGE_q\"]).apply(lambda x: np.mean(x[\"pred_std\"]) * 1.65)\n",
    "    )\n",
    "df_plot = pd.concat(df_plot, axis=1)\n",
    "\n",
    "fig, ax = plt.subplots(figsize=(3, 3), dpi=150)\n",
    "ax.boxplot(df_plot.values.T)\n",
    "ax.axhline(y=0.9)\n",
    "fig.show()\n",
    "df_plot.to_csv(\"UKB_LDL_ALL.AGE_PC1.tsv\", sep=\"\\t\")"
   ]
  },
  {
   "cell_type": "code",
   "execution_count": 10,
   "id": "2f50cfe2-2103-4970-83ac-e5e68a7058ae",
   "metadata": {},
   "outputs": [],
   "source": [
    "def run(\n",
    "    trait: str,\n",
    "    group: str,\n",
    "):\n",
    "    \"\"\"\n",
    "    split training and testing data\n",
    "\n",
    "    Parameters\n",
    "    ----------\n",
    "    trait: str\n",
    "        trait name\n",
    "    indiv_group: str\n",
    "        (1) white: white British individuals\n",
    "        (2) other individuals\n",
    "    out_prefix: str\n",
    "        output prefix\n",
    "    seed: int\n",
    "        random seed\n",
    "    \"\"\"\n",
    "\n",
    "    df_trait = pd.read_csv(\n",
    "        os.path.join(f\"out/format-data/{trait}.{group}.tsv\"), index_col=0, sep=\"\\t\"\n",
    "    )\n",
    "    if trait == \"LDL\":\n",
    "        # mmol/L to mg/dL\n",
    "        df_trait[\"PHENO\"] *= 38.66976\n",
    "\n",
    "    out_dir = f\"out/calibrate/{trait}.{group}\"\n",
    "    os.makedirs(out_dir, exist_ok=True)\n",
    "\n",
    "    for seed in range(1, 31):\n",
    "        out_prefix = f\"{out_dir}/{seed}\"\n",
    "        ## split train and test\n",
    "        df_train, df_test = train_test_split(\n",
    "            df_trait, train_size=5000, test_size=5000, random_state=seed\n",
    "        )\n",
    "        out_dir = os.path.dirname(out_prefix)\n",
    "        os.makedirs(out_dir, exist_ok=True)\n",
    "        df_train.to_csv(out_prefix + \".train.tsv\", sep=\"\\t\")\n",
    "        df_test.to_csv(out_prefix + \".test.tsv\", sep=\"\\t\")\n",
    "        calibrate(prefix=out_prefix, trait=trait)"
   ]
  },
  {
   "cell_type": "code",
   "execution_count": 11,
   "id": "b99cc516-8368-4619-a741-936f250f6fac",
   "metadata": {},
   "outputs": [],
   "source": [
    "executor = submitit.SgeExecutor(folder=\"./submitit-logs\")\n",
    "\n",
    "executor.update_parameters(\n",
    "    time_min=30,\n",
    "    memory_g=12,\n",
    "    setup=[\n",
    "        \"export PATH=~/project-pasaniuc/software/miniconda3/bin:$PATH\",\n",
    "        \"export PYTHONNOUSERSITE=True\",\n",
    "        \"export R_HOME=/u/project/pasaniuc/kangchen/software/miniconda3/envs/r/lib/R\",\n",
    "    ],\n",
    ")\n",
    "df_params = pd.DataFrame(\n",
    "    [\n",
    "        params\n",
    "        for params in itertools.product([\"LDL\", \"height\", \"log_BMI\"], [\"white\", \"all\"])\n",
    "    ],\n",
    "    columns=[\"trait\", \"group\"],\n",
    ")"
   ]
  },
  {
   "cell_type": "code",
   "execution_count": 12,
   "id": "fa350cf2-b663-417b-9426-9049a5ea691a",
   "metadata": {},
   "outputs": [],
   "source": [
    "jobs = executor.map_array(\n",
    "    run,\n",
    "    df_params.trait,\n",
    "    df_params.group,\n",
    ")"
   ]
  },
  {
   "cell_type": "code",
   "execution_count": null,
   "id": "23cb9cc8-fd57-4d5f-8e05-3a6d63eb8c93",
   "metadata": {},
   "outputs": [],
   "source": []
  }
 ],
 "metadata": {
  "kernelspec": {
   "display_name": "Python 3",
   "language": "python",
   "name": "python3"
  },
  "language_info": {
   "codemirror_mode": {
    "name": "ipython",
    "version": 3
   },
   "file_extension": ".py",
   "mimetype": "text/x-python",
   "name": "python",
   "nbconvert_exporter": "python",
   "pygments_lexer": "ipython3",
   "version": "3.8.5"
  }
 },
 "nbformat": 4,
 "nbformat_minor": 5
}
