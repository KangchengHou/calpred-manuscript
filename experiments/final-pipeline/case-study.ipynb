{
 "cells": [
  {
   "cell_type": "code",
   "execution_count": 1,
   "id": "24766e77-4477-407c-91c4-8d9b9b0dc296",
   "metadata": {},
   "outputs": [],
   "source": [
    "%load_ext lab_black\n",
    "import pandas as pd\n",
    "import numpy as np\n",
    "import os\n",
    "import statsmodels.api as sm\n",
    "import subprocess\n",
    "from tqdm import tqdm\n",
    "import itertools\n",
    "import matplotlib.pyplot as plt"
   ]
  },
  {
   "cell_type": "code",
   "execution_count": 2,
   "id": "6aae764d-fc83-4939-802c-c09ebfae1997",
   "metadata": {},
   "outputs": [],
   "source": [
    "group, trait, covar = \"white\", \"log_BMI\", \"SEX\""
   ]
  },
  {
   "cell_type": "code",
   "execution_count": 3,
   "id": "205e25a2-2a08-4cab-b575-aedf7dd1b9e4",
   "metadata": {},
   "outputs": [],
   "source": [
    "df = pd.read_csv(\n",
    "    f\"out/calibrate/height.all/1.mean+var.pred.tsv\",\n",
    "    sep=\"\\t\",\n",
    "    index_col=0,\n",
    ")"
   ]
  },
  {
   "cell_type": "code",
   "execution_count": 4,
   "id": "7772bc1c-3897-4d86-8bb4-719d03cb6dfc",
   "metadata": {},
   "outputs": [
    {
     "data": {
      "text/plain": [
       "SEX\n",
       "-0.891061    161.814139\n",
       " 1.122248    174.608634\n",
       "dtype: float64"
      ]
     },
     "execution_count": 4,
     "metadata": {},
     "output_type": "execute_result"
    }
   ],
   "source": [
    "df.groupby(\"SEX\").apply(lambda x: np.mean(x[\"PHENO\"]))"
   ]
  },
  {
   "cell_type": "code",
   "execution_count": 5,
   "id": "4d34a33f-6a42-4392-984f-18df66a08de2",
   "metadata": {},
   "outputs": [],
   "source": [
    "def regression(trait, group, covar, method):\n",
    "    df_stats_list = []\n",
    "    for seed in range(1, 31):\n",
    "        df = pd.read_csv(\n",
    "            f\"out/calibrate/{trait}.{group}/{seed}.{method}.pred.tsv\",\n",
    "            sep=\"\\t\",\n",
    "            index_col=0,\n",
    "        )\n",
    "        if len(df[covar].unique()) > 5:\n",
    "            df[\"q\"] = pd.qcut(df[covar], q=5).cat.codes\n",
    "        else:\n",
    "            df[\"q\"] = df[covar].values\n",
    "\n",
    "        df_stats = {\n",
    "            \"R2\": [],\n",
    "            \"std(resid)\": [],\n",
    "            \"std(pred)\": [],\n",
    "            \"std(y)\": [],\n",
    "            \"slope\": [],\n",
    "        }\n",
    "\n",
    "        for i, (q, dfq) in enumerate(df.groupby(\"q\")):\n",
    "            x, y = dfq[\"pred_mean\"], dfq[\"QPHENO\"]\n",
    "            model = sm.OLS(endog=y, exog=sm.add_constant(x)).fit()\n",
    "            df_stats[\"R2\"].append(model.rsquared)\n",
    "            df_stats[\"std(resid)\"].append(np.std(model.resid))\n",
    "            df_stats[\"std(pred)\"].append(np.std(x))\n",
    "            df_stats[\"std(y)\"].append(np.std(y))\n",
    "\n",
    "            model = sm.WLS(\n",
    "                endog=y, exog=sm.add_constant(x), weights=(1 / dfq[\"pred_std\"]) ** 2\n",
    "            ).fit()\n",
    "            df_stats[\"slope\"].append(model.params[1])\n",
    "\n",
    "        df_stats = pd.DataFrame(df_stats)\n",
    "        df_stats_list.append(df_stats)\n",
    "\n",
    "    if covar == \"PC1\":\n",
    "        index = pd.Index([1, 2, 3, 4, 5], name=\"PC1 q\")\n",
    "    elif covar == \"SEX\":\n",
    "        index = pd.Index([\"Female\", \"Male\"], name=\"Sex\")\n",
    "    else:\n",
    "        raise NotImplementedError\n",
    "\n",
    "    df_stats = pd.DataFrame(\n",
    "        np.mean(df_stats_list, axis=0),\n",
    "        index=df_stats_list[0].index,\n",
    "        columns=df_stats_list[0].columns,\n",
    "    )\n",
    "\n",
    "    df_stats_sem = pd.DataFrame(\n",
    "        np.std(df_stats_list, axis=0) / np.sqrt(len(df_stats_list)),\n",
    "        index=df_stats_list[0].index,\n",
    "        columns=df_stats_list[0].columns,\n",
    "    )\n",
    "\n",
    "    df_stats.index = index\n",
    "    df_stats_sem.index = index\n",
    "    return df_stats, df_stats_sem"
   ]
  },
  {
   "cell_type": "code",
   "execution_count": 6,
   "id": "f779d7dd-9cff-407d-b37d-ed4eb56f9c86",
   "metadata": {},
   "outputs": [],
   "source": [
    "with pd.ExcelWriter(\"case-study.xlsx\") as writer:\n",
    "    for (group, trait, covar), method in itertools.product(\n",
    "        [(\"all\", \"LDL\", \"PC1\"), (\"white\", \"log_BMI\", \"SEX\")],\n",
    "        [\"mean+var\", \"mean+var+interact\"],\n",
    "    ):\n",
    "        df_stats, df_sem = regression(\n",
    "            trait=trait, group=group, covar=covar, method=method\n",
    "        )\n",
    "        df_tbl = df_stats.round(3).astype(str) + \"(\" + df_sem.round(3).astype(str) + \")\"\n",
    "        df_tbl.to_excel(writer, sheet_name=f\"{trait}.{method}\", index=True)"
   ]
  },
  {
   "cell_type": "code",
   "execution_count": null,
   "id": "42310f22-7287-4a96-9888-caf616b2828d",
   "metadata": {},
   "outputs": [],
   "source": []
  }
 ],
 "metadata": {
  "kernelspec": {
   "display_name": "Python 3",
   "language": "python",
   "name": "python3"
  },
  "language_info": {
   "codemirror_mode": {
    "name": "ipython",
    "version": 3
   },
   "file_extension": ".py",
   "mimetype": "text/x-python",
   "name": "python",
   "nbconvert_exporter": "python",
   "pygments_lexer": "ipython3",
   "version": "3.8.5"
  }
 },
 "nbformat": 4,
 "nbformat_minor": 5
}
