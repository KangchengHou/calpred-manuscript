{
 "cells": [
  {
   "cell_type": "code",
   "execution_count": null,
   "id": "24766e77-4477-407c-91c4-8d9b9b0dc296",
   "metadata": {},
   "outputs": [],
   "source": [
    "%load_ext lab_black\n",
    "import pandas as pd\n",
    "import numpy as np\n",
    "import os\n",
    "import statsmodels.api as sm\n",
    "import subprocess\n",
    "from tqdm import tqdm\n",
    "import itertools\n",
    "import matplotlib.pyplot as plt"
   ]
  },
  {
   "cell_type": "code",
   "execution_count": null,
   "id": "6aae764d-fc83-4939-802c-c09ebfae1997",
   "metadata": {},
   "outputs": [],
   "source": [
    "group = \"white\"\n",
    "\n",
    "trait, covar = \"log_BMI\", \"SEX\"\n",
    "# trait, covar = \"avMSE\", \"glasses\""
   ]
  },
  {
   "cell_type": "code",
   "execution_count": null,
   "id": "150eeb5a-da1a-432d-a675-82fa7f6b88cf",
   "metadata": {},
   "outputs": [],
   "source": [
    "df = pd.read_csv(\n",
    "    f\"out/estimate-quantify/{trait}.{group}.pred.tsv\",\n",
    "    sep=\"\\t\",\n",
    "    index_col=0,\n",
    ")\n",
    "if len(df[covar].unique()) > 5:\n",
    "    df[\"q\"] = pd.qcut(df[covar], q=5).cat.codes\n",
    "else:\n",
    "    df[\"q\"] = df[covar].values"
   ]
  },
  {
   "cell_type": "code",
   "execution_count": null,
   "id": "2dd915b5-5944-4d67-ab55-33f402c4f5e4",
   "metadata": {},
   "outputs": [],
   "source": [
    "df_stats = {\n",
    "    \"r2\": [],\n",
    "    \"std(resid)\": [],\n",
    "    \"std(resid)2\": [],\n",
    "    \"std(pred)\": [],\n",
    "    \"std(y)\": [],\n",
    "    \"slope\": [],\n",
    "}\n",
    "\n",
    "for i, (q, dfq) in enumerate(df.groupby(\"q\")):\n",
    "    x, y = dfq[\"pred_mean\"], dfq[\"PHENO\"]\n",
    "    model = sm.OLS(endog=y, exog=sm.add_constant(x)).fit()\n",
    "    df_stats[\"r2\"].append(model.rsquared)\n",
    "    df_stats[\"std(resid)\"].append(np.std(model.resid))\n",
    "    df_stats[\"std(resid)2\"].append(np.std(y - x))\n",
    "    df_stats[\"std(pred)\"].append(np.std(x))\n",
    "    df_stats[\"std(y)\"].append(np.std(y))\n",
    "\n",
    "    model = sm.WLS(\n",
    "        endog=y, exog=sm.add_constant(x), weights=(1 / dfq[\"pred_std\"]) ** 2\n",
    "    ).fit()\n",
    "    df_stats[\"slope\"].append(model.params[1])\n",
    "df_stats = pd.DataFrame(df_stats)"
   ]
  }
 ],
 "metadata": {
  "kernelspec": {
   "display_name": "Python 3",
   "language": "python",
   "name": "python3"
  },
  "language_info": {
   "codemirror_mode": {
    "name": "ipython",
    "version": 3
   },
   "file_extension": ".py",
   "mimetype": "text/x-python",
   "name": "python",
   "nbconvert_exporter": "python",
   "pygments_lexer": "ipython3",
   "version": "3.8.5"
  }
 },
 "nbformat": 4,
 "nbformat_minor": 5
}
