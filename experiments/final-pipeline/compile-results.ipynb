{
 "cells": [
  {
   "cell_type": "code",
   "execution_count": 1,
   "id": "2370ca74-9a31-4035-b166-3a1c796401f3",
   "metadata": {},
   "outputs": [],
   "source": [
    "%load_ext lab_black\n",
    "import pandas as pd\n",
    "import numpy as np\n",
    "import os\n",
    "import statsmodels.api as sm\n",
    "import subprocess\n",
    "from tqdm import tqdm\n",
    "import itertools\n",
    "import matplotlib.pyplot as plt\n",
    "import yaml\n",
    "from glob import glob"
   ]
  },
  {
   "cell_type": "code",
   "execution_count": 2,
   "id": "a363239b-c605-4464-9484-0a017b5285cc",
   "metadata": {
    "tags": []
   },
   "outputs": [],
   "source": [
    "with open(f\"data/meta.yaml\", \"r\") as f:\n",
    "    metadata = yaml.safe_load(f)\n",
    "\n",
    "VAR_COLS = metadata[\"VAR_COLS\"]\n",
    "\n",
    "trait_list = np.loadtxt(\"data/traits.txt\", dtype=str)"
   ]
  },
  {
   "cell_type": "code",
   "execution_count": 3,
   "id": "9f258fcb-c2ac-43dc-a046-e1fe5e5a8e5c",
   "metadata": {},
   "outputs": [],
   "source": [
    "def summarize_params():\n",
    "    def _sum(value_col):\n",
    "        df_numerics = []\n",
    "        for group in [\"white\", \"other\", \"all\"]:\n",
    "            df_params = pd.DataFrame(index=VAR_COLS, columns=trait_list)\n",
    "            df_params.index.name = \"covar\"\n",
    "            for trait in trait_list:\n",
    "\n",
    "                df = pd.read_csv(\n",
    "                    f\"out/estimate-quantify/{trait}.{group}.params.tsv\",\n",
    "                    sep=\"\\t\",\n",
    "                    index_col=0,\n",
    "                )\n",
    "                df_params[trait] = df[value_col]\n",
    "            df_tmp = pd.melt(\n",
    "                df_params.reset_index(), id_vars=[\"covar\"], value_vars=df_params.columns\n",
    "            )\n",
    "            df_tmp.insert(0, \"group\", group)\n",
    "            df_numerics.append(df_tmp)\n",
    "        df_numerics = pd.concat(df_numerics).rename(\n",
    "            columns={\"variable\": \"trait\", \"value\": value_col}\n",
    "        )\n",
    "        df_numerics = df_numerics[[\"group\", \"trait\", \"covar\", value_col]]\n",
    "        return df_numerics\n",
    "\n",
    "    df_var_coef = _sum(\"var_coef\")\n",
    "    df_var_se = _sum(\"var_se\")\n",
    "    df_var = pd.merge(df_var_coef, df_var_se, on=[\"group\", \"trait\", \"covar\"])\n",
    "    return df_var\n",
    "\n",
    "\n",
    "def summarize_r2(suffix):\n",
    "    df_r2 = []\n",
    "    for group in [\"white\", \"other\", \"all\"]:\n",
    "        for trait in trait_list:\n",
    "            prefix = f\"./out/estimate-quantify/{trait}.{group}.{suffix}\"\n",
    "            df_baseline = pd.read_csv(\n",
    "                prefix + \".baseline.tsv\", sep=\"\\t\", header=None, index_col=0\n",
    "            ).squeeze()\n",
    "\n",
    "            df_tmp = pd.read_csv(prefix + \".r2diff.tsv\", sep=\"\\t\").rename(\n",
    "                columns={\"group\": \"covar\"}\n",
    "            )\n",
    "            df_tmp.insert(0, \"group\", group)\n",
    "            df_tmp.insert(1, \"trait\", trait)\n",
    "            df_tmp[\"R2_baseline\"] = df_baseline[\"r2\"]\n",
    "            df_r2.append(df_tmp)\n",
    "\n",
    "    df_r2 = pd.concat(df_r2)\n",
    "    df_r2[\"R2_reldiff\"] = df_r2[\"r2diff\"] / df_r2[\"R2_baseline\"]\n",
    "    df_r2[\"R2_reldiff_z\"] = df_r2[\"zscore\"]\n",
    "    df_r2 = df_r2[\n",
    "        [\"group\", \"trait\", \"covar\", \"R2_reldiff\", \"R2_reldiff_z\", \"R2_baseline\"]\n",
    "    ]\n",
    "    return df_r2"
   ]
  },
  {
   "cell_type": "code",
   "execution_count": 4,
   "id": "26013cbb-edd0-443b-8ac3-b2c2c281c8a7",
   "metadata": {},
   "outputs": [],
   "source": [
    "df_params = summarize_params()\n",
    "df_total_r2 = summarize_r2(\"total\")\n",
    "df_resid_r2 = summarize_r2(\"resid\")"
   ]
  },
  {
   "cell_type": "code",
   "execution_count": 5,
   "id": "8c6c006f-06f5-47f6-9ae7-766346dbeeeb",
   "metadata": {},
   "outputs": [],
   "source": [
    "writer = pd.ExcelWriter(\"results/ukb-r2.xlsx\", engine=\"xlsxwriter\")\n",
    "df_total_r2.to_excel(writer, sheet_name=\"total-r2\", index=False)\n",
    "df_resid_r2.to_excel(writer, sheet_name=\"resid-r2\", index=False)\n",
    "df_params.to_excel(writer, sheet_name=\"params\", index=False)\n",
    "writer.save()"
   ]
  },
  {
   "cell_type": "code",
   "execution_count": 6,
   "id": "2ce29cf1-cb78-4dfa-83e1-07d4f4fb52a8",
   "metadata": {},
   "outputs": [],
   "source": [
    "def summarize_calibration(trait, group):\n",
    "    from natsort import natsorted\n",
    "\n",
    "    df_sum = []\n",
    "\n",
    "    for method in [\"mean\", \"mean+var\"]:\n",
    "        path_list = natsorted(\n",
    "            glob(f\"out/calibrate/{trait}.{group}/*.{method}.predint.tsv\")\n",
    "        )\n",
    "        print(f\"{method}: {len(path_list)}\")\n",
    "\n",
    "        for seed_i, path in enumerate(path_list):\n",
    "            df_tmp = pd.read_csv(path, sep=\"\\t\")\n",
    "            df_tmp.insert(0, \"seed\", seed_i)\n",
    "            df_tmp.insert(0, \"method\", method)\n",
    "            df_r2 = pd.read_csv(path.replace(\"predint\", \"r2\"), sep=\"\\t\")\n",
    "            df_tmp[\"r2\"] = df_r2[\"r2\"]\n",
    "            df_sum.append(df_tmp)\n",
    "    df_sum = pd.concat(df_sum, axis=0)\n",
    "    return df_sum"
   ]
  },
  {
   "cell_type": "code",
   "execution_count": 7,
   "id": "67ccd670-9173-49e7-b3c4-115603a4e7c1",
   "metadata": {},
   "outputs": [
    {
     "name": "stdout",
     "output_type": "stream",
     "text": [
      "mean: 30\n",
      "mean+var: 30\n",
      "mean: 30\n",
      "mean+var: 30\n",
      "mean: 30\n",
      "mean+var: 30\n",
      "mean: 30\n",
      "mean+var: 30\n"
     ]
    }
   ],
   "source": [
    "writer = pd.ExcelWriter(\"results/ukb-calibrate.xlsx\", engine=\"xlsxwriter\")\n",
    "\n",
    "for trait in [\"LDL\", \"height\"]:\n",
    "    for group in [\"white\", \"all\"]:\n",
    "        df_sum = summarize_calibration(trait=trait, group=group)\n",
    "        df_sum.to_excel(writer, sheet_name=f\"{trait}.{group}\", index=False)\n",
    "writer.save()"
   ]
  }
 ],
 "metadata": {
  "kernelspec": {
   "display_name": "Python 3",
   "language": "python",
   "name": "python3"
  },
  "language_info": {
   "codemirror_mode": {
    "name": "ipython",
    "version": 3
   },
   "file_extension": ".py",
   "mimetype": "text/x-python",
   "name": "python",
   "nbconvert_exporter": "python",
   "pygments_lexer": "ipython3",
   "version": "3.8.5"
  }
 },
 "nbformat": 4,
 "nbformat_minor": 5
}
