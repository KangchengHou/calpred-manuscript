{
 "cells": [
  {
   "cell_type": "code",
   "execution_count": 1,
   "id": "be362a6c-b3cf-4f43-a0dd-1168e4409ec0",
   "metadata": {},
   "outputs": [],
   "source": [
    "%load_ext lab_black\n",
    "import pandas as pd\n",
    "import numpy as np\n",
    "import os\n",
    "import statsmodels.api as sm\n",
    "from admix.data import quantile_normalize\n",
    "from tqdm import tqdm\n",
    "import itertools\n",
    "import yaml"
   ]
  },
  {
   "cell_type": "code",
   "execution_count": 2,
   "id": "506aa46d-cf5d-4de0-a67c-6d11fbf42a7a",
   "metadata": {},
   "outputs": [],
   "source": [
    "trait_list = np.loadtxt(\"data/traits.txt\", dtype=str)\n",
    "metadata = {\n",
    "    \"VAR_COLS\": [\n",
    "        \"AGE\",\n",
    "        \"SEX\",\n",
    "        \"PC1\",\n",
    "        \"PC2\",\n",
    "        \"log_BMI\",\n",
    "        \"ever_smoked\",\n",
    "        \"drink_alcohol\",\n",
    "        \"glasses\",\n",
    "        \"income\",\n",
    "        \"DEPRIVATION_INDEX\",\n",
    "        \"years_of_edu\",\n",
    "    ],\n",
    "    \"COVAR_COLS\": [\"AGE\", \"SEX\"] + [\"AGE*SEX\"] + [f\"PC{i}\" for i in range(1, 11)],\n",
    "}\n",
    "\n",
    "with open(\"data/meta.yaml\", \"w\") as f:\n",
    "    yaml.dump(metadata, f)\n",
    "\n",
    "VAR_COLS, COVAR_COLS = metadata[\"VAR_COLS\"], metadata[\"COVAR_COLS\"]"
   ]
  },
  {
   "cell_type": "code",
   "execution_count": 3,
   "id": "54d22780-f3bd-48db-b25a-16c73e6f7d8d",
   "metadata": {},
   "outputs": [],
   "source": [
    "def format_data(trait, group):\n",
    "    DATA_DIR = \"../compile-data/out/per-trait-info/\"\n",
    "    df_trait = pd.read_csv(\n",
    "        os.path.join(DATA_DIR, f\"{trait}.tsv.gz\"), index_col=0, sep=\"\\t\"\n",
    "    )\n",
    "\n",
    "    # filter individuals\n",
    "    if group == \"white\":\n",
    "        df_trait = df_trait[df_trait.group == \"United Kingdom\"]\n",
    "    elif group == \"other\":\n",
    "        df_trait = df_trait[~(df_trait.group == \"United Kingdom\")]\n",
    "    elif group == \"all\":\n",
    "        df_trait = df_trait.copy()\n",
    "    else:\n",
    "        raise NotImplementedError\n",
    "\n",
    "    df_trait = df_trait.dropna(subset=[\"PHENO\"])\n",
    "\n",
    "    df_trait[\"AGE*SEX\"] = df_trait[\"AGE\"] * df_trait[\"SEX\"]\n",
    "    df_trait[\"PGS\"] = df_trait[\"MEAN\"]\n",
    "    df_trait = df_trait.loc[\n",
    "        :, [\"PHENO\", \"PGS\"] + sorted(list(set(VAR_COLS) | set(COVAR_COLS)))\n",
    "    ]\n",
    "    # standardize covariates\n",
    "    # impute with column average and standardize covariates (so each covariate is mean 0 and SD 1)\n",
    "    for col in df_trait.columns[1:]:\n",
    "        df_trait[col] = df_trait[col].fillna(df_trait[col].median())\n",
    "        df_trait[col] = (df_trait[col] - df_trait[col].mean()) / df_trait[col].std()\n",
    "\n",
    "    # quantile normalization\n",
    "    df_trait.insert(1, \"QPHENO\", quantile_normalize(df_trait[\"PHENO\"]))\n",
    "    # residual after regressing out covar_cols\n",
    "    df_trait.insert(\n",
    "        2,\n",
    "        \"QPHENO_RESID\",\n",
    "        sm.OLS(\n",
    "            df_trait[\"QPHENO\"].values,\n",
    "            sm.add_constant(df_trait[COVAR_COLS]),\n",
    "        )\n",
    "        .fit()\n",
    "        .resid,\n",
    "    )\n",
    "    path = f\"out/format-data/{trait}.{group}.tsv\"\n",
    "    df_trait.to_csv(path, sep=\"\\t\")"
   ]
  },
  {
   "cell_type": "code",
   "execution_count": 4,
   "id": "bd2b1566-f40f-4ebf-8896-c0d6c28eabb8",
   "metadata": {},
   "outputs": [
    {
     "name": "stderr",
     "output_type": "stream",
     "text": [
      "100%|██████████| 72/72 [08:20<00:00,  6.96s/it]\n"
     ]
    }
   ],
   "source": [
    "for trait in tqdm(trait_list):\n",
    "    for group in [\"white\", \"other\", \"all\"]:\n",
    "        format_data(trait=trait, group=group)"
   ]
  }
 ],
 "metadata": {
  "kernelspec": {
   "display_name": "Python 3",
   "language": "python",
   "name": "python3"
  },
  "language_info": {
   "codemirror_mode": {
    "name": "ipython",
    "version": 3
   },
   "file_extension": ".py",
   "mimetype": "text/x-python",
   "name": "python",
   "nbconvert_exporter": "python",
   "pygments_lexer": "ipython3",
   "version": "3.8.5"
  }
 },
 "nbformat": 4,
 "nbformat_minor": 5
}
