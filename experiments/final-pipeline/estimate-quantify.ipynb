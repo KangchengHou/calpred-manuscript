{
 "cells": [
  {
   "cell_type": "code",
   "execution_count": 1,
   "id": "31f5ac52-9e52-4b09-a03a-4c1f5d84fdd2",
   "metadata": {},
   "outputs": [],
   "source": [
    "%load_ext lab_black\n",
    "import pandas as pd\n",
    "import numpy as np\n",
    "import os\n",
    "import statsmodels.api as sm\n",
    "from admix.data import quantile_normalize\n",
    "import calpgs\n",
    "import subprocess\n",
    "from tqdm import tqdm\n",
    "import submitit\n",
    "import itertools\n",
    "import yaml\n",
    "\n",
    "os.environ[\"R_HOME\"] = \"/u/project/pasaniuc/kangchen/software/miniconda3/envs/r/lib/R\""
   ]
  },
  {
   "cell_type": "code",
   "execution_count": 2,
   "id": "92ba5fe3-e941-4640-9f90-3f7f853a80d2",
   "metadata": {},
   "outputs": [],
   "source": [
    "trait_list = np.loadtxt(\"data/traits.txt\", dtype=str)\n",
    "\n",
    "with open(f\"data/meta.yaml\", \"r\") as f:\n",
    "    metadata = yaml.safe_load(f)\n",
    "\n",
    "VAR_COLS, COVAR_COLS = metadata[\"VAR_COLS\"], metadata[\"COVAR_COLS\"]"
   ]
  },
  {
   "cell_type": "code",
   "execution_count": 3,
   "id": "c4ea45f4-ec23-48bc-ad2d-734883f36ebc",
   "metadata": {},
   "outputs": [],
   "source": [
    "def estimate_quantify(trait, group, out_prefix):\n",
    "    path = f\"out/format-data/{trait}.{group}.tsv\"\n",
    "    # remove BMI for BMI, edu for edu\n",
    "    var_cols = [col for col in VAR_COLS if col != trait]\n",
    "    calpgs.estimate_coef(\n",
    "        df_path=path,\n",
    "        y_col=\"QPHENO\",\n",
    "        mean_cols=[\"PGS\"] + COVAR_COLS,\n",
    "        var_cols=var_cols,\n",
    "        out_prefix=out_prefix,\n",
    "    )\n",
    "    calpgs.quantify_r2(\n",
    "        df_path=out_prefix + \".pred.tsv\",\n",
    "        y_col=\"QPHENO_RESID\",\n",
    "        pred_col=\"PGS\",\n",
    "        test_cols=VAR_COLS,\n",
    "        out_prefix=out_prefix + \".resid\",\n",
    "    )\n",
    "    calpgs.quantify_r2(\n",
    "        df_path=out_prefix + \".pred.tsv\",\n",
    "        y_col=\"QPHENO\",\n",
    "        pred_col=\"pred_mean\",\n",
    "        test_cols=VAR_COLS,\n",
    "        out_prefix=out_prefix + \".total\",\n",
    "    )"
   ]
  },
  {
   "cell_type": "code",
   "execution_count": 4,
   "id": "724ea4a7-f341-4b58-b17b-8b195c2e4b37",
   "metadata": {},
   "outputs": [
    {
     "name": "stdout",
     "output_type": "stream",
     "text": [
      "216 jobs in total\n",
      "72 jobs remains\n"
     ]
    }
   ],
   "source": [
    "executor = submitit.SgeExecutor(folder=\"./submitit-logs\")\n",
    "\n",
    "executor.update_parameters(\n",
    "    time_min=40,\n",
    "    memory_g=12,\n",
    "    setup=[\n",
    "        \"export PATH=~/project-pasaniuc/software/miniconda3/bin:$PATH\",\n",
    "        \"export PYTHONNOUSERSITE=True\",\n",
    "        \"export R_HOME=/u/project/pasaniuc/kangchen/software/miniconda3/envs/r/lib/R\",\n",
    "    ],\n",
    ")\n",
    "df_params = pd.DataFrame(\n",
    "    [params for params in itertools.product(trait_list, [\"white\", \"other\", \"all\"])],\n",
    "    columns=[\"trait\", \"group\"],\n",
    ")\n",
    "df_params[\"out_prefix\"] = df_params.apply(\n",
    "    lambda r: f\"out/estimate-quantify/{r.trait}.{r.group}\", axis=1\n",
    ")\n",
    "print(f\"{len(df_params)} jobs in total\")\n",
    "df_todo_params = df_params[\n",
    "    ~df_params.apply(\n",
    "        lambda x: os.path.exists(x.out_prefix + \".total.r2diff.tsv\"), axis=1\n",
    "    )\n",
    "]\n",
    "print(f\"{len(df_todo_params)} jobs remains\")"
   ]
  },
  {
   "cell_type": "code",
   "execution_count": 5,
   "id": "d6a0e3e0-5b38-4b9e-a687-7647521bc2fc",
   "metadata": {},
   "outputs": [],
   "source": [
    "jobs = executor.map_array(\n",
    "    estimate_quantify,\n",
    "    df_todo_params.trait,\n",
    "    df_todo_params.group,\n",
    "    df_todo_params.out_prefix,\n",
    ")"
   ]
  }
 ],
 "metadata": {
  "kernelspec": {
   "display_name": "Python 3",
   "language": "python",
   "name": "python3"
  },
  "language_info": {
   "codemirror_mode": {
    "name": "ipython",
    "version": 3
   },
   "file_extension": ".py",
   "mimetype": "text/x-python",
   "name": "python",
   "nbconvert_exporter": "python",
   "pygments_lexer": "ipython3",
   "version": "3.8.5"
  }
 },
 "nbformat": 4,
 "nbformat_minor": 5
}
