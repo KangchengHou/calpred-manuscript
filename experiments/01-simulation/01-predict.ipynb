{
 "cells": [
  {
   "cell_type": "markdown",
   "id": "5e538d65-3f1e-4bd8-a740-d319b69b01fa",
   "metadata": {},
   "source": [
    "# Phenotype prediction for all individuals"
   ]
  },
  {
   "cell_type": "code",
   "execution_count": 41,
   "id": "e8a0071b-a395-4aad-82f3-58892e831ca6",
   "metadata": {},
   "outputs": [
    {
     "name": "stdout",
     "output_type": "stream",
     "text": [
      "The autoreload extension is already loaded. To reload it, use:\n",
      "  %reload_ext autoreload\n",
      "The lab_black extension is already loaded. To reload it, use:\n",
      "  %reload_ext lab_black\n"
     ]
    }
   ],
   "source": [
    "%load_ext autoreload\n",
    "%load_ext lab_black\n",
    "%autoreload 2\n",
    "\n",
    "import admix\n",
    "import numpy as np\n",
    "import matplotlib.pyplot as plt\n",
    "import pandas as pd\n",
    "from os.path import join\n",
    "from tqdm import tqdm\n",
    "from sklearn.model_selection import train_test_split\n",
    "from scipy.stats import pearsonr\n",
    "import seaborn as sns\n",
    "import admix_prs\n",
    "import statsmodels.api as sm\n",
    "import os"
   ]
  },
  {
   "cell_type": "code",
   "execution_count": 42,
   "id": "26442678-4785-4b56-aaf6-3e5ffdfc9df1",
   "metadata": {},
   "outputs": [],
   "source": [
    "prefix = \"hsq-0.25-pcausal-0.01-hermodel-gcta\"\n",
    "ldpred2_dir = f\"out/ldpred2/{prefix}\"\n",
    "PLINK_DIR = \"/u/project/pasaniuc/pasaniucdata/admixture/projects/admix-prs-uncertainty/data/PLINK/\""
   ]
  },
  {
   "cell_type": "code",
   "execution_count": 43,
   "id": "710ac7ab-54f5-407c-97c4-ae715fd9b328",
   "metadata": {},
   "outputs": [],
   "source": [
    "group_list = [\"eur_test\", \"admix\"]\n",
    "bfile_list = [join(PLINK_DIR, group, \"merged\") for group in group_list]"
   ]
  },
  {
   "cell_type": "code",
   "execution_count": 44,
   "id": "01bae996-752a-41d9-84d1-e37197251815",
   "metadata": {},
   "outputs": [],
   "source": [
    "def submit_predict(prefix, sim_i):\n",
    "    ldpred2_dir = f\"out/ldpred2/{prefix}\"\n",
    "    df_weights = (\n",
    "        pd.read_csv(join(ldpred2_dir, f\"sim_{sim_i}.weight.tsv.gz\"), sep=\"\\t\")\n",
    "        .rename(columns={\"CHR\": \"CHROM\", \"A1\": \"REF\", \"A2\": \"ALT\"})\n",
    "        .set_index(\"SNP\")\n",
    "    )\n",
    "    for group, bfile in zip(group_list, bfile_list):\n",
    "        df_pred = admix_prs.calc_prs(bfile, df_weights)\n",
    "        df_pred.to_csv(join(ldpred2_dir, f\"sim_{sim_i}.prs.{group}.tsv.gz\"), sep=\"\\t\")\n",
    "\n",
    "\n",
    "import submitit\n",
    "\n",
    "executor = submitit.SgeExecutor(folder=\"./submitit-logs\")\n",
    "\n",
    "executor.update_parameters(\n",
    "    time_min=70,\n",
    "    memory_g=20,\n",
    "    setup=[\n",
    "        \"export PATH=~/project-pasaniuc/software/miniconda3/bin:$PATH\",\n",
    "        \"export PYTHONNOUSERSITE=True\",\n",
    "    ],\n",
    ")\n",
    "\n",
    "jobs = executor.map_array(submit_predict, [prefix] * 10, np.arange(10))"
   ]
  },
  {
   "cell_type": "code",
   "execution_count": 4,
   "id": "af394e50-ec42-43ea-9f7b-52360377ff98",
   "metadata": {},
   "outputs": [],
   "source": [
    "def summarize(prefix, sim_i, quantiles=[0.1, 0.9], seed=1234):\n",
    "    np.random.seed(seed)\n",
    "\n",
    "    # read PRS\n",
    "    df_prs_eur_test = pd.read_csv(\n",
    "        f\"out/ldpred2/{prefix}/sim_{sim_i}.prs.eur_test.tsv.gz\", sep=\"\\t\", index_col=0\n",
    "    )\n",
    "    df_prs_admix = pd.read_csv(\n",
    "        f\"out/ldpred2/{prefix}/sim_{sim_i}.prs.admix.tsv.gz\", sep=\"\\t\", index_col=0\n",
    "    )\n",
    "    df_prs = pd.concat([df_prs_eur_test, df_prs_admix])\n",
    "\n",
    "    # read genetic value and phenotype\n",
    "    df_pheno_g = (\n",
    "        pd.read_csv(join(f\"out/pheno/{prefix}/sim.pheno_g.tsv\"), sep=\"\\t\", index_col=0)[\n",
    "            [\"GROUP\", f\"SIM_{sim_i}\"]\n",
    "        ]\n",
    "        .rename(columns={f\"SIM_{sim_i}\": \"GV\"})\n",
    "        .reindex(df_prs.index)\n",
    "    )\n",
    "    df_pheno = (\n",
    "        pd.read_csv(join(f\"out/pheno/{prefix}/sim.pheno.tsv\"), sep=\"\\t\", index_col=0)[\n",
    "            [f\"SIM_{sim_i}\"]\n",
    "        ]\n",
    "        .rename(columns={f\"SIM_{sim_i}\": \"PHENO\"})\n",
    "        .reindex(df_prs.index)\n",
    "    )\n",
    "\n",
    "    df_prs = pd.concat([df_pheno, df_pheno_g, df_prs], axis=1)\n",
    "\n",
    "    # predict in phenotype space\n",
    "    df_pred = df_prs[[f\"SAMPLE_{i}\" for i in range(1, 501)]]\n",
    "    #     df_pred += np.random.normal(scale=np.sqrt(1 - hsq), size=df_pred.shape)\n",
    "\n",
    "    pred_sd = np.std(df_pred, axis=1)\n",
    "    df_plot = pd.DataFrame(\n",
    "        {\n",
    "            \"PRS_MEAN\": df_prs[\"MEAN\"],\n",
    "            \"PRS_SD\": pred_sd,\n",
    "            \"GV\": df_prs[\"GV\"],\n",
    "            \"GROUP\": df_prs[\"GROUP\"],\n",
    "            \"PHENO\": df_prs[\"PHENO\"],\n",
    "        }\n",
    "    )\n",
    "    pred_interval = np.quantile(df_pred, q=quantiles, axis=1)\n",
    "    for q_i, q in enumerate(quantiles):\n",
    "        df_plot[f\"PRS_Q_{q}\"] = pred_interval[q_i, :]\n",
    "\n",
    "    return df_plot"
   ]
  },
  {
   "cell_type": "code",
   "execution_count": 5,
   "id": "24b38466-59ea-4a2b-b631-0e0983db21a1",
   "metadata": {},
   "outputs": [],
   "source": [
    "# read local ancestry\n",
    "df_lanc = pd.read_csv(\"out/admix_lanc.tsv\", sep=\"\\t\", index_col=0)\n",
    "df_lanc[\"lanc\"] = 1.0 - df_lanc[\"lanc\"]\n",
    "df_lanc[\"lanc_q\"] = pd.qcut(df_lanc.lanc, q=5).cat.codes + 1\n",
    "\n",
    "# read phenotype\n",
    "PHENO_DIR = \"/u/project/pasaniuc/pasaniucdata/admixture/projects/admix-prs-uncertainty/data/pheno\"\n",
    "df_covar = (\n",
    "    pd.concat(\n",
    "        [\n",
    "            pd.read_csv(join(PHENO_DIR, f\"{group}.covar\"), delim_whitespace=True)\n",
    "            for group in [\"eur_test\", \"admix\"]\n",
    "        ]\n",
    "    )\n",
    "    .reset_index(drop=True)\n",
    "    .astype({\"FID\": str, \"IID\": str})\n",
    ")\n",
    "df_covar.index = df_covar.FID + \"_\" + df_covar.IID\n",
    "df_covar = df_covar[[\"SEX\", \"AGE\"] + [f\"PC{i}\" for i in range(1, 11)]]"
   ]
  },
  {
   "cell_type": "code",
   "execution_count": 13,
   "id": "8145a3c5-2428-474d-97c2-ec6273ba48f7",
   "metadata": {},
   "outputs": [],
   "source": [
    "from scipy.stats import pearsonr"
   ]
  },
  {
   "cell_type": "code",
   "execution_count": 39,
   "id": "19355dd2-cb30-4fe1-94d5-a25ab070515a",
   "metadata": {},
   "outputs": [],
   "source": [
    "df_tmp = df_summary[df_summary.GROUP == \"eur_test\"]"
   ]
  },
  {
   "cell_type": "code",
   "execution_count": 50,
   "id": "0241b6f2-491d-4b0a-b3ad-c95342ec2277",
   "metadata": {},
   "outputs": [
    {
     "data": {
      "text/plain": [
       "<matplotlib.collections.PathCollection at 0x2b7d00be5cd0>"
      ]
     },
     "execution_count": 50,
     "metadata": {},
     "output_type": "execute_result"
    },
    {
     "data": {
      "image/png": "[encoded data removed]",
      "text/plain": [
       "<Figure size 432x288 with 1 Axes>"
      ]
     },
     "metadata": {
      "needs_background": "light"
     },
     "output_type": "display_data"
    }
   ],
   "source": [
    "plt.scatter(df_tmp.PRS_MEAN, df_tmp.GV)"
   ]
  },
  {
   "cell_type": "code",
   "execution_count": 48,
   "id": "7fca3335-8645-481f-97af-11af97997f82",
   "metadata": {},
   "outputs": [
    {
     "data": {
      "text/html": [
       "<div>\n",
       "<style scoped>\n",
       "    .dataframe tbody tr th:only-of-type {\n",
       "        vertical-align: middle;\n",
       "    }\n",
       "\n",
       "    .dataframe tbody tr th {\n",
       "        vertical-align: top;\n",
       "    }\n",
       "\n",
       "    .dataframe thead th {\n",
       "        text-align: right;\n",
       "    }\n",
       "</style>\n",
       "<table border=\"1\" class=\"dataframe\">\n",
       "  <thead>\n",
       "    <tr style=\"text-align: right;\">\n",
       "      <th></th>\n",
       "      <th>PRS_MEAN</th>\n",
       "      <th>PRS_SD</th>\n",
       "      <th>GV</th>\n",
       "      <th>GROUP</th>\n",
       "      <th>PHENO</th>\n",
       "      <th>PRS_Q_0.1</th>\n",
       "      <th>PRS_Q_0.9</th>\n",
       "    </tr>\n",
       "    <tr>\n",
       "      <th>indiv</th>\n",
       "      <th></th>\n",
       "      <th></th>\n",
       "      <th></th>\n",
       "      <th></th>\n",
       "      <th></th>\n",
       "      <th></th>\n",
       "      <th></th>\n",
       "    </tr>\n",
       "  </thead>\n",
       "  <tbody>\n",
       "    <tr>\n",
       "      <th>1000102_1000102</th>\n",
       "      <td>0.424966</td>\n",
       "      <td>0.397050</td>\n",
       "      <td>1.235614</td>\n",
       "      <td>eur_test</td>\n",
       "      <td>0.609090</td>\n",
       "      <td>-0.065730</td>\n",
       "      <td>0.955979</td>\n",
       "    </tr>\n",
       "    <tr>\n",
       "      <th>1000774_1000774</th>\n",
       "      <td>0.338558</td>\n",
       "      <td>0.369597</td>\n",
       "      <td>0.352794</td>\n",
       "      <td>eur_test</td>\n",
       "      <td>-0.570164</td>\n",
       "      <td>-0.133382</td>\n",
       "      <td>0.812199</td>\n",
       "    </tr>\n",
       "    <tr>\n",
       "      <th>1000807_1000807</th>\n",
       "      <td>0.739521</td>\n",
       "      <td>0.403665</td>\n",
       "      <td>1.157441</td>\n",
       "      <td>eur_test</td>\n",
       "      <td>1.017841</td>\n",
       "      <td>0.252306</td>\n",
       "      <td>1.230806</td>\n",
       "    </tr>\n",
       "    <tr>\n",
       "      <th>1001523_1001523</th>\n",
       "      <td>0.989213</td>\n",
       "      <td>0.399081</td>\n",
       "      <td>1.343490</td>\n",
       "      <td>eur_test</td>\n",
       "      <td>1.366013</td>\n",
       "      <td>0.451934</td>\n",
       "      <td>1.505497</td>\n",
       "    </tr>\n",
       "    <tr>\n",
       "      <th>1001531_1001531</th>\n",
       "      <td>0.547188</td>\n",
       "      <td>0.376795</td>\n",
       "      <td>0.977061</td>\n",
       "      <td>eur_test</td>\n",
       "      <td>1.198312</td>\n",
       "      <td>0.049711</td>\n",
       "      <td>1.028231</td>\n",
       "    </tr>\n",
       "    <tr>\n",
       "      <th>...</th>\n",
       "      <td>...</td>\n",
       "      <td>...</td>\n",
       "      <td>...</td>\n",
       "      <td>...</td>\n",
       "      <td>...</td>\n",
       "      <td>...</td>\n",
       "      <td>...</td>\n",
       "    </tr>\n",
       "    <tr>\n",
       "      <th>6024190_6024190</th>\n",
       "      <td>0.881526</td>\n",
       "      <td>0.388144</td>\n",
       "      <td>1.508445</td>\n",
       "      <td>eur_test</td>\n",
       "      <td>0.981166</td>\n",
       "      <td>0.396357</td>\n",
       "      <td>1.419201</td>\n",
       "    </tr>\n",
       "    <tr>\n",
       "      <th>6024532_6024532</th>\n",
       "      <td>0.726487</td>\n",
       "      <td>0.381413</td>\n",
       "      <td>1.343304</td>\n",
       "      <td>eur_test</td>\n",
       "      <td>1.424069</td>\n",
       "      <td>0.229938</td>\n",
       "      <td>1.229401</td>\n",
       "    </tr>\n",
       "    <tr>\n",
       "      <th>6025446_6025446</th>\n",
       "      <td>0.768674</td>\n",
       "      <td>0.385219</td>\n",
       "      <td>0.964269</td>\n",
       "      <td>eur_test</td>\n",
       "      <td>0.953745</td>\n",
       "      <td>0.262479</td>\n",
       "      <td>1.251622</td>\n",
       "    </tr>\n",
       "    <tr>\n",
       "      <th>6025686_6025686</th>\n",
       "      <td>1.445636</td>\n",
       "      <td>0.400529</td>\n",
       "      <td>1.856699</td>\n",
       "      <td>eur_test</td>\n",
       "      <td>3.119911</td>\n",
       "      <td>0.952203</td>\n",
       "      <td>1.966021</td>\n",
       "    </tr>\n",
       "    <tr>\n",
       "      <th>6025972_6025972</th>\n",
       "      <td>-0.010641</td>\n",
       "      <td>0.389994</td>\n",
       "      <td>0.593556</td>\n",
       "      <td>eur_test</td>\n",
       "      <td>0.048117</td>\n",
       "      <td>-0.494835</td>\n",
       "      <td>0.487609</td>\n",
       "    </tr>\n",
       "  </tbody>\n",
       "</table>\n",
       "<p>21256 rows × 7 columns</p>\n",
       "</div>"
      ],
      "text/plain": [
       "                 PRS_MEAN    PRS_SD        GV     GROUP     PHENO  PRS_Q_0.1  \\\n",
       "indiv                                                                          \n",
       "1000102_1000102  0.424966  0.397050  1.235614  eur_test  0.609090  -0.065730   \n",
       "1000774_1000774  0.338558  0.369597  0.352794  eur_test -0.570164  -0.133382   \n",
       "1000807_1000807  0.739521  0.403665  1.157441  eur_test  1.017841   0.252306   \n",
       "1001523_1001523  0.989213  0.399081  1.343490  eur_test  1.366013   0.451934   \n",
       "1001531_1001531  0.547188  0.376795  0.977061  eur_test  1.198312   0.049711   \n",
       "...                   ...       ...       ...       ...       ...        ...   \n",
       "6024190_6024190  0.881526  0.388144  1.508445  eur_test  0.981166   0.396357   \n",
       "6024532_6024532  0.726487  0.381413  1.343304  eur_test  1.424069   0.229938   \n",
       "6025446_6025446  0.768674  0.385219  0.964269  eur_test  0.953745   0.262479   \n",
       "6025686_6025686  1.445636  0.400529  1.856699  eur_test  3.119911   0.952203   \n",
       "6025972_6025972 -0.010641  0.389994  0.593556  eur_test  0.048117  -0.494835   \n",
       "\n",
       "                 PRS_Q_0.9  \n",
       "indiv                       \n",
       "1000102_1000102   0.955979  \n",
       "1000774_1000774   0.812199  \n",
       "1000807_1000807   1.230806  \n",
       "1001523_1001523   1.505497  \n",
       "1001531_1001531   1.028231  \n",
       "...                    ...  \n",
       "6024190_6024190   1.419201  \n",
       "6024532_6024532   1.229401  \n",
       "6025446_6025446   1.251622  \n",
       "6025686_6025686   1.966021  \n",
       "6025972_6025972   0.487609  \n",
       "\n",
       "[21256 rows x 7 columns]"
      ]
     },
     "execution_count": 48,
     "metadata": {},
     "output_type": "execute_result"
    }
   ],
   "source": [
    "df_tmp"
   ]
  },
  {
   "cell_type": "code",
   "execution_count": 40,
   "id": "bcbc9b6e-587d-47c6-943e-4c552d5b7a43",
   "metadata": {},
   "outputs": [
    {
     "data": {
      "text/plain": [
       "0.6443133957287928"
      ]
     },
     "execution_count": 40,
     "metadata": {},
     "output_type": "execute_result"
    }
   ],
   "source": [
    "pearsonr(df_tmp.PRS_MEAN, df_tmp.GV)[0] ** 2"
   ]
  },
  {
   "cell_type": "code",
   "execution_count": 45,
   "id": "bd2bdd82-b738-4f6b-8fab-350601f037b5",
   "metadata": {},
   "outputs": [
    {
     "data": {
      "text/plain": [
       "0.1606290762293977"
      ]
     },
     "execution_count": 45,
     "metadata": {},
     "output_type": "execute_result"
    }
   ],
   "source": [
    "df_tmp.PRS_MEAN.var()"
   ]
  },
  {
   "cell_type": "code",
   "execution_count": 47,
   "id": "0389c558-028f-450f-af6a-604a82252d04",
   "metadata": {},
   "outputs": [
    {
     "data": {
      "text/plain": [
       "0.24667967475005917"
      ]
     },
     "execution_count": 47,
     "metadata": {},
     "output_type": "execute_result"
    }
   ],
   "source": [
    "var_g"
   ]
  },
  {
   "cell_type": "code",
   "execution_count": 46,
   "id": "5e49f796-9940-45ef-85c3-413ad890a912",
   "metadata": {},
   "outputs": [
    {
     "data": {
      "text/plain": [
       "0.154057833005201"
      ]
     },
     "execution_count": 46,
     "metadata": {},
     "output_type": "execute_result"
    }
   ],
   "source": [
    "var_u"
   ]
  },
  {
   "cell_type": "code",
   "execution_count": 33,
   "id": "cbfd5680-d0bf-409d-9799-0452342d5e5b",
   "metadata": {},
   "outputs": [],
   "source": [
    "var_g = df_tmp.GV.var()\n",
    "var_u = np.square(df_tmp.PRS_SD).mean()"
   ]
  },
  {
   "cell_type": "code",
   "execution_count": 34,
   "id": "a9ea46f6-7f59-412c-b117-eedb6e337102",
   "metadata": {},
   "outputs": [],
   "source": [
    "r2 = (var_g - var_u) / var_g"
   ]
  },
  {
   "cell_type": "code",
   "execution_count": 37,
   "id": "a8a8432d-af54-4c44-b2e9-9101d97705b1",
   "metadata": {},
   "outputs": [
    {
     "data": {
      "text/plain": [
       "0.3754741522125991"
      ]
     },
     "execution_count": 37,
     "metadata": {},
     "output_type": "execute_result"
    }
   ],
   "source": [
    "r2"
   ]
  },
  {
   "cell_type": "code",
   "execution_count": 36,
   "id": "22d6afa2-97a2-4093-9245-813c7b89c459",
   "metadata": {},
   "outputs": [
    {
     "data": {
      "text/plain": [
       "0.624525847787401"
      ]
     },
     "execution_count": 36,
     "metadata": {},
     "output_type": "execute_result"
    }
   ],
   "source": [
    "1 - r2"
   ]
  },
  {
   "cell_type": "code",
   "execution_count": 21,
   "id": "9d6b74ee-3f7e-4748-bc9e-89f33c542956",
   "metadata": {},
   "outputs": [
    {
     "data": {
      "text/html": [
       "<div>\n",
       "<style scoped>\n",
       "    .dataframe tbody tr th:only-of-type {\n",
       "        vertical-align: middle;\n",
       "    }\n",
       "\n",
       "    .dataframe tbody tr th {\n",
       "        vertical-align: top;\n",
       "    }\n",
       "\n",
       "    .dataframe thead th {\n",
       "        text-align: right;\n",
       "    }\n",
       "</style>\n",
       "<table border=\"1\" class=\"dataframe\">\n",
       "  <thead>\n",
       "    <tr style=\"text-align: right;\">\n",
       "      <th></th>\n",
       "      <th>PRS_MEAN</th>\n",
       "      <th>PRS_SD</th>\n",
       "      <th>GV</th>\n",
       "      <th>GROUP</th>\n",
       "      <th>PHENO</th>\n",
       "      <th>PRS_Q_0.1</th>\n",
       "      <th>PRS_Q_0.9</th>\n",
       "    </tr>\n",
       "    <tr>\n",
       "      <th>indiv</th>\n",
       "      <th></th>\n",
       "      <th></th>\n",
       "      <th></th>\n",
       "      <th></th>\n",
       "      <th></th>\n",
       "      <th></th>\n",
       "      <th></th>\n",
       "    </tr>\n",
       "  </thead>\n",
       "  <tbody>\n",
       "    <tr>\n",
       "      <th>1000102_1000102</th>\n",
       "      <td>0.424966</td>\n",
       "      <td>0.397050</td>\n",
       "      <td>1.235614</td>\n",
       "      <td>eur_test</td>\n",
       "      <td>0.609090</td>\n",
       "      <td>-0.065730</td>\n",
       "      <td>0.955979</td>\n",
       "    </tr>\n",
       "    <tr>\n",
       "      <th>1000774_1000774</th>\n",
       "      <td>0.338558</td>\n",
       "      <td>0.369597</td>\n",
       "      <td>0.352794</td>\n",
       "      <td>eur_test</td>\n",
       "      <td>-0.570164</td>\n",
       "      <td>-0.133382</td>\n",
       "      <td>0.812199</td>\n",
       "    </tr>\n",
       "    <tr>\n",
       "      <th>1000807_1000807</th>\n",
       "      <td>0.739521</td>\n",
       "      <td>0.403665</td>\n",
       "      <td>1.157441</td>\n",
       "      <td>eur_test</td>\n",
       "      <td>1.017841</td>\n",
       "      <td>0.252306</td>\n",
       "      <td>1.230806</td>\n",
       "    </tr>\n",
       "    <tr>\n",
       "      <th>1001523_1001523</th>\n",
       "      <td>0.989213</td>\n",
       "      <td>0.399081</td>\n",
       "      <td>1.343490</td>\n",
       "      <td>eur_test</td>\n",
       "      <td>1.366013</td>\n",
       "      <td>0.451934</td>\n",
       "      <td>1.505497</td>\n",
       "    </tr>\n",
       "    <tr>\n",
       "      <th>1001531_1001531</th>\n",
       "      <td>0.547188</td>\n",
       "      <td>0.376795</td>\n",
       "      <td>0.977061</td>\n",
       "      <td>eur_test</td>\n",
       "      <td>1.198312</td>\n",
       "      <td>0.049711</td>\n",
       "      <td>1.028231</td>\n",
       "    </tr>\n",
       "    <tr>\n",
       "      <th>...</th>\n",
       "      <td>...</td>\n",
       "      <td>...</td>\n",
       "      <td>...</td>\n",
       "      <td>...</td>\n",
       "      <td>...</td>\n",
       "      <td>...</td>\n",
       "      <td>...</td>\n",
       "    </tr>\n",
       "    <tr>\n",
       "      <th>6024190_6024190</th>\n",
       "      <td>0.881526</td>\n",
       "      <td>0.388144</td>\n",
       "      <td>1.508445</td>\n",
       "      <td>eur_test</td>\n",
       "      <td>0.981166</td>\n",
       "      <td>0.396357</td>\n",
       "      <td>1.419201</td>\n",
       "    </tr>\n",
       "    <tr>\n",
       "      <th>6024532_6024532</th>\n",
       "      <td>0.726487</td>\n",
       "      <td>0.381413</td>\n",
       "      <td>1.343304</td>\n",
       "      <td>eur_test</td>\n",
       "      <td>1.424069</td>\n",
       "      <td>0.229938</td>\n",
       "      <td>1.229401</td>\n",
       "    </tr>\n",
       "    <tr>\n",
       "      <th>6025446_6025446</th>\n",
       "      <td>0.768674</td>\n",
       "      <td>0.385219</td>\n",
       "      <td>0.964269</td>\n",
       "      <td>eur_test</td>\n",
       "      <td>0.953745</td>\n",
       "      <td>0.262479</td>\n",
       "      <td>1.251622</td>\n",
       "    </tr>\n",
       "    <tr>\n",
       "      <th>6025686_6025686</th>\n",
       "      <td>1.445636</td>\n",
       "      <td>0.400529</td>\n",
       "      <td>1.856699</td>\n",
       "      <td>eur_test</td>\n",
       "      <td>3.119911</td>\n",
       "      <td>0.952203</td>\n",
       "      <td>1.966021</td>\n",
       "    </tr>\n",
       "    <tr>\n",
       "      <th>6025972_6025972</th>\n",
       "      <td>-0.010641</td>\n",
       "      <td>0.389994</td>\n",
       "      <td>0.593556</td>\n",
       "      <td>eur_test</td>\n",
       "      <td>0.048117</td>\n",
       "      <td>-0.494835</td>\n",
       "      <td>0.487609</td>\n",
       "    </tr>\n",
       "  </tbody>\n",
       "</table>\n",
       "<p>21256 rows × 7 columns</p>\n",
       "</div>"
      ],
      "text/plain": [
       "                 PRS_MEAN    PRS_SD        GV     GROUP     PHENO  PRS_Q_0.1  \\\n",
       "indiv                                                                          \n",
       "1000102_1000102  0.424966  0.397050  1.235614  eur_test  0.609090  -0.065730   \n",
       "1000774_1000774  0.338558  0.369597  0.352794  eur_test -0.570164  -0.133382   \n",
       "1000807_1000807  0.739521  0.403665  1.157441  eur_test  1.017841   0.252306   \n",
       "1001523_1001523  0.989213  0.399081  1.343490  eur_test  1.366013   0.451934   \n",
       "1001531_1001531  0.547188  0.376795  0.977061  eur_test  1.198312   0.049711   \n",
       "...                   ...       ...       ...       ...       ...        ...   \n",
       "6024190_6024190  0.881526  0.388144  1.508445  eur_test  0.981166   0.396357   \n",
       "6024532_6024532  0.726487  0.381413  1.343304  eur_test  1.424069   0.229938   \n",
       "6025446_6025446  0.768674  0.385219  0.964269  eur_test  0.953745   0.262479   \n",
       "6025686_6025686  1.445636  0.400529  1.856699  eur_test  3.119911   0.952203   \n",
       "6025972_6025972 -0.010641  0.389994  0.593556  eur_test  0.048117  -0.494835   \n",
       "\n",
       "                 PRS_Q_0.9  \n",
       "indiv                       \n",
       "1000102_1000102   0.955979  \n",
       "1000774_1000774   0.812199  \n",
       "1000807_1000807   1.230806  \n",
       "1001523_1001523   1.505497  \n",
       "1001531_1001531   1.028231  \n",
       "...                    ...  \n",
       "6024190_6024190   1.419201  \n",
       "6024532_6024532   1.229401  \n",
       "6025446_6025446   1.251622  \n",
       "6025686_6025686   1.966021  \n",
       "6025972_6025972   0.487609  \n",
       "\n",
       "[21256 rows x 7 columns]"
      ]
     },
     "execution_count": 21,
     "metadata": {},
     "output_type": "execute_result"
    }
   ],
   "source": [
    "df_tmp[\"P\"]"
   ]
  },
  {
   "cell_type": "code",
   "execution_count": 12,
   "id": "2f3ca60a-95d9-4bcd-9f3b-1f7dd874d054",
   "metadata": {},
   "outputs": [
    {
     "data": {
      "text/html": [
       "<div>\n",
       "<style scoped>\n",
       "    .dataframe tbody tr th:only-of-type {\n",
       "        vertical-align: middle;\n",
       "    }\n",
       "\n",
       "    .dataframe tbody tr th {\n",
       "        vertical-align: top;\n",
       "    }\n",
       "\n",
       "    .dataframe thead th {\n",
       "        text-align: right;\n",
       "    }\n",
       "</style>\n",
       "<table border=\"1\" class=\"dataframe\">\n",
       "  <thead>\n",
       "    <tr style=\"text-align: right;\">\n",
       "      <th></th>\n",
       "      <th>PRS_MEAN</th>\n",
       "      <th>PRS_SD</th>\n",
       "      <th>GV</th>\n",
       "      <th>GROUP</th>\n",
       "      <th>PHENO</th>\n",
       "      <th>PRS_Q_0.1</th>\n",
       "      <th>PRS_Q_0.9</th>\n",
       "    </tr>\n",
       "    <tr>\n",
       "      <th>indiv</th>\n",
       "      <th></th>\n",
       "      <th></th>\n",
       "      <th></th>\n",
       "      <th></th>\n",
       "      <th></th>\n",
       "      <th></th>\n",
       "      <th></th>\n",
       "    </tr>\n",
       "  </thead>\n",
       "  <tbody>\n",
       "    <tr>\n",
       "      <th>1000102_1000102</th>\n",
       "      <td>0.424966</td>\n",
       "      <td>0.397050</td>\n",
       "      <td>1.235614</td>\n",
       "      <td>eur_test</td>\n",
       "      <td>0.609090</td>\n",
       "      <td>-0.065730</td>\n",
       "      <td>0.955979</td>\n",
       "    </tr>\n",
       "    <tr>\n",
       "      <th>1000774_1000774</th>\n",
       "      <td>0.338558</td>\n",
       "      <td>0.369597</td>\n",
       "      <td>0.352794</td>\n",
       "      <td>eur_test</td>\n",
       "      <td>-0.570164</td>\n",
       "      <td>-0.133382</td>\n",
       "      <td>0.812199</td>\n",
       "    </tr>\n",
       "    <tr>\n",
       "      <th>1000807_1000807</th>\n",
       "      <td>0.739521</td>\n",
       "      <td>0.403665</td>\n",
       "      <td>1.157441</td>\n",
       "      <td>eur_test</td>\n",
       "      <td>1.017841</td>\n",
       "      <td>0.252306</td>\n",
       "      <td>1.230806</td>\n",
       "    </tr>\n",
       "    <tr>\n",
       "      <th>1001523_1001523</th>\n",
       "      <td>0.989213</td>\n",
       "      <td>0.399081</td>\n",
       "      <td>1.343490</td>\n",
       "      <td>eur_test</td>\n",
       "      <td>1.366013</td>\n",
       "      <td>0.451934</td>\n",
       "      <td>1.505497</td>\n",
       "    </tr>\n",
       "    <tr>\n",
       "      <th>1001531_1001531</th>\n",
       "      <td>0.547188</td>\n",
       "      <td>0.376795</td>\n",
       "      <td>0.977061</td>\n",
       "      <td>eur_test</td>\n",
       "      <td>1.198312</td>\n",
       "      <td>0.049711</td>\n",
       "      <td>1.028231</td>\n",
       "    </tr>\n",
       "    <tr>\n",
       "      <th>...</th>\n",
       "      <td>...</td>\n",
       "      <td>...</td>\n",
       "      <td>...</td>\n",
       "      <td>...</td>\n",
       "      <td>...</td>\n",
       "      <td>...</td>\n",
       "      <td>...</td>\n",
       "    </tr>\n",
       "    <tr>\n",
       "      <th>6022871_6022871</th>\n",
       "      <td>0.354871</td>\n",
       "      <td>0.486432</td>\n",
       "      <td>0.255388</td>\n",
       "      <td>admix_5</td>\n",
       "      <td>0.269944</td>\n",
       "      <td>-0.278249</td>\n",
       "      <td>0.950168</td>\n",
       "    </tr>\n",
       "    <tr>\n",
       "      <th>6023479_6023479</th>\n",
       "      <td>0.917496</td>\n",
       "      <td>0.470832</td>\n",
       "      <td>0.874967</td>\n",
       "      <td>admix_3</td>\n",
       "      <td>1.561598</td>\n",
       "      <td>0.301201</td>\n",
       "      <td>1.539313</td>\n",
       "    </tr>\n",
       "    <tr>\n",
       "      <th>6024954_6024954</th>\n",
       "      <td>0.723621</td>\n",
       "      <td>0.434092</td>\n",
       "      <td>1.106470</td>\n",
       "      <td>admix_3</td>\n",
       "      <td>2.039807</td>\n",
       "      <td>0.179635</td>\n",
       "      <td>1.275775</td>\n",
       "    </tr>\n",
       "    <tr>\n",
       "      <th>6025478_6025478</th>\n",
       "      <td>0.576206</td>\n",
       "      <td>0.420851</td>\n",
       "      <td>1.019795</td>\n",
       "      <td>admix_2</td>\n",
       "      <td>0.740026</td>\n",
       "      <td>0.018588</td>\n",
       "      <td>1.104666</td>\n",
       "    </tr>\n",
       "    <tr>\n",
       "      <th>6026002_6026002</th>\n",
       "      <td>0.190081</td>\n",
       "      <td>0.494213</td>\n",
       "      <td>0.586259</td>\n",
       "      <td>admix_5</td>\n",
       "      <td>1.350658</td>\n",
       "      <td>-0.445165</td>\n",
       "      <td>0.819228</td>\n",
       "    </tr>\n",
       "  </tbody>\n",
       "</table>\n",
       "<p>25579 rows × 7 columns</p>\n",
       "</div>"
      ],
      "text/plain": [
       "                 PRS_MEAN    PRS_SD        GV     GROUP     PHENO  PRS_Q_0.1  \\\n",
       "indiv                                                                          \n",
       "1000102_1000102  0.424966  0.397050  1.235614  eur_test  0.609090  -0.065730   \n",
       "1000774_1000774  0.338558  0.369597  0.352794  eur_test -0.570164  -0.133382   \n",
       "1000807_1000807  0.739521  0.403665  1.157441  eur_test  1.017841   0.252306   \n",
       "1001523_1001523  0.989213  0.399081  1.343490  eur_test  1.366013   0.451934   \n",
       "1001531_1001531  0.547188  0.376795  0.977061  eur_test  1.198312   0.049711   \n",
       "...                   ...       ...       ...       ...       ...        ...   \n",
       "6022871_6022871  0.354871  0.486432  0.255388   admix_5  0.269944  -0.278249   \n",
       "6023479_6023479  0.917496  0.470832  0.874967   admix_3  1.561598   0.301201   \n",
       "6024954_6024954  0.723621  0.434092  1.106470   admix_3  2.039807   0.179635   \n",
       "6025478_6025478  0.576206  0.420851  1.019795   admix_2  0.740026   0.018588   \n",
       "6026002_6026002  0.190081  0.494213  0.586259   admix_5  1.350658  -0.445165   \n",
       "\n",
       "                 PRS_Q_0.9  \n",
       "indiv                       \n",
       "1000102_1000102   0.955979  \n",
       "1000774_1000774   0.812199  \n",
       "1000807_1000807   1.230806  \n",
       "1001523_1001523   1.505497  \n",
       "1001531_1001531   1.028231  \n",
       "...                    ...  \n",
       "6022871_6022871   0.950168  \n",
       "6023479_6023479   1.539313  \n",
       "6024954_6024954   1.275775  \n",
       "6025478_6025478   1.104666  \n",
       "6026002_6026002   0.819228  \n",
       "\n",
       "[25579 rows x 7 columns]"
      ]
     },
     "execution_count": 12,
     "metadata": {},
     "output_type": "execute_result"
    }
   ],
   "source": [
    "df_summary"
   ]
  },
  {
   "cell_type": "code",
   "execution_count": 11,
   "id": "0a62648c-da71-4467-ba1e-61048c48d705",
   "metadata": {},
   "outputs": [],
   "source": [
    "prefix = \"hsq-0.25-pcausal-0.01-hermodel-uniform\"\n",
    "for sim_i in range(10):\n",
    "    df_summary = summarize(prefix, sim_i)\n",
    "    df_summary.loc[df_lanc.index, \"GROUP\"] = \"admix_\" + df_lanc[\"lanc_q\"].astype(str)\n",
    "    df_summary.to_csv(f\"./tmp/sim_{sim_i}.tsv\", sep=\"\\t\", index=False)"
   ]
  },
  {
   "cell_type": "code",
   "execution_count": 35,
   "id": "8732a627-ccc2-41ff-9780-5ab885ce5e70",
   "metadata": {},
   "outputs": [
    {
     "name": "stdout",
     "output_type": "stream",
     "text": [
      "Using hsq=0.25 to generate posterior predictive samples for phenotypes\n"
     ]
    },
    {
     "ename": "FileNotFoundError",
     "evalue": "[Errno 2] No such file or directory: 'out/ldpred2/hsq-0.25-pcausal-0.01-hermodel-gcta/sim_1.prs.eur_test.tsv.gz'",
     "output_type": "error",
     "traceback": [
      "\u001b[0;31m---------------------------------------------------------------------------\u001b[0m",
      "\u001b[0;31mFileNotFoundError\u001b[0m                         Traceback (most recent call last)",
      "\u001b[0;32m<ipython-input-35-f73593cc5a05>\u001b[0m in \u001b[0;36m<module>\u001b[0;34m\u001b[0m\n\u001b[0;32m----> 1\u001b[0;31m \u001b[0mdf_summary\u001b[0m \u001b[0;34m=\u001b[0m \u001b[0msummarize\u001b[0m\u001b[0;34m(\u001b[0m\u001b[0mprefix\u001b[0m\u001b[0;34m,\u001b[0m \u001b[0msim_i\u001b[0m\u001b[0;34m)\u001b[0m\u001b[0;34m\u001b[0m\u001b[0;34m\u001b[0m\u001b[0m\n\u001b[0m\u001b[1;32m      2\u001b[0m \u001b[0mdf_tmp\u001b[0m \u001b[0;34m=\u001b[0m \u001b[0mdf_summary\u001b[0m\u001b[0;34m[\u001b[0m\u001b[0mdf_summary\u001b[0m\u001b[0;34m.\u001b[0m\u001b[0mGROUP\u001b[0m \u001b[0;34m==\u001b[0m \u001b[0;34m\"eur_test\"\u001b[0m\u001b[0;34m]\u001b[0m\u001b[0;34m\u001b[0m\u001b[0;34m\u001b[0m\u001b[0m\n\u001b[1;32m      3\u001b[0m \u001b[0msm\u001b[0m\u001b[0;34m.\u001b[0m\u001b[0mOLS\u001b[0m\u001b[0;34m(\u001b[0m\u001b[0mdf_tmp\u001b[0m\u001b[0;34m.\u001b[0m\u001b[0mGV\u001b[0m\u001b[0;34m,\u001b[0m \u001b[0msm\u001b[0m\u001b[0;34m.\u001b[0m\u001b[0madd_constant\u001b[0m\u001b[0;34m(\u001b[0m\u001b[0mdf_tmp\u001b[0m\u001b[0;34m.\u001b[0m\u001b[0mPRS_MEAN\u001b[0m\u001b[0;34m)\u001b[0m\u001b[0;34m)\u001b[0m\u001b[0;34m.\u001b[0m\u001b[0mfit\u001b[0m\u001b[0;34m(\u001b[0m\u001b[0;34m)\u001b[0m\u001b[0;34m.\u001b[0m\u001b[0msummary\u001b[0m\u001b[0;34m(\u001b[0m\u001b[0;34m)\u001b[0m\u001b[0;34m\u001b[0m\u001b[0;34m\u001b[0m\u001b[0m\n",
      "\u001b[0;32m<ipython-input-5-d613b3f0ed75>\u001b[0m in \u001b[0;36msummarize\u001b[0;34m(prefix, sim_i, quantiles, seed)\u001b[0m\n\u001b[1;32m      5\u001b[0m \u001b[0;34m\u001b[0m\u001b[0m\n\u001b[1;32m      6\u001b[0m     \u001b[0;31m# read PRS\u001b[0m\u001b[0;34m\u001b[0m\u001b[0;34m\u001b[0m\u001b[0;34m\u001b[0m\u001b[0m\n\u001b[0;32m----> 7\u001b[0;31m     df_prs_eur_test = pd.read_csv(\n\u001b[0m\u001b[1;32m      8\u001b[0m         \u001b[0;34mf\"out/ldpred2/{prefix}/sim_{sim_i}.prs.eur_test.tsv.gz\"\u001b[0m\u001b[0;34m,\u001b[0m \u001b[0msep\u001b[0m\u001b[0;34m=\u001b[0m\u001b[0;34m\"\\t\"\u001b[0m\u001b[0;34m,\u001b[0m \u001b[0mindex_col\u001b[0m\u001b[0;34m=\u001b[0m\u001b[0;36m0\u001b[0m\u001b[0;34m\u001b[0m\u001b[0;34m\u001b[0m\u001b[0m\n\u001b[1;32m      9\u001b[0m     )\n",
      "\u001b[0;32m/u/project/pasaniuc/kangchen/software/miniconda3/lib/python3.8/site-packages/pandas/util/_decorators.py\u001b[0m in \u001b[0;36mwrapper\u001b[0;34m(*args, **kwargs)\u001b[0m\n\u001b[1;32m    309\u001b[0m                     \u001b[0mstacklevel\u001b[0m\u001b[0;34m=\u001b[0m\u001b[0mstacklevel\u001b[0m\u001b[0;34m,\u001b[0m\u001b[0;34m\u001b[0m\u001b[0;34m\u001b[0m\u001b[0m\n\u001b[1;32m    310\u001b[0m                 )\n\u001b[0;32m--> 311\u001b[0;31m             \u001b[0;32mreturn\u001b[0m \u001b[0mfunc\u001b[0m\u001b[0;34m(\u001b[0m\u001b[0;34m*\u001b[0m\u001b[0margs\u001b[0m\u001b[0;34m,\u001b[0m \u001b[0;34m**\u001b[0m\u001b[0mkwargs\u001b[0m\u001b[0;34m)\u001b[0m\u001b[0;34m\u001b[0m\u001b[0;34m\u001b[0m\u001b[0m\n\u001b[0m\u001b[1;32m    312\u001b[0m \u001b[0;34m\u001b[0m\u001b[0m\n\u001b[1;32m    313\u001b[0m         \u001b[0;32mreturn\u001b[0m \u001b[0mwrapper\u001b[0m\u001b[0;34m\u001b[0m\u001b[0;34m\u001b[0m\u001b[0m\n",
      "\u001b[0;32m/u/project/pasaniuc/kangchen/software/miniconda3/lib/python3.8/site-packages/pandas/io/parsers/readers.py\u001b[0m in \u001b[0;36mread_csv\u001b[0;34m(filepath_or_buffer, sep, delimiter, header, names, index_col, usecols, squeeze, prefix, mangle_dupe_cols, dtype, engine, converters, true_values, false_values, skipinitialspace, skiprows, skipfooter, nrows, na_values, keep_default_na, na_filter, verbose, skip_blank_lines, parse_dates, infer_datetime_format, keep_date_col, date_parser, dayfirst, cache_dates, iterator, chunksize, compression, thousands, decimal, lineterminator, quotechar, quoting, doublequote, escapechar, comment, encoding, encoding_errors, dialect, error_bad_lines, warn_bad_lines, on_bad_lines, delim_whitespace, low_memory, memory_map, float_precision, storage_options)\u001b[0m\n\u001b[1;32m    584\u001b[0m     \u001b[0mkwds\u001b[0m\u001b[0;34m.\u001b[0m\u001b[0mupdate\u001b[0m\u001b[0;34m(\u001b[0m\u001b[0mkwds_defaults\u001b[0m\u001b[0;34m)\u001b[0m\u001b[0;34m\u001b[0m\u001b[0;34m\u001b[0m\u001b[0m\n\u001b[1;32m    585\u001b[0m \u001b[0;34m\u001b[0m\u001b[0m\n\u001b[0;32m--> 586\u001b[0;31m     \u001b[0;32mreturn\u001b[0m \u001b[0m_read\u001b[0m\u001b[0;34m(\u001b[0m\u001b[0mfilepath_or_buffer\u001b[0m\u001b[0;34m,\u001b[0m \u001b[0mkwds\u001b[0m\u001b[0;34m)\u001b[0m\u001b[0;34m\u001b[0m\u001b[0;34m\u001b[0m\u001b[0m\n\u001b[0m\u001b[1;32m    587\u001b[0m \u001b[0;34m\u001b[0m\u001b[0m\n\u001b[1;32m    588\u001b[0m \u001b[0;34m\u001b[0m\u001b[0m\n",
      "\u001b[0;32m/u/project/pasaniuc/kangchen/software/miniconda3/lib/python3.8/site-packages/pandas/io/parsers/readers.py\u001b[0m in \u001b[0;36m_read\u001b[0;34m(filepath_or_buffer, kwds)\u001b[0m\n\u001b[1;32m    480\u001b[0m \u001b[0;34m\u001b[0m\u001b[0m\n\u001b[1;32m    481\u001b[0m     \u001b[0;31m# Create the parser.\u001b[0m\u001b[0;34m\u001b[0m\u001b[0;34m\u001b[0m\u001b[0;34m\u001b[0m\u001b[0m\n\u001b[0;32m--> 482\u001b[0;31m     \u001b[0mparser\u001b[0m \u001b[0;34m=\u001b[0m \u001b[0mTextFileReader\u001b[0m\u001b[0;34m(\u001b[0m\u001b[0mfilepath_or_buffer\u001b[0m\u001b[0;34m,\u001b[0m \u001b[0;34m**\u001b[0m\u001b[0mkwds\u001b[0m\u001b[0;34m)\u001b[0m\u001b[0;34m\u001b[0m\u001b[0;34m\u001b[0m\u001b[0m\n\u001b[0m\u001b[1;32m    483\u001b[0m \u001b[0;34m\u001b[0m\u001b[0m\n\u001b[1;32m    484\u001b[0m     \u001b[0;32mif\u001b[0m \u001b[0mchunksize\u001b[0m \u001b[0;32mor\u001b[0m \u001b[0miterator\u001b[0m\u001b[0;34m:\u001b[0m\u001b[0;34m\u001b[0m\u001b[0;34m\u001b[0m\u001b[0m\n",
      "\u001b[0;32m/u/project/pasaniuc/kangchen/software/miniconda3/lib/python3.8/site-packages/pandas/io/parsers/readers.py\u001b[0m in \u001b[0;36m__init__\u001b[0;34m(self, f, engine, **kwds)\u001b[0m\n\u001b[1;32m    809\u001b[0m             \u001b[0mself\u001b[0m\u001b[0;34m.\u001b[0m\u001b[0moptions\u001b[0m\u001b[0;34m[\u001b[0m\u001b[0;34m\"has_index_names\"\u001b[0m\u001b[0;34m]\u001b[0m \u001b[0;34m=\u001b[0m \u001b[0mkwds\u001b[0m\u001b[0;34m[\u001b[0m\u001b[0;34m\"has_index_names\"\u001b[0m\u001b[0;34m]\u001b[0m\u001b[0;34m\u001b[0m\u001b[0;34m\u001b[0m\u001b[0m\n\u001b[1;32m    810\u001b[0m \u001b[0;34m\u001b[0m\u001b[0m\n\u001b[0;32m--> 811\u001b[0;31m         \u001b[0mself\u001b[0m\u001b[0;34m.\u001b[0m\u001b[0m_engine\u001b[0m \u001b[0;34m=\u001b[0m \u001b[0mself\u001b[0m\u001b[0;34m.\u001b[0m\u001b[0m_make_engine\u001b[0m\u001b[0;34m(\u001b[0m\u001b[0mself\u001b[0m\u001b[0;34m.\u001b[0m\u001b[0mengine\u001b[0m\u001b[0;34m)\u001b[0m\u001b[0;34m\u001b[0m\u001b[0;34m\u001b[0m\u001b[0m\n\u001b[0m\u001b[1;32m    812\u001b[0m \u001b[0;34m\u001b[0m\u001b[0m\n\u001b[1;32m    813\u001b[0m     \u001b[0;32mdef\u001b[0m \u001b[0mclose\u001b[0m\u001b[0;34m(\u001b[0m\u001b[0mself\u001b[0m\u001b[0;34m)\u001b[0m\u001b[0;34m:\u001b[0m\u001b[0;34m\u001b[0m\u001b[0;34m\u001b[0m\u001b[0m\n",
      "\u001b[0;32m/u/project/pasaniuc/kangchen/software/miniconda3/lib/python3.8/site-packages/pandas/io/parsers/readers.py\u001b[0m in \u001b[0;36m_make_engine\u001b[0;34m(self, engine)\u001b[0m\n\u001b[1;32m   1038\u001b[0m             )\n\u001b[1;32m   1039\u001b[0m         \u001b[0;31m# error: Too many arguments for \"ParserBase\"\u001b[0m\u001b[0;34m\u001b[0m\u001b[0;34m\u001b[0m\u001b[0;34m\u001b[0m\u001b[0m\n\u001b[0;32m-> 1040\u001b[0;31m         \u001b[0;32mreturn\u001b[0m \u001b[0mmapping\u001b[0m\u001b[0;34m[\u001b[0m\u001b[0mengine\u001b[0m\u001b[0;34m]\u001b[0m\u001b[0;34m(\u001b[0m\u001b[0mself\u001b[0m\u001b[0;34m.\u001b[0m\u001b[0mf\u001b[0m\u001b[0;34m,\u001b[0m \u001b[0;34m**\u001b[0m\u001b[0mself\u001b[0m\u001b[0;34m.\u001b[0m\u001b[0moptions\u001b[0m\u001b[0;34m)\u001b[0m  \u001b[0;31m# type: ignore[call-arg]\u001b[0m\u001b[0;34m\u001b[0m\u001b[0;34m\u001b[0m\u001b[0m\n\u001b[0m\u001b[1;32m   1041\u001b[0m \u001b[0;34m\u001b[0m\u001b[0m\n\u001b[1;32m   1042\u001b[0m     \u001b[0;32mdef\u001b[0m \u001b[0m_failover_to_python\u001b[0m\u001b[0;34m(\u001b[0m\u001b[0mself\u001b[0m\u001b[0;34m)\u001b[0m\u001b[0;34m:\u001b[0m\u001b[0;34m\u001b[0m\u001b[0;34m\u001b[0m\u001b[0m\n",
      "\u001b[0;32m/u/project/pasaniuc/kangchen/software/miniconda3/lib/python3.8/site-packages/pandas/io/parsers/c_parser_wrapper.py\u001b[0m in \u001b[0;36m__init__\u001b[0;34m(self, src, **kwds)\u001b[0m\n\u001b[1;32m     49\u001b[0m \u001b[0;34m\u001b[0m\u001b[0m\n\u001b[1;32m     50\u001b[0m         \u001b[0;31m# open handles\u001b[0m\u001b[0;34m\u001b[0m\u001b[0;34m\u001b[0m\u001b[0;34m\u001b[0m\u001b[0m\n\u001b[0;32m---> 51\u001b[0;31m         \u001b[0mself\u001b[0m\u001b[0;34m.\u001b[0m\u001b[0m_open_handles\u001b[0m\u001b[0;34m(\u001b[0m\u001b[0msrc\u001b[0m\u001b[0;34m,\u001b[0m \u001b[0mkwds\u001b[0m\u001b[0;34m)\u001b[0m\u001b[0;34m\u001b[0m\u001b[0;34m\u001b[0m\u001b[0m\n\u001b[0m\u001b[1;32m     52\u001b[0m         \u001b[0;32massert\u001b[0m \u001b[0mself\u001b[0m\u001b[0;34m.\u001b[0m\u001b[0mhandles\u001b[0m \u001b[0;32mis\u001b[0m \u001b[0;32mnot\u001b[0m \u001b[0;32mNone\u001b[0m\u001b[0;34m\u001b[0m\u001b[0;34m\u001b[0m\u001b[0m\n\u001b[1;32m     53\u001b[0m \u001b[0;34m\u001b[0m\u001b[0m\n",
      "\u001b[0;32m/u/project/pasaniuc/kangchen/software/miniconda3/lib/python3.8/site-packages/pandas/io/parsers/base_parser.py\u001b[0m in \u001b[0;36m_open_handles\u001b[0;34m(self, src, kwds)\u001b[0m\n\u001b[1;32m    220\u001b[0m         \u001b[0mLet\u001b[0m \u001b[0mthe\u001b[0m \u001b[0mreaders\u001b[0m \u001b[0mopen\u001b[0m \u001b[0mIOHandles\u001b[0m \u001b[0mafter\u001b[0m \u001b[0mthey\u001b[0m \u001b[0mare\u001b[0m \u001b[0mdone\u001b[0m \u001b[0;32mwith\u001b[0m \u001b[0mtheir\u001b[0m \u001b[0mpotential\u001b[0m \u001b[0mraises\u001b[0m\u001b[0;34m.\u001b[0m\u001b[0;34m\u001b[0m\u001b[0;34m\u001b[0m\u001b[0m\n\u001b[1;32m    221\u001b[0m         \"\"\"\n\u001b[0;32m--> 222\u001b[0;31m         self.handles = get_handle(\n\u001b[0m\u001b[1;32m    223\u001b[0m             \u001b[0msrc\u001b[0m\u001b[0;34m,\u001b[0m\u001b[0;34m\u001b[0m\u001b[0;34m\u001b[0m\u001b[0m\n\u001b[1;32m    224\u001b[0m             \u001b[0;34m\"r\"\u001b[0m\u001b[0;34m,\u001b[0m\u001b[0;34m\u001b[0m\u001b[0;34m\u001b[0m\u001b[0m\n",
      "\u001b[0;32m/u/project/pasaniuc/kangchen/software/miniconda3/lib/python3.8/site-packages/pandas/io/common.py\u001b[0m in \u001b[0;36mget_handle\u001b[0;34m(path_or_buf, mode, encoding, compression, memory_map, is_text, errors, storage_options)\u001b[0m\n\u001b[1;32m    640\u001b[0m             \u001b[0;32mif\u001b[0m \u001b[0mis_path\u001b[0m\u001b[0;34m:\u001b[0m\u001b[0;34m\u001b[0m\u001b[0;34m\u001b[0m\u001b[0m\n\u001b[1;32m    641\u001b[0m                 \u001b[0;32massert\u001b[0m \u001b[0misinstance\u001b[0m\u001b[0;34m(\u001b[0m\u001b[0mhandle\u001b[0m\u001b[0;34m,\u001b[0m \u001b[0mstr\u001b[0m\u001b[0;34m)\u001b[0m\u001b[0;34m\u001b[0m\u001b[0;34m\u001b[0m\u001b[0m\n\u001b[0;32m--> 642\u001b[0;31m                 handle = gzip.GzipFile(\n\u001b[0m\u001b[1;32m    643\u001b[0m                     \u001b[0mfilename\u001b[0m\u001b[0;34m=\u001b[0m\u001b[0mhandle\u001b[0m\u001b[0;34m,\u001b[0m\u001b[0;34m\u001b[0m\u001b[0;34m\u001b[0m\u001b[0m\n\u001b[1;32m    644\u001b[0m                     \u001b[0mmode\u001b[0m\u001b[0;34m=\u001b[0m\u001b[0mioargs\u001b[0m\u001b[0;34m.\u001b[0m\u001b[0mmode\u001b[0m\u001b[0;34m,\u001b[0m\u001b[0;34m\u001b[0m\u001b[0;34m\u001b[0m\u001b[0m\n",
      "\u001b[0;32m/u/project/pasaniuc/kangchen/software/miniconda3/lib/python3.8/gzip.py\u001b[0m in \u001b[0;36m__init__\u001b[0;34m(self, filename, mode, compresslevel, fileobj, mtime)\u001b[0m\n\u001b[1;32m    171\u001b[0m             \u001b[0mmode\u001b[0m \u001b[0;34m+=\u001b[0m \u001b[0;34m'b'\u001b[0m\u001b[0;34m\u001b[0m\u001b[0;34m\u001b[0m\u001b[0m\n\u001b[1;32m    172\u001b[0m         \u001b[0;32mif\u001b[0m \u001b[0mfileobj\u001b[0m \u001b[0;32mis\u001b[0m \u001b[0;32mNone\u001b[0m\u001b[0;34m:\u001b[0m\u001b[0;34m\u001b[0m\u001b[0;34m\u001b[0m\u001b[0m\n\u001b[0;32m--> 173\u001b[0;31m             \u001b[0mfileobj\u001b[0m \u001b[0;34m=\u001b[0m \u001b[0mself\u001b[0m\u001b[0;34m.\u001b[0m\u001b[0mmyfileobj\u001b[0m \u001b[0;34m=\u001b[0m \u001b[0mbuiltins\u001b[0m\u001b[0;34m.\u001b[0m\u001b[0mopen\u001b[0m\u001b[0;34m(\u001b[0m\u001b[0mfilename\u001b[0m\u001b[0;34m,\u001b[0m \u001b[0mmode\u001b[0m \u001b[0;32mor\u001b[0m \u001b[0;34m'rb'\u001b[0m\u001b[0;34m)\u001b[0m\u001b[0;34m\u001b[0m\u001b[0;34m\u001b[0m\u001b[0m\n\u001b[0m\u001b[1;32m    174\u001b[0m         \u001b[0;32mif\u001b[0m \u001b[0mfilename\u001b[0m \u001b[0;32mis\u001b[0m \u001b[0;32mNone\u001b[0m\u001b[0;34m:\u001b[0m\u001b[0;34m\u001b[0m\u001b[0;34m\u001b[0m\u001b[0m\n\u001b[1;32m    175\u001b[0m             \u001b[0mfilename\u001b[0m \u001b[0;34m=\u001b[0m \u001b[0mgetattr\u001b[0m\u001b[0;34m(\u001b[0m\u001b[0mfileobj\u001b[0m\u001b[0;34m,\u001b[0m \u001b[0;34m'name'\u001b[0m\u001b[0;34m,\u001b[0m \u001b[0;34m''\u001b[0m\u001b[0;34m)\u001b[0m\u001b[0;34m\u001b[0m\u001b[0;34m\u001b[0m\u001b[0m\n",
      "\u001b[0;31mFileNotFoundError\u001b[0m: [Errno 2] No such file or directory: 'out/ldpred2/hsq-0.25-pcausal-0.01-hermodel-gcta/sim_1.prs.eur_test.tsv.gz'"
     ]
    }
   ],
   "source": [
    "df_summary = summarize(prefix, sim_i)\n",
    "df_tmp = df_summary[df_summary.GROUP == \"eur_test\"]\n",
    "sm.OLS(df_tmp.GV, sm.add_constant(df_tmp.PRS_MEAN)).fit().summary()"
   ]
  },
  {
   "cell_type": "code",
   "execution_count": 10,
   "id": "7d9d67df-ac11-45a5-8bdc-eb1694765b06",
   "metadata": {},
   "outputs": [
    {
     "data": {
      "text/html": [
       "<div>\n",
       "<style scoped>\n",
       "    .dataframe tbody tr th:only-of-type {\n",
       "        vertical-align: middle;\n",
       "    }\n",
       "\n",
       "    .dataframe tbody tr th {\n",
       "        vertical-align: top;\n",
       "    }\n",
       "\n",
       "    .dataframe thead th {\n",
       "        text-align: right;\n",
       "    }\n",
       "</style>\n",
       "<table border=\"1\" class=\"dataframe\">\n",
       "  <thead>\n",
       "    <tr style=\"text-align: right;\">\n",
       "      <th></th>\n",
       "      <th>PRS_MEAN</th>\n",
       "      <th>PRS_SD</th>\n",
       "      <th>GV</th>\n",
       "      <th>GROUP</th>\n",
       "      <th>PHENO</th>\n",
       "      <th>PRS_Q_0.1</th>\n",
       "      <th>PRS_Q_0.9</th>\n",
       "    </tr>\n",
       "    <tr>\n",
       "      <th>indiv</th>\n",
       "      <th></th>\n",
       "      <th></th>\n",
       "      <th></th>\n",
       "      <th></th>\n",
       "      <th></th>\n",
       "      <th></th>\n",
       "      <th></th>\n",
       "    </tr>\n",
       "  </thead>\n",
       "  <tbody>\n",
       "    <tr>\n",
       "      <th>1000102_1000102</th>\n",
       "      <td>0.223073</td>\n",
       "      <td>0.455898</td>\n",
       "      <td>-0.389828</td>\n",
       "      <td>eur_test</td>\n",
       "      <td>-2.509708</td>\n",
       "      <td>-0.357799</td>\n",
       "      <td>0.814142</td>\n",
       "    </tr>\n",
       "    <tr>\n",
       "      <th>1000774_1000774</th>\n",
       "      <td>0.227082</td>\n",
       "      <td>0.444884</td>\n",
       "      <td>0.312899</td>\n",
       "      <td>eur_test</td>\n",
       "      <td>-0.596033</td>\n",
       "      <td>-0.343262</td>\n",
       "      <td>0.784635</td>\n",
       "    </tr>\n",
       "    <tr>\n",
       "      <th>1000807_1000807</th>\n",
       "      <td>-0.785519</td>\n",
       "      <td>0.451667</td>\n",
       "      <td>-1.229681</td>\n",
       "      <td>eur_test</td>\n",
       "      <td>-1.578137</td>\n",
       "      <td>-1.352774</td>\n",
       "      <td>-0.223618</td>\n",
       "    </tr>\n",
       "    <tr>\n",
       "      <th>1001523_1001523</th>\n",
       "      <td>-0.016795</td>\n",
       "      <td>0.451242</td>\n",
       "      <td>-0.056106</td>\n",
       "      <td>eur_test</td>\n",
       "      <td>-1.800078</td>\n",
       "      <td>-0.618263</td>\n",
       "      <td>0.580544</td>\n",
       "    </tr>\n",
       "    <tr>\n",
       "      <th>1001531_1001531</th>\n",
       "      <td>-0.035507</td>\n",
       "      <td>0.466030</td>\n",
       "      <td>-0.116431</td>\n",
       "      <td>eur_test</td>\n",
       "      <td>-0.369642</td>\n",
       "      <td>-0.655430</td>\n",
       "      <td>0.591871</td>\n",
       "    </tr>\n",
       "    <tr>\n",
       "      <th>...</th>\n",
       "      <td>...</td>\n",
       "      <td>...</td>\n",
       "      <td>...</td>\n",
       "      <td>...</td>\n",
       "      <td>...</td>\n",
       "      <td>...</td>\n",
       "      <td>...</td>\n",
       "    </tr>\n",
       "    <tr>\n",
       "      <th>6022871_6022871</th>\n",
       "      <td>-0.994974</td>\n",
       "      <td>0.611914</td>\n",
       "      <td>-0.351034</td>\n",
       "      <td>admix</td>\n",
       "      <td>-0.041055</td>\n",
       "      <td>-1.746324</td>\n",
       "      <td>-0.241882</td>\n",
       "    </tr>\n",
       "    <tr>\n",
       "      <th>6023479_6023479</th>\n",
       "      <td>-1.118069</td>\n",
       "      <td>0.512178</td>\n",
       "      <td>-0.680147</td>\n",
       "      <td>admix</td>\n",
       "      <td>-0.302094</td>\n",
       "      <td>-1.808076</td>\n",
       "      <td>-0.495822</td>\n",
       "    </tr>\n",
       "    <tr>\n",
       "      <th>6024954_6024954</th>\n",
       "      <td>-0.421766</td>\n",
       "      <td>0.562304</td>\n",
       "      <td>0.029322</td>\n",
       "      <td>admix</td>\n",
       "      <td>-0.316227</td>\n",
       "      <td>-1.121270</td>\n",
       "      <td>0.301122</td>\n",
       "    </tr>\n",
       "    <tr>\n",
       "      <th>6025478_6025478</th>\n",
       "      <td>-0.534918</td>\n",
       "      <td>0.491312</td>\n",
       "      <td>-0.070122</td>\n",
       "      <td>admix</td>\n",
       "      <td>-1.119334</td>\n",
       "      <td>-1.134348</td>\n",
       "      <td>0.129377</td>\n",
       "    </tr>\n",
       "    <tr>\n",
       "      <th>6026002_6026002</th>\n",
       "      <td>-1.899850</td>\n",
       "      <td>0.605868</td>\n",
       "      <td>-0.408161</td>\n",
       "      <td>admix</td>\n",
       "      <td>0.561205</td>\n",
       "      <td>-2.687507</td>\n",
       "      <td>-1.133743</td>\n",
       "    </tr>\n",
       "  </tbody>\n",
       "</table>\n",
       "<p>25579 rows × 7 columns</p>\n",
       "</div>"
      ],
      "text/plain": [
       "                 PRS_MEAN    PRS_SD        GV     GROUP     PHENO  PRS_Q_0.1  \\\n",
       "indiv                                                                          \n",
       "1000102_1000102  0.223073  0.455898 -0.389828  eur_test -2.509708  -0.357799   \n",
       "1000774_1000774  0.227082  0.444884  0.312899  eur_test -0.596033  -0.343262   \n",
       "1000807_1000807 -0.785519  0.451667 -1.229681  eur_test -1.578137  -1.352774   \n",
       "1001523_1001523 -0.016795  0.451242 -0.056106  eur_test -1.800078  -0.618263   \n",
       "1001531_1001531 -0.035507  0.466030 -0.116431  eur_test -0.369642  -0.655430   \n",
       "...                   ...       ...       ...       ...       ...        ...   \n",
       "6022871_6022871 -0.994974  0.611914 -0.351034     admix -0.041055  -1.746324   \n",
       "6023479_6023479 -1.118069  0.512178 -0.680147     admix -0.302094  -1.808076   \n",
       "6024954_6024954 -0.421766  0.562304  0.029322     admix -0.316227  -1.121270   \n",
       "6025478_6025478 -0.534918  0.491312 -0.070122     admix -1.119334  -1.134348   \n",
       "6026002_6026002 -1.899850  0.605868 -0.408161     admix  0.561205  -2.687507   \n",
       "\n",
       "                 PRS_Q_0.9  \n",
       "indiv                       \n",
       "1000102_1000102   0.814142  \n",
       "1000774_1000774   0.784635  \n",
       "1000807_1000807  -0.223618  \n",
       "1001523_1001523   0.580544  \n",
       "1001531_1001531   0.591871  \n",
       "...                    ...  \n",
       "6022871_6022871  -0.241882  \n",
       "6023479_6023479  -0.495822  \n",
       "6024954_6024954   0.301122  \n",
       "6025478_6025478   0.129377  \n",
       "6026002_6026002  -1.133743  \n",
       "\n",
       "[25579 rows x 7 columns]"
      ]
     },
     "execution_count": 10,
     "metadata": {},
     "output_type": "execute_result"
    }
   ],
   "source": [
    "df_summary"
   ]
  },
  {
   "cell_type": "code",
   "execution_count": 26,
   "id": "cf188c80-5be8-4d8d-86d5-4efe4823a1bd",
   "metadata": {},
   "outputs": [],
   "source": [
    "# df_summary = summarize(prefix, sim_i)\n",
    "# df_summary.loc[df_lanc.index, \"GROUP\"] = \"admix_\" + df_lanc[\"lanc_q\"].astype(str)\n",
    "\n",
    "# for group, df_group in df_summary.groupby([\"GROUP\"]):\n",
    "\n",
    "#     raw_r2 = pearsonr(df_group[\"PHENO\"], df_group[\"PRS_MEAN\"])[0] ** 2\n",
    "#     print(f\"group={group}, raw_r2={raw_r2}\")"
   ]
  },
  {
   "cell_type": "code",
   "execution_count": 34,
   "id": "3ddd7bbf-2281-4424-9ffc-6828541194b6",
   "metadata": {},
   "outputs": [],
   "source": [
    "def submit_summarize(prefix):\n",
    "\n",
    "    np.random.seed(1234)\n",
    "\n",
    "    df_plot = []\n",
    "    for sim_i in tqdm(range(10)):\n",
    "        if not os.path.exists(f\"out/ldpred2/{prefix}/sim_{sim_i}.prs.admix.tsv.gz\"):\n",
    "            continue\n",
    "        df_summary = summarize(prefix, sim_i)\n",
    "        df_summary.loc[df_lanc.index, \"GROUP\"] = \"admix_\" + df_lanc[\"lanc_q\"].astype(\n",
    "            str\n",
    "        )\n",
    "        df_summary = pd.merge(df_summary, df_covar, left_index=True, right_index=True)\n",
    "\n",
    "        # calibrate seperately for eur_test and admix\n",
    "        mean_cov_cols = [\"SEX\", \"AGE\"] + [f\"PC{i}\" for i in range(1, 3)]\n",
    "        quantile_cov_cols = [\"PC1\", \"PC2\"]\n",
    "\n",
    "        for group in [\"admix\", \"eur_test\"]:\n",
    "            df_tmp = df_summary[df_summary[\"GROUP\"].str.startswith(group)].copy()\n",
    "            idx_cal, idx_test = train_test_split(df_tmp.index, train_size=0.2)\n",
    "            for method in [None, \"shift\", \"scale\"]:\n",
    "                df_calibrated = admix_prs.calibrate_prs(\n",
    "                    df_tmp,\n",
    "                    idx_cal,\n",
    "                    mean_cov_cols=mean_cov_cols,\n",
    "                    q=0.1,\n",
    "                    method=method,\n",
    "                    quantile_cov_cols=quantile_cov_cols,\n",
    "                )\n",
    "                method_prefix = \"CENTER\" if method is None else method.upper()\n",
    "                df_summary.loc[\n",
    "                    df_calibrated.index,\n",
    "                    [f\"{method_prefix}_PRS_Q_0.1\", f\"{method_prefix}_PRS_Q_0.9\"],\n",
    "                ] = df_calibrated.values\n",
    "            df_summary.loc[idx_cal, \"IN_CAL\"] = True\n",
    "            df_summary.loc[idx_test, \"IN_CAL\"] = False\n",
    "\n",
    "        df_summary[\"SIM_I\"] = sim_i\n",
    "\n",
    "        df_summary = df_summary[\n",
    "            [\"GROUP\", \"PHENO\"]\n",
    "            + [\"IN_CAL\", \"SIM_I\"]\n",
    "            + [col for col in df_summary.columns if \"PRS_Q\" in col]\n",
    "        ]\n",
    "\n",
    "        df_summary.index.name = \"INDIV\"\n",
    "        df_summary = df_summary.reset_index()\n",
    "        # append to all\n",
    "        df_plot.append(df_summary)\n",
    "\n",
    "    df_plot = pd.concat(df_plot)\n",
    "    df_plot.to_csv(f\"out/summary/{prefix}.tsv.gz\", sep=\"\\t\", index=False)"
   ]
  },
  {
   "cell_type": "code",
   "execution_count": 35,
   "id": "5e4ff026-2356-4fa1-b6b8-0c0ada5d9ade",
   "metadata": {},
   "outputs": [
    {
     "name": "stderr",
     "output_type": "stream",
     "text": [
      "  0%|          | 0/10 [00:00<?, ?it/s]"
     ]
    },
    {
     "name": "stdout",
     "output_type": "stream",
     "text": [
      "Using hsq=0.25 to generate posterior predictive samples for phenotypes\n"
     ]
    },
    {
     "name": "stderr",
     "output_type": "stream",
     "text": [
      "/u/project/pasaniuc/kangchen/software/miniconda3/lib/python3.8/site-packages/statsmodels/tsa/tsatools.py:142: FutureWarning: In a future version of pandas all arguments of concat except for the argument 'objs' will be keyword-only\n",
      "  x = pd.concat(x[::order], 1)\n",
      "/u/project/pasaniuc/pasaniucdata/admixture/projects/admix-prs-uncertainty/admix_prs/__init__.py:187: UserWarning: `quantile_cov_cols` will not be used because `method` is None\n",
      "  warnings.warn(\n",
      " 10%|█         | 1/10 [00:14<02:12, 14.72s/it]"
     ]
    },
    {
     "name": "stdout",
     "output_type": "stream",
     "text": [
      "Using hsq=0.25 to generate posterior predictive samples for phenotypes\n"
     ]
    },
    {
     "name": "stderr",
     "output_type": "stream",
     "text": [
      " 30%|███       | 3/10 [00:28<01:02,  8.96s/it]"
     ]
    },
    {
     "name": "stdout",
     "output_type": "stream",
     "text": [
      "Using hsq=0.25 to generate posterior predictive samples for phenotypes\n"
     ]
    },
    {
     "name": "stderr",
     "output_type": "stream",
     "text": [
      " 40%|████      | 4/10 [00:42<01:04, 10.68s/it]"
     ]
    },
    {
     "name": "stdout",
     "output_type": "stream",
     "text": [
      "Using hsq=0.25 to generate posterior predictive samples for phenotypes\n"
     ]
    },
    {
     "name": "stderr",
     "output_type": "stream",
     "text": [
      " 50%|█████     | 5/10 [00:56<00:58, 11.74s/it]"
     ]
    },
    {
     "name": "stdout",
     "output_type": "stream",
     "text": [
      "Using hsq=0.25 to generate posterior predictive samples for phenotypes\n"
     ]
    },
    {
     "name": "stderr",
     "output_type": "stream",
     "text": [
      " 60%|██████    | 6/10 [01:10<00:49, 12.48s/it]"
     ]
    },
    {
     "name": "stdout",
     "output_type": "stream",
     "text": [
      "Using hsq=0.25 to generate posterior predictive samples for phenotypes\n"
     ]
    },
    {
     "name": "stderr",
     "output_type": "stream",
     "text": [
      " 80%|████████  | 8/10 [01:24<00:19,  9.76s/it]"
     ]
    },
    {
     "name": "stdout",
     "output_type": "stream",
     "text": [
      "Using hsq=0.25 to generate posterior predictive samples for phenotypes\n"
     ]
    },
    {
     "name": "stderr",
     "output_type": "stream",
     "text": [
      " 90%|█████████ | 9/10 [01:38<00:10, 10.86s/it]"
     ]
    },
    {
     "name": "stdout",
     "output_type": "stream",
     "text": [
      "Using hsq=0.25 to generate posterior predictive samples for phenotypes\n"
     ]
    },
    {
     "name": "stderr",
     "output_type": "stream",
     "text": [
      "100%|██████████| 10/10 [01:51<00:00, 11.20s/it]\n"
     ]
    }
   ],
   "source": [
    "submit_summarize(prefix)"
   ]
  },
  {
   "cell_type": "code",
   "execution_count": null,
   "id": "535eed94-3c20-4dbd-932e-8319f66d170f",
   "metadata": {},
   "outputs": [],
   "source": []
  }
 ],
 "metadata": {
  "kernelspec": {
   "display_name": "Python 3",
   "language": "python",
   "name": "python3"
  },
  "language_info": {
   "codemirror_mode": {
    "name": "ipython",
    "version": 3
   },
   "file_extension": ".py",
   "mimetype": "text/x-python",
   "name": "python",
   "nbconvert_exporter": "python",
   "pygments_lexer": "ipython3",
   "version": "3.8.5"
  }
 },
 "nbformat": 4,
 "nbformat_minor": 5
}
