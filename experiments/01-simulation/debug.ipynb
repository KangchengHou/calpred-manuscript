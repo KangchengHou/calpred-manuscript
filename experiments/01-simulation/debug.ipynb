{
 "cells": [
  {
   "cell_type": "code",
   "execution_count": 1,
   "id": "e4a625db-e9b2-46ae-b8a2-4021e6dd5129",
   "metadata": {},
   "outputs": [],
   "source": [
    "%load_ext autoreload\n",
    "%load_ext lab_black\n",
    "%autoreload 2\n",
    "\n",
    "import admix\n",
    "import numpy as np\n",
    "import matplotlib.pyplot as plt\n",
    "import pandas as pd\n",
    "from os.path import join\n",
    "from tqdm import tqdm\n",
    "from sklearn.model_selection import train_test_split\n",
    "from scipy.stats import pearsonr\n",
    "import seaborn as sns\n",
    "import admix_prs\n",
    "import statsmodels.api as sm"
   ]
  },
  {
   "cell_type": "code",
   "execution_count": 2,
   "id": "adfeac4e-5495-4de9-9436-35a7fcdb5f49",
   "metadata": {},
   "outputs": [],
   "source": [
    "prefix = \"hsq-0.25-pcausal-0.01\"\n",
    "ldpred2_dir = f\"out/ldpred2/{prefix}\"\n",
    "PLINK_DIR = \"/u/project/pasaniuc/pasaniucdata/admixture/projects/admix-prs-uncertainty/data/PLINK/\"\n",
    "sim_i = 0"
   ]
  },
  {
   "cell_type": "code",
   "execution_count": 3,
   "id": "0452b25e-1a54-4992-adc5-2727758d54e0",
   "metadata": {},
   "outputs": [],
   "source": [
    "# read PRS\n",
    "df_prs_eur_test = pd.read_csv(\n",
    "    f\"out/ldpred2/{prefix}/sim_{sim_i}.prs.eur_test.tsv.gz\", sep=\"\\t\", index_col=0\n",
    ")\n",
    "df_prs_admix = pd.read_csv(\n",
    "    f\"out/ldpred2/{prefix}/sim_{sim_i}.prs.admix.tsv.gz\", sep=\"\\t\", index_col=0\n",
    ")\n",
    "df_prs = pd.concat([df_prs_eur_test, df_prs_admix])\n",
    "\n",
    "# read genetic value and phenotype\n",
    "df_pheno_g = (\n",
    "    pd.read_csv(join(f\"out/pheno/{prefix}/sim.pheno_g.tsv\"), sep=\"\\t\", index_col=0)[\n",
    "        [\"GROUP\", f\"SIM_{sim_i}\"]\n",
    "    ]\n",
    "    .rename(columns={f\"SIM_{sim_i}\": \"GV\"})\n",
    "    .reindex(df_prs.index)\n",
    ")\n",
    "df_pheno = (\n",
    "    pd.read_csv(join(f\"out/pheno/{prefix}/sim.pheno.tsv\"), sep=\"\\t\", index_col=0)[\n",
    "        [f\"SIM_{sim_i}\"]\n",
    "    ]\n",
    "    .rename(columns={f\"SIM_{sim_i}\": \"PHENO\"})\n",
    "    .reindex(df_prs.index)\n",
    ")"
   ]
  },
  {
   "cell_type": "code",
   "execution_count": 4,
   "id": "d50af274-c914-4567-926d-9012e4e185d8",
   "metadata": {},
   "outputs": [],
   "source": [
    "df_prs = pd.concat([df_pheno, df_pheno_g, df_prs], axis=1)"
   ]
  },
  {
   "cell_type": "code",
   "execution_count": 5,
   "id": "dfdb8801-43e5-4aa3-8d3f-fa1bacc3a745",
   "metadata": {},
   "outputs": [],
   "source": [
    "# read local ancestry\n",
    "df_lanc = pd.read_csv(\"out/admix_lanc.tsv\", sep=\"\\t\", index_col=0)\n",
    "df_lanc[\"lanc\"] = 1.0 - df_lanc[\"lanc\"]\n",
    "df_lanc[\"lanc_q\"] = pd.qcut(df_lanc.lanc, q=5).cat.codes + 1\n",
    "\n",
    "df_prs.loc[df_lanc.index, \"GROUP\"] = \"admix_\" + df_lanc[\"lanc_q\"].astype(str)"
   ]
  },
  {
   "cell_type": "code",
   "execution_count": 6,
   "id": "11de49e3-1b46-4458-ba80-5bd8dab855db",
   "metadata": {},
   "outputs": [],
   "source": [
    "from scipy.stats import pearsonr"
   ]
  },
  {
   "cell_type": "code",
   "execution_count": 11,
   "id": "91e1bf0b-1cc6-43f8-a575-a120b6605861",
   "metadata": {},
   "outputs": [
    {
     "name": "stdout",
     "output_type": "stream",
     "text": [
      "group=admix_1, raw_r2=0.1350995441894608, hsq=0.256808440687892\n",
      "group=admix_2, raw_r2=0.11907791773787098, hsq=0.23889731704008066\n",
      "group=admix_3, raw_r2=0.15770210113121041, hsq=0.2840469951111308\n",
      "group=admix_4, raw_r2=0.1403370182279685, hsq=0.3338751583351793\n",
      "group=admix_5, raw_r2=0.1439545775073527, hsq=0.28428715357960244\n",
      "group=eur_test, raw_r2=0.14816597924201233, hsq=0.24721611206679614\n"
     ]
    }
   ],
   "source": [
    "for group, df_group in df_prs.groupby([\"GROUP\"]):\n",
    "    raw_r2 = pearsonr(df_group[\"PHENO\"], df_group[\"MEAN\"])[0] ** 2\n",
    "    hsq = pearsonr(df_group[\"PHENO\"], df_group[\"GV\"])[0] ** 2\n",
    "    print(f\"group={group}, raw_r2={raw_r2}, hsq={hsq}\")"
   ]
  }
 ],
 "metadata": {
  "kernelspec": {
   "display_name": "Python 3",
   "language": "python",
   "name": "python3"
  },
  "language_info": {
   "codemirror_mode": {
    "name": "ipython",
    "version": 3
   },
   "file_extension": ".py",
   "mimetype": "text/x-python",
   "name": "python",
   "nbconvert_exporter": "python",
   "pygments_lexer": "ipython3",
   "version": "3.8.5"
  }
 },
 "nbformat": 4,
 "nbformat_minor": 5
}
