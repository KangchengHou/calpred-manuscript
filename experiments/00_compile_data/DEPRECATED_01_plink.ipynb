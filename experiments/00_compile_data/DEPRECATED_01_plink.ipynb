{
 "cells": [
  {
   "cell_type": "code",
   "execution_count": 1,
   "id": "fe0f6705-1acc-4b80-96ee-8ef00d393cff",
   "metadata": {},
   "outputs": [],
   "source": [
    "%load_ext autoreload\n",
    "%autoreload 2\n",
    "# interface to external tools\n",
    "import admix\n",
    "import numpy as np\n",
    "import pandas as pd"
   ]
  },
  {
   "cell_type": "code",
   "execution_count": 4,
   "id": "3af633c5-6877-49af-be2b-633ea85e0e51",
   "metadata": {},
   "outputs": [],
   "source": [
    "dset = admix.data.load_lab_dataset(\"ukb_eur_afr\")\n",
    "snp = dset[\"snp\"].values\n",
    "new_pos = admix.misc.lift_over(chrom_pos=np.vstack([dset[\"chrom@snp\"].values, dset[\"position@snp\"].values]).T, chain=\"hg38->hg19\")\n",
    "df_new = pd.DataFrame({\"CHR\": dset[\"chrom@snp\"].values, \"POS\": new_pos})\n",
    "bim = admix.misc.plink_read_bim([f\"/u/project/sriram/ukbiobank/data/geno/cal/{i_chr}.bim\" for i_chr in range(1, 23)])\n",
    "df_merged = df_new.merge(bim, on=[\"CHR\", \"POS\"])"
   ]
  },
  {
   "cell_type": "code",
   "execution_count": 5,
   "id": "0a751c8c-a175-4fc0-a7d3-d9c56bf9d14a",
   "metadata": {},
   "outputs": [],
   "source": [
    "np.savetxt(\"./snp_list.txt\", df_merged.SNP.values, fmt=\"%s\")"
   ]
  },
  {
   "cell_type": "markdown",
   "id": "cce3dc88-dca1-4ff9-a130-46f253bfd6a4",
   "metadata": {},
   "source": [
    "# Subset\n",
    "```bash\n",
    "for i_chr in $(seq 22); do\n",
    "    plink \\\n",
    "        --bfile /u/project/sriram/ukbiobank/data/geno/cal/${i_chr} \\\n",
    "        --extract snp_list.txt \\\n",
    "        --keep-allele-order \\\n",
    "        --make-bed \\\n",
    "        --out plink_all/chr${i_chr}\n",
    "done\n",
    "```"
   ]
  },
  {
   "cell_type": "code",
   "execution_count": 3,
   "id": "666ff6f7-d503-4b09-b873-f169478821bb",
   "metadata": {},
   "outputs": [],
   "source": [
    "admix.misc.plink_merge(bfiles=[f\"plink/all/chr{i_chr}\" for i_chr in range(1, 23)], out=\"plink/all/merged\")"
   ]
  },
  {
   "cell_type": "code",
   "execution_count": 38,
   "id": "55cb9739-7e05-46ce-9dc4-8335852d87af",
   "metadata": {},
   "outputs": [],
   "source": [
    "df_eur = admix.misc.plink_read_fam(\"/u/project/sriram/ukbiobank/data/geno/cal/filter4.fam\")\n",
    "df_eur.to_csv(\"./plink/eur.fam\", index=False, header=False, sep='\\t')\n",
    "df_admix = pd.DataFrame([i.split(\"_\") for i in dset.indiv.values]).astype(int)\n",
    "df_admix.to_csv(\"./plink/admix.fam\", index=False, header=False, sep='\\t')\n",
    "df_all = admix.misc.plink_read_fam(\"./plink/all/merged.fam\")"
   ]
  },
  {
   "cell_type": "markdown",
   "id": "1dab6a15-d87b-4d07-8f2a-35c97c9fe42b",
   "metadata": {},
   "source": [
    "# Subset admixed individuals\n",
    "```bash\n",
    "for pop in eur admix; do\n",
    "    mkdir -p plink/${pop}\n",
    "    plink \\\n",
    "        --bfile plink/all/merged \\\n",
    "        --keep-fam plink/${pop}.fam \\\n",
    "        --keep-allele-order \\\n",
    "        --make-bed \\\n",
    "        --out plink/${pop}/merged\n",
    "done\n",
    "```"
   ]
  }
 ],
 "metadata": {
  "kernelspec": {
   "display_name": "Python 3",
   "language": "python",
   "name": "python3"
  },
  "language_info": {
   "codemirror_mode": {
    "name": "ipython",
    "version": 3
   },
   "file_extension": ".py",
   "mimetype": "text/x-python",
   "name": "python",
   "nbconvert_exporter": "python",
   "pygments_lexer": "ipython3",
   "version": "3.8.5"
  }
 },
 "nbformat": 4,
 "nbformat_minor": 5
}
