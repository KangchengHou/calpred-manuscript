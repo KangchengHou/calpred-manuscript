{
 "cells": [
  {
   "cell_type": "markdown",
   "id": "1dd76e51-349b-4eec-8df2-96d15f3f0088",
   "metadata": {},
   "source": [
    "# Phenotype simulation from real genotypes"
   ]
  },
  {
   "cell_type": "code",
   "execution_count": 1,
   "id": "8662c167-3a26-4da3-bf1c-3182744f15db",
   "metadata": {},
   "outputs": [],
   "source": [
    "%load_ext autoreload\n",
    "%autoreload 2\n",
    "%load_ext lab_black"
   ]
  },
  {
   "cell_type": "code",
   "execution_count": 2,
   "id": "29fe966f-ab3b-4fd9-8a24-83ca95f6760d",
   "metadata": {},
   "outputs": [],
   "source": [
    "from os.path import join\n",
    "import numpy as np\n",
    "import pandas as pd\n",
    "import admix\n",
    "import matplotlib.pyplot as plt\n",
    "from os.path import join\n",
    "import submitit\n",
    "import dapgen\n",
    "from tqdm import tqdm\n",
    "import dask.array as da\n",
    "import admix_prs\n",
    "import os"
   ]
  },
  {
   "cell_type": "code",
   "execution_count": 3,
   "id": "c1a1a753-84d1-4d25-afc9-eed9b723de2f",
   "metadata": {},
   "outputs": [],
   "source": [
    "PLINK_DIR = \"/u/project/pasaniuc/pasaniucdata/admixture/projects/admix-prs-uncertainty/data/PLINK/\"\n",
    "BFILE_PREFIX = \"merged\"\n",
    "FREQ_FILE = join(PLINK_DIR, \"eur_train\", \"merged.freq\")\n",
    "N_SIM = 10"
   ]
  },
  {
   "cell_type": "markdown",
   "id": "36f05ebb-7d8c-43c9-ba23-b0b01413d7a8",
   "metadata": {},
   "source": [
    "# Simulate phenotype and perform GWAS"
   ]
  },
  {
   "cell_type": "code",
   "execution_count": 4,
   "id": "4e736a54-6761-4946-a33c-7c2748484a8d",
   "metadata": {},
   "outputs": [],
   "source": [
    "group_list = [\"eur_train\", \"eur_val\", \"eur_test\", \"admix\"]\n",
    "bfile_list = [join(PLINK_DIR, group, BFILE_PREFIX) for group in group_list]\n",
    "\n",
    "\n",
    "def simulate_pheno_gwas(hsq, causal_prop, out_dir):\n",
    "\n",
    "    if not os.path.exists(out_dir):\n",
    "        os.makedirs(out_dir)\n",
    "\n",
    "    np.random.seed(42)\n",
    "    admix_prs.simulate_quant_pheno(\n",
    "        bfile_list=bfile_list,\n",
    "        group_list=group_list,\n",
    "        hsq=hsq,\n",
    "        causal_prop=causal_prop,\n",
    "        freq_file=FREQ_FILE,\n",
    "        out_prefix=out_dir + \"/sim\",\n",
    "        n_sim=N_SIM,\n",
    "    )\n",
    "    df_pheno = pd.read_csv(f\"{out_dir}/sim.pheno.tsv\", sep=\"\\t\", index_col=0)\n",
    "    df_val_pheno = df_pheno[df_pheno.GROUP == \"eur_val\"]\n",
    "    for sim_i in range(N_SIM):\n",
    "\n",
    "        # perform GWAS\n",
    "        admix.tools.plink2.gwas(\n",
    "            bfile=join(PLINK_DIR, \"eur_train\", BFILE_PREFIX),\n",
    "            df_sample_info=df_pheno,\n",
    "            pheno_col=f\"SIM_{sim_i}\",\n",
    "            out_prefix=f\"{out_dir}/sim_{sim_i}\",\n",
    "        )\n",
    "        admix_prs.plink2_assoc_to_ldpred2(f\"{out_dir}/sim_{sim_i}.assoc\").to_csv(\n",
    "            f\"{out_dir}/sim_{sim_i}.assoc.ldpred2.tsv\", index=False, sep=\"\\t\"\n",
    "        )\n",
    "\n",
    "        # seperating validation phenotype\n",
    "        df_val_pheno[[\"FID\", \"IID\", f\"SIM_{sim_i}\"]].to_csv(\n",
    "            f\"{out_dir}/sim_{sim_i}.eur_val.pheno.tsv\", index=False, sep=\"\\t\"\n",
    "        )"
   ]
  },
  {
   "cell_type": "code",
   "execution_count": 5,
   "id": "48f52313-7319-4492-b23e-ecb44f081244",
   "metadata": {},
   "outputs": [],
   "source": [
    "import submitit"
   ]
  },
  {
   "cell_type": "code",
   "execution_count": 7,
   "id": "cb288835-62f7-4c75-a9f1-3ec45c3bad7e",
   "metadata": {},
   "outputs": [],
   "source": [
    "executor = submitit.SgeExecutor(folder=\"./submitit-logs\")\n",
    "\n",
    "executor.update_parameters(\n",
    "    time_min=250,\n",
    "    memory_g=30,\n",
    "    setup=[\n",
    "        \"export PATH=~/project-pasaniuc/software/miniconda3/bin:$PATH\",\n",
    "        \"export PYTHONNOUSERSITE=True\",\n",
    "    ],\n",
    ")\n",
    "\n",
    "jobs = executor.map_array(\n",
    "    simulate_pheno_gwas, [0.05], [0.01], [\"out/pheno/hsq-0.05-pcausal-0.01\"]\n",
    ")"
   ]
  },
  {
   "cell_type": "markdown",
   "id": "3172650b-08ce-4d17-a362-8a7e36c2eaaa",
   "metadata": {},
   "source": [
    "# Obtain local ancestry"
   ]
  },
  {
   "cell_type": "code",
   "execution_count": null,
   "id": "72554a52-1ecd-42f9-a9c6-aaf40fb69c87",
   "metadata": {},
   "outputs": [],
   "source": [
    "import pandas as pd\n",
    "import xarray as xr\n",
    "\n",
    "n_snp = 0\n",
    "df_lanc = None\n",
    "for chrom in tqdm(range(1, 23)):\n",
    "    dset = xr.open_zarr(\n",
    "        f\"/u/project/pasaniuc/pasaniucdata/admixture/projects/admix-prs-uncertainty/data/admix-analysis/dataset/chr{chrom}.zarr\"\n",
    "    )\n",
    "    n_snp += dset.dims[\"snp\"]\n",
    "    df_tmp = pd.DataFrame(\n",
    "        {\"lanc\": dset.lanc.data.sum(axis=[1, 2]).compute()}, index=dset.indiv.values\n",
    "    )\n",
    "    if df_lanc is None:\n",
    "        df_lanc = df_tmp\n",
    "    else:\n",
    "        df_lanc += df_tmp\n",
    "\n",
    "df_lanc = df_lanc / (n_snp * 2)\n",
    "\n",
    "df_lanc.to_csv(\"out/admix_lanc.tsv\", sep=\"\\t\")"
   ]
  }
 ],
 "metadata": {
  "kernelspec": {
   "display_name": "Python 3",
   "language": "python",
   "name": "python3"
  },
  "language_info": {
   "codemirror_mode": {
    "name": "ipython",
    "version": 3
   },
   "file_extension": ".py",
   "mimetype": "text/x-python",
   "name": "python",
   "nbconvert_exporter": "python",
   "pygments_lexer": "ipython3",
   "version": "3.8.5"
  }
 },
 "nbformat": 4,
 "nbformat_minor": 5
}
