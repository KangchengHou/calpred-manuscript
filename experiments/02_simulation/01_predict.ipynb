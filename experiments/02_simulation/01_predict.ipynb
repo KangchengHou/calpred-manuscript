{
 "cells": [
  {
   "cell_type": "markdown",
   "id": "5e538d65-3f1e-4bd8-a740-d319b69b01fa",
   "metadata": {},
   "source": [
    "# Phenotype prediction for all individuals"
   ]
  },
  {
   "cell_type": "code",
   "execution_count": 1,
   "id": "e8a0071b-a395-4aad-82f3-58892e831ca6",
   "metadata": {},
   "outputs": [],
   "source": [
    "%load_ext autoreload\n",
    "%load_ext lab_black\n",
    "%autoreload 2\n",
    "\n",
    "import admix\n",
    "import numpy as np\n",
    "import matplotlib.pyplot as plt\n",
    "import pandas as pd\n",
    "from os.path import join\n",
    "from tqdm import tqdm\n",
    "from sklearn.model_selection import train_test_split\n",
    "from scipy.stats import pearsonr\n",
    "import seaborn as sns\n",
    "import admix_prs\n",
    "import statsmodels.api as sm"
   ]
  },
  {
   "cell_type": "code",
   "execution_count": 2,
   "id": "26442678-4785-4b56-aaf6-3e5ffdfc9df1",
   "metadata": {},
   "outputs": [],
   "source": [
    "prefix = \"hsq-0.25-pcausal-0.01\"\n",
    "ldpred2_dir = f\"out/ldpred2/{prefix}\"\n",
    "PLINK_DIR = \"/u/project/pasaniuc/pasaniucdata/admixture/projects/admix-prs-uncertainty/data/PLINK/\""
   ]
  },
  {
   "cell_type": "code",
   "execution_count": 3,
   "id": "710ac7ab-54f5-407c-97c4-ae715fd9b328",
   "metadata": {},
   "outputs": [],
   "source": [
    "group_list = [\"eur_test\", \"admix\"]\n",
    "bfile_list = [join(PLINK_DIR, group, \"merged\") for group in group_list]"
   ]
  },
  {
   "cell_type": "code",
   "execution_count": 4,
   "id": "01bae996-752a-41d9-84d1-e37197251815",
   "metadata": {},
   "outputs": [],
   "source": [
    "def submit_predict(prefix, sim_i):\n",
    "    ldpred2_dir = f\"out/ldpred2/{prefix}\"\n",
    "    df_weights = (\n",
    "        pd.read_csv(join(ldpred2_dir, f\"sim_{sim_i}.weight.tsv.gz\"), sep=\"\\t\")\n",
    "        .rename(columns={\"CHR\": \"CHROM\", \"A1\": \"REF\", \"A2\": \"ALT\"})\n",
    "        .set_index(\"SNP\")\n",
    "    )\n",
    "    for group, bfile in zip(group_list, bfile_list):\n",
    "        df_pred = admix_prs.calc_prs(bfile, df_weights)\n",
    "        df_pred.to_csv(join(ldpred2_dir, f\"sim_{sim_i}.prs.{group}.tsv.gz\"), sep=\"\\t\")\n",
    "\n",
    "\n",
    "import submitit\n",
    "\n",
    "executor = submitit.SgeExecutor(folder=\"./submitit-logs\")\n",
    "\n",
    "executor.update_parameters(\n",
    "    time_min=70,\n",
    "    memory_g=20,\n",
    "    setup=[\n",
    "        \"export PATH=~/project-pasaniuc/software/miniconda3/bin:$PATH\",\n",
    "        \"export PYTHONNOUSERSITE=True\",\n",
    "    ],\n",
    ")\n",
    "\n",
    "# jobs = executor.map_array(submit_predict, [prefix] * 10, np.arange(10))"
   ]
  },
  {
   "cell_type": "code",
   "execution_count": 16,
   "id": "af394e50-ec42-43ea-9f7b-52360377ff98",
   "metadata": {},
   "outputs": [],
   "source": [
    "def summarize(prefix, sim_i, quantiles=[0.1, 0.9], seed=1234):\n",
    "    np.random.seed(seed)\n",
    "    hsq = float(prefix.split(\"-\")[1])\n",
    "    print(f\"Using hsq={hsq} to generate posterior predictive samples for phenotypes\")\n",
    "\n",
    "    # read PRS\n",
    "    df_prs_eur_test = pd.read_csv(\n",
    "        f\"out/ldpred2/{prefix}/sim_{sim_i}.prs.eur_test.tsv.gz\", sep=\"\\t\", index_col=0\n",
    "    )\n",
    "    df_prs_admix = pd.read_csv(\n",
    "        f\"out/ldpred2/{prefix}/sim_{sim_i}.prs.admix.tsv.gz\", sep=\"\\t\", index_col=0\n",
    "    )\n",
    "    df_prs = pd.concat([df_prs_eur_test, df_prs_admix])\n",
    "\n",
    "    # read genetic value and phenotype\n",
    "    df_pheno_g = (\n",
    "        pd.read_csv(join(f\"out/pheno/{prefix}/sim.pheno_g.tsv\"), sep=\"\\t\", index_col=0)[\n",
    "            [\"GROUP\", f\"SIM_{sim_i}\"]\n",
    "        ]\n",
    "        .rename(columns={f\"SIM_{sim_i}\": \"GV\"})\n",
    "        .reindex(df_prs.index)\n",
    "    )\n",
    "    df_pheno = (\n",
    "        pd.read_csv(join(f\"out/pheno/{prefix}/sim.pheno.tsv\"), sep=\"\\t\", index_col=0)[\n",
    "            [f\"SIM_{sim_i}\"]\n",
    "        ]\n",
    "        .rename(columns={f\"SIM_{sim_i}\": \"PHENO\"})\n",
    "        .reindex(df_prs.index)\n",
    "    )\n",
    "\n",
    "    df_prs = pd.concat([df_pheno, df_pheno_g, df_prs], axis=1)\n",
    "\n",
    "    # predict in phenotype space\n",
    "    df_pred = df_prs[[f\"SAMPLE_{i}\" for i in range(1, 501)]]\n",
    "    df_pred += np.random.normal(scale=np.sqrt(1 - hsq), size=df_pred.shape)\n",
    "\n",
    "    pred_sd = np.std(df_pred, axis=1)\n",
    "    df_plot = pd.DataFrame(\n",
    "        {\n",
    "            \"PRS_MEAN\": df_prs[\"MEAN\"],\n",
    "            \"PRS_SD\": pred_sd,\n",
    "            \"GV\": df_prs[\"GV\"],\n",
    "            \"GROUP\": df_prs[\"GROUP\"],\n",
    "            \"PHENO\": df_prs[\"PHENO\"],\n",
    "        }\n",
    "    )\n",
    "    pred_interval = np.quantile(df_pred, q=quantiles, axis=1)\n",
    "    for q_i, q in enumerate(quantiles):\n",
    "        df_plot[f\"PRS_Q_{q}\"] = pred_interval[q_i, :]\n",
    "\n",
    "    return df_plot"
   ]
  },
  {
   "cell_type": "code",
   "execution_count": 17,
   "id": "24b38466-59ea-4a2b-b631-0e0983db21a1",
   "metadata": {},
   "outputs": [],
   "source": [
    "# read local ancestry\n",
    "df_lanc = pd.read_csv(\"out/admix_lanc.tsv\", sep=\"\\t\", index_col=0)\n",
    "df_lanc[\"lanc\"] = 1.0 - df_lanc[\"lanc\"]\n",
    "df_lanc[\"lanc_q\"] = pd.qcut(df_lanc.lanc, q=5).cat.codes + 1\n",
    "\n",
    "# read phenotype\n",
    "PHENO_DIR = \"/u/project/pasaniuc/pasaniucdata/admixture/projects/admix-prs-uncertainty/data/pheno\"\n",
    "df_covar = (\n",
    "    pd.concat(\n",
    "        [\n",
    "            pd.read_csv(join(PHENO_DIR, f\"{group}.covar\"), delim_whitespace=True)\n",
    "            for group in [\"eur_test\", \"admix\"]\n",
    "        ]\n",
    "    )\n",
    "    .reset_index(drop=True)\n",
    "    .astype({\"FID\": str, \"IID\": str})\n",
    ")\n",
    "df_covar.index = df_covar.FID + \"_\" + df_covar.IID\n",
    "df_covar = df_covar[[\"SEX\", \"AGE\"] + [f\"PC{i}\" for i in range(1, 11)]]"
   ]
  },
  {
   "cell_type": "code",
   "execution_count": 27,
   "id": "3ddd7bbf-2281-4424-9ffc-6828541194b6",
   "metadata": {},
   "outputs": [],
   "source": [
    "def submit_summarize(prefix):\n",
    "\n",
    "    np.random.seed(1234)\n",
    "\n",
    "    df_plot = []\n",
    "    for sim_i in tqdm(range(10)):\n",
    "        df_summary = summarize(prefix, sim_i)\n",
    "        df_summary.loc[df_lanc.index, \"GROUP\"] = \"admix_\" + df_lanc[\"lanc_q\"].astype(\n",
    "            str\n",
    "        )\n",
    "        df_summary = pd.merge(df_summary, df_covar, left_index=True, right_index=True)\n",
    "\n",
    "        # calibrate seperately for eur_test and admix\n",
    "        mean_cov_cols = [\"SEX\", \"AGE\"] + [f\"PC{i}\" for i in range(1, 3)]\n",
    "        quantile_cov_cols = [\"PC1\", \"PC2\"]\n",
    "\n",
    "        for group in [\"admix\", \"eur_test\"]:\n",
    "            df_tmp = df_summary[df_summary[\"GROUP\"].str.startswith(group)].copy()\n",
    "            idx_cal, idx_test = train_test_split(df_tmp.index, train_size=0.5)\n",
    "            df_calibrated = admix_prs.calibrate_prs(\n",
    "                df_tmp,\n",
    "                idx_cal,\n",
    "                mean_cov_cols=mean_cov_cols,\n",
    "                quantile_cov_cols=quantile_cov_cols,\n",
    "                q=0.1,\n",
    "                method=\"shift\",\n",
    "            )\n",
    "            df_calibrated.loc[idx_cal, \"IN_CAL\"] = True\n",
    "            df_calibrated.loc[idx_test, \"IN_CAL\"] = False\n",
    "            df_summary.loc[\n",
    "                df_calibrated.index, [\"CAL_PRS_Q_0.1\", \"CAL_PRS_Q_0.9\", \"IN_CAL\"]\n",
    "            ] = df_calibrated.values\n",
    "\n",
    "        df_summary[\"SIM_I\"] = sim_i\n",
    "\n",
    "        df_summary = df_summary[\n",
    "            [\"GROUP\", \"PHENO\"]\n",
    "            + [\"PRS_Q_0.1\", \"PRS_Q_0.9\"]\n",
    "            + [\"CAL_PRS_Q_0.1\", \"CAL_PRS_Q_0.9\"]\n",
    "            + [\"IN_CAL\", \"SIM_I\"]\n",
    "        ]\n",
    "        df_summary.index.name = \"INDIV\"\n",
    "        df_summary = df_summary.reset_index()\n",
    "        # append to all\n",
    "        df_plot.append(df_summary)\n",
    "\n",
    "    df_plot = pd.concat(df_plot)\n",
    "    df_plot.to_csv(f\"out/summary/{prefix}.tsv.gz\", sep=\"\\t\", index=False)"
   ]
  },
  {
   "cell_type": "code",
   "execution_count": 28,
   "id": "5e4ff026-2356-4fa1-b6b8-0c0ada5d9ade",
   "metadata": {},
   "outputs": [
    {
     "name": "stderr",
     "output_type": "stream",
     "text": [
      "  0%|          | 0/10 [00:00<?, ?it/s]"
     ]
    },
    {
     "name": "stdout",
     "output_type": "stream",
     "text": [
      "Using hsq=0.25 to generate posterior predictive samples for phenotypes\n"
     ]
    },
    {
     "name": "stderr",
     "output_type": "stream",
     "text": [
      "/u/project/pasaniuc/kangchen/software/miniconda3/lib/python3.8/site-packages/statsmodels/tsa/tsatools.py:142: FutureWarning: In a future version of pandas all arguments of concat except for the argument 'objs' will be keyword-only\n",
      "  x = pd.concat(x[::order], 1)\n",
      " 10%|█         | 1/10 [00:16<02:27, 16.44s/it]"
     ]
    },
    {
     "name": "stdout",
     "output_type": "stream",
     "text": [
      "Using hsq=0.25 to generate posterior predictive samples for phenotypes\n"
     ]
    },
    {
     "name": "stderr",
     "output_type": "stream",
     "text": [
      " 20%|██        | 2/10 [00:33<02:12, 16.61s/it]"
     ]
    },
    {
     "name": "stdout",
     "output_type": "stream",
     "text": [
      "Using hsq=0.25 to generate posterior predictive samples for phenotypes\n"
     ]
    },
    {
     "name": "stderr",
     "output_type": "stream",
     "text": [
      " 30%|███       | 3/10 [00:49<01:56, 16.63s/it]"
     ]
    },
    {
     "name": "stdout",
     "output_type": "stream",
     "text": [
      "Using hsq=0.25 to generate posterior predictive samples for phenotypes\n"
     ]
    },
    {
     "name": "stderr",
     "output_type": "stream",
     "text": [
      " 40%|████      | 4/10 [01:06<01:40, 16.71s/it]"
     ]
    },
    {
     "name": "stdout",
     "output_type": "stream",
     "text": [
      "Using hsq=0.25 to generate posterior predictive samples for phenotypes\n"
     ]
    },
    {
     "name": "stderr",
     "output_type": "stream",
     "text": [
      " 50%|█████     | 5/10 [01:23<01:23, 16.71s/it]"
     ]
    },
    {
     "name": "stdout",
     "output_type": "stream",
     "text": [
      "Using hsq=0.25 to generate posterior predictive samples for phenotypes\n"
     ]
    },
    {
     "name": "stderr",
     "output_type": "stream",
     "text": [
      " 60%|██████    | 6/10 [01:39<01:06, 16.63s/it]"
     ]
    },
    {
     "name": "stdout",
     "output_type": "stream",
     "text": [
      "Using hsq=0.25 to generate posterior predictive samples for phenotypes\n"
     ]
    },
    {
     "name": "stderr",
     "output_type": "stream",
     "text": [
      " 70%|███████   | 7/10 [01:56<00:49, 16.65s/it]"
     ]
    },
    {
     "name": "stdout",
     "output_type": "stream",
     "text": [
      "Using hsq=0.25 to generate posterior predictive samples for phenotypes\n"
     ]
    },
    {
     "name": "stderr",
     "output_type": "stream",
     "text": [
      " 80%|████████  | 8/10 [02:12<00:33, 16.57s/it]"
     ]
    },
    {
     "name": "stdout",
     "output_type": "stream",
     "text": [
      "Using hsq=0.25 to generate posterior predictive samples for phenotypes\n"
     ]
    },
    {
     "name": "stderr",
     "output_type": "stream",
     "text": [
      " 90%|█████████ | 9/10 [02:29<00:16, 16.69s/it]"
     ]
    },
    {
     "name": "stdout",
     "output_type": "stream",
     "text": [
      "Using hsq=0.25 to generate posterior predictive samples for phenotypes\n"
     ]
    },
    {
     "name": "stderr",
     "output_type": "stream",
     "text": [
      "100%|██████████| 10/10 [02:46<00:00, 16.64s/it]\n"
     ]
    }
   ],
   "source": [
    "submit_summarize(prefix)"
   ]
  },
  {
   "cell_type": "markdown",
   "id": "fe42980a-098d-4b8e-842e-f23295024880",
   "metadata": {},
   "source": [
    "# Calibration"
   ]
  },
  {
   "cell_type": "code",
   "execution_count": null,
   "id": "822ab981-d0c3-4481-b725-dfd523caa664",
   "metadata": {},
   "outputs": [],
   "source": [
    "# fig, ax = plt.subplots(figsize=(3, 3), dpi=150)\n",
    "# ax.errorbar(\n",
    "#     x=df_admix_plot.PHENO,\n",
    "#     y=df_admix_plot.PRS_MEAN,\n",
    "#     yerr=(\n",
    "#         df_admix_plot.PRS_MEAN - df_admix_plot[\"PRS_Q_0.1_calibrated\"],\n",
    "#         df_admix_plot[\"PRS_Q_0.9_calibrated\"] - df_admix_plot.PRS_MEAN,\n",
    "#     ),\n",
    "#     ecolor=\"lightgray\",\n",
    "#     fmt=\".\",\n",
    "#     markersize=3,\n",
    "#     elinewidth=1.0,\n",
    "#     capsize=2,\n",
    "# )\n",
    "# plt.plot([-2, 2], [-2, 2], color=\"red\", ls=\"--\", alpha=0.5)"
   ]
  },
  {
   "cell_type": "code",
   "execution_count": null,
   "id": "2702b33a-f05b-4754-ad49-1cc0280918fe",
   "metadata": {},
   "outputs": [],
   "source": [
    "# fig, ax = plt.subplots(figsize=(3, 3), dpi=150)\n",
    "# ax.errorbar(\n",
    "#     x=df_plot.GV,\n",
    "#     y=df_plot.PRS_MEAN,\n",
    "#     yerr=(\n",
    "#         df_plot.PRS_MEAN - df_plot.PRS_LOWER,\n",
    "#         df_plot.PRS_UPPER - df_plot.PRS_MEAN,\n",
    "#     ),\n",
    "#     ecolor=\"lightgray\",\n",
    "#     fmt=\".\",\n",
    "#     markersize=3,\n",
    "#     elinewidth=1.0,\n",
    "#     capsize=2,\n",
    "# )\n",
    "# plt.plot([-2, 2], [-2, 2], color=\"red\", ls=\"--\", alpha=0.5)"
   ]
  }
 ],
 "metadata": {
  "kernelspec": {
   "display_name": "Python 3",
   "language": "python",
   "name": "python3"
  },
  "language_info": {
   "codemirror_mode": {
    "name": "ipython",
    "version": 3
   },
   "file_extension": ".py",
   "mimetype": "text/x-python",
   "name": "python",
   "nbconvert_exporter": "python",
   "pygments_lexer": "ipython3",
   "version": "3.8.5"
  }
 },
 "nbformat": 4,
 "nbformat_minor": 5
}
