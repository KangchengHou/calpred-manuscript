{
 "cells": [
  {
   "cell_type": "code",
   "execution_count": 10,
   "id": "432f8a8e-eda6-4649-b15e-37736ad93a10",
   "metadata": {},
   "outputs": [
    {
     "name": "stdout",
     "output_type": "stream",
     "text": [
      "The autoreload extension is already loaded. To reload it, use:\n",
      "  %reload_ext autoreload\n",
      "The lab_black extension is already loaded. To reload it, use:\n",
      "  %reload_ext lab_black\n"
     ]
    }
   ],
   "source": [
    "%load_ext autoreload\n",
    "%autoreload 2\n",
    "%load_ext lab_black\n",
    "\n",
    "from os.path import join\n",
    "import xarray as xr\n",
    "import numpy as np\n",
    "import pandas as pd\n",
    "import admix\n",
    "\n",
    "import sys\n",
    "\n",
    "sys.path.append(\n",
    "    \"/u/project/pasaniuc/pasaniucdata/admixture/projects/admix-prs-uncertainty\"\n",
    ")\n",
    "import common"
   ]
  },
  {
   "cell_type": "code",
   "execution_count": 10,
   "id": "05ed5af5-3095-4361-b0c4-f3fdd6158c2a",
   "metadata": {},
   "outputs": [
    {
     "name": "stdout",
     "output_type": "stream",
     "text": [
      "The autoreload extension is already loaded. To reload it, use:\n",
      "  %reload_ext autoreload\n",
      "The lab_black extension is already loaded. To reload it, use:\n",
      "  %reload_ext lab_black\n"
     ]
    },
    {
     "name": "stderr",
     "output_type": "stream",
     "text": [
      "/u/project/pasaniuc/kangchen/software/miniconda3/lib/python3.8/site-packages/xarray/core/indexing.py:1226: PerformanceWarning: Slicing is producing a large chunk. To accept the large\n",
      "chunk and silence this warning, set the option\n",
      "    >>> with dask.config.set(**{'array.slicing.split_large_chunks': False}):\n",
      "    ...     array[indexer]\n",
      "\n",
      "To avoid creating the large chunks, set the option\n",
      "    >>> with dask.config.set(**{'array.slicing.split_large_chunks': True}):\n",
      "    ...     array[indexer]\n",
      "  return self.array[key]\n",
      "_geno_mult_mat: 100%|██████████| 1/1 [00:15<00:00, 15.42s/it]\n"
     ]
    }
   ],
   "source": [
    "from os.path import join\n",
    "import xarray as xr\n",
    "import numpy as np\n",
    "import pandas as pd\n",
    "import admix\n",
    "import matplotlib.pyplot as plt\n",
    "\n",
    "PLINK_DIR = \"/u/project/pasaniuc/pasaniucdata/admixture/projects/admix-prs-uncertainty/data/PLINK/\"\n",
    "\n",
    "dset_eur_train = admix.io.read_plink(join(PLINK_DIR, \"eur_train/chr22\"))\n",
    "dset_eur_val = admix.io.read_plink(join(PLINK_DIR, \"eur_val/chr22\"))\n",
    "dset_eur_test = admix.io.read_plink(join(PLINK_DIR, \"eur_test/chr22\"))\n",
    "\n",
    "dset_admix = admix.io.read_plink(join(PLINK_DIR, \"admix/chr22\"))\n",
    "dset = xr.concat([dset_eur_train, dset_eur_val, dset_eur_test, dset_admix], dim=\"indiv\")\n",
    "\n",
    "np.random.seed(1234)\n",
    "sim = admix.simulate.continuous_pheno_1pop(\n",
    "    dset.isel(snp=np.arange(1000)), var_g=0.001, var_e=1.0, n_sim=10\n",
    ")"
   ]
  },
  {
   "cell_type": "code",
   "execution_count": 12,
   "id": "629c2be9-1838-42da-af62-2d61befeaba3",
   "metadata": {},
   "outputs": [],
   "source": [
    "beta = sim[\"beta\"].copy()\n",
    "pheno = sim[\"pheno\"].copy()\n",
    "pheno.index = pheno.index.str.split(\"_\", expand=True)\n",
    "pheno.index.names = [\"FID\", \"IID\"]\n",
    "pheno = pheno.reset_index()\n",
    "\n",
    "admix.tools.plink_assoc(\n",
    "    join(PLINK_DIR, \"eur_train/chr22\"), pheno, out_prefix=\"out/plink\"\n",
    ")\n",
    "\n"
   ]
  }
 ],
 "metadata": {
  "kernelspec": {
   "display_name": "Python 3",
   "language": "python",
   "name": "python3"
  },
  "language_info": {
   "codemirror_mode": {
    "name": "ipython",
    "version": 3
   },
   "file_extension": ".py",
   "mimetype": "text/x-python",
   "name": "python",
   "nbconvert_exporter": "python",
   "pygments_lexer": "ipython3",
   "version": "3.8.5"
  }
 },
 "nbformat": 4,
 "nbformat_minor": 5
}
