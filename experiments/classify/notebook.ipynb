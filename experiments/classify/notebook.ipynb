{
 "cells": [
  {
   "cell_type": "code",
   "execution_count": 1,
   "id": "ff9b2be5-bd13-4f0d-a923-478d75cdec54",
   "metadata": {},
   "outputs": [],
   "source": [
    "%load_ext lab_black\n",
    "import numpy as np\n",
    "import pandas as pd\n",
    "import matplotlib.pyplot as plt\n",
    "from scipy import stats"
   ]
  },
  {
   "cell_type": "code",
   "execution_count": 2,
   "id": "b3bf4874-a1fe-4517-b234-8944b34f93bc",
   "metadata": {},
   "outputs": [],
   "source": [
    "def prioritize_summary(df, q, covar, q_width=0.025, threshold=0, verbose=False):\n",
    "    df = df.copy()\n",
    "\n",
    "    if len(df[covar].unique()) > 5:\n",
    "        df[\"covar_q\"] = pd.qcut(df[covar], q=5).cat.codes\n",
    "    else:\n",
    "        df[\"covar_q\"] = df[covar].values\n",
    "\n",
    "    overall_predstd = np.sqrt(np.mean((df[\"pheno\"] - df[\"cal_pred\"]) ** 2))\n",
    "    df[\"generic_prob\"] = stats.norm.cdf((df[\"cal_pred\"] - threshold) / overall_predstd)\n",
    "    df[\"cal_prob\"] = stats.norm.cdf((df[\"cal_pred\"] - threshold) / df[\"cal_predstd\"])\n",
    "    df_stats = {\"group\": [], \"generic\": [], \"cal\": []}\n",
    "    for strata in [\"overall\"] + list(np.sort(df[\"covar_q\"].unique())):\n",
    "        if strata == \"overall\":\n",
    "            df_tmp = df\n",
    "        else:\n",
    "            df_tmp = df[df[\"covar_q\"] == strata]\n",
    "\n",
    "        df_tmp_generic = df_tmp[\n",
    "            df_tmp[\"generic_prob\"].between(q - q_width, q + q_width)\n",
    "        ]\n",
    "        df_tmp_cal = df_tmp[df_tmp[\"cal_prob\"].between(q - q_width, q + q_width)]\n",
    "        generic_prob = np.mean(df_tmp_generic[\"pheno\"] > threshold)\n",
    "        cal_prob = np.mean(df_tmp_cal[\"pheno\"] > threshold)\n",
    "        if verbose:\n",
    "            print(\n",
    "                f\"# {strata:<8}: generic: {generic_prob * 100:.1f}% (#indiv={len(df_tmp_generic)}); cal: {cal_prob * 100:.1f}% (#indiv={len(df_tmp_cal)})\"\n",
    "            )\n",
    "        df_stats[\"group\"].append(strata)\n",
    "        df_stats[\"generic\"].append(generic_prob)\n",
    "        df_stats[\"cal\"].append(cal_prob)\n",
    "    df_stats = pd.DataFrame(df_stats)\n",
    "    return df_stats.set_index(\"group\")\n",
    "\n",
    "\n",
    "def reference_summary(df, covar, q=0.9):\n",
    "    \"\"\"\n",
    "    use reference range\n",
    "    \"\"\"\n",
    "    df = df.copy()\n",
    "\n",
    "    if len(df[covar].unique()) > 5:\n",
    "        df[\"covar_q\"] = pd.qcut(df[covar], q=5).cat.codes\n",
    "    else:\n",
    "        df[\"covar_q\"] = df[covar].values\n",
    "\n",
    "    overall_threshold = df[\"pheno\"].quantile(q=q)\n",
    "    personalized_threshold = df[\"cal_pred\"] + df[\"cal_predstd\"] * stats.norm.ppf(q)\n",
    "    df_stats = {\"group\": [], \"overall\": [], \"personalized\": []}\n",
    "    for method in [\"overall\", \"personalized\"]:\n",
    "        if method == \"overall\":\n",
    "            threshold = overall_threshold\n",
    "        else:\n",
    "            threshold = personalized_threshold\n",
    "\n",
    "        for strata in [\"overall\"] + list(np.sort(df[\"covar_q\"].unique())):\n",
    "            if strata == \"overall\":\n",
    "                df_tmp = df[df[\"pheno\"] > threshold]\n",
    "            else:\n",
    "                df_tmp = df[(df[\"covar_q\"] == strata) & (df[\"pheno\"] > threshold)]\n",
    "\n",
    "            print(f\"# {method} {strata} {len(df_tmp)}\")\n",
    "\n",
    "\n",
    "def rank_summary(df, q, n_indiv=1000):\n",
    "    df = df.copy()\n",
    "    threshold = df[\"pheno\"].quantile(q=q)\n",
    "    df[\"pheno_threshold\"] = (df[\"pheno\"] > threshold).astype(int)\n",
    "    df[\"pred_z\"] = (df[\"cal_pred\"] - threshold) / df[\"cal_predstd\"]\n",
    "\n",
    "    z_stat = (\n",
    "        df.sort_values(\"pred_z\", ascending=False)[\"pheno_threshold\"]\n",
    "        .cumsum()\n",
    "        .iloc[0:n_indiv]\n",
    "    )\n",
    "    point_stat = (\n",
    "        df.sort_values(\"cal_pred\", ascending=False)[\"pheno_threshold\"]\n",
    "        .cumsum()\n",
    "        .iloc[0:n_indiv]\n",
    "    )\n",
    "    return pd.DataFrame({\"prob\": z_stat.values, \"point\": point_stat.values})"
   ]
  },
  {
   "cell_type": "code",
   "execution_count": 3,
   "id": "88ffd90b-ec8c-4093-9901-6c0972af15fd",
   "metadata": {},
   "outputs": [],
   "source": [
    "# setup (so this notebook can be run for trait-group repeatedly)\n",
    "group = \"all\"\n",
    "method = \"mean+var\"\n",
    "\n",
    "trait = \"LDL\"\n",
    "threshold = 175.0\n",
    "covar = \"PC1\"\n",
    "\n",
    "# trait = \"height\"\n",
    "# threshold = 0.5\n",
    "# covar = \"PC1\""
   ]
  },
  {
   "cell_type": "code",
   "execution_count": 4,
   "id": "7aa4e7e5-99fc-48d2-a935-999327ceb9b5",
   "metadata": {},
   "outputs": [],
   "source": [
    "df_stats = []\n",
    "for seed in range(1, 31):\n",
    "    df = pd.read_csv(\n",
    "        f\"../calibrate/out/model/{trait}-{group}/{seed}-{method}.test_info.tsv\",\n",
    "        sep=\"\\t\",\n",
    "        index_col=0,\n",
    "    )\n",
    "    # predictive check\n",
    "    # df[\"pheno\"] = np.random.normal(loc=df[\"cal_pred\"], scale=df[\"cal_predstd\"])\n",
    "    df_stats.append(\n",
    "        prioritize_summary(df, q=0.8, covar=covar, threshold=threshold, verbose=False)\n",
    "    )\n",
    "df_stats_mean = pd.DataFrame(\n",
    "    np.mean(df_stats, axis=0), index=df_stats[0].index, columns=df_stats[0].columns\n",
    ")\n",
    "df_stats_std = pd.DataFrame(\n",
    "    np.std(df_stats, axis=0) / np.sqrt(len(df_stats)),\n",
    "    index=df_stats[0].index,\n",
    "    columns=df_stats[0].columns,\n",
    ")"
   ]
  },
  {
   "cell_type": "code",
   "execution_count": 5,
   "id": "ed91cf60-a8f6-4b7c-bc2b-84ab33540a81",
   "metadata": {},
   "outputs": [
    {
     "name": "stderr",
     "output_type": "stream",
     "text": [
      "/u/project/pasaniuc/kangchen/software/miniconda3/lib/python3.8/site-packages/matplotlib/axes/_base.py:2283: UserWarning: Warning: converting a masked element to nan.\n",
      "  xys = np.asarray(xys)\n",
      "/u/project/pasaniuc/kangchen/software/miniconda3/lib/python3.8/site-packages/matplotlib/axes/_base.py:2283: UserWarning: Warning: converting a masked element to nan.\n",
      "  xys = np.asarray(xys)\n"
     ]
    },
    {
     "data": {
      "text/plain": [
       "<matplotlib.lines.Line2D at 0x2b7dbc165fd0>"
      ]
     },
     "execution_count": 5,
     "metadata": {},
     "output_type": "execute_result"
    },
    {
     "data": {
      "image/png": "[encoded data removed]",
      "text/plain": [
       "<Figure size 450x300 with 1 Axes>"
      ]
     },
     "metadata": {
      "needs_background": "light"
     },
     "output_type": "display_data"
    }
   ],
   "source": [
    "fig, ax = plt.subplots(figsize=(3, 2), dpi=150)\n",
    "for i, col in enumerate([\"generic\", \"cal\"]):\n",
    "    mean, std = df_stats_mean[col], df_stats_std[col]\n",
    "    ax.errorbar(\n",
    "        np.arange(len(mean)) - 0.2 + 0.4 * i, mean, yerr=std, fmt=\".\", capsize=4\n",
    "    )\n",
    "ax.axhline(y=0.8, ls=\"--\", color=\"red\")"
   ]
  },
  {
   "cell_type": "code",
   "execution_count": 37,
   "id": "4eb3840f-55b4-45fd-88b8-1cf1bbc9fd24",
   "metadata": {},
   "outputs": [],
   "source": [
    "df_rank = []\n",
    "for seed in range(1, 31):\n",
    "    df = pd.read_csv(\n",
    "        f\"../calibrate/out/model/{trait}-{group}/{seed}-{method}.test_info.tsv\",\n",
    "        sep=\"\\t\",\n",
    "        index_col=0,\n",
    "    )\n",
    "    df = df.loc[(df.AGE < -1.5) | (df.AGE > 1.5), :]\n",
    "    # predictive check\n",
    "    df[\"pheno\"] = np.random.normal(loc=df[\"cal_pred\"], scale=df[\"cal_predstd\"])\n",
    "    df_rank.append(rank_summary(df, q=0.8, n_indiv=300))\n",
    "df_rank_mean = pd.DataFrame(\n",
    "    np.mean(df_rank, axis=0), index=df_rank[0].index, columns=df_rank[0].columns\n",
    ")\n",
    "df_rank_std = pd.DataFrame(\n",
    "    np.std(df_rank, axis=0) / np.sqrt(len(df_rank)),\n",
    "    index=df_rank[0].index,\n",
    "    columns=df_rank[0].columns,\n",
    ")"
   ]
  },
  {
   "cell_type": "code",
   "execution_count": 38,
   "id": "b170d02f-b867-4079-a997-44104d963963",
   "metadata": {},
   "outputs": [
    {
     "data": {
      "text/plain": [
       "<matplotlib.legend.Legend at 0x2b7dbe9d2d60>"
      ]
     },
     "execution_count": 38,
     "metadata": {},
     "output_type": "execute_result"
    },
    {
     "data": {
      "image/png": "[encoded data removed]",
      "text/plain": [
       "<Figure size 750x750 with 1 Axes>"
      ]
     },
     "metadata": {
      "needs_background": "light"
     },
     "output_type": "display_data"
    }
   ],
   "source": [
    "fig, ax = plt.subplots(figsize=(5, 5), dpi=150)\n",
    "ax.plot(df_rank_mean[\"prob\"], label=\"Probabilistic\")\n",
    "ax.plot(df_rank_mean[\"point\"], label=\"Point\")\n",
    "ax.legend()"
   ]
  },
  {
   "cell_type": "code",
   "execution_count": 80,
   "id": "402e2f7e-00c8-4bcd-8dfe-277aee1fb437",
   "metadata": {},
   "outputs": [
    {
     "name": "stdout",
     "output_type": "stream",
     "text": [
      "q=0.0, #indiv=5000, prop=0.001\n",
      "q=0.1, #indiv=0, prop=nan\n",
      "q=0.2, #indiv=0, prop=nan\n",
      "q=0.30000000000000004, #indiv=0, prop=nan\n",
      "q=0.4, #indiv=0, prop=nan\n",
      "q=0.5, #indiv=0, prop=nan\n",
      "q=0.6000000000000001, #indiv=0, prop=nan\n",
      "q=0.7000000000000001, #indiv=0, prop=nan\n",
      "q=0.8, #indiv=0, prop=nan\n",
      "q=0.9, #indiv=0, prop=nan\n",
      "q=1.0, #indiv=0, prop=nan\n"
     ]
    }
   ],
   "source": [
    "threshold = 3.2\n",
    "overall_predstd = np.sqrt(np.mean((df[\"pheno\"] - df[\"cal_pred\"]) ** 2))\n",
    "df[\"generic_prob\"] = stats.norm.cdf((df[\"cal_pred\"] - threshold) / overall_predstd)\n",
    "q, q_width = 0.9, 0.05\n",
    "for q in np.linspace(0, 1, 11):\n",
    "    df_tmp = df[df[\"generic_prob\"].between(q - q_width, q + q_width)]\n",
    "    print(\n",
    "        f\"q={q}, #indiv={len(df_tmp)}, prop={np.mean(df_tmp['pheno'] > threshold):.3f}\"\n",
    "    )"
   ]
  },
  {
   "cell_type": "code",
   "execution_count": 79,
   "id": "cb76252a-34fb-4db4-9084-a5a8129b8ace",
   "metadata": {},
   "outputs": [
    {
     "data": {
      "text/plain": [
       "0.9036"
      ]
     },
     "execution_count": 79,
     "metadata": {},
     "output_type": "execute_result"
    }
   ],
   "source": [
    "df[\"pheno\"].between(\n",
    "    df[\"cal_pred\"] - df[\"cal_predstd\"] * 1.645,\n",
    "    df[\"cal_pred\"] + df[\"cal_predstd\"] * 1.645,\n",
    ").mean()"
   ]
  },
  {
   "cell_type": "code",
   "execution_count": 78,
   "id": "d6707cd0-373d-4560-b2e2-9adcdb22bd72",
   "metadata": {},
   "outputs": [
    {
     "data": {
      "image/png": "[encoded data removed]",
      "text/plain": [
       "<Figure size 300x300 with 1 Axes>"
      ]
     },
     "metadata": {
      "needs_background": "light"
     },
     "output_type": "display_data"
    },
    {
     "data": {
      "image/png": "[encoded data removed]",
      "text/plain": [
       "<Figure size 375x225 with 1 Axes>"
      ]
     },
     "metadata": {
      "needs_background": "light"
     },
     "output_type": "display_data"
    }
   ],
   "source": [
    "fig, ax = plt.subplots(figsize=(2, 2), dpi=150)\n",
    "ax.scatter(\n",
    "    np.sort(np.random.normal(size=len(df))),\n",
    "    np.sort((df[\"pheno\"] - df[\"cal_pred\"]) / df[\"cal_predstd\"]),\n",
    "    s=2,\n",
    ")\n",
    "ax.axline((0, 0), slope=1, color=\"red\", ls=\"--\")\n",
    "fig.show()\n",
    "\n",
    "fig, ax = plt.subplots(figsize=(2.5, 1.5), dpi=150)\n",
    "ax.hist(\n",
    "    (df[\"pheno\"] - df[\"cal_pred\"]) / df[\"cal_predstd\"],\n",
    "    bins=30,\n",
    "    edgecolor=\"black\",\n",
    "    linewidth=1.0,\n",
    "    alpha=0.5,\n",
    "    label=\"empirical\",\n",
    "    density=True,\n",
    ")\n",
    "ax.hist(\n",
    "    np.random.normal(size=len(df)),\n",
    "    bins=30,\n",
    "    edgecolor=\"black\",\n",
    "    linewidth=1.0,\n",
    "    alpha=0.5,\n",
    "    label=\"theory\",\n",
    "    density=True,\n",
    ")\n",
    "ax.legend(fontsize=8)\n",
    "fig.show()"
   ]
  },
  {
   "cell_type": "markdown",
   "id": "e5ee1039-19bd-4579-903f-bc88c4229147",
   "metadata": {},
   "source": [
    "# advantage of using prediction intervals\n",
    "\n",
    "## prioritize individuals\n",
    "- method 1: use point predictions (equivalently, use generic intervals) to prioritize individuals\n",
    "- method 2: use point predictions + prediction intervals to priortize individuals\n",
    "\n",
    "Goal (theory / ideal): prioritize individuals with phenotype > 3 with 90% confidence\n",
    "\n",
    "## personalized reference range\n",
    "- method 1: outlier individuals based on generic reference range (or we could add age-specific reference range)\n",
    "- method 2: outlier individuals based on personalized reference range"
   ]
  },
  {
   "cell_type": "markdown",
   "id": "8c8f7f74-9b02-4acd-8b82-db4e4ade0ebf",
   "metadata": {},
   "source": [
    "# Fast simulations"
   ]
  },
  {
   "cell_type": "markdown",
   "id": "6089f40f-0121-4763-8dc0-39b8538d4832",
   "metadata": {},
   "source": [
    "- $y = \\mathcal{N}(\\widehat{y}, \\sigma^2(c))$\n",
    "- $\\sigma^2(c) = 1$ for female; $\\sigma^2(c) = 5$ for male."
   ]
  },
  {
   "cell_type": "code",
   "execution_count": 439,
   "id": "894fd651-6994-4c7c-883f-58bd94e21c84",
   "metadata": {},
   "outputs": [],
   "source": [
    "from scipy import stats"
   ]
  },
  {
   "cell_type": "code",
   "execution_count": 440,
   "id": "125c22a9-145f-460a-9f93-1d483ea7aac4",
   "metadata": {},
   "outputs": [],
   "source": [
    "n_indiv = 100000"
   ]
  },
  {
   "cell_type": "code",
   "execution_count": 441,
   "id": "836fe063-2d08-4956-a433-37166595f25c",
   "metadata": {},
   "outputs": [],
   "source": [
    "covar = np.random.randint(2, size=n_indiv)\n",
    "yhat = np.random.normal(size=n_indiv)\n",
    "sigma2 = np.ones(n_indiv) * 0.5\n",
    "sigma2[covar == 1] = 2.5\n",
    "predstd = np.sqrt(sigma2)\n",
    "y = yhat + np.random.normal(scale=predstd)"
   ]
  },
  {
   "cell_type": "code",
   "execution_count": 442,
   "id": "65c4b654-c791-4233-9452-8315e1804bd0",
   "metadata": {},
   "outputs": [],
   "source": [
    "df = pd.DataFrame({\"pheno\": y, \"cal_pred\": yhat, \"sex\": covar, \"cal_predstd\": predstd})"
   ]
  },
  {
   "cell_type": "code",
   "execution_count": 443,
   "id": "9c0aa92d-4f22-4ca3-98bb-eb211f8506a3",
   "metadata": {},
   "outputs": [
    {
     "data": {
      "text/html": [
       "<div>\n",
       "<style scoped>\n",
       "    .dataframe tbody tr th:only-of-type {\n",
       "        vertical-align: middle;\n",
       "    }\n",
       "\n",
       "    .dataframe tbody tr th {\n",
       "        vertical-align: top;\n",
       "    }\n",
       "\n",
       "    .dataframe thead th {\n",
       "        text-align: right;\n",
       "    }\n",
       "</style>\n",
       "<table border=\"1\" class=\"dataframe\">\n",
       "  <thead>\n",
       "    <tr style=\"text-align: right;\">\n",
       "      <th></th>\n",
       "      <th>generic</th>\n",
       "      <th>cal</th>\n",
       "    </tr>\n",
       "    <tr>\n",
       "      <th>group</th>\n",
       "      <th></th>\n",
       "      <th></th>\n",
       "    </tr>\n",
       "  </thead>\n",
       "  <tbody>\n",
       "    <tr>\n",
       "      <th>overall</th>\n",
       "      <td>0.908914</td>\n",
       "      <td>0.901578</td>\n",
       "    </tr>\n",
       "    <tr>\n",
       "      <th>0</th>\n",
       "      <td>0.982567</td>\n",
       "      <td>0.907640</td>\n",
       "    </tr>\n",
       "    <tr>\n",
       "      <th>1</th>\n",
       "      <td>0.834795</td>\n",
       "      <td>0.887184</td>\n",
       "    </tr>\n",
       "  </tbody>\n",
       "</table>\n",
       "</div>"
      ],
      "text/plain": [
       "          generic       cal\n",
       "group                      \n",
       "overall  0.908914  0.901578\n",
       "0        0.982567  0.907640\n",
       "1        0.834795  0.887184"
      ]
     },
     "execution_count": 443,
     "metadata": {},
     "output_type": "execute_result"
    }
   ],
   "source": [
    "prioritize_summary(df=df, q=0.9, covar=\"sex\")"
   ]
  },
  {
   "cell_type": "code",
   "execution_count": 444,
   "id": "a4890b80-5768-4d81-87c6-224abc487234",
   "metadata": {},
   "outputs": [
    {
     "name": "stdout",
     "output_type": "stream",
     "text": [
      "# overall overall 10000\n",
      "# overall 0 2791\n",
      "# overall 1 7209\n",
      "# personalized overall 9854\n",
      "# personalized 0 4996\n",
      "# personalized 1 4858\n"
     ]
    }
   ],
   "source": [
    "reference_summary(df=df, covar=\"sex\")"
   ]
  },
  {
   "cell_type": "markdown",
   "id": "7c4cd0eb-a8dd-4265-9193-3cc73863f363",
   "metadata": {},
   "source": [
    "# Fast simulations end\n",
    "-----"
   ]
  },
  {
   "cell_type": "code",
   "execution_count": 46,
   "id": "0e5fbf51-43e2-4579-b966-b9fb18b1930d",
   "metadata": {},
   "outputs": [
    {
     "data": {
      "text/plain": [
       "<matplotlib.legend.Legend at 0x2b0d3d172040>"
      ]
     },
     "execution_count": 46,
     "metadata": {},
     "output_type": "execute_result"
    },
    {
     "data": {
      "image/png": "[encoded data removed]",
      "text/plain": [
       "<Figure size 450x300 with 1 Axes>"
      ]
     },
     "metadata": {
      "needs_background": "light"
     },
     "output_type": "display_data"
    }
   ],
   "source": [
    "fig, ax = plt.subplots(figsize=(3, 2), dpi=150)\n",
    "ax.hist(\n",
    "    df[\"cal_pred\"],\n",
    "    bins=30,\n",
    "    edgecolor=\"black\",\n",
    "    linewidth=1.0,\n",
    "    alpha=0.5,\n",
    "    label=r\"$\\widehat{y}$\",\n",
    ")\n",
    "ax.hist(df[\"pheno\"], bins=30, edgecolor=\"black\", linewidth=1.0, alpha=0.5, label=r\"$y$\")\n",
    "ax.axvline(x=threshold, color=\"red\", ls=\"--\")\n",
    "ax.legend()"
   ]
  },
  {
   "cell_type": "code",
   "execution_count": 58,
   "id": "a0825f42-9013-4d9c-9b02-3bcfd20ae3dd",
   "metadata": {},
   "outputs": [
    {
     "data": {
      "text/plain": [
       "(array([0.16033521, 0.10689014, 0.32067041, 0.42756055, 0.64134083,\n",
       "        0.16033521, 0.42756055, 0.37411548, 0.32067041, 0.16033521]),\n",
       " array([2.25  , 2.5726, 2.8952, 3.2178, 3.5404, 3.863 , 4.1856, 4.5082,\n",
       "        4.8308, 5.1534, 5.476 ]),\n",
       " <BarContainer object of 10 artists>)"
      ]
     },
     "execution_count": 58,
     "metadata": {},
     "output_type": "execute_result"
    },
    {
     "data": {
      "image/png": "[encoded data removed]",
      "text/plain": [
       "<Figure size 432x288 with 1 Axes>"
      ]
     },
     "metadata": {
      "needs_background": "light"
     },
     "output_type": "display_data"
    }
   ],
   "source": [
    "plt.hist(df[(df[\"cal_pred\"] > threshold) & (df[\"AGE\"] > 1)][\"pheno\"], density=True)\n",
    "plt.hist(df[(df[\"cal_pred\"] > threshold) & (df[\"AGE\"] < -1)][\"pheno\"], density=True)"
   ]
  },
  {
   "cell_type": "code",
   "execution_count": 54,
   "id": "fbfbbe6d-0b5b-46c4-8a7e-a96def46ed69",
   "metadata": {},
   "outputs": [
    {
     "data": {
      "text/plain": [
       "0.6650565859044163"
      ]
     },
     "execution_count": 54,
     "metadata": {},
     "output_type": "execute_result"
    }
   ],
   "source": [
    "df[(df[\"cal_pred\"] > threshold) & (df[\"AGE\"] < -1)][\"pheno\"].var()"
   ]
  },
  {
   "cell_type": "code",
   "execution_count": null,
   "id": "60880f39-547f-4343-a7b7-ec819dea794b",
   "metadata": {},
   "outputs": [],
   "source": []
  },
  {
   "cell_type": "code",
   "execution_count": 4,
   "id": "d7ecd1fb-7f7c-4867-8632-3c89ff24fd46",
   "metadata": {},
   "outputs": [],
   "source": [
    "# prioritize by PGS"
   ]
  }
 ],
 "metadata": {
  "kernelspec": {
   "display_name": "Python 3",
   "language": "python",
   "name": "python3"
  },
  "language_info": {
   "codemirror_mode": {
    "name": "ipython",
    "version": 3
   },
   "file_extension": ".py",
   "mimetype": "text/x-python",
   "name": "python",
   "nbconvert_exporter": "python",
   "pygments_lexer": "ipython3",
   "version": "3.8.5"
  }
 },
 "nbformat": 4,
 "nbformat_minor": 5
}
