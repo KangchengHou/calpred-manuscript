{
 "cells": [
  {
   "cell_type": "code",
   "execution_count": 1,
   "id": "265dd94c-45ea-4b7c-80c4-45c822ef55f8",
   "metadata": {},
   "outputs": [],
   "source": [
    "# %load_ext autoreload\n",
    "# %autoreload 2\n",
    "%load_ext lab_black\n",
    "\n",
    "import os\n",
    "import numpy as np\n",
    "import pandas as pd\n",
    "from glob import glob\n",
    "import statsmodels.api as sm\n",
    "from typing import List\n",
    "import itertools\n",
    "import matplotlib.pyplot as plt\n",
    "from scipy import stats\n",
    "import calpgs\n",
    "import seaborn as sns\n",
    "from tqdm import tqdm\n",
    "\n",
    "np.random.seed(42)\n",
    "plt.rcParams[\"font.family\"] = \"Arial\""
   ]
  },
  {
   "cell_type": "code",
   "execution_count": 2,
   "id": "d054b0cd-221d-45b1-a58b-760f92a9c611",
   "metadata": {},
   "outputs": [],
   "source": [
    "# data\n",
    "df_cov = pd.read_csv(\"data/cov.tsv\", sep=\"\\t\", index_col=0).reset_index(drop=True)\n",
    "n_indiv = df_cov.shape[0]\n",
    "df_cov[\"GIA\"] = np.sort(stats.expon.ppf(np.linspace(0.01, 0.4, n_indiv)))[\n",
    "    stats.rankdata(df_cov[\"PC1\"], method=\"ordinal\") - 1\n",
    "]\n",
    "df_cov.drop(columns=\"PC1\", inplace=True)\n",
    "\n",
    "df_cov = (df_cov - df_cov.mean(axis=0)) / df_cov.std(axis=0)\n",
    "\n",
    "df_cov = df_cov.sample(n=50000)\n",
    "\n",
    "# parameter\n",
    "baseline_r2 = 0.25\n",
    "cov_effects = [0.25, 0.2, 0.15]\n",
    "\n",
    "# simulate data\n",
    "cov = df_cov.values\n",
    "n_indiv = cov.shape[0]\n",
    "pred = np.random.normal(size=n_indiv)\n",
    "design = np.hstack([np.ones((n_indiv, 1)), pred.reshape(-1, 1), cov])\n",
    "\n",
    "true_beta = np.array([0, 1] + [0] * cov.shape[1])\n",
    "true_gamma = np.array([np.log(1 / baseline_r2 - 1), 0] + list(cov_effects))\n",
    "slope = np.ones(n_indiv)\n",
    "slope[cov[:, 1] > 0] += 5\n",
    "y = np.random.normal(\n",
    "    loc=(design @ true_beta) * slope, scale=np.sqrt(np.exp(design @ true_gamma))\n",
    ")\n",
    "\n",
    "# prepare data\n",
    "mean_covar, var_covar, y = design, design, y\n",
    "slope_covar = cov.copy()\n",
    "slope_covar[:, 1] = (slope_covar[:, 1] > 0).astype(float)"
   ]
  },
  {
   "cell_type": "code",
   "execution_count": 3,
   "id": "2ed3ac95-13b4-4fe8-844f-dafd2fc53457",
   "metadata": {},
   "outputs": [],
   "source": [
    "# female = cov[:, 1] < 0\n",
    "# fig, ax = plt.subplots(figsize=(3, 3), dpi=150)\n",
    "# plt.scatter(pred[female], y[female], s=2, label=\"Female\")\n",
    "# plt.scatter(pred[~female], y[~female], s=2, label=\"Male\")\n",
    "# plt.legend()\n",
    "# plt.show()"
   ]
  },
  {
   "cell_type": "code",
   "execution_count": 4,
   "id": "f9ef16b2-7b14-4021-a022-79ebcc2d0bc3",
   "metadata": {},
   "outputs": [],
   "source": [
    "def fit_het_linear_vary_slope(\n",
    "    y: np.ndarray,\n",
    "    mean_covar: np.ndarray,\n",
    "    var_covar: np.ndarray,\n",
    "    slope_covar: np.ndarray,\n",
    "):\n",
    "    \"\"\"Fit `fit_het_linear` with varying slope\n",
    "    y ~ N((mean_covar * mean_beta) * (1 + slope_covar * slope_beta), exp(var_covar * var_beta))\n",
    "\n",
    "    \"\"\"\n",
    "    slope_beta = np.zeros(slope_covar.shape[1])\n",
    "\n",
    "    for i in range(500):\n",
    "\n",
    "        slope_weight = 1 + slope_covar @ slope_beta\n",
    "\n",
    "        print(f\"## iter{i}\")\n",
    "        print(\"slope_beta: \", slope_beta[0:5])\n",
    "        print(\"slope_weight: \", slope_weight[0:5])\n",
    "        beta, gamma = calpgs.fit_het_linear(\n",
    "            y=y,\n",
    "            mean_covar=mean_covar * slope_weight[:, None],\n",
    "            var_covar=var_covar,\n",
    "            method=\"remlscore\",\n",
    "            return_est_covar=False,\n",
    "        )\n",
    "        fitted_mu = mean_covar @ beta\n",
    "        fitted_var = np.exp(var_covar.dot(gamma))\n",
    "        print(\"fitted_mu: \", fitted_mu)\n",
    "        print(\"fitted_mu: \", fitted_mu)\n",
    "\n",
    "        # fit slope beta\n",
    "        #     y ~ N(mu * (1 + slope_covar * slope_beta), var)\n",
    "        # ==> y - mu ~ N(mu * slope_covar * slope_beta, var)\n",
    "        slope_beta = (\n",
    "            sm.WLS(\n",
    "                endog=y - fitted_mu,\n",
    "                exog=fitted_mu[:, None] * slope_covar,\n",
    "                weights=1.0 / fitted_var,\n",
    "            )\n",
    "            .fit()\n",
    "            .params\n",
    "        )"
   ]
  },
  {
   "cell_type": "code",
   "execution_count": 5,
   "id": "aa0f6a94-50d6-41ed-96e2-8bb1836f5fd8",
   "metadata": {},
   "outputs": [],
   "source": [
    "fit = calpgs.fit_het_linear(\n",
    "    y=y,\n",
    "    mean_covar=mean_covar,\n",
    "    var_covar=var_covar,\n",
    "    slope_covar=slope_covar,\n",
    "    return_est_covar=True,\n",
    ")"
   ]
  },
  {
   "cell_type": "code",
   "execution_count": 6,
   "id": "e885cb00-ed6a-4e62-896c-f424910227de",
   "metadata": {},
   "outputs": [
    {
     "data": {
      "text/plain": [
       "(array([4.33064936e-03, 1.00438635e+00, 1.07600965e-03, 8.62841631e-04,\n",
       "        1.34360285e-03]),\n",
       " array([1.08817347, 0.00612677, 0.24057558, 0.2002141 , 0.14462882]),\n",
       " array([ 5.64005247e-03,  4.98363051e+00, -3.16167652e-04]),\n",
       " array([[ 2.84512746e-05,  3.56233607e-08,  1.01708703e-06,\n",
       "         -2.28958680e-05,  6.31236183e-07],\n",
       "        [ 3.56233607e-08,  4.45187543e-06,  2.82148750e-08,\n",
       "         -2.16321145e-08,  3.10284862e-08],\n",
       "        [ 1.01708703e-06,  2.82148750e-08,  4.47400722e-06,\n",
       "          2.66818954e-08,  7.72352439e-07],\n",
       "        [-2.28958680e-05, -2.16321145e-08,  2.66818954e-08,\n",
       "          2.20594106e-05, -1.30941200e-07],\n",
       "        [ 6.31236183e-07,  3.10284862e-08,  7.72352439e-07,\n",
       "         -1.30941200e-07,  4.64907896e-06]]),\n",
       " array([[ 4.00043369e-05,  4.37152352e-08,  6.47311303e-08,\n",
       "         -2.53433687e-08, -7.02212210e-08],\n",
       "        [ 4.37152352e-08,  3.98122909e-05,  2.14458518e-07,\n",
       "         -1.65043100e-07,  1.00853421e-07],\n",
       "        [ 6.47311303e-08,  2.14458518e-07,  4.14080297e-05,\n",
       "         -1.96797453e-07,  7.74327414e-06],\n",
       "        [-2.53433687e-08, -1.65043100e-07, -1.96797453e-07,\n",
       "          4.00273976e-05, -1.09496449e-06],\n",
       "        [-7.02212210e-08,  1.00853421e-07,  7.74327414e-06,\n",
       "         -1.09496449e-06,  4.14285004e-05]]),\n",
       " array([[5.57606075e-05, 1.22119339e-05, 8.19235399e-06],\n",
       "        [1.22119339e-05, 1.69595128e-04, 4.82175543e-06],\n",
       "        [8.19235399e-06, 4.82175543e-06, 5.65845577e-05]]))"
      ]
     },
     "execution_count": 6,
     "metadata": {},
     "output_type": "execute_result"
    }
   ],
   "source": [
    "fit"
   ]
  }
 ],
 "metadata": {
  "kernelspec": {
   "display_name": "Python 3",
   "language": "python",
   "name": "python3"
  },
  "language_info": {
   "codemirror_mode": {
    "name": "ipython",
    "version": 3
   },
   "file_extension": ".py",
   "mimetype": "text/x-python",
   "name": "python",
   "nbconvert_exporter": "python",
   "pygments_lexer": "ipython3",
   "version": "3.8.5"
  }
 },
 "nbformat": 4,
 "nbformat_minor": 5
}
