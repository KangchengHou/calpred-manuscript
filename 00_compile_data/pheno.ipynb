{
 "cells": [
  {
   "cell_type": "markdown",
   "id": "6f37ea74-9414-4d19-bab8-d92afd50aa31",
   "metadata": {},
   "source": [
    "# Train PRS on European population and apply to admixed population"
   ]
  },
  {
   "cell_type": "markdown",
   "id": "e3cdd98c-d05d-450c-8857-0eb89d633e50",
   "metadata": {},
   "source": [
    "1. Divide into training / validation / testing for European\n",
    "    - prs/pheno/eur_{train, val, test}.indiv\n",
    "    - Admixed testing population from plink/admix.merged.fam\n",
    "2. Extract phenotypes\n",
    "    - Raw phenotypes: prs/pheno/{group}.{trait}.pheno \n",
    "    - Raw covariates: prs/covar/{group}.covar\n",
    "    - Regressed phenotypes: prs/pheno/{group}.{trait}.residual_pheno\n",
    "    - Regression model (train on European and apply to other populations): prs/pheno/eur_train.{trait}.model\n",
    "2. Perform GWAS\n",
    "    - Simple PLINK GWAS\n",
    "3. Apply PRS uncertainty"
   ]
  },
  {
   "cell_type": "markdown",
   "id": "caf46b9c-949b-4a39-84e7-b71e9bfa7f5e",
   "metadata": {},
   "source": [
    "# Divide into training / validation / testing for European"
   ]
  },
  {
   "cell_type": "code",
   "execution_count": 1,
   "id": "5732395d-d46a-4881-966e-3da76972ab36",
   "metadata": {},
   "outputs": [],
   "source": [
    "%load_ext autoreload\n",
    "%autoreload 2\n",
    "%load_ext lab_black"
   ]
  },
  {
   "cell_type": "code",
   "execution_count": 2,
   "id": "7637e258-8b3c-413d-9de5-b3bffc62a271",
   "metadata": {},
   "outputs": [],
   "source": [
    "import admix\n",
    "import numpy as np\n",
    "import pandas as pd\n",
    "from os.path import join\n",
    "import statsmodels.api as sm"
   ]
  },
  {
   "cell_type": "markdown",
   "id": "7207a098-8c33-4cac-b2ec-9367e62829e0",
   "metadata": {},
   "source": [
    "# 1. Divide into training / validation / testing for European"
   ]
  },
  {
   "cell_type": "code",
   "execution_count": 3,
   "id": "c60ee7f9-20c8-4a70-9129-d7b9f81e3b87",
   "metadata": {},
   "outputs": [],
   "source": [
    "df_admix = admix.tools.plink_read_fam(\"../data/PLINK/admix.fam\")\n",
    "assert np.all(df_admix.FID == df_admix.IID)"
   ]
  },
  {
   "cell_type": "code",
   "execution_count": 6,
   "id": "47db6793-e0e2-47a0-be23-25ca6623d1e3",
   "metadata": {},
   "outputs": [],
   "source": [
    "df_eur_fam = admix.tools.plink_read_fam(\n",
    "    \"/u/project/sriram/ukbiobank/data/geno/cal/filter4.fam\"\n",
    ").astype(str)\n",
    "\n",
    "np.random.seed(1234)\n",
    "n_train = 250_000\n",
    "n_val = 20_000\n",
    "n_total = df_eur_fam.shape[0]\n",
    "# the rest is testing individuals\n",
    "train_index = np.sort(np.random.choice(np.arange(n_total), size=n_train, replace=False))\n",
    "val_test_index = np.setdiff1d(np.arange(n_total), train_index)\n",
    "val_index = np.sort(np.random.choice(val_test_index, size=n_val, replace=False))\n",
    "test_index = np.setdiff1d(val_test_index, val_index)\n",
    "\n",
    "for name, index in zip(\n",
    "    [\"eur_train\", \"eur_val\", \"eur_test\"], [train_index, val_index, test_index]\n",
    "):\n",
    "    df_tmp = df_eur_fam.iloc[index, :]\n",
    "    df_tmp = df_tmp[~df_tmp.FID.isin(df_admix.FID.values)]\n",
    "    df_tmp.to_csv(f\"../data/PLINK/{name}.fam\", sep=\"\\t\", index=False, header=False)\n",
    "\n",
    "# check consistency to legacy data.\n",
    "#     df_eur_fam.iloc[index, :].to_csv(f\"prs/pheno/{name}.indiv\", sep='\\t', index=False, header=False)\n",
    "# for name, index in zip(\n",
    "#     [\"eur_train\", \"eur_val\", \"eur_test\"], [train_index, val_index, test_index]\n",
    "# ):\n",
    "#     df_this = df_eur_fam.iloc[index, :]\n",
    "#     df_old = admix.tools.plink_read_fam(f\"../data/PLINK/{name}.fam\")\n",
    "\n",
    "\n",
    "#     print(np.all(df_this.values.astype(str) == df_old.values.astype(str)))"
   ]
  },
  {
   "cell_type": "markdown",
   "id": "4b0e20d6-c364-4bab-a0e4-312d514bf2e0",
   "metadata": {},
   "source": [
    "# 2. Extract phenotypes"
   ]
  },
  {
   "cell_type": "code",
   "execution_count": 8,
   "id": "aa5bbc8e-5e87-4a92-918d-1250b91489aa",
   "metadata": {},
   "outputs": [],
   "source": [
    "trait_list = [\"height\", \"bmi\", \"cholesterol\", \"hdl_cholesterol\", \"ldl_direct\"]\n",
    "group_list = [\"eur_train\", \"eur_val\", \"eur_test\", \"admix_test\"]"
   ]
  },
  {
   "cell_type": "code",
   "execution_count": 12,
   "id": "93d07c6d-b6f8-4e7b-8d7d-7e7167b111f4",
   "metadata": {},
   "outputs": [
    {
     "ename": "ValueError",
     "evalue": "The number of quantiles cannot be greater than the number of samples used. Got 249950 quantiles and 100000 samples.",
     "output_type": "error",
     "traceback": [
      "\u001b[0;31m---------------------------------------------------------------------------\u001b[0m",
      "\u001b[0;31mValueError\u001b[0m                                Traceback (most recent call last)",
      "\u001b[0;32m<ipython-input-12-67f42d78d4e0>\u001b[0m in \u001b[0;36m<module>\u001b[0;34m\u001b[0m\n\u001b[1;32m     15\u001b[0m         \u001b[0;32mif\u001b[0m \u001b[0mgroup\u001b[0m \u001b[0;34m==\u001b[0m \u001b[0;34m\"eur_train\"\u001b[0m\u001b[0;34m:\u001b[0m\u001b[0;34m\u001b[0m\u001b[0;34m\u001b[0m\u001b[0m\n\u001b[1;32m     16\u001b[0m             \u001b[0mdf_tmp\u001b[0m \u001b[0;34m=\u001b[0m \u001b[0mdf_group_trait\u001b[0m\u001b[0;34m.\u001b[0m\u001b[0mcopy\u001b[0m\u001b[0;34m(\u001b[0m\u001b[0;34m)\u001b[0m\u001b[0;34m\u001b[0m\u001b[0;34m\u001b[0m\u001b[0m\n\u001b[0;32m---> 17\u001b[0;31m             \u001b[0mdf_tmp\u001b[0m\u001b[0;34m[\u001b[0m\u001b[0mtrait\u001b[0m\u001b[0;34m]\u001b[0m \u001b[0;34m=\u001b[0m \u001b[0mquantile_transform\u001b[0m\u001b[0;34m(\u001b[0m\u001b[0mdf_tmp\u001b[0m\u001b[0;34m[\u001b[0m\u001b[0mtrait\u001b[0m\u001b[0;34m]\u001b[0m\u001b[0;34m,\u001b[0m \u001b[0moutput_distribution\u001b[0m\u001b[0;34m=\u001b[0m\u001b[0;34m\"normal\"\u001b[0m\u001b[0;34m,\u001b[0m \u001b[0mn_quantiles\u001b[0m\u001b[0;34m=\u001b[0m\u001b[0mdf_tmp\u001b[0m\u001b[0;34m[\u001b[0m\u001b[0mtrait\u001b[0m\u001b[0;34m]\u001b[0m\u001b[0;34m.\u001b[0m\u001b[0mshape\u001b[0m\u001b[0;34m[\u001b[0m\u001b[0;36m0\u001b[0m\u001b[0;34m]\u001b[0m\u001b[0;34m)\u001b[0m\u001b[0;34m\u001b[0m\u001b[0;34m\u001b[0m\u001b[0m\n\u001b[0m\u001b[1;32m     18\u001b[0m             \u001b[0mprint\u001b[0m\u001b[0;34m(\u001b[0m\u001b[0mdf_tmp\u001b[0m\u001b[0;34m)\u001b[0m\u001b[0;34m\u001b[0m\u001b[0;34m\u001b[0m\u001b[0m\n",
      "\u001b[0;32m/u/project/pasaniuc/kangchen/software/miniconda3/lib/python3.8/site-packages/sklearn/utils/validation.py\u001b[0m in \u001b[0;36minner_f\u001b[0;34m(*args, **kwargs)\u001b[0m\n\u001b[1;32m     61\u001b[0m             \u001b[0mextra_args\u001b[0m \u001b[0;34m=\u001b[0m \u001b[0mlen\u001b[0m\u001b[0;34m(\u001b[0m\u001b[0margs\u001b[0m\u001b[0;34m)\u001b[0m \u001b[0;34m-\u001b[0m \u001b[0mlen\u001b[0m\u001b[0;34m(\u001b[0m\u001b[0mall_args\u001b[0m\u001b[0;34m)\u001b[0m\u001b[0;34m\u001b[0m\u001b[0;34m\u001b[0m\u001b[0m\n\u001b[1;32m     62\u001b[0m             \u001b[0;32mif\u001b[0m \u001b[0mextra_args\u001b[0m \u001b[0;34m<=\u001b[0m \u001b[0;36m0\u001b[0m\u001b[0;34m:\u001b[0m\u001b[0;34m\u001b[0m\u001b[0;34m\u001b[0m\u001b[0m\n\u001b[0;32m---> 63\u001b[0;31m                 \u001b[0;32mreturn\u001b[0m \u001b[0mf\u001b[0m\u001b[0;34m(\u001b[0m\u001b[0;34m*\u001b[0m\u001b[0margs\u001b[0m\u001b[0;34m,\u001b[0m \u001b[0;34m**\u001b[0m\u001b[0mkwargs\u001b[0m\u001b[0;34m)\u001b[0m\u001b[0;34m\u001b[0m\u001b[0;34m\u001b[0m\u001b[0m\n\u001b[0m\u001b[1;32m     64\u001b[0m \u001b[0;34m\u001b[0m\u001b[0m\n\u001b[1;32m     65\u001b[0m             \u001b[0;31m# extra_args > 0\u001b[0m\u001b[0;34m\u001b[0m\u001b[0;34m\u001b[0m\u001b[0;34m\u001b[0m\u001b[0m\n",
      "\u001b[0;32m/u/project/pasaniuc/kangchen/software/miniconda3/lib/python3.8/site-packages/sklearn/preprocessing/_data.py\u001b[0m in \u001b[0;36mquantile_transform\u001b[0;34m(X, axis, n_quantiles, output_distribution, ignore_implicit_zeros, subsample, random_state, copy)\u001b[0m\n\u001b[1;32m   2928\u001b[0m                             copy=copy)\n\u001b[1;32m   2929\u001b[0m     \u001b[0;32mif\u001b[0m \u001b[0maxis\u001b[0m \u001b[0;34m==\u001b[0m \u001b[0;36m0\u001b[0m\u001b[0;34m:\u001b[0m\u001b[0;34m\u001b[0m\u001b[0;34m\u001b[0m\u001b[0m\n\u001b[0;32m-> 2930\u001b[0;31m         \u001b[0;32mreturn\u001b[0m \u001b[0mn\u001b[0m\u001b[0;34m.\u001b[0m\u001b[0mfit_transform\u001b[0m\u001b[0;34m(\u001b[0m\u001b[0mX\u001b[0m\u001b[0;34m)\u001b[0m\u001b[0;34m\u001b[0m\u001b[0;34m\u001b[0m\u001b[0m\n\u001b[0m\u001b[1;32m   2931\u001b[0m     \u001b[0;32melif\u001b[0m \u001b[0maxis\u001b[0m \u001b[0;34m==\u001b[0m \u001b[0;36m1\u001b[0m\u001b[0;34m:\u001b[0m\u001b[0;34m\u001b[0m\u001b[0;34m\u001b[0m\u001b[0m\n\u001b[1;32m   2932\u001b[0m         \u001b[0;32mreturn\u001b[0m \u001b[0mn\u001b[0m\u001b[0;34m.\u001b[0m\u001b[0mfit_transform\u001b[0m\u001b[0;34m(\u001b[0m\u001b[0mX\u001b[0m\u001b[0;34m.\u001b[0m\u001b[0mT\u001b[0m\u001b[0;34m)\u001b[0m\u001b[0;34m.\u001b[0m\u001b[0mT\u001b[0m\u001b[0;34m\u001b[0m\u001b[0;34m\u001b[0m\u001b[0m\n",
      "\u001b[0;32m/u/project/pasaniuc/kangchen/software/miniconda3/lib/python3.8/site-packages/sklearn/base.py\u001b[0m in \u001b[0;36mfit_transform\u001b[0;34m(self, X, y, **fit_params)\u001b[0m\n\u001b[1;32m    697\u001b[0m         \u001b[0;32mif\u001b[0m \u001b[0my\u001b[0m \u001b[0;32mis\u001b[0m \u001b[0;32mNone\u001b[0m\u001b[0;34m:\u001b[0m\u001b[0;34m\u001b[0m\u001b[0;34m\u001b[0m\u001b[0m\n\u001b[1;32m    698\u001b[0m             \u001b[0;31m# fit method of arity 1 (unsupervised transformation)\u001b[0m\u001b[0;34m\u001b[0m\u001b[0;34m\u001b[0m\u001b[0;34m\u001b[0m\u001b[0m\n\u001b[0;32m--> 699\u001b[0;31m             \u001b[0;32mreturn\u001b[0m \u001b[0mself\u001b[0m\u001b[0;34m.\u001b[0m\u001b[0mfit\u001b[0m\u001b[0;34m(\u001b[0m\u001b[0mX\u001b[0m\u001b[0;34m,\u001b[0m \u001b[0;34m**\u001b[0m\u001b[0mfit_params\u001b[0m\u001b[0;34m)\u001b[0m\u001b[0;34m.\u001b[0m\u001b[0mtransform\u001b[0m\u001b[0;34m(\u001b[0m\u001b[0mX\u001b[0m\u001b[0;34m)\u001b[0m\u001b[0;34m\u001b[0m\u001b[0;34m\u001b[0m\u001b[0m\n\u001b[0m\u001b[1;32m    700\u001b[0m         \u001b[0;32melse\u001b[0m\u001b[0;34m:\u001b[0m\u001b[0;34m\u001b[0m\u001b[0;34m\u001b[0m\u001b[0m\n\u001b[1;32m    701\u001b[0m             \u001b[0;31m# fit method of arity 2 (supervised transformation)\u001b[0m\u001b[0;34m\u001b[0m\u001b[0;34m\u001b[0m\u001b[0;34m\u001b[0m\u001b[0m\n",
      "\u001b[0;32m/u/project/pasaniuc/kangchen/software/miniconda3/lib/python3.8/site-packages/sklearn/preprocessing/_data.py\u001b[0m in \u001b[0;36mfit\u001b[0;34m(self, X, y)\u001b[0m\n\u001b[1;32m   2601\u001b[0m \u001b[0;34m\u001b[0m\u001b[0m\n\u001b[1;32m   2602\u001b[0m         \u001b[0;32mif\u001b[0m \u001b[0mself\u001b[0m\u001b[0;34m.\u001b[0m\u001b[0mn_quantiles\u001b[0m \u001b[0;34m>\u001b[0m \u001b[0mself\u001b[0m\u001b[0;34m.\u001b[0m\u001b[0msubsample\u001b[0m\u001b[0;34m:\u001b[0m\u001b[0;34m\u001b[0m\u001b[0;34m\u001b[0m\u001b[0m\n\u001b[0;32m-> 2603\u001b[0;31m             raise ValueError(\"The number of quantiles cannot be greater than\"\n\u001b[0m\u001b[1;32m   2604\u001b[0m                              \u001b[0;34m\" the number of samples used. Got {} quantiles\"\u001b[0m\u001b[0;34m\u001b[0m\u001b[0;34m\u001b[0m\u001b[0m\n\u001b[1;32m   2605\u001b[0m                              \" and {} samples.\".format(self.n_quantiles,\n",
      "\u001b[0;31mValueError\u001b[0m: The number of quantiles cannot be greater than the number of samples used. Got 249950 quantiles and 100000 samples."
     ]
    }
   ],
   "source": [
    "import pandas as pd\n",
    "df_pheno = pd.read_csv(\"pheno/all.csv\")\n",
    "df_covar = df_pheno[[\"ID\", \"ID\", \"SEX\", \"AGE\"] + [f\"PC{i}\" for i in range(1, 11)]]\n",
    "df_covar.columns = [\"FID\", \"IID\"] + list(df_covar.columns[2:])\n",
    "\n",
    "for group in group_list:\n",
    "    df_group_covar = dict_df_group[group].merge(df_covar, on=[\"FID\", \"IID\"])\n",
    "    df_group_covar.to_csv(f\"prs/pheno/{group}.covar\", sep='\\t', index=False, na_rep=\"NA\")\n",
    "    \n",
    "    for trait in trait_list:\n",
    "        df_trait = df_pheno[[\"ID\", \"ID\", trait]]\n",
    "        df_trait.columns = [\"FID\", \"IID\", trait]\n",
    "        df_group_trait = dict_df_group[group].merge(df_trait, on=[\"FID\", \"IID\"])\n",
    "        df_group_trait.to_csv(f\"prs/pheno/{group}.{trait}.pheno\", sep='\\t', index=False, na_rep=\"NA\")\n"
   ]
  },
  {
   "cell_type": "code",
   "execution_count": 66,
   "id": "1ff51271-1a14-4349-a378-89f7475a5a2f",
   "metadata": {},
   "outputs": [],
   "source": [
    "dict_df_covar = {group : pd.read_csv(f\"prs/pheno/{group}.covar\", sep='\\t') for group in group_list}\n",
    "for trait in trait_list:\n",
    "    # load trait\n",
    "    col_covar = [\"SEX\", \"AGE\"] + [f\"PC{i}\" for i in range(1, 11)]\n",
    "    dict_df_trait = {group : pd.read_csv(f\"prs/pheno/{group}.{trait}.pheno\", sep='\\t') for group in group_list}\n",
    "    \n",
    "    df_train = pd.merge(dict_df_trait[\"eur_train\"], dict_df_covar[\"eur_train\"], on=[\"FID\", \"IID\"])\n",
    "    model = sm.OLS(df_train[trait], sm.add_constant(df_train[col_covar]), missing='drop').fit()\n",
    "    model.save(f\"prs/pheno/eur_train.{trait}.model\")\n",
    "    for group in group_list:\n",
    "        df_group = pd.merge(dict_df_trait[group], dict_df_covar[group], on=[\"FID\", \"IID\"])\n",
    "        df_group[f\"{trait}-residual\"] = df_group[trait] - model.predict(sm.add_constant(df_group[col_covar]))\n",
    "        df_group[[\"FID\", \"IID\", f\"{trait}-residual\"]].to_csv(f\"prs/pheno/{group}.{trait}.residual_pheno\", sep='\\t', index=False, na_rep=\"NA\")"
   ]
  },
  {
   "cell_type": "markdown",
   "id": "acd709f3-45b8-4758-a22d-44d7fbd0a347",
   "metadata": {
    "tags": []
   },
   "source": [
    "# 3. Perform GWAS\n",
    "```bash\n",
    "for trait in height bmi cholesterol hdl_cholesterol ldl_direct; do\n",
    "    qsub train_gwas.sh ${trait}\n",
    "done\n",
    "```"
   ]
  },
  {
   "cell_type": "code",
   "execution_count": 1,
   "id": "ad9ce610-d9f6-4c7b-9469-6845fab40ce3",
   "metadata": {},
   "outputs": [],
   "source": [
    "import admix\n",
    "import numpy as np\n",
    "import pandas as pd\n",
    "from os.path import join\n",
    "import statsmodels.api as sm"
   ]
  },
  {
   "cell_type": "code",
   "execution_count": 3,
   "id": "4584f6e8-f4cf-4590-9e95-2f10d103a426",
   "metadata": {},
   "outputs": [],
   "source": [
    "bim = admix.tools.plink_read_bim(\"../data/PLINK/eur_train/merged.bim\")"
   ]
  },
  {
   "cell_type": "code",
   "execution_count": 4,
   "id": "0e5d2ed2-d8a9-42a5-864e-5b052097548d",
   "metadata": {},
   "outputs": [],
   "source": [
    "# aggregate all the association results\n",
    "for trait in [\"height\"]:\n",
    "    assoc = pd.concat([pd.read_csv(f\"../data/train_gwas/{trait}/assoc.{chr_i}.{trait}.glm.linear\", delim_whitespace=True, dtype=str) for chr_i in range(1, 23)], axis=0).reset_index(drop=True)\n",
    "    assert np.all(assoc['A1'] == assoc[\"ALT\"])\n",
    "    assoc = assoc[[\"#CHROM\", \"ID\", \"POS\", \"ALT\", \"REF\", \"TEST\", \"OBS_CT\", \"BETA\", \"SE\", \"L95\", \"U95\", \"T_STAT\", \"P\"]].rename(\n",
    "        columns={\"#CHROM\": \"CHR\",\n",
    "                 \"ID\": \"SNP\",\n",
    "                 \"POS\": \"BP\",\n",
    "                 \"ALT\": \"A1\",\n",
    "                 \"REF\": \"A2\",\n",
    "                 \"OBS_CT\": \"NMISS\",\n",
    "                 \"T_STAT\": \"STAT\"})\n",
    "    assoc.to_csv(f\"../data/train_gwas/{trait}/assoc.all.assoc.linear\", sep='\\t', index=False)"
   ]
  },
  {
   "cell_type": "code",
   "execution_count": 25,
   "id": "b08fd1aa-79b7-4cf2-8a7c-f6ffdef66c53",
   "metadata": {},
   "outputs": [],
   "source": [
    "# aggregate all the association results\n",
    "# for trait in trait_list:\n",
    "#     assoc = pd.concat([pd.read_csv(f\"prs/train_gwas/{trait}/assoc.{chr_i}.assoc.linear\", delim_whitespace=True, dtype=str) for chr_i in range(1, 23)], axis=0).reset_index(drop=True)\n",
    "#     assert np.all(assoc[\"A1\"] == bim[\"A1\"])\n",
    "#     assert np.all(assoc[\"SNP\"] == bim[\"SNP\"])\n",
    "#     assoc.insert(4, \"A2\", bim[\"A2\"].values)\n",
    "#     assoc.to_csv(f\"prs/train_gwas/{trait}/assoc.all.assoc.linear\", sep='\\t', index=False)"
   ]
  },
  {
   "cell_type": "code",
   "execution_count": 7,
   "id": "bd5da3e0-f8af-4088-9451-92f719025097",
   "metadata": {},
   "outputs": [],
   "source": [
    "import matplotlib.pyplot as plt"
   ]
  },
  {
   "cell_type": "code",
   "execution_count": null,
   "id": "2fb50ae2-317d-403c-9688-6fb29143453d",
   "metadata": {},
   "outputs": [
    {
     "data": {
      "text/plain": [
       "(array([125284., 120879., 116959., 113676., 105636., 102449.,  97039.,\n",
       "         91952.,  86280.,  80847.]),\n",
       " array([     0. ,  77738.1, 155476.2, 233214.3, 310952.4, 388690.5,\n",
       "        466428.6, 544166.7, 621904.8, 699642.9, 777381. ]),\n",
       " <BarContainer object of 10 artists>)"
      ]
     },
     "execution_count": 8,
     "metadata": {},
     "output_type": "execute_result"
    }
   ],
   "source": [
    "plt.hist(assoc.P)"
   ]
  },
  {
   "cell_type": "code",
   "execution_count": 35,
   "id": "1ff9f166-5ca4-45c8-9f6c-edc4790fbfa7",
   "metadata": {},
   "outputs": [
    {
     "data": {
      "text/html": [
       "<div>\n",
       "<style scoped>\n",
       "    .dataframe tbody tr th:only-of-type {\n",
       "        vertical-align: middle;\n",
       "    }\n",
       "\n",
       "    .dataframe tbody tr th {\n",
       "        vertical-align: top;\n",
       "    }\n",
       "\n",
       "    .dataframe thead th {\n",
       "        text-align: right;\n",
       "    }\n",
       "</style>\n",
       "<table border=\"1\" class=\"dataframe\">\n",
       "  <thead>\n",
       "    <tr style=\"text-align: right;\">\n",
       "      <th></th>\n",
       "      <th>CHR</th>\n",
       "      <th>SNP</th>\n",
       "      <th>BP</th>\n",
       "      <th>A1</th>\n",
       "      <th>A2</th>\n",
       "      <th>TEST</th>\n",
       "      <th>NMISS</th>\n",
       "      <th>BETA</th>\n",
       "      <th>SE</th>\n",
       "      <th>L95</th>\n",
       "      <th>U95</th>\n",
       "      <th>STAT</th>\n",
       "      <th>P</th>\n",
       "    </tr>\n",
       "  </thead>\n",
       "  <tbody>\n",
       "    <tr>\n",
       "      <th>0</th>\n",
       "      <td>1</td>\n",
       "      <td>rs115991721</td>\n",
       "      <td>767096</td>\n",
       "      <td>A</td>\n",
       "      <td>G</td>\n",
       "      <td>ADD</td>\n",
       "      <td>248916</td>\n",
       "      <td>-0.0188594</td>\n",
       "      <td>0.044303</td>\n",
       "      <td>-0.105692</td>\n",
       "      <td>0.0679728</td>\n",
       "      <td>-0.425692</td>\n",
       "      <td>0.670332</td>\n",
       "    </tr>\n",
       "    <tr>\n",
       "      <th>1</th>\n",
       "      <td>1</td>\n",
       "      <td>rs12562034</td>\n",
       "      <td>768448</td>\n",
       "      <td>G</td>\n",
       "      <td>A</td>\n",
       "      <td>ADD</td>\n",
       "      <td>248911</td>\n",
       "      <td>0.000238705</td>\n",
       "      <td>0.00323871</td>\n",
       "      <td>-0.00610905</td>\n",
       "      <td>0.00658646</td>\n",
       "      <td>0.0737038</td>\n",
       "      <td>0.941246</td>\n",
       "    </tr>\n",
       "    <tr>\n",
       "      <th>2</th>\n",
       "      <td>1</td>\n",
       "      <td>rs4040617</td>\n",
       "      <td>779322</td>\n",
       "      <td>A</td>\n",
       "      <td>G</td>\n",
       "      <td>ADD</td>\n",
       "      <td>248690</td>\n",
       "      <td>0.00186237</td>\n",
       "      <td>0.00297852</td>\n",
       "      <td>-0.00397541</td>\n",
       "      <td>0.00770015</td>\n",
       "      <td>0.625268</td>\n",
       "      <td>0.531796</td>\n",
       "    </tr>\n",
       "    <tr>\n",
       "      <th>3</th>\n",
       "      <td>1</td>\n",
       "      <td>rs57181708</td>\n",
       "      <td>809876</td>\n",
       "      <td>A</td>\n",
       "      <td>G</td>\n",
       "      <td>ADD</td>\n",
       "      <td>249142</td>\n",
       "      <td>0.0023127</td>\n",
       "      <td>0.0033033</td>\n",
       "      <td>-0.00416165</td>\n",
       "      <td>0.00878704</td>\n",
       "      <td>0.700118</td>\n",
       "      <td>0.483854</td>\n",
       "    </tr>\n",
       "    <tr>\n",
       "      <th>4</th>\n",
       "      <td>1</td>\n",
       "      <td>rs116452738</td>\n",
       "      <td>834830</td>\n",
       "      <td>G</td>\n",
       "      <td>A</td>\n",
       "      <td>ADD</td>\n",
       "      <td>249047</td>\n",
       "      <td>0.00149389</td>\n",
       "      <td>0.0122304</td>\n",
       "      <td>-0.0224773</td>\n",
       "      <td>0.025465</td>\n",
       "      <td>0.122146</td>\n",
       "      <td>0.902784</td>\n",
       "    </tr>\n",
       "    <tr>\n",
       "      <th>...</th>\n",
       "      <td>...</td>\n",
       "      <td>...</td>\n",
       "      <td>...</td>\n",
       "      <td>...</td>\n",
       "      <td>...</td>\n",
       "      <td>...</td>\n",
       "      <td>...</td>\n",
       "      <td>...</td>\n",
       "      <td>...</td>\n",
       "      <td>...</td>\n",
       "      <td>...</td>\n",
       "      <td>...</td>\n",
       "      <td>...</td>\n",
       "    </tr>\n",
       "    <tr>\n",
       "      <th>528610</th>\n",
       "      <td>22</td>\n",
       "      <td>rs5771002</td>\n",
       "      <td>51183255</td>\n",
       "      <td>A</td>\n",
       "      <td>G</td>\n",
       "      <td>ADD</td>\n",
       "      <td>245452</td>\n",
       "      <td>0.000229103</td>\n",
       "      <td>0.0021283</td>\n",
       "      <td>-0.00394228</td>\n",
       "      <td>0.00440049</td>\n",
       "      <td>0.107646</td>\n",
       "      <td>0.914276</td>\n",
       "    </tr>\n",
       "    <tr>\n",
       "      <th>528611</th>\n",
       "      <td>22</td>\n",
       "      <td>rs3865764</td>\n",
       "      <td>51185848</td>\n",
       "      <td>G</td>\n",
       "      <td>A</td>\n",
       "      <td>ADD</td>\n",
       "      <td>248647</td>\n",
       "      <td>0.00283037</td>\n",
       "      <td>0.00453166</td>\n",
       "      <td>-0.00605152</td>\n",
       "      <td>0.0117123</td>\n",
       "      <td>0.624576</td>\n",
       "      <td>0.53225</td>\n",
       "    </tr>\n",
       "    <tr>\n",
       "      <th>528612</th>\n",
       "      <td>22</td>\n",
       "      <td>rs142680588</td>\n",
       "      <td>51193629</td>\n",
       "      <td>A</td>\n",
       "      <td>G</td>\n",
       "      <td>ADD</td>\n",
       "      <td>248971</td>\n",
       "      <td>0.00297442</td>\n",
       "      <td>0.00377153</td>\n",
       "      <td>-0.00441764</td>\n",
       "      <td>0.0103665</td>\n",
       "      <td>0.78865</td>\n",
       "      <td>0.430317</td>\n",
       "    </tr>\n",
       "    <tr>\n",
       "      <th>528613</th>\n",
       "      <td>22</td>\n",
       "      <td>rs9616974</td>\n",
       "      <td>51217954</td>\n",
       "      <td>G</td>\n",
       "      <td>A</td>\n",
       "      <td>ADD</td>\n",
       "      <td>246103</td>\n",
       "      <td>0.00431862</td>\n",
       "      <td>0.00390438</td>\n",
       "      <td>-0.00333382</td>\n",
       "      <td>0.0119711</td>\n",
       "      <td>1.1061</td>\n",
       "      <td>0.268686</td>\n",
       "    </tr>\n",
       "    <tr>\n",
       "      <th>528614</th>\n",
       "      <td>22</td>\n",
       "      <td>rs116656403</td>\n",
       "      <td>51224208</td>\n",
       "      <td>G</td>\n",
       "      <td>A</td>\n",
       "      <td>ADD</td>\n",
       "      <td>248974</td>\n",
       "      <td>0.0705778</td>\n",
       "      <td>0.0731559</td>\n",
       "      <td>-0.0728052</td>\n",
       "      <td>0.213961</td>\n",
       "      <td>0.964759</td>\n",
       "      <td>0.334667</td>\n",
       "    </tr>\n",
       "  </tbody>\n",
       "</table>\n",
       "<p>528615 rows × 13 columns</p>\n",
       "</div>"
      ],
      "text/plain": [
       "       CHR          SNP        BP A1 A2 TEST   NMISS         BETA          SE  \\\n",
       "0        1  rs115991721    767096  A  G  ADD  248916   -0.0188594    0.044303   \n",
       "1        1   rs12562034    768448  G  A  ADD  248911  0.000238705  0.00323871   \n",
       "2        1    rs4040617    779322  A  G  ADD  248690   0.00186237  0.00297852   \n",
       "3        1   rs57181708    809876  A  G  ADD  249142    0.0023127   0.0033033   \n",
       "4        1  rs116452738    834830  G  A  ADD  249047   0.00149389   0.0122304   \n",
       "...     ..          ...       ... .. ..  ...     ...          ...         ...   \n",
       "528610  22    rs5771002  51183255  A  G  ADD  245452  0.000229103   0.0021283   \n",
       "528611  22    rs3865764  51185848  G  A  ADD  248647   0.00283037  0.00453166   \n",
       "528612  22  rs142680588  51193629  A  G  ADD  248971   0.00297442  0.00377153   \n",
       "528613  22    rs9616974  51217954  G  A  ADD  246103   0.00431862  0.00390438   \n",
       "528614  22  rs116656403  51224208  G  A  ADD  248974    0.0705778   0.0731559   \n",
       "\n",
       "                L95         U95       STAT         P  \n",
       "0         -0.105692   0.0679728  -0.425692  0.670332  \n",
       "1       -0.00610905  0.00658646  0.0737038  0.941246  \n",
       "2       -0.00397541  0.00770015   0.625268  0.531796  \n",
       "3       -0.00416165  0.00878704   0.700118  0.483854  \n",
       "4        -0.0224773    0.025465   0.122146  0.902784  \n",
       "...             ...         ...        ...       ...  \n",
       "528610  -0.00394228  0.00440049   0.107646  0.914276  \n",
       "528611  -0.00605152   0.0117123   0.624576   0.53225  \n",
       "528612  -0.00441764   0.0103665    0.78865  0.430317  \n",
       "528613  -0.00333382   0.0119711     1.1061  0.268686  \n",
       "528614   -0.0728052    0.213961   0.964759  0.334667  \n",
       "\n",
       "[528615 rows x 13 columns]"
      ]
     },
     "execution_count": 35,
     "metadata": {},
     "output_type": "execute_result"
    }
   ],
   "source": [
    "assoc"
   ]
  },
  {
   "cell_type": "markdown",
   "id": "1110e542-bacc-441b-b279-17b7c17889ae",
   "metadata": {},
   "source": [
    "# Perform PRS analysis\n",
    "```bash\n",
    "git clone X\n",
    "\n",
    "```"
   ]
  },
  {
   "cell_type": "code",
   "execution_count": null,
   "id": "a2bc0948-f70d-4070-a4b2-d3561aa348ea",
   "metadata": {},
   "outputs": [],
   "source": []
  }
 ],
 "metadata": {
  "kernelspec": {
   "display_name": "Python 3",
   "language": "python",
   "name": "python3"
  },
  "language_info": {
   "codemirror_mode": {
    "name": "ipython",
    "version": 3
   },
   "file_extension": ".py",
   "mimetype": "text/x-python",
   "name": "python",
   "nbconvert_exporter": "python",
   "pygments_lexer": "ipython3",
   "version": "3.8.5"
  }
 },
 "nbformat": 4,
 "nbformat_minor": 5
}
