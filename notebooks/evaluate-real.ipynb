{
 "cells": [
  {
   "cell_type": "code",
   "execution_count": 1,
   "id": "8bb7a5ce-ea79-41e7-b554-d17bf060b96d",
   "metadata": {},
   "outputs": [],
   "source": [
    "%load_ext autoreload\n",
    "%autoreload 2\n",
    "%load_ext lab_black"
   ]
  },
  {
   "cell_type": "code",
   "execution_count": 2,
   "id": "7490be3d-57ee-4c28-8902-9780f695a6c6",
   "metadata": {},
   "outputs": [],
   "source": [
    "import pandas as pd\n",
    "import numpy as np\n",
    "import random\n",
    "from scipy import stats\n",
    "import admix_prs"
   ]
  },
  {
   "cell_type": "code",
   "execution_count": 3,
   "id": "78315d03-5e4c-4236-bc76-9c9f21c6d1a4",
   "metadata": {},
   "outputs": [],
   "source": [
    "# Constats\n",
    "trait = \"bmi\"\n",
    "PHENO_PATH = \"/u/project/pasaniuc/kangchen/tmp/prs-1219/REAL-PHENO/all-pheno.csv\"\n",
    "PRS_PATH = f\"/u/project/pasaniuc/kangchen/tmp/prs-1219/REAL-PRS/{trait}.tsv.gz\""
   ]
  },
  {
   "cell_type": "code",
   "execution_count": 4,
   "id": "8b457d60-49db-4b78-ad1a-2bce9ed883ed",
   "metadata": {},
   "outputs": [],
   "source": [
    "df_pheno = pd.read_csv(PHENO_PATH, index_col=0)\n",
    "df_pheno.index = df_pheno.index.astype(str)\n",
    "df_prs = pd.read_csv(PRS_PATH, sep=\"\\t\")\n",
    "df_prs[\"indiv\"] = df_prs[\"indiv\"].apply(lambda x: x.split(\"_\")[0])\n",
    "df_prs = df_prs.set_index(\"indiv\")"
   ]
  },
  {
   "cell_type": "code",
   "execution_count": 5,
   "id": "873d8805-83aa-4575-9b20-fe875c948925",
   "metadata": {},
   "outputs": [],
   "source": [
    "df_info = pd.merge(df_pheno, df_prs, left_index=True, right_index=True)\n",
    "df_info = df_info.dropna(subset=[trait, \"MEAN\"])"
   ]
  },
  {
   "cell_type": "markdown",
   "id": "3165b6fb-556d-43e6-855a-19a1aecbf6f3",
   "metadata": {},
   "source": [
    "# Calculate R2 stratified by age and sex"
   ]
  },
  {
   "cell_type": "code",
   "execution_count": 6,
   "id": "78133ebc-5c6b-4b8d-a342-3e4f655e3a21",
   "metadata": {},
   "outputs": [],
   "source": [
    "res1 = admix_prs.stratify_calculate_r2(\n",
    "    df_info, x_col=\"bmi\", y_col=\"MEAN\", stratify_col=\"SEX\"\n",
    ")\n",
    "\n",
    "# TODO:\n",
    "res2[\"AGE_Q\"] = admix_prs.make_levels(res2[\"AGE\"])\n",
    "\n",
    "# either case 1\n",
    "res2 = admix_prs.stratify_calculate_r2(\n",
    "    df_info, x_col=\"bmi\", y_col=\"MEAN\", stratify_col=\"AGE_Q\"\n",
    ")\n",
    "\n",
    "# either case 2\n",
    "res2 = admix_prs.stratify_calculate_r2(\n",
    "    df_info, x_col=\"bmi\", y_col=\"MEAN\"\n",
    ")\n",
    "\n",
    "# 1. use qcut\n",
    "# 2. level header -> stratify_col\n",
    "# 3. level values -> straity_col's values"
   ]
  },
  {
   "cell_type": "code",
   "execution_count": 7,
   "id": "57abb6ef-2c31-4be4-96fe-2ce0241be139",
   "metadata": {},
   "outputs": [
    {
     "data": {
      "text/html": [
       "<div>\n",
       "<style scoped>\n",
       "    .dataframe tbody tr th:only-of-type {\n",
       "        vertical-align: middle;\n",
       "    }\n",
       "\n",
       "    .dataframe tbody tr th {\n",
       "        vertical-align: top;\n",
       "    }\n",
       "\n",
       "    .dataframe thead th {\n",
       "        text-align: right;\n",
       "    }\n",
       "</style>\n",
       "<table border=\"1\" class=\"dataframe\">\n",
       "  <thead>\n",
       "    <tr style=\"text-align: right;\">\n",
       "      <th></th>\n",
       "      <th>level</th>\n",
       "      <th>R2</th>\n",
       "      <th>R2_std</th>\n",
       "    </tr>\n",
       "  </thead>\n",
       "  <tbody>\n",
       "    <tr>\n",
       "      <th>0</th>\n",
       "      <td>1</td>\n",
       "      <td>0.241629</td>\n",
       "      <td>0.000988</td>\n",
       "    </tr>\n",
       "    <tr>\n",
       "      <th>1</th>\n",
       "      <td>2</td>\n",
       "      <td>0.221893</td>\n",
       "      <td>0.001304</td>\n",
       "    </tr>\n",
       "  </tbody>\n",
       "</table>\n",
       "</div>"
      ],
      "text/plain": [
       "   level        R2    R2_std\n",
       "0      1  0.241629  0.000988\n",
       "1      2  0.221893  0.001304"
      ]
     },
     "execution_count": 7,
     "metadata": {},
     "output_type": "execute_result"
    }
   ],
   "source": [
    "res1"
   ]
  },
  {
   "cell_type": "code",
   "execution_count": 8,
   "id": "1d86ed4b-f6a7-4842-842a-833812c0d7f6",
   "metadata": {},
   "outputs": [
    {
     "data": {
      "text/html": [
       "<div>\n",
       "<style scoped>\n",
       "    .dataframe tbody tr th:only-of-type {\n",
       "        vertical-align: middle;\n",
       "    }\n",
       "\n",
       "    .dataframe tbody tr th {\n",
       "        vertical-align: top;\n",
       "    }\n",
       "\n",
       "    .dataframe thead th {\n",
       "        text-align: right;\n",
       "    }\n",
       "</style>\n",
       "<table border=\"1\" class=\"dataframe\">\n",
       "  <thead>\n",
       "    <tr style=\"text-align: right;\">\n",
       "      <th></th>\n",
       "      <th>level</th>\n",
       "      <th>R2</th>\n",
       "      <th>R2_std</th>\n",
       "    </tr>\n",
       "  </thead>\n",
       "  <tbody>\n",
       "    <tr>\n",
       "      <th>0</th>\n",
       "      <td>1</td>\n",
       "      <td>0.234256</td>\n",
       "      <td>0.002806</td>\n",
       "    </tr>\n",
       "    <tr>\n",
       "      <th>1</th>\n",
       "      <td>2</td>\n",
       "      <td>0.240714</td>\n",
       "      <td>0.001812</td>\n",
       "    </tr>\n",
       "    <tr>\n",
       "      <th>2</th>\n",
       "      <td>3</td>\n",
       "      <td>0.236706</td>\n",
       "      <td>0.003211</td>\n",
       "    </tr>\n",
       "    <tr>\n",
       "      <th>3</th>\n",
       "      <td>4</td>\n",
       "      <td>0.229604</td>\n",
       "      <td>0.002346</td>\n",
       "    </tr>\n",
       "    <tr>\n",
       "      <th>4</th>\n",
       "      <td>5</td>\n",
       "      <td>0.222807</td>\n",
       "      <td>0.001538</td>\n",
       "    </tr>\n",
       "  </tbody>\n",
       "</table>\n",
       "</div>"
      ],
      "text/plain": [
       "   level        R2    R2_std\n",
       "0      1  0.234256  0.002806\n",
       "1      2  0.240714  0.001812\n",
       "2      3  0.236706  0.003211\n",
       "3      4  0.229604  0.002346\n",
       "4      5  0.222807  0.001538"
      ]
     },
     "execution_count": 8,
     "metadata": {},
     "output_type": "execute_result"
    }
   ],
   "source": [
    "res2"
   ]
  },
  {
   "cell_type": "markdown",
   "id": "46859f25-b763-46ee-b4be-dee44fa7a0c3",
   "metadata": {},
   "source": [
    "# Evaluate calibration"
   ]
  },
  {
   "cell_type": "code",
   "execution_count": 9,
   "id": "dd6f9bc1-d3c5-43c8-9baa-442eb7996bad",
   "metadata": {},
   "outputs": [],
   "source": [
    "res1 = admix_prs.eval_calibration(\n",
    "    df_info,\n",
    "    x_col=\"bmi\",\n",
    "    lower_col=\"QUANTILE_10\",\n",
    "    upper_col=\"QUANTILE_90\",\n",
    "    stratify_col=\"SEX\",\n",
    ")\n",
    "res2 = admix_prs.eval_calibration(\n",
    "    df_info,\n",
    "    x_col=\"bmi\",\n",
    "    lower_col=\"QUANTILE_10\",\n",
    "    upper_col=\"QUANTILE_90\",\n",
    "    stratify_col=\"AGE\",\n",
    ")"
   ]
  },
  {
   "cell_type": "code",
   "execution_count": 10,
   "id": "e6e99fa3-f5ac-4d69-bbd2-1c2eb76965df",
   "metadata": {},
   "outputs": [
    {
     "data": {
      "text/html": [
       "<div>\n",
       "<style scoped>\n",
       "    .dataframe tbody tr th:only-of-type {\n",
       "        vertical-align: middle;\n",
       "    }\n",
       "\n",
       "    .dataframe tbody tr th {\n",
       "        vertical-align: top;\n",
       "    }\n",
       "\n",
       "    .dataframe thead th {\n",
       "        text-align: right;\n",
       "    }\n",
       "</style>\n",
       "<table border=\"1\" class=\"dataframe\">\n",
       "  <thead>\n",
       "    <tr style=\"text-align: right;\">\n",
       "      <th></th>\n",
       "      <th>level</th>\n",
       "      <th>coverage</th>\n",
       "    </tr>\n",
       "  </thead>\n",
       "  <tbody>\n",
       "    <tr>\n",
       "      <th>0</th>\n",
       "      <td>1</td>\n",
       "      <td>0.0</td>\n",
       "    </tr>\n",
       "    <tr>\n",
       "      <th>1</th>\n",
       "      <td>2</td>\n",
       "      <td>0.0</td>\n",
       "    </tr>\n",
       "  </tbody>\n",
       "</table>\n",
       "</div>"
      ],
      "text/plain": [
       "   level  coverage\n",
       "0      1       0.0\n",
       "1      2       0.0"
      ]
     },
     "execution_count": 10,
     "metadata": {},
     "output_type": "execute_result"
    }
   ],
   "source": [
    "res1"
   ]
  },
  {
   "cell_type": "code",
   "execution_count": 11,
   "id": "2ed2575f-f1c4-4e41-9828-db74eaf8ce08",
   "metadata": {},
   "outputs": [
    {
     "data": {
      "text/html": [
       "<div>\n",
       "<style scoped>\n",
       "    .dataframe tbody tr th:only-of-type {\n",
       "        vertical-align: middle;\n",
       "    }\n",
       "\n",
       "    .dataframe tbody tr th {\n",
       "        vertical-align: top;\n",
       "    }\n",
       "\n",
       "    .dataframe thead th {\n",
       "        text-align: right;\n",
       "    }\n",
       "</style>\n",
       "<table border=\"1\" class=\"dataframe\">\n",
       "  <thead>\n",
       "    <tr style=\"text-align: right;\">\n",
       "      <th></th>\n",
       "      <th>level</th>\n",
       "      <th>coverage</th>\n",
       "    </tr>\n",
       "  </thead>\n",
       "  <tbody>\n",
       "    <tr>\n",
       "      <th>0</th>\n",
       "      <td>1</td>\n",
       "      <td>0.0</td>\n",
       "    </tr>\n",
       "    <tr>\n",
       "      <th>1</th>\n",
       "      <td>2</td>\n",
       "      <td>0.0</td>\n",
       "    </tr>\n",
       "    <tr>\n",
       "      <th>2</th>\n",
       "      <td>3</td>\n",
       "      <td>0.0</td>\n",
       "    </tr>\n",
       "    <tr>\n",
       "      <th>3</th>\n",
       "      <td>4</td>\n",
       "      <td>0.0</td>\n",
       "    </tr>\n",
       "    <tr>\n",
       "      <th>4</th>\n",
       "      <td>5</td>\n",
       "      <td>0.0</td>\n",
       "    </tr>\n",
       "  </tbody>\n",
       "</table>\n",
       "</div>"
      ],
      "text/plain": [
       "   level  coverage\n",
       "0      1       0.0\n",
       "1      2       0.0\n",
       "2      3       0.0\n",
       "3      4       0.0\n",
       "4      5       0.0"
      ]
     },
     "execution_count": 11,
     "metadata": {},
     "output_type": "execute_result"
    }
   ],
   "source": [
    "res2"
   ]
  }
 ],
 "metadata": {
  "kernelspec": {
   "display_name": "Python 3",
   "language": "python",
   "name": "python3"
  },
  "language_info": {
   "codemirror_mode": {
    "name": "ipython",
    "version": 3
   },
   "file_extension": ".py",
   "mimetype": "text/x-python",
   "name": "python",
   "nbconvert_exporter": "python",
   "pygments_lexer": "ipython3",
   "version": "3.8.5"
  }
 },
 "nbformat": 4,
 "nbformat_minor": 5
}
