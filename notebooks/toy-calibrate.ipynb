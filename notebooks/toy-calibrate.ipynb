{
 "cells": [
  {
   "cell_type": "markdown",
   "metadata": {},
   "source": [
    "# Calibration with conformal inference\n",
    "\n",
    "TODO:\n",
    "1. Add an example to differ conditional calibration and overall calibration."
   ]
  },
  {
   "cell_type": "code",
   "execution_count": 1,
   "metadata": {},
   "outputs": [],
   "source": [
    "%load_ext autoreload\n",
    "%autoreload 2\n",
    "%load_ext lab_black\n",
    "\n",
    "import numpy as np\n",
    "import pandas as pd\n",
    "import pickle\n",
    "import os\n",
    "import admix_prs\n",
    "import scipy\n",
    "import seaborn as sns\n",
    "import matplotlib.pyplot as plt"
   ]
  },
  {
   "cell_type": "code",
   "execution_count": 2,
   "metadata": {},
   "outputs": [],
   "source": [
    "# target at [5%, 95%] interval\n",
    "TARGET_QUANTILE = 0.05\n",
    "TARGET_QUANTILE_Z = scipy.stats.norm.ppf(1 - TARGET_QUANTILE)\n",
    "\n",
    "np.random.seed(1)"
   ]
  },
  {
   "cell_type": "code",
   "execution_count": 3,
   "metadata": {},
   "outputs": [],
   "source": [
    "with open(\"df_res_list.pkl\", \"rb\") as f:\n",
    "    df_res_list = pickle.load(f)"
   ]
  },
  {
   "cell_type": "code",
   "execution_count": 4,
   "metadata": {},
   "outputs": [],
   "source": [
    "df_raw = df_res_list[0].copy()\n",
    "hsq = 0.25\n",
    "\n",
    "# correct for the PRS-MEAN, such that it has the same mean as the PHENO\n",
    "df_raw[\"PRS_MEAN\"] -= df_raw[\"PRS_MEAN\"].mean() - df_raw[\"PHENO\"].mean()\n",
    "\n",
    "df_raw[\"PHENO_STD\"] = np.sqrt(df_raw[\"PRS_STD\"] ** 2 + (1 - hsq))\n",
    "df_raw[\"PHENO_LOWER\"] = df_raw[\"PRS_MEAN\"] - df_raw[\"PHENO_STD\"] * TARGET_QUANTILE_Z\n",
    "df_raw[\"PHENO_UPPER\"] = df_raw[\"PRS_MEAN\"] + df_raw[\"PHENO_STD\"] * TARGET_QUANTILE_Z\n",
    "df_raw[\"PRS_LOWER\"] = df_raw[\"PRS_MEAN\"] - df_raw[\"PRS_STD\"] * TARGET_QUANTILE_Z\n",
    "df_raw[\"PRS_UPPER\"] = df_raw[\"PRS_MEAN\"] + df_raw[\"PRS_STD\"] * TARGET_QUANTILE_Z\n",
    "\n",
    "# generate some random covariates\n",
    "df_raw[\"AGE\"] = np.random.randint(100, size=len(df_raw))\n",
    "df_raw[\"SEX\"] = np.random.randint(2, size=len(df_raw))"
   ]
  },
  {
   "cell_type": "code",
   "execution_count": 5,
   "metadata": {},
   "outputs": [
    {
     "data": {
      "text/plain": [
       "coverage    0.899745\n",
       "dtype: float64"
      ]
     },
     "metadata": {},
     "output_type": "display_data"
    },
    {
     "data": {
      "text/html": [
       "<div>\n",
       "<style scoped>\n",
       "    .dataframe tbody tr th:only-of-type {\n",
       "        vertical-align: middle;\n",
       "    }\n",
       "\n",
       "    .dataframe tbody tr th {\n",
       "        vertical-align: top;\n",
       "    }\n",
       "\n",
       "    .dataframe thead th {\n",
       "        text-align: right;\n",
       "    }\n",
       "</style>\n",
       "<table border=\"1\" class=\"dataframe\">\n",
       "  <thead>\n",
       "    <tr style=\"text-align: right;\">\n",
       "      <th></th>\n",
       "      <th>SEX</th>\n",
       "      <th>coverage</th>\n",
       "    </tr>\n",
       "  </thead>\n",
       "  <tbody>\n",
       "    <tr>\n",
       "      <th>0</th>\n",
       "      <td>0</td>\n",
       "      <td>0.899711</td>\n",
       "    </tr>\n",
       "    <tr>\n",
       "      <th>1</th>\n",
       "      <td>1</td>\n",
       "      <td>0.899779</td>\n",
       "    </tr>\n",
       "  </tbody>\n",
       "</table>\n",
       "</div>"
      ],
      "text/plain": [
       "   SEX  coverage\n",
       "0    0  0.899711\n",
       "1    1  0.899779"
      ]
     },
     "metadata": {},
     "output_type": "display_data"
    }
   ],
   "source": [
    "display(\n",
    "    admix_prs.eval_calibration(\n",
    "        df_raw,\n",
    "        x_col=\"PHENO\",\n",
    "        lower_col=\"PHENO_LOWER\",\n",
    "        upper_col=\"PHENO_UPPER\",\n",
    "    )\n",
    ")\n",
    "\n",
    "display(\n",
    "    admix_prs.eval_calibration(\n",
    "        df_raw,\n",
    "        x_col=\"PHENO\",\n",
    "        lower_col=\"PHENO_LOWER\",\n",
    "        upper_col=\"PHENO_UPPER\",\n",
    "        group_col=\"SEX\",\n",
    "    )\n",
    ")"
   ]
  },
  {
   "cell_type": "markdown",
   "metadata": {},
   "source": [
    "# Case 1: phenotype mean as a function of covariates"
   ]
  },
  {
   "cell_type": "code",
   "execution_count": 6,
   "metadata": {},
   "outputs": [],
   "source": [
    "df1 = df_raw.copy()\n",
    "df1[\"PHENO\"] += (df1[\"SEX\"] - 0.5) * 3"
   ]
  },
  {
   "cell_type": "code",
   "execution_count": 7,
   "metadata": {},
   "outputs": [
    {
     "data": {
      "text/html": [
       "<div>\n",
       "<style scoped>\n",
       "    .dataframe tbody tr th:only-of-type {\n",
       "        vertical-align: middle;\n",
       "    }\n",
       "\n",
       "    .dataframe tbody tr th {\n",
       "        vertical-align: top;\n",
       "    }\n",
       "\n",
       "    .dataframe thead th {\n",
       "        text-align: right;\n",
       "    }\n",
       "</style>\n",
       "<table border=\"1\" class=\"dataframe\">\n",
       "  <thead>\n",
       "    <tr style=\"text-align: right;\">\n",
       "      <th></th>\n",
       "      <th>SEX</th>\n",
       "      <th>coverage</th>\n",
       "    </tr>\n",
       "  </thead>\n",
       "  <tbody>\n",
       "    <tr>\n",
       "      <th>0</th>\n",
       "      <td>0</td>\n",
       "      <td>0.496890</td>\n",
       "    </tr>\n",
       "    <tr>\n",
       "      <th>1</th>\n",
       "      <td>1</td>\n",
       "      <td>0.496727</td>\n",
       "    </tr>\n",
       "  </tbody>\n",
       "</table>\n",
       "</div>"
      ],
      "text/plain": [
       "   SEX  coverage\n",
       "0    0  0.496890\n",
       "1    1  0.496727"
      ]
     },
     "metadata": {},
     "output_type": "display_data"
    },
    {
     "data": {
      "image/png": "[encoded data removed]",
      "text/plain": [
       "<Figure size 600x300 with 1 Axes>"
      ]
     },
     "metadata": {
      "needs_background": "light"
     },
     "output_type": "display_data"
    }
   ],
   "source": [
    "fig, ax = plt.subplots(figsize=(4, 2), dpi=150)\n",
    "admix_prs.plot_calibration(\n",
    "    df=df1,\n",
    "    y_col=\"PHENO\",\n",
    "    lower_col=\"PHENO_LOWER\",\n",
    "    upper_col=\"PHENO_UPPER\",\n",
    "    group_col=\"SEX\",\n",
    "    ax=ax,\n",
    ")\n",
    "display(\n",
    "    admix_prs.eval_calibration(\n",
    "        df1,\n",
    "        x_col=\"PHENO\",\n",
    "        lower_col=\"PHENO_LOWER\",\n",
    "        upper_col=\"PHENO_UPPER\",\n",
    "        group_col=\"SEX\",\n",
    "    )\n",
    ")"
   ]
  },
  {
   "cell_type": "code",
   "execution_count": 8,
   "metadata": {},
   "outputs": [
    {
     "name": "stdout",
     "output_type": "stream",
     "text": [
      "2022-01-19 14:27.13 [info     ] Regress pred_col=PRS_MEAN against mean_adjust_cols=['SEX'] fitted with `calibrate_index` individuals\n",
      "2022-01-19 14:27.13 [info     ] method=None, no further adjustment to the intervals, only mean shift\n"
     ]
    },
    {
     "data": {
      "text/html": [
       "<div>\n",
       "<style scoped>\n",
       "    .dataframe tbody tr th:only-of-type {\n",
       "        vertical-align: middle;\n",
       "    }\n",
       "\n",
       "    .dataframe tbody tr th {\n",
       "        vertical-align: top;\n",
       "    }\n",
       "\n",
       "    .dataframe thead th {\n",
       "        text-align: right;\n",
       "    }\n",
       "</style>\n",
       "<table border=\"1\" class=\"dataframe\">\n",
       "  <thead>\n",
       "    <tr style=\"text-align: right;\">\n",
       "      <th></th>\n",
       "      <th>SEX</th>\n",
       "      <th>coverage</th>\n",
       "    </tr>\n",
       "  </thead>\n",
       "  <tbody>\n",
       "    <tr>\n",
       "      <th>0</th>\n",
       "      <td>0</td>\n",
       "      <td>0.899346</td>\n",
       "    </tr>\n",
       "    <tr>\n",
       "      <th>1</th>\n",
       "      <td>1</td>\n",
       "      <td>0.900488</td>\n",
       "    </tr>\n",
       "  </tbody>\n",
       "</table>\n",
       "</div>"
      ],
      "text/plain": [
       "   SEX  coverage\n",
       "0    0  0.899346\n",
       "1    1  0.900488"
      ]
     },
     "metadata": {},
     "output_type": "display_data"
    },
    {
     "data": {
      "text/plain": [
       "Text(0.5, 1.0, 'After')"
      ]
     },
     "execution_count": 8,
     "metadata": {},
     "output_type": "execute_result"
    },
    {
     "data": {
      "image/png": "[encoded data removed]",
      "text/plain": [
       "<Figure size 750x300 with 2 Axes>"
      ]
     },
     "metadata": {
      "needs_background": "light"
     },
     "output_type": "display_data"
    }
   ],
   "source": [
    "np.random.seed(1)\n",
    "# use 5% of the individual for calibration\n",
    "calibrate_idx = np.random.choice(df1.index, size=int(len(df1) * 0.05), replace=False)\n",
    "\n",
    "# perform calibration\n",
    "df1_calibrated = admix_prs.calibrate_pred(\n",
    "    df1,\n",
    "    pheno_col=\"PHENO\",\n",
    "    pred_col=\"PRS_MEAN\",\n",
    "    lower_col=\"PHENO_LOWER\",\n",
    "    upper_col=\"PHENO_UPPER\",\n",
    "    calibrate_idx=calibrate_idx,\n",
    "    mean_adjust_cols=[\"SEX\"],\n",
    ")\n",
    "df1_calibrated[[\"PHENO\", \"SEX\"]] = df1[[\"PHENO\", \"SEX\"]].reindex(df1_calibrated.index)\n",
    "\n",
    "display(\n",
    "    admix_prs.eval_calibration(\n",
    "        df1_calibrated,\n",
    "        x_col=\"PHENO\",\n",
    "        lower_col=\"PHENO_LOWER\",\n",
    "        upper_col=\"PHENO_UPPER\",\n",
    "        group_col=\"SEX\",\n",
    "    )\n",
    ")\n",
    "\n",
    "# visualize before and after\n",
    "\n",
    "fig, axes = plt.subplots(figsize=(5, 2), dpi=150, ncols=2)\n",
    "admix_prs.plot_calibration(\n",
    "    df=df1,\n",
    "    y_col=\"PHENO\",\n",
    "    lower_col=\"PHENO_LOWER\",\n",
    "    upper_col=\"PHENO_UPPER\",\n",
    "    group_col=\"SEX\",\n",
    "    ax=axes[0],\n",
    ")\n",
    "\n",
    "admix_prs.plot_calibration(\n",
    "    df=df1_calibrated,\n",
    "    y_col=\"PHENO\",\n",
    "    lower_col=\"PHENO_LOWER\",\n",
    "    upper_col=\"PHENO_UPPER\",\n",
    "    group_col=\"SEX\",\n",
    "    ax=axes[1],\n",
    ")\n",
    "axes[0].set_ylim(-4, 4)\n",
    "axes[0].set_title(\"Before\")\n",
    "axes[1].set_ylim(-4, 4)\n",
    "axes[1].set_title(\"After\")"
   ]
  },
  {
   "cell_type": "markdown",
   "metadata": {},
   "source": [
    "# Case 2: variance as a function of covariates"
   ]
  },
  {
   "cell_type": "code",
   "execution_count": 9,
   "metadata": {},
   "outputs": [
    {
     "name": "stdout",
     "output_type": "stream",
     "text": [
      "2022-01-19 14:27.14 [info     ] Regress pred_col=PRS_MEAN against mean_adjust_cols=['AGE'] fitted with `calibrate_index` individuals\n",
      "2022-01-19 14:27.14 [info     ] method=None, no further adjustment to the intervals, only mean shift\n"
     ]
    }
   ],
   "source": [
    "df2 = df_raw.copy()\n",
    "df2[\"PHENO\"] += np.random.normal(scale=np.sqrt(df2[\"AGE\"]) * 0.4)\n",
    "df2[\"AGE_Q\"] = pd.qcut(df2[\"AGE\"], q=5).cat.codes\n",
    "\n",
    "np.random.seed(1)\n",
    "# use 5% of the individual for calibration\n",
    "calibrate_idx = np.random.choice(df2.index, size=int(len(df2) * 0.05), replace=False)\n",
    "\n",
    "# perform calibration\n",
    "df2_calibrated = admix_prs.calibrate_pred(\n",
    "    df2,\n",
    "    pheno_col=\"PHENO\",\n",
    "    pred_col=\"PRS_MEAN\",\n",
    "    lower_col=\"PHENO_LOWER\",\n",
    "    upper_col=\"PHENO_UPPER\",\n",
    "    calibrate_idx=calibrate_idx,\n",
    "    mean_adjust_cols=[\"AGE\"],\n",
    ")\n",
    "df2_calibrated[[\"PHENO\", \"AGE_Q\"]] = df2[[\"PHENO\", \"AGE_Q\"]].reindex(\n",
    "    df2_calibrated.index\n",
    ")"
   ]
  },
  {
   "cell_type": "code",
   "execution_count": 10,
   "metadata": {},
   "outputs": [
    {
     "data": {
      "text/html": [
       "<div>\n",
       "<style scoped>\n",
       "    .dataframe tbody tr th:only-of-type {\n",
       "        vertical-align: middle;\n",
       "    }\n",
       "\n",
       "    .dataframe tbody tr th {\n",
       "        vertical-align: top;\n",
       "    }\n",
       "\n",
       "    .dataframe thead th {\n",
       "        text-align: right;\n",
       "    }\n",
       "</style>\n",
       "<table border=\"1\" class=\"dataframe\">\n",
       "  <thead>\n",
       "    <tr style=\"text-align: right;\">\n",
       "      <th></th>\n",
       "      <th>AGE_Q</th>\n",
       "      <th>coverage</th>\n",
       "    </tr>\n",
       "  </thead>\n",
       "  <tbody>\n",
       "    <tr>\n",
       "      <th>0</th>\n",
       "      <td>0</td>\n",
       "      <td>0.685443</td>\n",
       "    </tr>\n",
       "    <tr>\n",
       "      <th>1</th>\n",
       "      <td>1</td>\n",
       "      <td>0.465400</td>\n",
       "    </tr>\n",
       "    <tr>\n",
       "      <th>2</th>\n",
       "      <td>2</td>\n",
       "      <td>0.384368</td>\n",
       "    </tr>\n",
       "    <tr>\n",
       "      <th>3</th>\n",
       "      <td>3</td>\n",
       "      <td>0.332992</td>\n",
       "    </tr>\n",
       "    <tr>\n",
       "      <th>4</th>\n",
       "      <td>4</td>\n",
       "      <td>0.298350</td>\n",
       "    </tr>\n",
       "  </tbody>\n",
       "</table>\n",
       "</div>"
      ],
      "text/plain": [
       "   AGE_Q  coverage\n",
       "0      0  0.685443\n",
       "1      1  0.465400\n",
       "2      2  0.384368\n",
       "3      3  0.332992\n",
       "4      4  0.298350"
      ]
     },
     "metadata": {},
     "output_type": "display_data"
    },
    {
     "data": {
      "text/html": [
       "<div>\n",
       "<style scoped>\n",
       "    .dataframe tbody tr th:only-of-type {\n",
       "        vertical-align: middle;\n",
       "    }\n",
       "\n",
       "    .dataframe tbody tr th {\n",
       "        vertical-align: top;\n",
       "    }\n",
       "\n",
       "    .dataframe thead th {\n",
       "        text-align: right;\n",
       "    }\n",
       "</style>\n",
       "<table border=\"1\" class=\"dataframe\">\n",
       "  <thead>\n",
       "    <tr style=\"text-align: right;\">\n",
       "      <th></th>\n",
       "      <th>AGE_Q</th>\n",
       "      <th>coverage</th>\n",
       "    </tr>\n",
       "  </thead>\n",
       "  <tbody>\n",
       "    <tr>\n",
       "      <th>0</th>\n",
       "      <td>0</td>\n",
       "      <td>0.680055</td>\n",
       "    </tr>\n",
       "    <tr>\n",
       "      <th>1</th>\n",
       "      <td>1</td>\n",
       "      <td>0.468085</td>\n",
       "    </tr>\n",
       "    <tr>\n",
       "      <th>2</th>\n",
       "      <td>2</td>\n",
       "      <td>0.386545</td>\n",
       "    </tr>\n",
       "    <tr>\n",
       "      <th>3</th>\n",
       "      <td>3</td>\n",
       "      <td>0.331356</td>\n",
       "    </tr>\n",
       "    <tr>\n",
       "      <th>4</th>\n",
       "      <td>4</td>\n",
       "      <td>0.298026</td>\n",
       "    </tr>\n",
       "  </tbody>\n",
       "</table>\n",
       "</div>"
      ],
      "text/plain": [
       "   AGE_Q  coverage\n",
       "0      0  0.680055\n",
       "1      1  0.468085\n",
       "2      2  0.386545\n",
       "3      3  0.331356\n",
       "4      4  0.298026"
      ]
     },
     "metadata": {},
     "output_type": "display_data"
    },
    {
     "data": {
      "image/png": "[encoded data removed]",
      "text/plain": [
       "<Figure size 750x600 with 2 Axes>"
      ]
     },
     "metadata": {
      "needs_background": "light"
     },
     "output_type": "display_data"
    }
   ],
   "source": [
    "fig, axes = plt.subplots(figsize=(5, 4), dpi=150, nrows=2)\n",
    "admix_prs.plot_calibration(\n",
    "    df=df2,\n",
    "    y_col=\"PHENO\",\n",
    "    lower_col=\"PHENO_LOWER\",\n",
    "    upper_col=\"PHENO_UPPER\",\n",
    "    group_col=\"AGE_Q\",\n",
    "    n=10,\n",
    "    ax=axes[0],\n",
    ")\n",
    "axes[0].set_title(\"Before\")\n",
    "display(\n",
    "    admix_prs.eval_calibration(\n",
    "        df=df2,\n",
    "        x_col=\"PHENO\",\n",
    "        lower_col=\"PHENO_LOWER\",\n",
    "        upper_col=\"PHENO_UPPER\",\n",
    "        group_col=\"AGE_Q\",\n",
    "    )\n",
    ")\n",
    "admix_prs.plot_calibration(\n",
    "    df=df2_calibrated,\n",
    "    y_col=\"PHENO\",\n",
    "    lower_col=\"PHENO_LOWER\",\n",
    "    upper_col=\"PHENO_UPPER\",\n",
    "    group_col=\"AGE_Q\",\n",
    "    n=10,\n",
    "    ax=axes[1],\n",
    ")\n",
    "axes[1].set_title(\"After\")\n",
    "\n",
    "display(\n",
    "    admix_prs.eval_calibration(\n",
    "        df=df2_calibrated,\n",
    "        x_col=\"PHENO\",\n",
    "        lower_col=\"PHENO_LOWER\",\n",
    "        upper_col=\"PHENO_UPPER\",\n",
    "        group_col=\"AGE_Q\",\n",
    "    )\n",
    ")\n",
    "fig.tight_layout()"
   ]
  },
  {
   "cell_type": "code",
   "execution_count": 11,
   "metadata": {},
   "outputs": [
    {
     "name": "stdout",
     "output_type": "stream",
     "text": [
      "2022-01-19 14:27.14 [info     ] Regress pred_col=PRS_MEAN against mean_adjust_cols=[] fitted with `calibrate_index` individuals\n",
      "2022-01-19 14:27.14 [info     ] method=scale, scale the interval length to the target quantile 0.05 using quantile_adjust_cols=['AGE'] with `calibrate_index` individuals\n"
     ]
    }
   ],
   "source": [
    "# perform calibration with TARGET_QUANTILE adjusted\n",
    "df2_calibrated = admix_prs.calibrate_pred(\n",
    "    df2,\n",
    "    pheno_col=\"PHENO\",\n",
    "    pred_col=\"PRS_MEAN\",\n",
    "    lower_col=\"PHENO_LOWER\",\n",
    "    upper_col=\"PHENO_UPPER\",\n",
    "    calibrate_idx=calibrate_idx,\n",
    "    method=\"scale\",\n",
    "    quantile_adjust_cols=[\"AGE\"],\n",
    "    q=TARGET_QUANTILE,\n",
    ")\n",
    "df2_calibrated[[\"PHENO\", \"AGE_Q\"]] = df2[[\"PHENO\", \"AGE_Q\"]].reindex(\n",
    "    df2_calibrated.index\n",
    ")"
   ]
  },
  {
   "cell_type": "code",
   "execution_count": 12,
   "metadata": {},
   "outputs": [
    {
     "data": {
      "text/html": [
       "<div>\n",
       "<style scoped>\n",
       "    .dataframe tbody tr th:only-of-type {\n",
       "        vertical-align: middle;\n",
       "    }\n",
       "\n",
       "    .dataframe tbody tr th {\n",
       "        vertical-align: top;\n",
       "    }\n",
       "\n",
       "    .dataframe thead th {\n",
       "        text-align: right;\n",
       "    }\n",
       "</style>\n",
       "<table border=\"1\" class=\"dataframe\">\n",
       "  <thead>\n",
       "    <tr style=\"text-align: right;\">\n",
       "      <th></th>\n",
       "      <th>AGE_Q</th>\n",
       "      <th>coverage</th>\n",
       "    </tr>\n",
       "  </thead>\n",
       "  <tbody>\n",
       "    <tr>\n",
       "      <th>0</th>\n",
       "      <td>0</td>\n",
       "      <td>0.685443</td>\n",
       "    </tr>\n",
       "    <tr>\n",
       "      <th>1</th>\n",
       "      <td>1</td>\n",
       "      <td>0.465400</td>\n",
       "    </tr>\n",
       "    <tr>\n",
       "      <th>2</th>\n",
       "      <td>2</td>\n",
       "      <td>0.384368</td>\n",
       "    </tr>\n",
       "    <tr>\n",
       "      <th>3</th>\n",
       "      <td>3</td>\n",
       "      <td>0.332992</td>\n",
       "    </tr>\n",
       "    <tr>\n",
       "      <th>4</th>\n",
       "      <td>4</td>\n",
       "      <td>0.298350</td>\n",
       "    </tr>\n",
       "  </tbody>\n",
       "</table>\n",
       "</div>"
      ],
      "text/plain": [
       "   AGE_Q  coverage\n",
       "0      0  0.685443\n",
       "1      1  0.465400\n",
       "2      2  0.384368\n",
       "3      3  0.332992\n",
       "4      4  0.298350"
      ]
     },
     "metadata": {},
     "output_type": "display_data"
    },
    {
     "data": {
      "text/html": [
       "<div>\n",
       "<style scoped>\n",
       "    .dataframe tbody tr th:only-of-type {\n",
       "        vertical-align: middle;\n",
       "    }\n",
       "\n",
       "    .dataframe tbody tr th {\n",
       "        vertical-align: top;\n",
       "    }\n",
       "\n",
       "    .dataframe thead th {\n",
       "        text-align: right;\n",
       "    }\n",
       "</style>\n",
       "<table border=\"1\" class=\"dataframe\">\n",
       "  <thead>\n",
       "    <tr style=\"text-align: right;\">\n",
       "      <th></th>\n",
       "      <th>AGE_Q</th>\n",
       "      <th>coverage</th>\n",
       "    </tr>\n",
       "  </thead>\n",
       "  <tbody>\n",
       "    <tr>\n",
       "      <th>0</th>\n",
       "      <td>0</td>\n",
       "      <td>0.914381</td>\n",
       "    </tr>\n",
       "    <tr>\n",
       "      <th>1</th>\n",
       "      <td>1</td>\n",
       "      <td>0.881843</td>\n",
       "    </tr>\n",
       "    <tr>\n",
       "      <th>2</th>\n",
       "      <td>2</td>\n",
       "      <td>0.891676</td>\n",
       "    </tr>\n",
       "    <tr>\n",
       "      <th>3</th>\n",
       "      <td>3</td>\n",
       "      <td>0.910207</td>\n",
       "    </tr>\n",
       "    <tr>\n",
       "      <th>4</th>\n",
       "      <td>4</td>\n",
       "      <td>0.924711</td>\n",
       "    </tr>\n",
       "  </tbody>\n",
       "</table>\n",
       "</div>"
      ],
      "text/plain": [
       "   AGE_Q  coverage\n",
       "0      0  0.914381\n",
       "1      1  0.881843\n",
       "2      2  0.891676\n",
       "3      3  0.910207\n",
       "4      4  0.924711"
      ]
     },
     "metadata": {},
     "output_type": "display_data"
    },
    {
     "data": {
      "image/png": "[encoded data removed]",
      "text/plain": [
       "<Figure size 750x600 with 2 Axes>"
      ]
     },
     "metadata": {
      "needs_background": "light"
     },
     "output_type": "display_data"
    }
   ],
   "source": [
    "fig, axes = plt.subplots(figsize=(5, 4), dpi=150, nrows=2)\n",
    "admix_prs.plot_calibration(\n",
    "    df=df2,\n",
    "    y_col=\"PHENO\",\n",
    "    lower_col=\"PHENO_LOWER\",\n",
    "    upper_col=\"PHENO_UPPER\",\n",
    "    group_col=\"AGE_Q\",\n",
    "    n=10,\n",
    "    ax=axes[0],\n",
    ")\n",
    "axes[0].set_title(\"Before\")\n",
    "display(\n",
    "    admix_prs.eval_calibration(\n",
    "        df=df2,\n",
    "        x_col=\"PHENO\",\n",
    "        lower_col=\"PHENO_LOWER\",\n",
    "        upper_col=\"PHENO_UPPER\",\n",
    "        group_col=\"AGE_Q\",\n",
    "    )\n",
    ")\n",
    "\n",
    "admix_prs.plot_calibration(\n",
    "    df=df2_calibrated,\n",
    "    y_col=\"PHENO\",\n",
    "    lower_col=\"PHENO_LOWER\",\n",
    "    upper_col=\"PHENO_UPPER\",\n",
    "    group_col=\"AGE_Q\",\n",
    "    n=10,\n",
    "    ax=axes[1],\n",
    ")\n",
    "axes[1].set_title(\"After\")\n",
    "\n",
    "display(\n",
    "    admix_prs.eval_calibration(\n",
    "        df=df2_calibrated,\n",
    "        x_col=\"PHENO\",\n",
    "        lower_col=\"PHENO_LOWER\",\n",
    "        upper_col=\"PHENO_UPPER\",\n",
    "        group_col=\"AGE_Q\",\n",
    "    )\n",
    ")\n",
    "fig.tight_layout()"
   ]
  }
 ],
 "metadata": {
  "kernelspec": {
   "display_name": "Python 3",
   "language": "python",
   "name": "python3"
  },
  "language_info": {
   "codemirror_mode": {
    "name": "ipython",
    "version": 3
   },
   "file_extension": ".py",
   "mimetype": "text/x-python",
   "name": "python",
   "nbconvert_exporter": "python",
   "pygments_lexer": "ipython3",
   "version": "3.8.5"
  }
 },
 "nbformat": 4,
 "nbformat_minor": 4
}
