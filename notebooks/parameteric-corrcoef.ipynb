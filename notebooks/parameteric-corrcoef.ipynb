{
 "cells": [
  {
   "cell_type": "markdown",
   "id": "9e9693ef-7bd7-4696-b699-4fa7d4bb87c6",
   "metadata": {},
   "source": [
    "# Experimenting the parameteric estimation of varying correlation coefficient."
   ]
  },
  {
   "cell_type": "code",
   "execution_count": 1,
   "id": "3ed053c9-1ff8-4693-ba6f-98c2e738ac39",
   "metadata": {},
   "outputs": [],
   "source": [
    "%load_ext autoreload\n",
    "%autoreload 2\n",
    "%load_ext lab_black\n",
    "\n",
    "import numpy as np\n",
    "import pandas as pd\n",
    "import matplotlib.pyplot as plt\n",
    "from scipy.optimize import minimize\n",
    "from scipy.stats import multivariate_normal\n",
    "from tqdm import tqdm\n",
    "\n",
    "np.random.seed(1234)"
   ]
  },
  {
   "cell_type": "code",
   "execution_count": 2,
   "id": "4fc6cb9c-7e49-40ca-96ef-f30f3b0f8f4e",
   "metadata": {},
   "outputs": [],
   "source": [
    "n = 3000"
   ]
  },
  {
   "cell_type": "code",
   "execution_count": 3,
   "id": "6c77fa5e-abff-4c6e-86d6-8b2fdb20ab45",
   "metadata": {},
   "outputs": [],
   "source": [
    "# covariates\n",
    "covar = np.random.normal(size=n)\n",
    "covar_rho = np.clip(0.3 + covar * 0.1, -1, 1)\n",
    "\n",
    "data = []\n",
    "for i in range(n):\n",
    "    data.append(\n",
    "        np.random.multivariate_normal(\n",
    "            mean=[0, 0], cov=[[1, covar_rho[i]], [covar_rho[i], 1]]\n",
    "        )\n",
    "    )\n",
    "data = np.array(data)"
   ]
  },
  {
   "cell_type": "code",
   "execution_count": 4,
   "id": "fcb83383-5d9b-4d84-949d-1bb1d912a16b",
   "metadata": {},
   "outputs": [
    {
     "name": "stdout",
     "output_type": "stream",
     "text": [
      "Warning: Desired error not necessarily achieved due to precision loss.\n",
      "         Current function value: 8354.291551\n",
      "         Iterations: 14\n",
      "         Function evaluations: 81\n",
      "         Gradient evaluations: 27\n"
     ]
    }
   ],
   "source": [
    "def negloglik(params):\n",
    "    a = params[0]\n",
    "    b = params[1]\n",
    "    nll = 0\n",
    "    for i in range(data.shape[0]):\n",
    "        rho = np.clip(a + b * covar[i], -1, 1)\n",
    "        nll -= multivariate_normal.logpdf(\n",
    "            data[i, :],\n",
    "            mean=[0, 0],\n",
    "            cov=np.array([[1, rho], [rho, 1]]),\n",
    "            allow_singular=True,\n",
    "        )\n",
    "    return nll\n",
    "\n",
    "\n",
    "avg_coef = np.corrcoef(data[:, 0], data[:, 1])[0, 1]\n",
    "model = minimize(negloglik, np.array([avg_coef, 0]), options={\"disp\": True}, tol=1e-4)"
   ]
  }
 ],
 "metadata": {
  "kernelspec": {
   "display_name": "Python 3",
   "language": "python",
   "name": "python3"
  },
  "language_info": {
   "codemirror_mode": {
    "name": "ipython",
    "version": 3
   },
   "file_extension": ".py",
   "mimetype": "text/x-python",
   "name": "python",
   "nbconvert_exporter": "python",
   "pygments_lexer": "ipython3",
   "version": "3.8.5"
  }
 },
 "nbformat": 4,
 "nbformat_minor": 5
}
