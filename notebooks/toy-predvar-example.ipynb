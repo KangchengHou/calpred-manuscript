{
 "cells": [
  {
   "cell_type": "code",
   "execution_count": 1,
   "id": "19b7f82f-f414-4fb8-b59e-61d53a67f0eb",
   "metadata": {},
   "outputs": [],
   "source": [
    "%load_ext autoreload\n",
    "%autoreload 2\n",
    "%load_ext lab_black"
   ]
  },
  {
   "cell_type": "markdown",
   "id": "e7df80d9-6bb5-4779-87a2-74f2d20ced77",
   "metadata": {},
   "source": [
    "# Several observations\n",
    "Under this simple simulation,\n",
    "1. Because of the large regularization, weight = 1 / (alpha + eigval) does not change much across different eigen values.\n",
    "2. weight can be approximated as a constant across different eigenvalues.\n",
    "3. then np.square(pc) * 1 can be accurately used to approximate the predictive variance.\n",
    "\n",
    "Questions:\n",
    "1. What would happen in real data? Plot weight, etc.\n",
    "2. Or what happen if one use (geno ** 2).sum(axis=1)?\n",
    "3. Can one truncate at some top PCs, and approximate the rest with constant.\n",
    "    - Concretely $$\\sum_{i \\in \\text{top}} (v_i^\\top g)^2 \\cdot w_i + \\sum_{i \\in \\text{rest}}(v_i^\\top g)^2  \\cdot w_i$$\n",
    "    - And we know $$||g||^2_2 = \\sum_i (v_i^\\top  g)^2 = \\sum_{i \\in \\text{top}} (v_i^\\top  g)^2 + \\sum_{i \\in \\text{rest}} (v_i^\\top g)^2$$\n",
    "    - Therefore, one can approximate the predictive variance under this model with $$ \\sum_{i \\in \\text{top}} (v_i^\\top g)^2 \\cdot w_i + \\left[||g||^2_2 - (\\sum_{i \\in \\text{top}} (v_i^\\top g)^2) \\right] w_c$$"
   ]
  },
  {
   "cell_type": "code",
   "execution_count": 2,
   "id": "903ab8cb-33e5-4f41-8a50-8c86ac07892e",
   "metadata": {},
   "outputs": [],
   "source": [
    "import numpy as np\n",
    "import matplotlib.pyplot as plt\n",
    "from scipy.stats import multivariate_normal\n",
    "from sklearn.linear_model import Ridge\n",
    "from sklearn.decomposition import PCA\n",
    "import admix\n",
    "from scipy import linalg\n",
    "\n",
    "np.random.seed(0)"
   ]
  },
  {
   "cell_type": "markdown",
   "id": "f116accd-7c1b-49d8-8fc9-3781ce95e222",
   "metadata": {},
   "source": [
    "# Genotype simulation\n"
   ]
  },
  {
   "cell_type": "code",
   "execution_count": 3,
   "id": "724b84db-1085-479f-be8e-5aee76cf993f",
   "metadata": {},
   "outputs": [],
   "source": [
    "CHROM = 1\n",
    "KG_PATH = f\"/u/project/pasaniuc/kangchen/DATA/plink2-1kg/out/build38.chr{CHROM}\""
   ]
  },
  {
   "cell_type": "code",
   "execution_count": 4,
   "id": "dd458110-543f-4367-a85a-71b12a9d1256",
   "metadata": {},
   "outputs": [],
   "source": [
    "n_admix = 2000"
   ]
  },
  {
   "cell_type": "markdown",
   "id": "2551690d-6f9e-4678-83c8-61162e5a584b",
   "metadata": {},
   "source": [
    "# Load data sets\n",
    "1. European and African individuals with >1% MAF"
   ]
  },
  {
   "cell_type": "code",
   "execution_count": 5,
   "id": "aa6738e0-dc65-4043-95e8-9bcd195dceed",
   "metadata": {},
   "outputs": [
    {
     "name": "stderr",
     "output_type": "stream",
     "text": [
      "100%|██████████| 4000/4000 [00:00<00:00, 35040.50it/s]\n"
     ]
    }
   ],
   "source": [
    "dset_all = admix.io.read_dataset(KG_PATH)[0:200000:200]\n",
    "dset_all.persist()\n",
    "dset_eur = dset_all[:, (dset_all.indiv.SuperPop == \"EUR\").values]\n",
    "dset_afr = dset_all[:, (dset_all.indiv.SuperPop == \"AFR\").values]\n",
    "freq_eur = dset_eur.geno.mean(axis=[1, 2]).compute()\n",
    "freq_afr = dset_afr.geno.mean(axis=[1, 2]).compute()\n",
    "snp_mask = (0.01 < freq_eur) & (freq_eur < 0.99) & (0.01 < freq_eur) & (freq_eur < 0.99)\n",
    "dset_eur, dset_afr = dset_eur[snp_mask], dset_afr[snp_mask]\n",
    "\n",
    "mosaic_size = admix.simulate.calculate_mosaic_size(\n",
    "    df_snp=dset_eur.snp, genetic_map=\"hg38\", chrom=1, n_gen=7\n",
    ")\n",
    "\n",
    "np.random.seed(1)\n",
    "\n",
    "dset_admix = admix.simulate.admix_geno(\n",
    "    geno_list=[dset_eur.geno, dset_afr.geno],\n",
    "    df_snp=dset_eur.snp,\n",
    "    anc_props=[0.2, 0.8],\n",
    "    mosaic_size=mosaic_size,\n",
    "    n_indiv=n_admix,\n",
    ")"
   ]
  },
  {
   "cell_type": "code",
   "execution_count": 6,
   "id": "92c9cce6-e73f-488e-9b29-a39a00dc4da3",
   "metadata": {},
   "outputs": [
    {
     "data": {
      "text/plain": [
       "admix.Dataset object with n_snp x n_indiv = 605 x 503, no local ancestry\n",
       "\tsnp: 'CHROM', 'POS', 'REF', 'ALT', 'QUAL', 'FILTER'\n",
       "\tindiv: 'PAT', 'MAT', 'SEX', 'SuperPop', 'Population'"
      ]
     },
     "execution_count": 6,
     "metadata": {},
     "output_type": "execute_result"
    }
   ],
   "source": [
    "dset_eur"
   ]
  },
  {
   "cell_type": "code",
   "execution_count": 7,
   "id": "85cff4c2-367c-4e72-a42e-5f253e43745d",
   "metadata": {},
   "outputs": [
    {
     "data": {
      "text/plain": [
       "admix.Dataset object with n_snp x n_indiv = 605 x 661, no local ancestry\n",
       "\tsnp: 'CHROM', 'POS', 'REF', 'ALT', 'QUAL', 'FILTER'\n",
       "\tindiv: 'PAT', 'MAT', 'SEX', 'SuperPop', 'Population'"
      ]
     },
     "execution_count": 7,
     "metadata": {},
     "output_type": "execute_result"
    }
   ],
   "source": [
    "dset_afr"
   ]
  },
  {
   "cell_type": "code",
   "execution_count": 8,
   "id": "117e1e87-4e52-4467-9284-35d589f64ac4",
   "metadata": {},
   "outputs": [],
   "source": [
    "def simulate_pheno(geno_eur, geno_admix, var_g: float, var_e: float, n_sim: int = 10):\n",
    "    geno = np.vstack([geno_eur, geno_admix])\n",
    "\n",
    "    n_indiv, n_snp = geno.shape[0:2]\n",
    "    beta = np.random.normal(size=(n_snp, n_sim))\n",
    "    pheno_g = geno @ beta\n",
    "    pheno_g *= np.sqrt(var_g / np.var(pheno_g, axis=0))\n",
    "    pheno_e = np.random.normal(scale=np.sqrt(var_e), size=pheno_g.shape)\n",
    "    pheno = pheno_g + pheno_e\n",
    "    return pheno[0 : dset_eur.n_indiv, :], pheno[dset_eur.n_indiv :, :]"
   ]
  },
  {
   "cell_type": "code",
   "execution_count": 9,
   "id": "18b12a7a-8acf-4316-96c8-91baecbe8ce2",
   "metadata": {},
   "outputs": [],
   "source": [
    "var_g = 1.0\n",
    "var_e = 2.0"
   ]
  },
  {
   "cell_type": "code",
   "execution_count": 10,
   "id": "94f0d21f-9d1f-4e36-b0f0-79ebee7d15fb",
   "metadata": {},
   "outputs": [],
   "source": [
    "assert dset_eur.snp.equals(dset_admix.snp)\n",
    "n_snp = dset_eur.n_snp\n",
    "geno_eur, geno_admix = (\n",
    "    dset_eur.geno.sum(axis=2).compute().T.astype(float),\n",
    "    dset_admix.geno.sum(axis=2).compute().T.astype(float),\n",
    ")\n",
    "# center around geno_eur\n",
    "freq_eur = geno_eur.mean(axis=0)\n",
    "geno_eur -= freq_eur\n",
    "geno_admix -= freq_eur\n",
    "geno_all = np.vstack([geno_eur, geno_admix])\n",
    "\n",
    "pheno_eur, pheno_admix = simulate_pheno(\n",
    "    geno_eur=geno_eur, geno_admix=geno_admix, var_g=var_g, var_e=var_e\n",
    ")"
   ]
  },
  {
   "cell_type": "markdown",
   "id": "2a54cadb-8de5-4d0d-b2d3-604f18fe2bc5",
   "metadata": {},
   "source": [
    "# Bayesian linear regression with analytical solution"
   ]
  },
  {
   "cell_type": "code",
   "execution_count": 11,
   "id": "4f9660f8-670b-41b0-91c9-4e1f0da19711",
   "metadata": {},
   "outputs": [],
   "source": [
    "sim_i = 0\n",
    "alpha = var_e * n_snp / var_g"
   ]
  },
  {
   "cell_type": "code",
   "execution_count": 12,
   "id": "63fbbf45-367f-435f-a7ca-b83110be775d",
   "metadata": {},
   "outputs": [],
   "source": [
    "def ridge(X_train, y_train, X_test, alpha, var_e):\n",
    "    \"\"\"\n",
    "    ridge using scikit-learn\n",
    "    \"\"\"\n",
    "    n_snp = X_train.shape[1]\n",
    "    model = Ridge(alpha=alpha, fit_intercept=True)\n",
    "    model.fit(X_train, y_train)\n",
    "\n",
    "    pred = model.predict(X_test)\n",
    "    w = model.coef_.flatten()\n",
    "    wcov = var_e * np.linalg.inv(np.diag([alpha] * n_snp) + X_train.T.dot(X_train))\n",
    "    X_all = np.vstack([X_train, X_test])\n",
    "    postvar = np.array(\n",
    "        [\n",
    "            var_e + X_all[i, :].T.dot(wcov.dot(X_all[i, :]))\n",
    "            for i in range(X_all.shape[0])\n",
    "        ]\n",
    "    )\n",
    "    return postvar\n",
    "\n",
    "\n",
    "def ridge(X_train, y_train, X_test, alpha, var_e):\n",
    "    \"\"\"\n",
    "    ridge using only numpy\n",
    "    \"\"\"\n",
    "    # centering\n",
    "    X_train, y_train, X_test = X_train.copy(), y_train.copy(), X_test.copy()\n",
    "    center_train = X_train.mean(axis=0)\n",
    "    X_train -= center_train\n",
    "    X_test -= center_train\n",
    "    intercept = y_train.mean()\n",
    "    y_train -= intercept\n",
    "\n",
    "    n_snp = X_train.shape[1]\n",
    "\n",
    "    # train\n",
    "    inv_XtX_train = np.linalg.inv(np.diag([alpha] * n_snp) + X_train.T @ X_train)\n",
    "    w = inv_XtX_train @ X_train.T @ y_train\n",
    "    wcov = var_e * inv_XtX_train\n",
    "\n",
    "    X_all = np.vstack([X_train, X_test])\n",
    "    pred = X_all @ w + intercept\n",
    "    predvar = np.array(\n",
    "        [\n",
    "            var_e + X_all[i, :].T.dot(wcov.dot(X_all[i, :]))\n",
    "            for i in range(X_all.shape[0])\n",
    "        ]\n",
    "    )\n",
    "\n",
    "    return pred[len(y_train) :], predvar[len(y_train) :]\n",
    "\n",
    "\n",
    "def analytical_predvar(X_train, X_test, alpha, n_components=None):\n",
    "    # centering\n",
    "    X_train, X_test = X_train.copy(), X_test.copy()\n",
    "    center_train = X_train.mean(axis=0)\n",
    "    X_train -= center_train\n",
    "    X_test -= center_train\n",
    "\n",
    "    eigval, eigvec = linalg.eigh(X_train.T @ X_train)\n",
    "    weight = 1 / (eigval + alpha)\n",
    "\n",
    "    if n_components is not None:\n",
    "        truncated_weight = np.ones_like(weight) * (alpha)\n",
    "        truncated_weight[-n_components:] = weight[-n_components:]\n",
    "    else:\n",
    "        truncated_weight = weight\n",
    "\n",
    "    # note that X_test @ eigvec corresponds to the PCs\n",
    "    pc = X_test @ eigvec\n",
    "    predvar = np.square(pc) @ truncated_weight * var_e + var_e\n",
    "    return predvar\n",
    "\n",
    "\n",
    "def pca(X_train, X_test):\n",
    "    # centering\n",
    "    X_train, X_test = X_train.copy(), X_test.copy()\n",
    "    center_train = X_train.mean(axis=0)\n",
    "    X_train -= center_train\n",
    "    X_test -= center_train\n",
    "\n",
    "    pca = PCA(n_components=10)\n",
    "    pca.fit(X_train)\n",
    "\n",
    "    pc_train = pca.transform(X_train)\n",
    "    pc_test = pca.transform(X_test)\n",
    "    return pc_train, pc_test"
   ]
  },
  {
   "cell_type": "code",
   "execution_count": 13,
   "id": "dec022af-7ebc-4ef5-b981-6ac07ef52134",
   "metadata": {},
   "outputs": [],
   "source": [
    "predvar_gt = analytical_predvar(\n",
    "    X_train=geno_eur, X_test=geno_admix, alpha=alpha, n_components=None\n",
    ")"
   ]
  },
  {
   "cell_type": "code",
   "execution_count": 14,
   "id": "df82030d-7f0b-48aa-9250-ac0ee7339243",
   "metadata": {},
   "outputs": [],
   "source": [
    "predvar = analytical_predvar(\n",
    "    X_train=geno_eur, X_test=geno_admix, alpha=alpha, n_components=10\n",
    ")"
   ]
  },
  {
   "cell_type": "code",
   "execution_count": 17,
   "id": "094f3b5d-9093-47cb-93b7-74466bc33ecb",
   "metadata": {},
   "outputs": [],
   "source": [
    "# plt.scatter(predvar_gt, np.square(geno_admix).sum(axis=1))"
   ]
  },
  {
   "cell_type": "code",
   "execution_count": 16,
   "id": "e828e4d0-c5a0-4f7a-aef9-c2668d31a132",
   "metadata": {},
   "outputs": [
    {
     "ename": "ValueError",
     "evalue": "too many values to unpack (expected 3)",
     "output_type": "error",
     "traceback": [
      "\u001b[0;31m---------------------------------------------------------------------------\u001b[0m",
      "\u001b[0;31mValueError\u001b[0m                                Traceback (most recent call last)",
      "\u001b[0;32m<ipython-input-16-64a6f490c343>\u001b[0m in \u001b[0;36m<module>\u001b[0;34m\u001b[0m\n\u001b[0;32m----> 1\u001b[0;31m predvar, pc, weight = analytical_predvar(\n\u001b[0m\u001b[1;32m      2\u001b[0m     \u001b[0mX_train\u001b[0m\u001b[0;34m=\u001b[0m\u001b[0mgeno_eur\u001b[0m\u001b[0;34m,\u001b[0m \u001b[0mX_test\u001b[0m\u001b[0;34m=\u001b[0m\u001b[0mgeno_admix\u001b[0m\u001b[0;34m,\u001b[0m \u001b[0malpha\u001b[0m\u001b[0;34m=\u001b[0m\u001b[0malpha\u001b[0m\u001b[0;34m,\u001b[0m \u001b[0mn_components\u001b[0m\u001b[0;34m=\u001b[0m\u001b[0;36m5\u001b[0m\u001b[0;34m\u001b[0m\u001b[0;34m\u001b[0m\u001b[0m\n\u001b[1;32m      3\u001b[0m )\n",
      "\u001b[0;31mValueError\u001b[0m: too many values to unpack (expected 3)"
     ]
    }
   ],
   "source": [
    "predvar, pc, weight = analytical_predvar(\n",
    "    X_train=geno_eur, X_test=geno_admix, alpha=alpha, n_components=5\n",
    ")"
   ]
  },
  {
   "cell_type": "code",
   "execution_count": null,
   "id": "be4ef1ea-b562-4316-82e9-31b08662ae3b",
   "metadata": {},
   "outputs": [],
   "source": [
    "plt.scatter(predvar_gt, predvar)"
   ]
  },
  {
   "cell_type": "code",
   "execution_count": null,
   "id": "c8b12a80-eb1f-42e5-9e0f-51dbe508a0bf",
   "metadata": {},
   "outputs": [],
   "source": [
    "predvar"
   ]
  },
  {
   "cell_type": "code",
   "execution_count": null,
   "id": "b41eaaa6-93bd-44d7-bc08-c2e3fafa4deb",
   "metadata": {},
   "outputs": [],
   "source": [
    "plt.plot(np.cumsum(np.flip(np.square(pc).var(axis=0) * weight)))"
   ]
  },
  {
   "cell_type": "code",
   "execution_count": null,
   "id": "bb97da33-8596-4ce7-aaa5-5816cce269d7",
   "metadata": {},
   "outputs": [],
   "source": [
    "plt.plot(pc)"
   ]
  },
  {
   "cell_type": "code",
   "execution_count": null,
   "id": "b64f9dfe-9140-4b90-9a82-cc2a91a4fd42",
   "metadata": {},
   "outputs": [],
   "source": [
    "X_train = geno_eur\n",
    "X_test = geno_admix\n",
    "X_train, X_test = X_train.copy(), X_test.copy()\n",
    "center_train = X_train.mean(axis=0)\n",
    "X_train -= center_train\n",
    "X_test -= center_train\n",
    "\n",
    "pca = PCA(n_components=10)\n",
    "pca.fit(X_train)\n",
    "\n",
    "pc_train = pca.transform(X_train)\n",
    "pc_test = pca.transform(X_test)"
   ]
  },
  {
   "cell_type": "code",
   "execution_count": null,
   "id": "26db1f8a-54de-4ac8-aac1-7022fdfbbd9d",
   "metadata": {},
   "outputs": [],
   "source": [
    "X_train = geno_eur\n",
    "X_test = geno_admix\n",
    "\n",
    "X_train, X_test = X_train.copy(), X_test.copy()\n",
    "center_train = X_train.mean(axis=0)\n",
    "X_train -= center_train\n",
    "X_test -= center_train\n",
    "\n",
    "eigval, eigvec = linalg.eigh(X_train.T @ X_train)\n",
    "weight = 1 / (eigval + alpha)"
   ]
  },
  {
   "cell_type": "code",
   "execution_count": null,
   "id": "86d2b921-6bed-48c7-8a86-84376415fee4",
   "metadata": {},
   "outputs": [],
   "source": [
    "plt.plot(np.square(X_test @ eigvec).var(axis=0))"
   ]
  },
  {
   "cell_type": "code",
   "execution_count": null,
   "id": "d6211f1f-f661-42d8-865e-327c61ef770d",
   "metadata": {},
   "outputs": [],
   "source": [
    "plt.plot(weight)"
   ]
  },
  {
   "cell_type": "code",
   "execution_count": null,
   "id": "954c9a97-d983-4326-86ca-802d5a4fcc06",
   "metadata": {},
   "outputs": [],
   "source": [
    "predvar = analytical_predvar(X_train=geno_eur, X_test=geno_admix, alpha=alpha)"
   ]
  },
  {
   "cell_type": "code",
   "execution_count": null,
   "id": "a39bdbfc-2195-4f40-934c-e0173df8a0c8",
   "metadata": {},
   "outputs": [],
   "source": [
    "pred_admix, predvar_admix = ridge(\n",
    "    X_train=geno_eur,\n",
    "    y_train=pheno_eur[:, sim_i],\n",
    "    X_test=geno_admix,\n",
    "    alpha=alpha,\n",
    "    var_e=var_e,\n",
    ")"
   ]
  },
  {
   "cell_type": "code",
   "execution_count": null,
   "id": "63d02e39-709d-4047-8b2f-4cdf2ef82737",
   "metadata": {},
   "outputs": [],
   "source": [
    "import admix_prs\n",
    "import pandas as pd"
   ]
  },
  {
   "cell_type": "code",
   "execution_count": null,
   "id": "dc0fbb9c-fb3f-4072-b7f4-894be766b3be",
   "metadata": {},
   "outputs": [],
   "source": [
    "df_plot = pd.DataFrame(\n",
    "    {\n",
    "        \"y\": pheno_admix[:, sim_i],\n",
    "        \"lower\": pred_admix - np.sqrt(predvar_admix) * 1.645,\n",
    "        \"upper\": pred_admix + np.sqrt(predvar_admix) * 1.645,\n",
    "    }\n",
    ")"
   ]
  },
  {
   "cell_type": "code",
   "execution_count": null,
   "id": "b7729d3d-c455-4c45-ad39-ba006272f497",
   "metadata": {},
   "outputs": [],
   "source": [
    "fig, ax = plt.subplots(figsize=(5, 3), dpi=150)\n",
    "admix_prs.plot_calibration(\n",
    "    df_plot, y_col=\"y\", lower_col=\"lower\", upper_col=\"upper\", n=30\n",
    ")"
   ]
  },
  {
   "cell_type": "code",
   "execution_count": null,
   "id": "97411ae3-ed48-48ed-a746-7828f186d6f2",
   "metadata": {},
   "outputs": [],
   "source": [
    "admix_prs.eval_calibration(df_plot, x_col=\"y\", lower_col=\"lower\", upper_col=\"upper\")"
   ]
  }
 ],
 "metadata": {
  "kernelspec": {
   "display_name": "Python 3",
   "language": "python",
   "name": "python3"
  },
  "language_info": {
   "codemirror_mode": {
    "name": "ipython",
    "version": 3
   },
   "file_extension": ".py",
   "mimetype": "text/x-python",
   "name": "python",
   "nbconvert_exporter": "python",
   "pygments_lexer": "ipython3",
   "version": "3.8.5"
  }
 },
 "nbformat": 4,
 "nbformat_minor": 5
}
