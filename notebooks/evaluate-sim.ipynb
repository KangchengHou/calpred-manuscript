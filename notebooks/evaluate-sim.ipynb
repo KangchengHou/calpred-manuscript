{
 "cells": [
  {
   "cell_type": "code",
   "execution_count": 1,
   "id": "dd0c4a3c-fca9-4d05-aa78-4f9cf0e2ff11",
   "metadata": {},
   "outputs": [],
   "source": [
    "%load_ext autoreload\n",
    "%autoreload 2\n",
    "\n",
    "import numpy as np\n",
    "import pandas as pd\n",
    "import pickle\n",
    "import os\n",
    "import admix_prs\n",
    "from functools import reduce"
   ]
  },
  {
   "cell_type": "markdown",
   "id": "1e88477b-864d-4d18-97ee-0f0a17642b70",
   "metadata": {},
   "source": [
    "# Load data"
   ]
  },
  {
   "cell_type": "code",
   "execution_count": 3,
   "id": "0c0d60e6-afd8-43f1-a182-89be8133de0b",
   "metadata": {},
   "outputs": [],
   "source": [
    "PHENO_PATH = \"/u/project/pasaniuc/kangchen/tmp/prs-1219/REAL-PHENO/all-pheno.csv\"\n",
    "df_pheno = pd.read_csv(PHENO_PATH, index_col=0)\n",
    "df_pheno[\"PC1_Q\"] = admix_prs.make_levels(df_pheno, stratify_col=\"PC1\", n_level=5)\n",
    "df_pheno[\"PC2_Q\"] = admix_prs.make_levels(df_pheno, stratify_col=\"PC2\", n_level=5)\n",
    "df_pheno[\"AGE_Q\"] = admix_prs.make_levels(df_pheno, stratify_col=\"AGE\", n_level=5)"
   ]
  },
  {
   "cell_type": "code",
   "execution_count": 4,
   "id": "4f3bfb48-35f0-4e1f-957f-93825466a3c7",
   "metadata": {},
   "outputs": [],
   "source": [
    "config = \"hsq-0.25-pcausal-0.01-hermodel-uniform\""
   ]
  },
  {
   "cell_type": "code",
   "execution_count": 5,
   "id": "f31afc0a-95f7-4df5-a3a4-e003809e1e19",
   "metadata": {},
   "outputs": [],
   "source": [
    "if os.path.exists(\"df_res_list.pkl\"):\n",
    "    with open(\"df_res_list.pkl\", \"rb\") as f:\n",
    "        df_res_list = pickle.load(f)\n",
    "else:\n",
    "    df_res_list = admix_prs.load_sim_data(config)\n",
    "    with open(\"df_res_list.pkl\", \"wb\") as f:\n",
    "        pickle.dump(df_res_list, f)"
   ]
  },
  {
   "cell_type": "code",
   "execution_count": 6,
   "id": "f7d99fec-48e1-4df8-94c4-d4031efed71f",
   "metadata": {},
   "outputs": [],
   "source": [
    "n_sim = len(df_res_list)"
   ]
  },
  {
   "cell_type": "code",
   "execution_count": 7,
   "id": "cf9e3aab-efd9-49af-b13d-8880923bef98",
   "metadata": {},
   "outputs": [],
   "source": [
    "res_dict = {\n",
    "    'r2': {\n",
    "        'PHENO_G': {'PC1_Q': list(), 'PC2_Q':list(), 'AGE_Q':list(), 'SEX_Q':list()},\n",
    "        'PHENO': {'PC1_Q': list(), 'PC2_Q':list(), 'AGE_Q':list(), 'SEX_Q':list()}    \n",
    "    },\n",
    "    'cali':{\n",
    "        'PHENO_G': {'PC1_Q': list(), 'PC2_Q':list(), 'AGE_Q':list(), 'SEX_Q':list()},\n",
    "        'PHENO': {'PC1_Q': list(), 'PC2_Q':list(), 'AGE_Q':list(), 'SEX_Q':list()}    \n",
    "    }\n",
    "}"
   ]
  },
  {
   "cell_type": "code",
   "execution_count": 8,
   "id": "dd8df665-2aef-4e80-9f73-39afc780f17a",
   "metadata": {},
   "outputs": [],
   "source": [
    "\n",
    "for i_sim in range(n_sim):\n",
    "    df_prs = df_res_list[i_sim].copy()\n",
    "    df_prs[\"PHENO_G\"] -= df_prs[\"PHENO\"].mean()\n",
    "    df_prs[\"PHENO\"] -= df_prs[\"PHENO\"].mean()\n",
    "    df_prs[\"ID\"] = df_prs.index\n",
    "    df_prs[\"ID\"] = df_prs[\"ID\"].apply(lambda x: x.split(\"_\")[0])\n",
    "    df_prs.index = df_prs[\"ID\"]\n",
    "    df_prs = df_prs.drop(columns=[\"ID\"])\n",
    "    df_prs = df_prs.dropna()\n",
    "    df_prs.index = df_prs.index.astype(int)\n",
    "    df_prs[\"PHENO_STD\"] = np.sqrt(df_prs[\"PRS_STD\"] ** 2 + 0.75)\n",
    "    df_prs[\"PRS_LOW\"] = df_prs[\"PRS_MEAN\"] - 1.645 * df_prs[\"PRS_STD\"]\n",
    "    df_prs[\"PRS_UPP\"] = df_prs[\"PRS_MEAN\"] + 1.645 * df_prs[\"PRS_STD\"]\n",
    "    df_prs[\"PHENO_LOW\"] = df_prs[\"PRS_MEAN\"] - 1.645 * df_prs[\"PHENO_STD\"]\n",
    "    df_prs[\"PHENO_UPP\"] = df_prs[\"PRS_MEAN\"] + 1.645 * df_prs[\"PHENO_STD\"]\n",
    "    df_info = pd.merge(df_pheno, df_prs, left_index=True, right_index=True)    \n",
    "    \n",
    "    res_dict['r2']['PHENO_G']['PC1_Q'].append(admix_prs.stratify_calculate_r2(df_info, x_col=\"PHENO_G\", y_col=\"PRS_MEAN\", group_col=\"PC1_Q\"))\n",
    "    res_dict['r2']['PHENO_G']['PC2_Q'].append(admix_prs.stratify_calculate_r2(df_info, x_col=\"PHENO_G\", y_col=\"PRS_MEAN\", group_col=\"PC2_Q\"))\n",
    "    res_dict['r2']['PHENO_G']['SEX_Q'].append(admix_prs.stratify_calculate_r2(df_info, x_col=\"PHENO_G\", y_col=\"PRS_MEAN\", group_col=\"SEX\"))\n",
    "    res_dict['r2']['PHENO_G']['AGE_Q'].append(admix_prs.stratify_calculate_r2(df_info, x_col=\"PHENO_G\", y_col=\"PRS_MEAN\", group_col=\"AGE_Q\"))\n",
    "    res_dict['r2']['PHENO']['PC1_Q'].append(admix_prs.stratify_calculate_r2(df_info, x_col=\"PHENO\", y_col=\"PRS_MEAN\", group_col=\"PC1_Q\"))\n",
    "    res_dict['r2']['PHENO']['PC2_Q'].append(admix_prs.stratify_calculate_r2(df_info, x_col=\"PHENO\", y_col=\"PRS_MEAN\", group_col=\"PC2_Q\"))\n",
    "    res_dict['r2']['PHENO']['SEX_Q'].append(admix_prs.stratify_calculate_r2(df_info, x_col=\"PHENO\", y_col=\"PRS_MEAN\", group_col=\"SEX\"))\n",
    "    res_dict['r2']['PHENO']['AGE_Q'].append(admix_prs.stratify_calculate_r2(df_info, x_col=\"PHENO\", y_col=\"PRS_MEAN\", group_col=\"AGE_Q\"))\n",
    "    res_dict['cali']['PHENO_G']['PC1_Q'].append(admix_prs.eval_calibration(df_info, x_col=\"PHENO_G\", lower_col=\"PRS_LOW\", upper_col=\"PRS_UPP\", group_col=\"PC1_Q\"))\n",
    "    res_dict['cali']['PHENO_G']['PC2_Q'].append(admix_prs.eval_calibration(df_info, x_col=\"PHENO_G\", lower_col=\"PRS_LOW\", upper_col=\"PRS_UPP\", group_col=\"PC2_Q\"))\n",
    "    res_dict['cali']['PHENO_G']['SEX_Q'].append(admix_prs.eval_calibration(df_info, x_col=\"PHENO_G\", lower_col=\"PRS_LOW\", upper_col=\"PRS_UPP\", group_col=\"SEX\"))\n",
    "    res_dict['cali']['PHENO_G']['AGE_Q'].append(admix_prs.eval_calibration(df_info, x_col=\"PHENO_G\", lower_col=\"PRS_LOW\", upper_col=\"PRS_UPP\", group_col=\"AGE_Q\"))\n",
    "    res_dict['cali']['PHENO']['PC1_Q'].append(admix_prs.eval_calibration(df_info, x_col=\"PHENO\", lower_col=\"PHENO_LOW\", upper_col=\"PHENO_UPP\", group_col=\"PC1_Q\"))\n",
    "    res_dict['cali']['PHENO']['PC2_Q'].append(admix_prs.eval_calibration(df_info, x_col=\"PHENO\", lower_col=\"PHENO_LOW\", upper_col=\"PHENO_UPP\", group_col=\"PC2_Q\"))\n",
    "    res_dict['cali']['PHENO']['AGE_Q'].append(admix_prs.eval_calibration(df_info, x_col=\"PHENO\", lower_col=\"PHENO_LOW\", upper_col=\"PHENO_UPP\", group_col=\"AGE_Q\"))\n",
    "    res_dict['cali']['PHENO']['SEX_Q'].append(admix_prs.eval_calibration(df_info, x_col=\"PHENO\", lower_col=\"PHENO_LOW\", upper_col=\"PHENO_UPP\", group_col=\"SEX\"))\n",
    "    "
   ]
  },
  {
   "cell_type": "code",
   "execution_count": 9,
   "id": "3e84fb49-f931-4696-b734-3d8a5321b313",
   "metadata": {},
   "outputs": [
    {
     "data": {
      "text/plain": [
       "[                PC1_Q        R2    R2_std\n",
       " 0  (-19.271, -13.615]  0.728166  0.006713\n",
       " 1  (-13.615, -12.613]  0.730566  0.006103\n",
       " 2  (-12.613, -11.683]  0.736377  0.006277\n",
       " 3  (-11.683, -10.323]  0.730102  0.004629\n",
       " 4  (-10.323, 419.396]  0.654313  0.003397,\n",
       "                 PC1_Q        R2    R2_std\n",
       " 0  (-19.271, -13.615]  0.736676  0.007345\n",
       " 1  (-13.615, -12.613]  0.723762  0.008901\n",
       " 2  (-12.613, -11.683]  0.738509  0.007441\n",
       " 3  (-11.683, -10.323]  0.739132  0.006855\n",
       " 4  (-10.323, 419.396]  0.693409  0.002826,\n",
       "                 PC1_Q        R2    R2_std\n",
       " 0  (-19.271, -13.615]  0.743007  0.007374\n",
       " 1  (-13.615, -12.613]  0.737428  0.006737\n",
       " 2  (-12.613, -11.683]  0.740541  0.003912\n",
       " 3  (-11.683, -10.323]  0.737678  0.005652\n",
       " 4  (-10.323, 419.396]  0.619142  0.004547,\n",
       "                 PC1_Q        R2    R2_std\n",
       " 0  (-19.271, -13.615]  0.727476  0.005709\n",
       " 1  (-13.615, -12.613]  0.738815  0.006069\n",
       " 2  (-12.613, -11.683]  0.738477  0.006128\n",
       " 3  (-11.683, -10.323]  0.739206  0.006148\n",
       " 4  (-10.323, 419.396]  0.648655  0.003746,\n",
       "                 PC1_Q        R2    R2_std\n",
       " 0  (-19.271, -13.615]  0.716491  0.007016\n",
       " 1  (-13.615, -12.613]  0.721425  0.006105\n",
       " 2  (-12.613, -11.683]  0.724195  0.005023\n",
       " 3  (-11.683, -10.323]  0.732348  0.009028\n",
       " 4  (-10.323, 419.396]  0.470802  0.005329]"
      ]
     },
     "execution_count": 9,
     "metadata": {},
     "output_type": "execute_result"
    }
   ],
   "source": [
    "res_dict['r2']['PHENO_G']['PC1_Q']"
   ]
  },
  {
   "cell_type": "code",
   "execution_count": 31,
   "id": "065f3241-6163-40bc-b6d0-54e8f862900e",
   "metadata": {},
   "outputs": [],
   "source": [
    "# ? mean of std or std mean\n",
    "pheno_g_r2_res_li = []\n",
    "for col in ['PC1_Q', 'PC2_Q', 'AGE_Q', 'SEX_Q']:\n",
    "    df_concat = pd.concat(res_dict['r2']['PHENO_G'][col], axis=1, ignore_index=True)\n",
    "    df_pheno_g_r2 = pd.concat(\n",
    "        [df_concat[0], df_concat[[1,4,7,10,13]].mean(axis=1), df_concat[[2,5,8,11,14]].std(axis=1)],\n",
    "        axis=1\n",
    "    )\n",
    "    df_pheno_g_r2.columns = [col, \"R2_MEAN\", \"R2_MEAN_STD\"]\n",
    "    pheno_g_r2_res_li.append(df_pheno_g_r2)"
   ]
  },
  {
   "cell_type": "code",
   "execution_count": 32,
   "id": "7783f621-3952-4bd5-b290-22399a2c120a",
   "metadata": {},
   "outputs": [
    {
     "data": {
      "text/plain": [
       "[                PC1_Q   R2_MEAN  R2_MEAN_STD\n",
       " 0  (-19.271, -13.615]  0.730363     0.000683\n",
       " 1  (-13.615, -12.613]  0.730399     0.001216\n",
       " 2  (-12.613, -11.683]  0.735620     0.001340\n",
       " 3  (-11.683, -10.323]  0.735693     0.001647\n",
       " 4  (-10.323, 419.396]  0.617264     0.000983,\n",
       "                PC2_Q   R2_MEAN  R2_MEAN_STD\n",
       " 0  (-282.318, 2.103]  0.716426     0.000572\n",
       " 1     (2.103, 3.217]  0.735690     0.001261\n",
       " 2      (3.217, 4.07]  0.730716     0.002501\n",
       " 3      (4.07, 5.039]  0.732090     0.001482\n",
       " 4    (5.039, 86.112]  0.507596     0.000628,\n",
       "             AGE_Q   R2_MEAN  R2_MEAN_STD\n",
       " 0  (36.999, 48.0]  0.613410     0.000789\n",
       " 1    (48.0, 55.0]  0.629224     0.001390\n",
       " 2    (55.0, 60.0]  0.669043     0.000386\n",
       " 3    (60.0, 64.0]  0.678916     0.002444\n",
       " 4    (64.0, 73.0]  0.661800     0.001417,\n",
       "    SEX_Q   R2_MEAN  R2_MEAN_STD\n",
       " 0      0  0.643569     0.001463\n",
       " 1      1  0.644901     0.001138]"
      ]
     },
     "execution_count": 32,
     "metadata": {},
     "output_type": "execute_result"
    }
   ],
   "source": [
    "pheno_g_r2_res_li"
   ]
  },
  {
   "cell_type": "code",
   "execution_count": 43,
   "id": "300fee67-85cf-4f5c-ad7c-11ba65c01a5c",
   "metadata": {},
   "outputs": [],
   "source": [
    "pheno_g_cali_res_li = []\n",
    "for col in ['PC1_Q', 'PC2_Q', 'AGE_Q', 'SEX_Q']:\n",
    "    df_concat = pd.concat(res_dict['cali']['PHENO_G'][col], axis=1, ignore_index=True)\n",
    "    df_pheno_g_cali = pd.concat(\n",
    "        [df_concat[0], df_concat[[1,3,5,7,9]].mean(axis=1)],\n",
    "        axis=1\n",
    "    )\n",
    "    df_pheno_g_cali.columns = [col, \"Coverage_MEAN\"]\n",
    "    pheno_g_cali_res_li.append(df_pheno_g_cali)"
   ]
  },
  {
   "cell_type": "code",
   "execution_count": 44,
   "id": "90031ed3-f40b-49f2-85b3-f40852da023e",
   "metadata": {},
   "outputs": [
    {
     "data": {
      "text/plain": [
       "[                PC1_Q  Coverage_MEAN\n",
       " 0  (-19.271, -13.615]       0.873359\n",
       " 1  (-13.615, -12.613]       0.879091\n",
       " 2  (-12.613, -11.683]       0.882716\n",
       " 3  (-11.683, -10.323]       0.882963\n",
       " 4  (-10.323, 419.396]       0.882634,\n",
       "                PC2_Q  Coverage_MEAN\n",
       " 0  (-282.318, 2.103]       0.894827\n",
       " 1     (2.103, 3.217]       0.886148\n",
       " 2      (3.217, 4.07]       0.878636\n",
       " 3      (4.07, 5.039]       0.883385\n",
       " 4    (5.039, 86.112]       0.849972,\n",
       "             AGE_Q  Coverage_MEAN\n",
       " 0  (36.999, 48.0]       0.877740\n",
       " 1    (48.0, 55.0]       0.880594\n",
       " 2    (55.0, 60.0]       0.884561\n",
       " 3    (60.0, 64.0]       0.885229\n",
       " 4    (64.0, 73.0]       0.881775,\n",
       "    SEX_Q  Coverage_MEAN\n",
       " 0      0       0.880759\n",
       " 1      1       0.882411]"
      ]
     },
     "execution_count": 44,
     "metadata": {},
     "output_type": "execute_result"
    }
   ],
   "source": [
    "pheno_g_cali_res_li"
   ]
  },
  {
   "cell_type": "code",
   "execution_count": 45,
   "id": "eead5360-fe25-4a2e-b35d-457092161461",
   "metadata": {},
   "outputs": [],
   "source": [
    "pheno_r2_res_li = []\n",
    "for col in ['PC1_Q', 'PC2_Q', 'AGE_Q', 'SEX_Q']:\n",
    "    df_concat = pd.concat(res_dict['r2']['PHENO'][col], axis=1, ignore_index=True)\n",
    "    df_pheno_r2 = pd.concat(\n",
    "        [df_concat[0], df_concat[[1,4,7,10,13]].mean(axis=1), df_concat[[2,5,8,11,14]].std(axis=1)],\n",
    "        axis=1\n",
    "    )\n",
    "    df_pheno_r2.columns = [col, \"R2_MEAN\", \"R2_MEAN_STD\"]\n",
    "    pheno_r2_res_li.append(df_pheno_r2)"
   ]
  },
  {
   "cell_type": "code",
   "execution_count": 46,
   "id": "6503f05a-b5d2-447b-b270-c8c6ec4d804d",
   "metadata": {},
   "outputs": [
    {
     "data": {
      "text/plain": [
       "[                PC1_Q   R2_MEAN  R2_MEAN_STD\n",
       " 0  (-19.271, -13.615]  0.173798     0.000901\n",
       " 1  (-13.615, -12.613]  0.185154     0.001259\n",
       " 2  (-12.613, -11.683]  0.184262     0.001752\n",
       " 3  (-11.683, -10.323]  0.182647     0.001958\n",
       " 4  (-10.323, 419.396]  0.163284     0.000766,\n",
       "                PC2_Q   R2_MEAN  R2_MEAN_STD\n",
       " 0  (-282.318, 2.103]  0.189649     0.000817\n",
       " 1     (2.103, 3.217]  0.178926     0.001411\n",
       " 2      (3.217, 4.07]  0.178869     0.001180\n",
       " 3      (4.07, 5.039]  0.177613     0.001622\n",
       " 4    (5.039, 86.112]  0.125419     0.001270,\n",
       "             AGE_Q   R2_MEAN  R2_MEAN_STD\n",
       " 0  (36.999, 48.0]  0.156666     0.001568\n",
       " 1    (48.0, 55.0]  0.162842     0.001928\n",
       " 2    (55.0, 60.0]  0.172637     0.002074\n",
       " 3    (60.0, 64.0]  0.173591     0.000730\n",
       " 4    (64.0, 73.0]  0.169796     0.001431,\n",
       "    SEX_Q   R2_MEAN  R2_MEAN_STD\n",
       " 0      0  0.167497     0.000392\n",
       " 1      1  0.165249     0.000742]"
      ]
     },
     "execution_count": 46,
     "metadata": {},
     "output_type": "execute_result"
    }
   ],
   "source": [
    "pheno_r2_res_li"
   ]
  },
  {
   "cell_type": "code",
   "execution_count": 49,
   "id": "81c1ec92-3341-4e40-9948-ac76285a07f9",
   "metadata": {},
   "outputs": [],
   "source": [
    "pheno_cali_res_li = []\n",
    "for col in ['PC1_Q', 'PC2_Q', 'AGE_Q', 'SEX_Q']:\n",
    "    df_concat = pd.concat(res_dict['cali']['PHENO'][col], axis=1, ignore_index=True)\n",
    "    df_pheno_cali = pd.concat(\n",
    "        [df_concat[0], df_concat[[1,3,5,7,9]].mean(axis=1)],\n",
    "        axis=1\n",
    "    )\n",
    "    df_pheno_cali.columns = [col, \"Coverage_MEAN\"]\n",
    "    pheno_cali_res_li.append(df_pheno_cali)"
   ]
  },
  {
   "cell_type": "code",
   "execution_count": 50,
   "id": "1369864d-6ccf-4d62-ad33-f6dd1be2f6f6",
   "metadata": {},
   "outputs": [
    {
     "data": {
      "text/plain": [
       "[                PC1_Q  Coverage_MEAN\n",
       " 0  (-19.271, -13.615]       0.895587\n",
       " 1  (-13.615, -12.613]       0.900134\n",
       " 2  (-12.613, -11.683]       0.899914\n",
       " 3  (-11.683, -10.323]       0.899531\n",
       " 4  (-10.323, 419.396]       0.896295,\n",
       "                PC2_Q  Coverage_MEAN\n",
       " 0  (-282.318, 2.103]       0.898994\n",
       " 1     (2.103, 3.217]       0.900790\n",
       " 2      (3.217, 4.07]       0.896993\n",
       " 3      (4.07, 5.039]       0.899295\n",
       " 4    (5.039, 86.112]       0.891028,\n",
       "             AGE_Q  Coverage_MEAN\n",
       " 0  (36.999, 48.0]       0.895253\n",
       " 1    (48.0, 55.0]       0.895594\n",
       " 2    (55.0, 60.0]       0.899073\n",
       " 3    (60.0, 64.0]       0.901043\n",
       " 4    (64.0, 73.0]       0.897092,\n",
       "    SEX_Q  Coverage_MEAN\n",
       " 0      0       0.896535\n",
       " 1      1       0.898119]"
      ]
     },
     "execution_count": 50,
     "metadata": {},
     "output_type": "execute_result"
    }
   ],
   "source": [
    "pheno_cali_res_li"
   ]
  },
  {
   "cell_type": "code",
   "execution_count": null,
   "id": "d0c9876f-a5b8-46ff-92b7-930d92b1f2be",
   "metadata": {},
   "outputs": [],
   "source": []
  },
  {
   "cell_type": "code",
   "execution_count": null,
   "id": "de54b6ab-bc13-4a6a-816e-823e18dc89f5",
   "metadata": {},
   "outputs": [],
   "source": []
  },
  {
   "cell_type": "code",
   "execution_count": null,
   "id": "62167049-a9b7-4112-9b03-c4cf47dcaca3",
   "metadata": {},
   "outputs": [],
   "source": []
  },
  {
   "cell_type": "markdown",
   "id": "17732599-a7c6-4441-ae29-d4cbd4ba0c87",
   "metadata": {},
   "source": [
    "1. stratify_calculate_r2 by PC1, PC2, AGE, SEX\n",
    "- R2 different by PC1 and PC2, but not by AGE, SEX\n",
    "- do this for both PHENO_G and PHENO\n",
    "\n",
    "2. eval_calibration using PHENO_G and `[MEAN - 1.645 * STD, MEAN + 1.645 * STD]` \n",
    "- expect 90% coverage\n",
    "3. eval_calibration using PHENO and `[MEAN - 1.645 * PHENO-STD, MEAN + 1.645 * PHENO-STD]`"
   ]
  },
  {
   "cell_type": "markdown",
   "id": "060cea8b-d93f-4e3f-9d6d-79b5f735364c",
   "metadata": {},
   "source": [
    "- PHENO-G ~ PRS-MEAN + STD(PRS)\n",
    "- PHENO ~ PRS-MEAN + STD(PRS + ENV)\n",
    "simulated heritability is 0.25\n",
    "var[y] = 1\n",
    "hsq = var[gv] / (var[gv] + var[e]) = 0.25\n",
    "var[e] = 0.75\n",
    "\n",
    "STD(PRS + ENV) = sqrt(PRS-STD ** 2 + ENV-STD ** 2)\n",
    "\n",
    "df[\"PHENO-STD\"] = np.sqrt(df[\"PRS-STD\"] ** 2 + 0.75)\n",
    "\n",
    "ENV-STD ** 2 = 0.75 = 1 - 0.25"
   ]
  }
 ],
 "metadata": {
  "kernelspec": {
   "display_name": "Python 3",
   "language": "python",
   "name": "python3"
  },
  "language_info": {
   "codemirror_mode": {
    "name": "ipython",
    "version": 3
   },
   "file_extension": ".py",
   "mimetype": "text/x-python",
   "name": "python",
   "nbconvert_exporter": "python",
   "pygments_lexer": "ipython3",
   "version": "3.9.1"
  }
 },
 "nbformat": 4,
 "nbformat_minor": 5
}
