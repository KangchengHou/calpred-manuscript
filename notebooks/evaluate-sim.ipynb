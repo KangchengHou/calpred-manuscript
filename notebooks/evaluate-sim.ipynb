{
 "cells": [
  {
   "cell_type": "code",
   "execution_count": 1,
   "id": "dd0c4a3c-fca9-4d05-aa78-4f9cf0e2ff11",
   "metadata": {},
   "outputs": [],
   "source": [
    "%load_ext autoreload\n",
    "%autoreload 2\n",
    "%load_ext lab_black\n",
    "\n",
    "import numpy as np\n",
    "import pandas as pd\n",
    "import pickle\n",
    "import os\n",
    "import admix_prs\n",
    "from functools import reduce"
   ]
  },
  {
   "cell_type": "markdown",
   "id": "1e88477b-864d-4d18-97ee-0f0a17642b70",
   "metadata": {},
   "source": [
    "# Load data"
   ]
  },
  {
   "cell_type": "code",
   "execution_count": 2,
   "id": "0c0d60e6-afd8-43f1-a182-89be8133de0b",
   "metadata": {},
   "outputs": [],
   "source": [
    "PHENO_PATH = \"/u/project/pasaniuc/kangchen/tmp/prs-1219/REAL-PHENO/all-pheno.csv\"\n",
    "\n",
    "df_pheno = pd.read_csv(PHENO_PATH, index_col=0)\n",
    "df_pheno[\"PC1_Q\"] = admix_prs.make_levels(df_pheno, stratify_col=\"PC1\", n_level=5)\n",
    "df_pheno[\"PC2_Q\"] = admix_prs.make_levels(df_pheno, stratify_col=\"PC2\", n_level=5)\n",
    "df_pheno[\"AGE_Q\"] = admix_prs.make_levels(df_pheno, stratify_col=\"AGE\", n_level=5)"
   ]
  },
  {
   "cell_type": "code",
   "execution_count": 3,
   "id": "4f3bfb48-35f0-4e1f-957f-93825466a3c7",
   "metadata": {},
   "outputs": [],
   "source": [
    "config = \"hsq-0.25-pcausal-0.01-hermodel-uniform\""
   ]
  },
  {
   "cell_type": "code",
   "execution_count": 4,
   "id": "f31afc0a-95f7-4df5-a3a4-e003809e1e19",
   "metadata": {},
   "outputs": [],
   "source": [
    "if os.path.exists(\"df_res_list.pkl\"):\n",
    "    with open(\"df_res_list.pkl\", \"rb\") as f:\n",
    "        df_res_list = pickle.load(f)\n",
    "else:\n",
    "    df_res_list = admix_prs.load_sim_data(config)\n",
    "    with open(\"df_res_list.pkl\", \"wb\") as f:\n",
    "        pickle.dump(df_res_list, f)"
   ]
  },
  {
   "cell_type": "code",
   "execution_count": 5,
   "id": "f7d99fec-48e1-4df8-94c4-d4031efed71f",
   "metadata": {},
   "outputs": [],
   "source": [
    "n_sim = len(df_res_list)"
   ]
  },
  {
   "cell_type": "code",
   "execution_count": 6,
   "id": "cf9e3aab-efd9-49af-b13d-8880923bef98",
   "metadata": {},
   "outputs": [],
   "source": [
    "res_dict = {\n",
    "    \"r2\": {\n",
    "        \"PHENO_G\": {\"PC1_Q\": list(), \"PC2_Q\": list(), \"AGE_Q\": list(), \"SEX\": list()},\n",
    "        \"PHENO\": {\"PC1_Q\": list(), \"PC2_Q\": list(), \"AGE_Q\": list(), \"SEX\": list()},\n",
    "    },\n",
    "    \"cali\": {\n",
    "        \"PHENO_G\": {\"PC1_Q\": list(), \"PC2_Q\": list(), \"AGE_Q\": list(), \"SEX\": list()},\n",
    "        \"PHENO\": {\"PC1_Q\": list(), \"PC2_Q\": list(), \"AGE_Q\": list(), \"SEX\": list()},\n",
    "    },\n",
    "}"
   ]
  },
  {
   "cell_type": "code",
   "execution_count": 7,
   "id": "dd8df665-2aef-4e80-9f73-39afc780f17a",
   "metadata": {},
   "outputs": [],
   "source": [
    "for i_sim in range(n_sim):\n",
    "    df_prs = df_res_list[i_sim].copy()\n",
    "    df_prs[\"PHENO_G\"] -= df_prs[\"PHENO\"].mean()\n",
    "    df_prs[\"PHENO\"] -= df_prs[\"PHENO\"].mean()\n",
    "    df_prs[\"ID\"] = df_prs.index\n",
    "    df_prs[\"ID\"] = df_prs[\"ID\"].apply(lambda x: x.split(\"_\")[0])\n",
    "    df_prs.index = df_prs[\"ID\"]\n",
    "    df_prs = df_prs.drop(columns=[\"ID\"])\n",
    "    df_prs = df_prs.dropna()\n",
    "    df_prs.index = df_prs.index.astype(int)\n",
    "    df_prs[\"PHENO_STD\"] = np.sqrt(df_prs[\"PRS_STD\"] ** 2 + 0.75)\n",
    "    df_prs[\"PRS_LOW\"] = df_prs[\"PRS_MEAN\"] - 1.645 * df_prs[\"PRS_STD\"]\n",
    "    df_prs[\"PRS_UPP\"] = df_prs[\"PRS_MEAN\"] + 1.645 * df_prs[\"PRS_STD\"]\n",
    "    df_prs[\"PHENO_LOW\"] = df_prs[\"PRS_MEAN\"] - 1.645 * df_prs[\"PHENO_STD\"]\n",
    "    df_prs[\"PHENO_UPP\"] = df_prs[\"PRS_MEAN\"] + 1.645 * df_prs[\"PHENO_STD\"]\n",
    "    df_info = pd.merge(df_pheno, df_prs, left_index=True, right_index=True)\n",
    "\n",
    "    for x_col in [\"PHENO_G\", \"PHENO\"]:\n",
    "        if x_col == \"PHENO_G\":\n",
    "            lower_col, upper_col = \"PRS_LOW\", \"PRS_UPP\"\n",
    "        elif x_col == \"PHENO\":\n",
    "            lower_col, upper_col = \"PHENO_LOW\", \"PHENO_UPP\"\n",
    "        else:\n",
    "            raise NotImplementedError\n",
    "        for group_col in [\"PC1_Q\", \"PC2_Q\", \"SEX\", \"AGE_Q\"]:\n",
    "            res_dict[\"r2\"][x_col][group_col].append(\n",
    "                admix_prs.stratify_calculate_r2(\n",
    "                    df_info, x_col=x_col, y_col=\"PRS_MEAN\", group_col=group_col\n",
    "                )\n",
    "            )\n",
    "\n",
    "            res_dict[\"cali\"][x_col][group_col].append(\n",
    "                admix_prs.eval_calibration(\n",
    "                    df_info,\n",
    "                    x_col=x_col,\n",
    "                    lower_col=lower_col,\n",
    "                    upper_col=upper_col,\n",
    "                    group_col=group_col,\n",
    "                )\n",
    "            )"
   ]
  },
  {
   "cell_type": "code",
   "execution_count": 8,
   "id": "f2a8660b-ed5b-49d0-8e3f-d93b234b4c1f",
   "metadata": {},
   "outputs": [],
   "source": [
    "pheno_g_r2 = []\n",
    "for col in [\"PC1_Q\", \"PC2_Q\", \"AGE_Q\", \"SEX\"]:\n",
    "    col_res = []\n",
    "    l = np.shape(res_dict[\"r2\"][\"PHENO_G\"][col][0])[0]\n",
    "    for i in range(n_sim):\n",
    "        col_res = np.append(\n",
    "            col_res, (np.array(res_dict[\"r2\"][\"PHENO_G\"][col][i][\"R2\"]))\n",
    "        )\n",
    "    col_res = col_res.reshape([l, n_sim])\n",
    "    df_col_res = pd.DataFrame(\n",
    "        {\n",
    "            col: res_dict[\"r2\"][\"PHENO_G\"][col][i][col],\n",
    "            \"R2_MEAN\": np.mean(col_res, axis=1),\n",
    "            \"R2_STD\": np.std(col_res, axis=1),\n",
    "        }\n",
    "    )\n",
    "    pheno_g_r2.append(df_col_res)"
   ]
  },
  {
   "cell_type": "code",
   "execution_count": 9,
   "id": "2606f62a-bd75-4a77-aaae-4d3d7c7263c5",
   "metadata": {},
   "outputs": [
    {
     "data": {
      "text/plain": [
       "[                PC1_Q   R2_MEAN    R2_STD\n",
       " 0  (-19.271, -13.615]  0.716163  0.030993\n",
       " 1  (-13.615, -12.613]  0.726285  0.017240\n",
       " 2  (-12.613, -11.683]  0.715226  0.047323\n",
       " 3  (-11.683, -10.323]  0.717482  0.034309\n",
       " 4  (-10.323, 419.396]  0.676173  0.101882,\n",
       "                PC2_Q   R2_MEAN    R2_STD\n",
       " 0  (-282.318, 2.103]  0.703374  0.067120\n",
       " 1     (2.103, 3.217]  0.709214  0.033349\n",
       " 2      (3.217, 4.07]  0.682952  0.099165\n",
       " 3      (4.07, 5.039]  0.693313  0.072874\n",
       " 4    (5.039, 86.112]  0.628547  0.177905,\n",
       "             AGE_Q   R2_MEAN    R2_STD\n",
       " 0  (36.999, 48.0]  0.686285  0.019622\n",
       " 1    (48.0, 55.0]  0.709655  0.010204\n",
       " 2    (55.0, 60.0]  0.659785  0.029001\n",
       " 3    (60.0, 64.0]  0.670336  0.018097\n",
       " 4    (64.0, 73.0]  0.528519  0.047351,\n",
       "    SEX   R2_MEAN    R2_STD\n",
       " 0    0  0.685787  0.020763\n",
       " 1    1  0.601021  0.073135]"
      ]
     },
     "execution_count": 9,
     "metadata": {},
     "output_type": "execute_result"
    }
   ],
   "source": [
    "pheno_g_r2"
   ]
  },
  {
   "cell_type": "code",
   "execution_count": 10,
   "id": "236345cd-ed22-4257-9348-ee0fef22c569",
   "metadata": {},
   "outputs": [],
   "source": [
    "pheno_r2 = []\n",
    "for col in [\"PC1_Q\", \"PC2_Q\", \"AGE_Q\", \"SEX\"]:\n",
    "    col_res = []\n",
    "    l = np.shape(res_dict[\"r2\"][\"PHENO\"][col][i])[0]\n",
    "    for i in range(n_sim):\n",
    "        col_res = np.append(col_res, (np.array(res_dict[\"r2\"][\"PHENO\"][col][i][\"R2\"])))\n",
    "    col_res = col_res.reshape([l, n_sim])\n",
    "    df_col_res = pd.DataFrame(\n",
    "        {\n",
    "            col: res_dict[\"r2\"][\"PHENO\"][col][i][col],\n",
    "            \"R2_MEAN\": np.mean(col_res, axis=1),\n",
    "            \"R2_STD\": np.std(col_res, axis=1),\n",
    "        }\n",
    "    )\n",
    "    pheno_r2.append(df_col_res)"
   ]
  },
  {
   "cell_type": "code",
   "execution_count": 11,
   "id": "472521de-5e8d-4612-b3d9-6d1d82821389",
   "metadata": {},
   "outputs": [
    {
     "data": {
      "text/plain": [
       "[                PC1_Q   R2_MEAN    R2_STD\n",
       " 0  (-19.271, -13.615]  0.179066  0.005449\n",
       " 1  (-13.615, -12.613]  0.182485  0.006698\n",
       " 2  (-12.613, -11.683]  0.181075  0.019352\n",
       " 3  (-11.683, -10.323]  0.175547  0.012387\n",
       " 4  (-10.323, 419.396]  0.166495  0.024278,\n",
       "                PC2_Q   R2_MEAN    R2_STD\n",
       " 0  (-282.318, 2.103]  0.178282  0.025438\n",
       " 1     (2.103, 3.217]  0.179972  0.006258\n",
       " 2      (3.217, 4.07]  0.167909  0.022995\n",
       " 3      (4.07, 5.039]  0.168490  0.019496\n",
       " 4    (5.039, 86.112]  0.152726  0.048741,\n",
       "             AGE_Q   R2_MEAN    R2_STD\n",
       " 0  (36.999, 48.0]  0.187104  0.005982\n",
       " 1    (48.0, 55.0]  0.189509  0.005028\n",
       " 2    (55.0, 60.0]  0.164961  0.004375\n",
       " 3    (60.0, 64.0]  0.166808  0.005794\n",
       " 4    (64.0, 73.0]  0.131881  0.017178,\n",
       "    SEX   R2_MEAN    R2_STD\n",
       " 0    0  0.182479  0.010432\n",
       " 1    1  0.150263  0.018030]"
      ]
     },
     "execution_count": 11,
     "metadata": {},
     "output_type": "execute_result"
    }
   ],
   "source": [
    "pheno_r2"
   ]
  },
  {
   "cell_type": "code",
   "execution_count": 12,
   "id": "2360145e-67f2-46bd-9b76-0cf1c4796d55",
   "metadata": {},
   "outputs": [],
   "source": [
    "pheno_g_cali = []\n",
    "for col in [\"PC1_Q\", \"PC2_Q\", \"AGE_Q\", \"SEX\"]:\n",
    "    col_res = []\n",
    "    l = np.shape(res_dict[\"cali\"][\"PHENO_G\"][col][0])[0]\n",
    "    for i in range(n_sim):\n",
    "        col_res = np.append(\n",
    "            col_res, (np.array(res_dict[\"cali\"][\"PHENO_G\"][col][i][\"coverage\"]))\n",
    "        )\n",
    "    col_res = col_res.reshape([l, n_sim])\n",
    "    df_col_res = pd.DataFrame(\n",
    "        {\n",
    "            col: res_dict[\"cali\"][\"PHENO_G\"][col][i][col],\n",
    "            \"Coverage_MEAN\": np.mean(col_res, axis=1),\n",
    "            \"Coverage_STD\": np.std(col_res, axis=1),\n",
    "        }\n",
    "    )\n",
    "    pheno_g_cali.append(df_col_res)"
   ]
  },
  {
   "cell_type": "code",
   "execution_count": 13,
   "id": "dcdf4c8b-b208-4eb4-9c95-50eb1e012238",
   "metadata": {},
   "outputs": [
    {
     "data": {
      "text/plain": [
       "[                PC1_Q  Coverage_MEAN  Coverage_STD\n",
       " 0  (-19.271, -13.615]       0.898982      0.006027\n",
       " 1  (-13.615, -12.613]       0.904141      0.004387\n",
       " 2  (-12.613, -11.683]       0.880314      0.003860\n",
       " 3  (-11.683, -10.323]       0.881993      0.011922\n",
       " 4  (-10.323, 419.396]       0.835332      0.014020,\n",
       "                PC2_Q  Coverage_MEAN  Coverage_STD\n",
       " 0  (-282.318, 2.103]       0.897321      0.008850\n",
       " 1     (2.103, 3.217]       0.905553      0.004998\n",
       " 2      (3.217, 4.07]       0.881551      0.008335\n",
       " 3      (4.07, 5.039]       0.887429      0.008159\n",
       " 4    (5.039, 86.112]       0.821113      0.067916,\n",
       "             AGE_Q  Coverage_MEAN  Coverage_STD\n",
       " 0  (36.999, 48.0]       0.893894      0.003317\n",
       " 1    (48.0, 55.0]       0.904530      0.002049\n",
       " 2    (55.0, 60.0]       0.883252      0.001788\n",
       " 3    (60.0, 64.0]       0.892648      0.003457\n",
       " 4    (64.0, 73.0]       0.835575      0.010602,\n",
       "    SEX  Coverage_MEAN  Coverage_STD\n",
       " 0    0       0.895657      0.008299\n",
       " 1    1       0.867513      0.027917]"
      ]
     },
     "execution_count": 13,
     "metadata": {},
     "output_type": "execute_result"
    }
   ],
   "source": [
    "pheno_g_cali"
   ]
  },
  {
   "cell_type": "code",
   "execution_count": 14,
   "id": "7fee7671-e149-42a8-a137-a19eda7b2c3f",
   "metadata": {},
   "outputs": [],
   "source": [
    "pheno_cali = []\n",
    "for col in [\"PC1_Q\", \"PC2_Q\", \"AGE_Q\", \"SEX\"]:\n",
    "    col_res = []\n",
    "    l = np.shape(res_dict[\"cali\"][\"PHENO\"][col][i])[0]\n",
    "    for i in range(n_sim):\n",
    "        col_res = np.append(\n",
    "            col_res, (np.array(res_dict[\"cali\"][\"PHENO\"][col][i][\"coverage\"]))\n",
    "        )\n",
    "    col_res = col_res.reshape([l, n_sim])\n",
    "    df_col_res = pd.DataFrame(\n",
    "        {\n",
    "            col: res_dict[\"cali\"][\"PHENO\"][col][i][col],\n",
    "            \"Coverage_MEAN\": np.mean(col_res, axis=1),\n",
    "            \"Coverage_STD\": np.std(col_res, axis=1),\n",
    "        }\n",
    "    )\n",
    "    pheno_cali.append(df_col_res)"
   ]
  },
  {
   "cell_type": "code",
   "execution_count": 15,
   "id": "f503371f-28ac-4a6f-8986-62f19f9fbb74",
   "metadata": {},
   "outputs": [
    {
     "data": {
      "text/plain": [
       "[                PC1_Q  Coverage_MEAN  Coverage_STD\n",
       " 0  (-19.271, -13.615]       0.899860      0.002980\n",
       " 1  (-13.615, -12.613]       0.899059      0.003762\n",
       " 2  (-12.613, -11.683]       0.899569      0.005342\n",
       " 3  (-11.683, -10.323]       0.899574      0.001942\n",
       " 4  (-10.323, 419.396]       0.893397      0.003263,\n",
       "                PC2_Q  Coverage_MEAN  Coverage_STD\n",
       " 0  (-282.318, 2.103]       0.899171      0.001750\n",
       " 1     (2.103, 3.217]       0.900370      0.002374\n",
       " 2      (3.217, 4.07]       0.898768      0.005113\n",
       " 3      (4.07, 5.039]       0.899506      0.002700\n",
       " 4    (5.039, 86.112]       0.889284      0.012935,\n",
       "             AGE_Q  Coverage_MEAN  Coverage_STD\n",
       " 0  (36.999, 48.0]       0.899670      0.001731\n",
       " 1    (48.0, 55.0]       0.900123      0.002967\n",
       " 2    (55.0, 60.0]       0.898130      0.003661\n",
       " 3    (60.0, 64.0]       0.898618      0.001575\n",
       " 4    (64.0, 73.0]       0.891513      0.007116,\n",
       "    SEX  Coverage_MEAN  Coverage_STD\n",
       " 0    0       0.899481      0.000995\n",
       " 1    1       0.895173      0.004302]"
      ]
     },
     "execution_count": 15,
     "metadata": {},
     "output_type": "execute_result"
    }
   ],
   "source": [
    "pheno_cali"
   ]
  },
  {
   "cell_type": "code",
   "execution_count": null,
   "id": "5a518499-f736-4719-b8ee-1d6856e4d7ab",
   "metadata": {},
   "outputs": [],
   "source": []
  }
 ],
 "metadata": {
  "kernelspec": {
   "display_name": "Python 3",
   "language": "python",
   "name": "python3"
  },
  "language_info": {
   "codemirror_mode": {
    "name": "ipython",
    "version": 3
   },
   "file_extension": ".py",
   "mimetype": "text/x-python",
   "name": "python",
   "nbconvert_exporter": "python",
   "pygments_lexer": "ipython3",
   "version": "3.9.1"
  }
 },
 "nbformat": 4,
 "nbformat_minor": 5
}
