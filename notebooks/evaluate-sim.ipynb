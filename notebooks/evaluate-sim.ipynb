{
 "cells": [
  {
   "cell_type": "code",
   "execution_count": 20,
   "id": "dd0c4a3c-fca9-4d05-aa78-4f9cf0e2ff11",
   "metadata": {},
   "outputs": [
    {
     "name": "stdout",
     "output_type": "stream",
     "text": [
      "The autoreload extension is already loaded. To reload it, use:\n",
      "  %reload_ext autoreload\n",
      "The lab_black extension is already loaded. To reload it, use:\n",
      "  %reload_ext lab_black\n"
     ]
    }
   ],
   "source": [
    "%load_ext autoreload\n",
    "%autoreload 2\n",
    "%load_ext lab_black\n",
    "\n",
    "import numpy as np\n",
    "import pandas as pd\n",
    "import pickle\n",
    "import os\n",
    "import admix_prs"
   ]
  },
  {
   "cell_type": "markdown",
   "id": "1e88477b-864d-4d18-97ee-0f0a17642b70",
   "metadata": {},
   "source": [
    "# Load data"
   ]
  },
  {
   "cell_type": "code",
   "execution_count": 21,
   "id": "4f3bfb48-35f0-4e1f-957f-93825466a3c7",
   "metadata": {},
   "outputs": [],
   "source": [
    "config = \"hsq-0.25-pcausal-0.01-hermodel-uniform\""
   ]
  },
  {
   "cell_type": "code",
   "execution_count": 22,
   "id": "f31afc0a-95f7-4df5-a3a4-e003809e1e19",
   "metadata": {},
   "outputs": [],
   "source": [
    "if os.path.exists(\"df_res_list.pkl\"):\n",
    "    with open(\"df_res_list.pkl\", \"rb\") as f:\n",
    "        df_res_list = pickle.load(f)\n",
    "else:\n",
    "    df_res_list = admix_prs.load_sim_data(config)\n",
    "    with open(\"df_res_list.pkl\", \"wb\") as f:\n",
    "        pickle.dump(df_res_list, f)"
   ]
  },
  {
   "cell_type": "code",
   "execution_count": 25,
   "id": "98e33385-7435-4904-9951-6139278d175e",
   "metadata": {},
   "outputs": [
    {
     "data": {
      "text/plain": [
       "5"
      ]
     },
     "execution_count": 25,
     "metadata": {},
     "output_type": "execute_result"
    }
   ],
   "source": [
    "len(df_res_list)"
   ]
  },
  {
   "cell_type": "code",
   "execution_count": 23,
   "id": "63d2ea6f-f398-4ac2-99ef-565d2379ffd1",
   "metadata": {},
   "outputs": [],
   "source": [
    "df = df_res_list[0].copy()\n",
    "df[\"PHENO_G\"] -= df[\"PHENO\"].mean()\n",
    "df[\"PHENO\"] -= df[\"PHENO\"].mean()"
   ]
  },
  {
   "cell_type": "code",
   "execution_count": 29,
   "id": "1752b578-38d8-489b-b365-f224a7abd463",
   "metadata": {},
   "outputs": [
    {
     "data": {
      "text/html": [
       "<div>\n",
       "<style scoped>\n",
       "    .dataframe tbody tr th:only-of-type {\n",
       "        vertical-align: middle;\n",
       "    }\n",
       "\n",
       "    .dataframe tbody tr th {\n",
       "        vertical-align: top;\n",
       "    }\n",
       "\n",
       "    .dataframe thead th {\n",
       "        text-align: right;\n",
       "    }\n",
       "</style>\n",
       "<table border=\"1\" class=\"dataframe\">\n",
       "  <thead>\n",
       "    <tr style=\"text-align: right;\">\n",
       "      <th></th>\n",
       "      <th>PRS_MEAN</th>\n",
       "      <th>PRS_STD</th>\n",
       "      <th>PHENO</th>\n",
       "      <th>PHENO_G</th>\n",
       "    </tr>\n",
       "    <tr>\n",
       "      <th>FID_IID</th>\n",
       "      <th></th>\n",
       "      <th></th>\n",
       "      <th></th>\n",
       "      <th></th>\n",
       "    </tr>\n",
       "  </thead>\n",
       "  <tbody>\n",
       "    <tr>\n",
       "      <th>3627963_3627963</th>\n",
       "      <td>-0.959645</td>\n",
       "      <td>0.328504</td>\n",
       "      <td>-1.330712</td>\n",
       "      <td>-0.960817</td>\n",
       "    </tr>\n",
       "    <tr>\n",
       "      <th>1381646_1381646</th>\n",
       "      <td>0.458950</td>\n",
       "      <td>0.260210</td>\n",
       "      <td>0.867125</td>\n",
       "      <td>0.664614</td>\n",
       "    </tr>\n",
       "    <tr>\n",
       "      <th>1846099_1846099</th>\n",
       "      <td>0.770227</td>\n",
       "      <td>0.241172</td>\n",
       "      <td>1.389261</td>\n",
       "      <td>0.639234</td>\n",
       "    </tr>\n",
       "    <tr>\n",
       "      <th>3028248_3028248</th>\n",
       "      <td>-0.209268</td>\n",
       "      <td>0.267718</td>\n",
       "      <td>-0.627948</td>\n",
       "      <td>-0.194213</td>\n",
       "    </tr>\n",
       "    <tr>\n",
       "      <th>3690795_3690795</th>\n",
       "      <td>-0.335288</td>\n",
       "      <td>0.290984</td>\n",
       "      <td>-1.260668</td>\n",
       "      <td>-0.948487</td>\n",
       "    </tr>\n",
       "    <tr>\n",
       "      <th>...</th>\n",
       "      <td>...</td>\n",
       "      <td>...</td>\n",
       "      <td>...</td>\n",
       "      <td>...</td>\n",
       "    </tr>\n",
       "    <tr>\n",
       "      <th>4931041_4931041</th>\n",
       "      <td>-0.847915</td>\n",
       "      <td>0.260484</td>\n",
       "      <td>-0.177411</td>\n",
       "      <td>-0.650833</td>\n",
       "    </tr>\n",
       "    <tr>\n",
       "      <th>1118302_1118302</th>\n",
       "      <td>-0.192384</td>\n",
       "      <td>0.257625</td>\n",
       "      <td>0.484706</td>\n",
       "      <td>-0.002039</td>\n",
       "    </tr>\n",
       "    <tr>\n",
       "      <th>2616445_2616445</th>\n",
       "      <td>-0.045958</td>\n",
       "      <td>0.257951</td>\n",
       "      <td>0.581634</td>\n",
       "      <td>-0.043358</td>\n",
       "    </tr>\n",
       "    <tr>\n",
       "      <th>5188752_5188752</th>\n",
       "      <td>0.703318</td>\n",
       "      <td>0.276303</td>\n",
       "      <td>0.376760</td>\n",
       "      <td>0.793342</td>\n",
       "    </tr>\n",
       "    <tr>\n",
       "      <th>5461955_5461955</th>\n",
       "      <td>-0.524760</td>\n",
       "      <td>0.268485</td>\n",
       "      <td>0.757176</td>\n",
       "      <td>-0.458767</td>\n",
       "    </tr>\n",
       "  </tbody>\n",
       "</table>\n",
       "<p>48586 rows × 4 columns</p>\n",
       "</div>"
      ],
      "text/plain": [
       "                 PRS_MEAN   PRS_STD     PHENO   PHENO_G\n",
       "FID_IID                                                \n",
       "3627963_3627963 -0.959645  0.328504 -1.330712 -0.960817\n",
       "1381646_1381646  0.458950  0.260210  0.867125  0.664614\n",
       "1846099_1846099  0.770227  0.241172  1.389261  0.639234\n",
       "3028248_3028248 -0.209268  0.267718 -0.627948 -0.194213\n",
       "3690795_3690795 -0.335288  0.290984 -1.260668 -0.948487\n",
       "...                   ...       ...       ...       ...\n",
       "4931041_4931041 -0.847915  0.260484 -0.177411 -0.650833\n",
       "1118302_1118302 -0.192384  0.257625  0.484706 -0.002039\n",
       "2616445_2616445 -0.045958  0.257951  0.581634 -0.043358\n",
       "5188752_5188752  0.703318  0.276303  0.376760  0.793342\n",
       "5461955_5461955 -0.524760  0.268485  0.757176 -0.458767\n",
       "\n",
       "[48586 rows x 4 columns]"
      ]
     },
     "execution_count": 29,
     "metadata": {},
     "output_type": "execute_result"
    }
   ],
   "source": [
    "df"
   ]
  },
  {
   "cell_type": "code",
   "execution_count": 18,
   "id": "db17ff20-aecb-4bfd-8318-abdb42d63ac6",
   "metadata": {},
   "outputs": [
    {
     "ename": "TypeError",
     "evalue": "stratify_calculate_r2() missing 1 required positional argument: 'stratify_col'",
     "output_type": "error",
     "traceback": [
      "\u001b[0;31m---------------------------------------------------------------------------\u001b[0m",
      "\u001b[0;31mTypeError\u001b[0m                                 Traceback (most recent call last)",
      "\u001b[0;32m<ipython-input-18-1c4d4a0be2ad>\u001b[0m in \u001b[0;36m<module>\u001b[0;34m\u001b[0m\n\u001b[0;32m----> 1\u001b[0;31m \u001b[0madmix_prs\u001b[0m\u001b[0;34m.\u001b[0m\u001b[0mstratify_calculate_r2\u001b[0m\u001b[0;34m(\u001b[0m\u001b[0mdf\u001b[0m\u001b[0;34m,\u001b[0m \u001b[0mx_col\u001b[0m\u001b[0;34m=\u001b[0m\u001b[0;34m\"PHENO_G\"\u001b[0m\u001b[0;34m,\u001b[0m \u001b[0my_col\u001b[0m\u001b[0;34m=\u001b[0m\u001b[0;34m\"PRS_MEAN\"\u001b[0m\u001b[0;34m)\u001b[0m\u001b[0;34m\u001b[0m\u001b[0;34m\u001b[0m\u001b[0m\n\u001b[0m",
      "\u001b[0;31mTypeError\u001b[0m: stratify_calculate_r2() missing 1 required positional argument: 'stratify_col'"
     ]
    }
   ],
   "source": [
    "admix_prs.stratify_calculate_r2(df, x_col=\"PHENO_G\", y_col=\"PRS_MEAN\")"
   ]
  },
  {
   "cell_type": "code",
   "execution_count": 19,
   "id": "8cb7cb79-4e44-4504-98dc-ceb43eda9133",
   "metadata": {},
   "outputs": [
    {
     "ename": "TypeError",
     "evalue": "eval_calibration() got an unexpected keyword argument 'y_col'",
     "output_type": "error",
     "traceback": [
      "\u001b[0;31m---------------------------------------------------------------------------\u001b[0m",
      "\u001b[0;31mTypeError\u001b[0m                                 Traceback (most recent call last)",
      "\u001b[0;32m<ipython-input-19-6d84bee43afb>\u001b[0m in \u001b[0;36m<module>\u001b[0;34m\u001b[0m\n\u001b[0;32m----> 1\u001b[0;31m \u001b[0madmix_prs\u001b[0m\u001b[0;34m.\u001b[0m\u001b[0meval_calibration\u001b[0m\u001b[0;34m(\u001b[0m\u001b[0mdf\u001b[0m\u001b[0;34m,\u001b[0m \u001b[0mx_col\u001b[0m\u001b[0;34m=\u001b[0m\u001b[0;34m\"PHENO_G\"\u001b[0m\u001b[0;34m,\u001b[0m \u001b[0my_col\u001b[0m\u001b[0;34m=\u001b[0m\u001b[0;34m\"PRS_MEAN\"\u001b[0m\u001b[0;34m)\u001b[0m\u001b[0;34m\u001b[0m\u001b[0;34m\u001b[0m\u001b[0m\n\u001b[0m",
      "\u001b[0;31mTypeError\u001b[0m: eval_calibration() got an unexpected keyword argument 'y_col'"
     ]
    }
   ],
   "source": [
    "admix_prs.eval_calibration(df, x_col=\"PHENO_G\", y_col=\"PRS_MEAN\")"
   ]
  },
  {
   "cell_type": "markdown",
   "id": "17732599-a7c6-4441-ae29-d4cbd4ba0c87",
   "metadata": {},
   "source": [
    "# TODO:\n",
    "1. stratify_calculate_r2 by PC1, PC2, AGE, SEX\n",
    "- R2 different by PC1 and PC2, but not by AGE, SEX\n",
    "- do this for both PHENO_G and PHENO\n",
    "\n",
    "2. eval_calibration using PHENO_G and `[MEAN - 1.645 * STD, MEAN + 1.645 * STD]` \n",
    "- expect 90% coverage\n",
    "3. eval_calibration using PHENO and `[MEAN - 1.645 * PHENO-STD, MEAN + 1.645 * PHENO-STD]`"
   ]
  },
  {
   "cell_type": "markdown",
   "id": "060cea8b-d93f-4e3f-9d6d-79b5f735364c",
   "metadata": {},
   "source": [
    "- PHENO-G ~ PRS-MEAN + STD(PRS)\n",
    "- PHENO ~ PRS-MEAN + STD(PRS + ENV)\n",
    "\n",
    "STD(PRS + ENV) = sqrt(PRS-STD ** 2 + ENV-STD ** 2)\n",
    "\n",
    "df[\"PHENO-STD\"] = np.sqrt(df[\"PRS-STD\"] ** 2 + 0.75)\n",
    "\n",
    "# simulated heritability is 0.25\n",
    "# var[y] = 1\n",
    "# hsq = var[gv] / (var[gv] + var[e]) = 0.25\n",
    "# var[e] = 0.75\n",
    "\n",
    "ENV-STD ** 2 = 0.75 = 1 - 0.25"
   ]
  }
 ],
 "metadata": {
  "kernelspec": {
   "display_name": "Python 3",
   "language": "python",
   "name": "python3"
  },
  "language_info": {
   "codemirror_mode": {
    "name": "ipython",
    "version": 3
   },
   "file_extension": ".py",
   "mimetype": "text/x-python",
   "name": "python",
   "nbconvert_exporter": "python",
   "pygments_lexer": "ipython3",
   "version": "3.8.5"
  }
 },
 "nbformat": 4,
 "nbformat_minor": 5
}
