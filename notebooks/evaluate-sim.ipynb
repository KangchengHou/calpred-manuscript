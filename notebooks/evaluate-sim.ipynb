{
 "cells": [
  {
   "cell_type": "code",
   "execution_count": 1,
   "id": "dd0c4a3c-fca9-4d05-aa78-4f9cf0e2ff11",
   "metadata": {},
   "outputs": [],
   "source": [
    "%load_ext autoreload\n",
    "%autoreload 2\n",
    "\n",
    "import numpy as np\n",
    "import pandas as pd\n",
    "import pickle\n",
    "import os\n",
    "import admix_prs"
   ]
  },
  {
   "cell_type": "markdown",
   "id": "1e88477b-864d-4d18-97ee-0f0a17642b70",
   "metadata": {},
   "source": [
    "# Load data"
   ]
  },
  {
   "cell_type": "code",
   "execution_count": 4,
   "id": "4f3bfb48-35f0-4e1f-957f-93825466a3c7",
   "metadata": {},
   "outputs": [],
   "source": [
    "config = \"hsq-0.25-pcausal-0.01-hermodel-uniform\""
   ]
  },
  {
   "cell_type": "code",
   "execution_count": 5,
   "id": "f31afc0a-95f7-4df5-a3a4-e003809e1e19",
   "metadata": {},
   "outputs": [
    {
     "ename": "PermissionError",
     "evalue": "[Errno 13] Permission denied: '/u/project/sgss/UKBB/PRS-RESEARCH/02-yi-simulate-prs/subcontinenal/hsq-0.25-pcausal-0.01-hermodel-uniform/data/sim.pheno_g.tsv.gz'",
     "output_type": "error",
     "traceback": [
      "\u001b[0;31m---------------------------------------------------------------------------\u001b[0m",
      "\u001b[0;31mPermissionError\u001b[0m                           Traceback (most recent call last)",
      "\u001b[0;32m<ipython-input-5-e6f9f608e467>\u001b[0m in \u001b[0;36m<module>\u001b[0;34m\u001b[0m\n\u001b[1;32m      3\u001b[0m         \u001b[0mdf_res_list\u001b[0m \u001b[0;34m=\u001b[0m \u001b[0mpickle\u001b[0m\u001b[0;34m.\u001b[0m\u001b[0mload\u001b[0m\u001b[0;34m(\u001b[0m\u001b[0mf\u001b[0m\u001b[0;34m)\u001b[0m\u001b[0;34m\u001b[0m\u001b[0;34m\u001b[0m\u001b[0m\n\u001b[1;32m      4\u001b[0m \u001b[0;32melse\u001b[0m\u001b[0;34m:\u001b[0m\u001b[0;34m\u001b[0m\u001b[0;34m\u001b[0m\u001b[0m\n\u001b[0;32m----> 5\u001b[0;31m     \u001b[0mdf_res_list\u001b[0m \u001b[0;34m=\u001b[0m \u001b[0madmix_prs\u001b[0m\u001b[0;34m.\u001b[0m\u001b[0mload_sim_data\u001b[0m\u001b[0;34m(\u001b[0m\u001b[0mconfig\u001b[0m\u001b[0;34m)\u001b[0m\u001b[0;34m\u001b[0m\u001b[0;34m\u001b[0m\u001b[0m\n\u001b[0m\u001b[1;32m      6\u001b[0m     \u001b[0;32mwith\u001b[0m \u001b[0mopen\u001b[0m\u001b[0;34m(\u001b[0m\u001b[0;34m\"df_res_list.pkl\"\u001b[0m\u001b[0;34m,\u001b[0m \u001b[0;34m\"wb\"\u001b[0m\u001b[0;34m)\u001b[0m \u001b[0;32mas\u001b[0m \u001b[0mf\u001b[0m\u001b[0;34m:\u001b[0m\u001b[0;34m\u001b[0m\u001b[0;34m\u001b[0m\u001b[0m\n\u001b[1;32m      7\u001b[0m         \u001b[0mpickle\u001b[0m\u001b[0;34m.\u001b[0m\u001b[0mdump\u001b[0m\u001b[0;34m(\u001b[0m\u001b[0mdf_res_list\u001b[0m\u001b[0;34m,\u001b[0m \u001b[0mf\u001b[0m\u001b[0;34m)\u001b[0m\u001b[0;34m\u001b[0m\u001b[0;34m\u001b[0m\u001b[0m\n",
      "\u001b[0;32m/u/project/pasaniuc/ziqixu09/admix-prs-uncertainty/admix-prs-uncertainty/admix_prs/_utils.py\u001b[0m in \u001b[0;36mload_sim_data\u001b[0;34m(config, DATA_DIR, n_sim)\u001b[0m\n\u001b[1;32m     68\u001b[0m         \u001b[0;34m-\u001b[0m \u001b[0mPHENO_G\u001b[0m\u001b[0;34m:\u001b[0m \u001b[0mgenetic\u001b[0m \u001b[0mcomponent\u001b[0m \u001b[0mof\u001b[0m \u001b[0mphenotype\u001b[0m\u001b[0;34m\u001b[0m\u001b[0;34m\u001b[0m\u001b[0m\n\u001b[1;32m     69\u001b[0m     \"\"\"\n\u001b[0;32m---> 70\u001b[0;31m     df_pheno_g = pd.read_csv(\n\u001b[0m\u001b[1;32m     71\u001b[0m         \u001b[0mjoin\u001b[0m\u001b[0;34m(\u001b[0m\u001b[0mDATA_DIR\u001b[0m\u001b[0;34m,\u001b[0m \u001b[0mconfig\u001b[0m\u001b[0;34m,\u001b[0m \u001b[0;34m\"data/sim.pheno_g.tsv.gz\"\u001b[0m\u001b[0;34m)\u001b[0m\u001b[0;34m,\u001b[0m \u001b[0msep\u001b[0m\u001b[0;34m=\u001b[0m\u001b[0;34m\"\\t\"\u001b[0m\u001b[0;34m\u001b[0m\u001b[0;34m\u001b[0m\u001b[0m\n\u001b[1;32m     72\u001b[0m     )\n",
      "\u001b[0;32m~/miniconda3/lib/python3.9/site-packages/pandas/io/parsers.py\u001b[0m in \u001b[0;36mread_csv\u001b[0;34m(filepath_or_buffer, sep, delimiter, header, names, index_col, usecols, squeeze, prefix, mangle_dupe_cols, dtype, engine, converters, true_values, false_values, skipinitialspace, skiprows, skipfooter, nrows, na_values, keep_default_na, na_filter, verbose, skip_blank_lines, parse_dates, infer_datetime_format, keep_date_col, date_parser, dayfirst, cache_dates, iterator, chunksize, compression, thousands, decimal, lineterminator, quotechar, quoting, doublequote, escapechar, comment, encoding, dialect, error_bad_lines, warn_bad_lines, delim_whitespace, low_memory, memory_map, float_precision, storage_options)\u001b[0m\n\u001b[1;32m    608\u001b[0m     \u001b[0mkwds\u001b[0m\u001b[0;34m.\u001b[0m\u001b[0mupdate\u001b[0m\u001b[0;34m(\u001b[0m\u001b[0mkwds_defaults\u001b[0m\u001b[0;34m)\u001b[0m\u001b[0;34m\u001b[0m\u001b[0;34m\u001b[0m\u001b[0m\n\u001b[1;32m    609\u001b[0m \u001b[0;34m\u001b[0m\u001b[0m\n\u001b[0;32m--> 610\u001b[0;31m     \u001b[0;32mreturn\u001b[0m \u001b[0m_read\u001b[0m\u001b[0;34m(\u001b[0m\u001b[0mfilepath_or_buffer\u001b[0m\u001b[0;34m,\u001b[0m \u001b[0mkwds\u001b[0m\u001b[0;34m)\u001b[0m\u001b[0;34m\u001b[0m\u001b[0;34m\u001b[0m\u001b[0m\n\u001b[0m\u001b[1;32m    611\u001b[0m \u001b[0;34m\u001b[0m\u001b[0m\n\u001b[1;32m    612\u001b[0m \u001b[0;34m\u001b[0m\u001b[0m\n",
      "\u001b[0;32m~/miniconda3/lib/python3.9/site-packages/pandas/io/parsers.py\u001b[0m in \u001b[0;36m_read\u001b[0;34m(filepath_or_buffer, kwds)\u001b[0m\n\u001b[1;32m    460\u001b[0m \u001b[0;34m\u001b[0m\u001b[0m\n\u001b[1;32m    461\u001b[0m     \u001b[0;31m# Create the parser.\u001b[0m\u001b[0;34m\u001b[0m\u001b[0;34m\u001b[0m\u001b[0;34m\u001b[0m\u001b[0m\n\u001b[0;32m--> 462\u001b[0;31m     \u001b[0mparser\u001b[0m \u001b[0;34m=\u001b[0m \u001b[0mTextFileReader\u001b[0m\u001b[0;34m(\u001b[0m\u001b[0mfilepath_or_buffer\u001b[0m\u001b[0;34m,\u001b[0m \u001b[0;34m**\u001b[0m\u001b[0mkwds\u001b[0m\u001b[0;34m)\u001b[0m\u001b[0;34m\u001b[0m\u001b[0;34m\u001b[0m\u001b[0m\n\u001b[0m\u001b[1;32m    463\u001b[0m \u001b[0;34m\u001b[0m\u001b[0m\n\u001b[1;32m    464\u001b[0m     \u001b[0;32mif\u001b[0m \u001b[0mchunksize\u001b[0m \u001b[0;32mor\u001b[0m \u001b[0miterator\u001b[0m\u001b[0;34m:\u001b[0m\u001b[0;34m\u001b[0m\u001b[0;34m\u001b[0m\u001b[0m\n",
      "\u001b[0;32m~/miniconda3/lib/python3.9/site-packages/pandas/io/parsers.py\u001b[0m in \u001b[0;36m__init__\u001b[0;34m(self, f, engine, **kwds)\u001b[0m\n\u001b[1;32m    817\u001b[0m             \u001b[0mself\u001b[0m\u001b[0;34m.\u001b[0m\u001b[0moptions\u001b[0m\u001b[0;34m[\u001b[0m\u001b[0;34m\"has_index_names\"\u001b[0m\u001b[0;34m]\u001b[0m \u001b[0;34m=\u001b[0m \u001b[0mkwds\u001b[0m\u001b[0;34m[\u001b[0m\u001b[0;34m\"has_index_names\"\u001b[0m\u001b[0;34m]\u001b[0m\u001b[0;34m\u001b[0m\u001b[0;34m\u001b[0m\u001b[0m\n\u001b[1;32m    818\u001b[0m \u001b[0;34m\u001b[0m\u001b[0m\n\u001b[0;32m--> 819\u001b[0;31m         \u001b[0mself\u001b[0m\u001b[0;34m.\u001b[0m\u001b[0m_engine\u001b[0m \u001b[0;34m=\u001b[0m \u001b[0mself\u001b[0m\u001b[0;34m.\u001b[0m\u001b[0m_make_engine\u001b[0m\u001b[0;34m(\u001b[0m\u001b[0mself\u001b[0m\u001b[0;34m.\u001b[0m\u001b[0mengine\u001b[0m\u001b[0;34m)\u001b[0m\u001b[0;34m\u001b[0m\u001b[0;34m\u001b[0m\u001b[0m\n\u001b[0m\u001b[1;32m    820\u001b[0m \u001b[0;34m\u001b[0m\u001b[0m\n\u001b[1;32m    821\u001b[0m     \u001b[0;32mdef\u001b[0m \u001b[0mclose\u001b[0m\u001b[0;34m(\u001b[0m\u001b[0mself\u001b[0m\u001b[0;34m)\u001b[0m\u001b[0;34m:\u001b[0m\u001b[0;34m\u001b[0m\u001b[0;34m\u001b[0m\u001b[0m\n",
      "\u001b[0;32m~/miniconda3/lib/python3.9/site-packages/pandas/io/parsers.py\u001b[0m in \u001b[0;36m_make_engine\u001b[0;34m(self, engine)\u001b[0m\n\u001b[1;32m   1048\u001b[0m             )\n\u001b[1;32m   1049\u001b[0m         \u001b[0;31m# error: Too many arguments for \"ParserBase\"\u001b[0m\u001b[0;34m\u001b[0m\u001b[0;34m\u001b[0m\u001b[0;34m\u001b[0m\u001b[0m\n\u001b[0;32m-> 1050\u001b[0;31m         \u001b[0;32mreturn\u001b[0m \u001b[0mmapping\u001b[0m\u001b[0;34m[\u001b[0m\u001b[0mengine\u001b[0m\u001b[0;34m]\u001b[0m\u001b[0;34m(\u001b[0m\u001b[0mself\u001b[0m\u001b[0;34m.\u001b[0m\u001b[0mf\u001b[0m\u001b[0;34m,\u001b[0m \u001b[0;34m**\u001b[0m\u001b[0mself\u001b[0m\u001b[0;34m.\u001b[0m\u001b[0moptions\u001b[0m\u001b[0;34m)\u001b[0m  \u001b[0;31m# type: ignore[call-arg]\u001b[0m\u001b[0;34m\u001b[0m\u001b[0;34m\u001b[0m\u001b[0m\n\u001b[0m\u001b[1;32m   1051\u001b[0m \u001b[0;34m\u001b[0m\u001b[0m\n\u001b[1;32m   1052\u001b[0m     \u001b[0;32mdef\u001b[0m \u001b[0m_failover_to_python\u001b[0m\u001b[0;34m(\u001b[0m\u001b[0mself\u001b[0m\u001b[0;34m)\u001b[0m\u001b[0;34m:\u001b[0m\u001b[0;34m\u001b[0m\u001b[0;34m\u001b[0m\u001b[0m\n",
      "\u001b[0;32m~/miniconda3/lib/python3.9/site-packages/pandas/io/parsers.py\u001b[0m in \u001b[0;36m__init__\u001b[0;34m(self, src, **kwds)\u001b[0m\n\u001b[1;32m   1865\u001b[0m \u001b[0;34m\u001b[0m\u001b[0m\n\u001b[1;32m   1866\u001b[0m         \u001b[0;31m# open handles\u001b[0m\u001b[0;34m\u001b[0m\u001b[0;34m\u001b[0m\u001b[0;34m\u001b[0m\u001b[0m\n\u001b[0;32m-> 1867\u001b[0;31m         \u001b[0mself\u001b[0m\u001b[0;34m.\u001b[0m\u001b[0m_open_handles\u001b[0m\u001b[0;34m(\u001b[0m\u001b[0msrc\u001b[0m\u001b[0;34m,\u001b[0m \u001b[0mkwds\u001b[0m\u001b[0;34m)\u001b[0m\u001b[0;34m\u001b[0m\u001b[0;34m\u001b[0m\u001b[0m\n\u001b[0m\u001b[1;32m   1868\u001b[0m         \u001b[0;32massert\u001b[0m \u001b[0mself\u001b[0m\u001b[0;34m.\u001b[0m\u001b[0mhandles\u001b[0m \u001b[0;32mis\u001b[0m \u001b[0;32mnot\u001b[0m \u001b[0;32mNone\u001b[0m\u001b[0;34m\u001b[0m\u001b[0;34m\u001b[0m\u001b[0m\n\u001b[1;32m   1869\u001b[0m         \u001b[0;32mfor\u001b[0m \u001b[0mkey\u001b[0m \u001b[0;32min\u001b[0m \u001b[0;34m(\u001b[0m\u001b[0;34m\"storage_options\"\u001b[0m\u001b[0;34m,\u001b[0m \u001b[0;34m\"encoding\"\u001b[0m\u001b[0;34m,\u001b[0m \u001b[0;34m\"memory_map\"\u001b[0m\u001b[0;34m,\u001b[0m \u001b[0;34m\"compression\"\u001b[0m\u001b[0;34m)\u001b[0m\u001b[0;34m:\u001b[0m\u001b[0;34m\u001b[0m\u001b[0;34m\u001b[0m\u001b[0m\n",
      "\u001b[0;32m~/miniconda3/lib/python3.9/site-packages/pandas/io/parsers.py\u001b[0m in \u001b[0;36m_open_handles\u001b[0;34m(self, src, kwds)\u001b[0m\n\u001b[1;32m   1360\u001b[0m         \u001b[0mLet\u001b[0m \u001b[0mthe\u001b[0m \u001b[0mreaders\u001b[0m \u001b[0mopen\u001b[0m \u001b[0mIOHanldes\u001b[0m \u001b[0mafter\u001b[0m \u001b[0mthey\u001b[0m \u001b[0mare\u001b[0m \u001b[0mdone\u001b[0m \u001b[0;32mwith\u001b[0m \u001b[0mtheir\u001b[0m \u001b[0mpotential\u001b[0m \u001b[0mraises\u001b[0m\u001b[0;34m.\u001b[0m\u001b[0;34m\u001b[0m\u001b[0;34m\u001b[0m\u001b[0m\n\u001b[1;32m   1361\u001b[0m         \"\"\"\n\u001b[0;32m-> 1362\u001b[0;31m         self.handles = get_handle(\n\u001b[0m\u001b[1;32m   1363\u001b[0m             \u001b[0msrc\u001b[0m\u001b[0;34m,\u001b[0m\u001b[0;34m\u001b[0m\u001b[0;34m\u001b[0m\u001b[0m\n\u001b[1;32m   1364\u001b[0m             \u001b[0;34m\"r\"\u001b[0m\u001b[0;34m,\u001b[0m\u001b[0;34m\u001b[0m\u001b[0;34m\u001b[0m\u001b[0m\n",
      "\u001b[0;32m~/miniconda3/lib/python3.9/site-packages/pandas/io/common.py\u001b[0m in \u001b[0;36mget_handle\u001b[0;34m(path_or_buf, mode, encoding, compression, memory_map, is_text, errors, storage_options)\u001b[0m\n\u001b[1;32m    589\u001b[0m             \u001b[0;32mif\u001b[0m \u001b[0mis_path\u001b[0m\u001b[0;34m:\u001b[0m\u001b[0;34m\u001b[0m\u001b[0;34m\u001b[0m\u001b[0m\n\u001b[1;32m    590\u001b[0m                 \u001b[0;32massert\u001b[0m \u001b[0misinstance\u001b[0m\u001b[0;34m(\u001b[0m\u001b[0mhandle\u001b[0m\u001b[0;34m,\u001b[0m \u001b[0mstr\u001b[0m\u001b[0;34m)\u001b[0m\u001b[0;34m\u001b[0m\u001b[0;34m\u001b[0m\u001b[0m\n\u001b[0;32m--> 591\u001b[0;31m                 handle = gzip.GzipFile(\n\u001b[0m\u001b[1;32m    592\u001b[0m                     \u001b[0mfilename\u001b[0m\u001b[0;34m=\u001b[0m\u001b[0mhandle\u001b[0m\u001b[0;34m,\u001b[0m\u001b[0;34m\u001b[0m\u001b[0;34m\u001b[0m\u001b[0m\n\u001b[1;32m    593\u001b[0m                     \u001b[0mmode\u001b[0m\u001b[0;34m=\u001b[0m\u001b[0mioargs\u001b[0m\u001b[0;34m.\u001b[0m\u001b[0mmode\u001b[0m\u001b[0;34m,\u001b[0m\u001b[0;34m\u001b[0m\u001b[0;34m\u001b[0m\u001b[0m\n",
      "\u001b[0;32m~/miniconda3/lib/python3.9/gzip.py\u001b[0m in \u001b[0;36m__init__\u001b[0;34m(self, filename, mode, compresslevel, fileobj, mtime)\u001b[0m\n\u001b[1;32m    171\u001b[0m             \u001b[0mmode\u001b[0m \u001b[0;34m+=\u001b[0m \u001b[0;34m'b'\u001b[0m\u001b[0;34m\u001b[0m\u001b[0;34m\u001b[0m\u001b[0m\n\u001b[1;32m    172\u001b[0m         \u001b[0;32mif\u001b[0m \u001b[0mfileobj\u001b[0m \u001b[0;32mis\u001b[0m \u001b[0;32mNone\u001b[0m\u001b[0;34m:\u001b[0m\u001b[0;34m\u001b[0m\u001b[0;34m\u001b[0m\u001b[0m\n\u001b[0;32m--> 173\u001b[0;31m             \u001b[0mfileobj\u001b[0m \u001b[0;34m=\u001b[0m \u001b[0mself\u001b[0m\u001b[0;34m.\u001b[0m\u001b[0mmyfileobj\u001b[0m \u001b[0;34m=\u001b[0m \u001b[0mbuiltins\u001b[0m\u001b[0;34m.\u001b[0m\u001b[0mopen\u001b[0m\u001b[0;34m(\u001b[0m\u001b[0mfilename\u001b[0m\u001b[0;34m,\u001b[0m \u001b[0mmode\u001b[0m \u001b[0;32mor\u001b[0m \u001b[0;34m'rb'\u001b[0m\u001b[0;34m)\u001b[0m\u001b[0;34m\u001b[0m\u001b[0;34m\u001b[0m\u001b[0m\n\u001b[0m\u001b[1;32m    174\u001b[0m         \u001b[0;32mif\u001b[0m \u001b[0mfilename\u001b[0m \u001b[0;32mis\u001b[0m \u001b[0;32mNone\u001b[0m\u001b[0;34m:\u001b[0m\u001b[0;34m\u001b[0m\u001b[0;34m\u001b[0m\u001b[0m\n\u001b[1;32m    175\u001b[0m             \u001b[0mfilename\u001b[0m \u001b[0;34m=\u001b[0m \u001b[0mgetattr\u001b[0m\u001b[0;34m(\u001b[0m\u001b[0mfileobj\u001b[0m\u001b[0;34m,\u001b[0m \u001b[0;34m'name'\u001b[0m\u001b[0;34m,\u001b[0m \u001b[0;34m''\u001b[0m\u001b[0;34m)\u001b[0m\u001b[0;34m\u001b[0m\u001b[0;34m\u001b[0m\u001b[0m\n",
      "\u001b[0;31mPermissionError\u001b[0m: [Errno 13] Permission denied: '/u/project/sgss/UKBB/PRS-RESEARCH/02-yi-simulate-prs/subcontinenal/hsq-0.25-pcausal-0.01-hermodel-uniform/data/sim.pheno_g.tsv.gz'"
     ]
    }
   ],
   "source": [
    "if os.path.exists(\"df_res_list.pkl\"):\n",
    "    with open(\"df_res_list.pkl\", \"rb\") as f:\n",
    "        df_res_list = pickle.load(f)\n",
    "else:\n",
    "    df_res_list = admix_prs.load_sim_data(config)\n",
    "    with open(\"df_res_list.pkl\", \"wb\") as f:\n",
    "        pickle.dump(df_res_list, f)"
   ]
  },
  {
   "cell_type": "code",
   "execution_count": 25,
   "id": "98e33385-7435-4904-9951-6139278d175e",
   "metadata": {},
   "outputs": [
    {
     "data": {
      "text/plain": [
       "5"
      ]
     },
     "execution_count": 25,
     "metadata": {},
     "output_type": "execute_result"
    }
   ],
   "source": [
    "len(df_res_list)"
   ]
  },
  {
   "cell_type": "code",
   "execution_count": 23,
   "id": "63d2ea6f-f398-4ac2-99ef-565d2379ffd1",
   "metadata": {},
   "outputs": [],
   "source": [
    "df = df_res_list[0].copy()\n",
    "df[\"PHENO_G\"] -= df[\"PHENO\"].mean()\n",
    "df[\"PHENO\"] -= df[\"PHENO\"].mean()"
   ]
  },
  {
   "cell_type": "code",
   "execution_count": 29,
   "id": "1752b578-38d8-489b-b365-f224a7abd463",
   "metadata": {},
   "outputs": [
    {
     "data": {
      "text/html": [
       "<div>\n",
       "<style scoped>\n",
       "    .dataframe tbody tr th:only-of-type {\n",
       "        vertical-align: middle;\n",
       "    }\n",
       "\n",
       "    .dataframe tbody tr th {\n",
       "        vertical-align: top;\n",
       "    }\n",
       "\n",
       "    .dataframe thead th {\n",
       "        text-align: right;\n",
       "    }\n",
       "</style>\n",
       "<table border=\"1\" class=\"dataframe\">\n",
       "  <thead>\n",
       "    <tr style=\"text-align: right;\">\n",
       "      <th></th>\n",
       "      <th>PRS_MEAN</th>\n",
       "      <th>PRS_STD</th>\n",
       "      <th>PHENO</th>\n",
       "      <th>PHENO_G</th>\n",
       "    </tr>\n",
       "    <tr>\n",
       "      <th>FID_IID</th>\n",
       "      <th></th>\n",
       "      <th></th>\n",
       "      <th></th>\n",
       "      <th></th>\n",
       "    </tr>\n",
       "  </thead>\n",
       "  <tbody>\n",
       "    <tr>\n",
       "      <th>3627963_3627963</th>\n",
       "      <td>-0.959645</td>\n",
       "      <td>0.328504</td>\n",
       "      <td>-1.330712</td>\n",
       "      <td>-0.960817</td>\n",
       "    </tr>\n",
       "    <tr>\n",
       "      <th>1381646_1381646</th>\n",
       "      <td>0.458950</td>\n",
       "      <td>0.260210</td>\n",
       "      <td>0.867125</td>\n",
       "      <td>0.664614</td>\n",
       "    </tr>\n",
       "    <tr>\n",
       "      <th>1846099_1846099</th>\n",
       "      <td>0.770227</td>\n",
       "      <td>0.241172</td>\n",
       "      <td>1.389261</td>\n",
       "      <td>0.639234</td>\n",
       "    </tr>\n",
       "    <tr>\n",
       "      <th>3028248_3028248</th>\n",
       "      <td>-0.209268</td>\n",
       "      <td>0.267718</td>\n",
       "      <td>-0.627948</td>\n",
       "      <td>-0.194213</td>\n",
       "    </tr>\n",
       "    <tr>\n",
       "      <th>3690795_3690795</th>\n",
       "      <td>-0.335288</td>\n",
       "      <td>0.290984</td>\n",
       "      <td>-1.260668</td>\n",
       "      <td>-0.948487</td>\n",
       "    </tr>\n",
       "    <tr>\n",
       "      <th>...</th>\n",
       "      <td>...</td>\n",
       "      <td>...</td>\n",
       "      <td>...</td>\n",
       "      <td>...</td>\n",
       "    </tr>\n",
       "    <tr>\n",
       "      <th>4931041_4931041</th>\n",
       "      <td>-0.847915</td>\n",
       "      <td>0.260484</td>\n",
       "      <td>-0.177411</td>\n",
       "      <td>-0.650833</td>\n",
       "    </tr>\n",
       "    <tr>\n",
       "      <th>1118302_1118302</th>\n",
       "      <td>-0.192384</td>\n",
       "      <td>0.257625</td>\n",
       "      <td>0.484706</td>\n",
       "      <td>-0.002039</td>\n",
       "    </tr>\n",
       "    <tr>\n",
       "      <th>2616445_2616445</th>\n",
       "      <td>-0.045958</td>\n",
       "      <td>0.257951</td>\n",
       "      <td>0.581634</td>\n",
       "      <td>-0.043358</td>\n",
       "    </tr>\n",
       "    <tr>\n",
       "      <th>5188752_5188752</th>\n",
       "      <td>0.703318</td>\n",
       "      <td>0.276303</td>\n",
       "      <td>0.376760</td>\n",
       "      <td>0.793342</td>\n",
       "    </tr>\n",
       "    <tr>\n",
       "      <th>5461955_5461955</th>\n",
       "      <td>-0.524760</td>\n",
       "      <td>0.268485</td>\n",
       "      <td>0.757176</td>\n",
       "      <td>-0.458767</td>\n",
       "    </tr>\n",
       "  </tbody>\n",
       "</table>\n",
       "<p>48586 rows × 4 columns</p>\n",
       "</div>"
      ],
      "text/plain": [
       "                 PRS_MEAN   PRS_STD     PHENO   PHENO_G\n",
       "FID_IID                                                \n",
       "3627963_3627963 -0.959645  0.328504 -1.330712 -0.960817\n",
       "1381646_1381646  0.458950  0.260210  0.867125  0.664614\n",
       "1846099_1846099  0.770227  0.241172  1.389261  0.639234\n",
       "3028248_3028248 -0.209268  0.267718 -0.627948 -0.194213\n",
       "3690795_3690795 -0.335288  0.290984 -1.260668 -0.948487\n",
       "...                   ...       ...       ...       ...\n",
       "4931041_4931041 -0.847915  0.260484 -0.177411 -0.650833\n",
       "1118302_1118302 -0.192384  0.257625  0.484706 -0.002039\n",
       "2616445_2616445 -0.045958  0.257951  0.581634 -0.043358\n",
       "5188752_5188752  0.703318  0.276303  0.376760  0.793342\n",
       "5461955_5461955 -0.524760  0.268485  0.757176 -0.458767\n",
       "\n",
       "[48586 rows x 4 columns]"
      ]
     },
     "execution_count": 29,
     "metadata": {},
     "output_type": "execute_result"
    }
   ],
   "source": [
    "df"
   ]
  },
  {
   "cell_type": "code",
   "execution_count": null,
   "id": "129db43f-9411-4f96-9790-d6d79a3a76aa",
   "metadata": {},
   "outputs": [],
   "source": [
    "df[\"PC1_Q\"] = admix_prs.make_levels(df, stratify_col=\"PC1\", n_level=?)\n",
    "df[\"PC2_Q\"] = admix_prs.make_levels(df, stratify_col=\"PC2\", n_level=?)\n",
    "df[\"AGE_Q\"] = admix_prs.make_levels(df, stratify_col=\"AGE\", n_level=5)"
   ]
  },
  {
   "cell_type": "code",
   "execution_count": 18,
   "id": "db17ff20-aecb-4bfd-8318-abdb42d63ac6",
   "metadata": {},
   "outputs": [
    {
     "ename": "TypeError",
     "evalue": "stratify_calculate_r2() missing 1 required positional argument: 'stratify_col'",
     "output_type": "error",
     "traceback": [
      "\u001b[0;31m---------------------------------------------------------------------------\u001b[0m",
      "\u001b[0;31mTypeError\u001b[0m                                 Traceback (most recent call last)",
      "\u001b[0;32m<ipython-input-18-1c4d4a0be2ad>\u001b[0m in \u001b[0;36m<module>\u001b[0;34m\u001b[0m\n\u001b[0;32m----> 1\u001b[0;31m \u001b[0madmix_prs\u001b[0m\u001b[0;34m.\u001b[0m\u001b[0mstratify_calculate_r2\u001b[0m\u001b[0;34m(\u001b[0m\u001b[0mdf\u001b[0m\u001b[0;34m,\u001b[0m \u001b[0mx_col\u001b[0m\u001b[0;34m=\u001b[0m\u001b[0;34m\"PHENO_G\"\u001b[0m\u001b[0;34m,\u001b[0m \u001b[0my_col\u001b[0m\u001b[0;34m=\u001b[0m\u001b[0;34m\"PRS_MEAN\"\u001b[0m\u001b[0;34m)\u001b[0m\u001b[0;34m\u001b[0m\u001b[0;34m\u001b[0m\u001b[0m\n\u001b[0m",
      "\u001b[0;31mTypeError\u001b[0m: stratify_calculate_r2() missing 1 required positional argument: 'stratify_col'"
     ]
    }
   ],
   "source": [
    "res1 = admix_prs.stratify_calculate_r2(df, x_col=\"PHENO_G\", y_col=\"PRS_MEAN\", grp_col=\"PC1_Q\")"
   ]
  },
  {
   "cell_type": "code",
   "execution_count": null,
   "id": "6f161fa2-c3f6-4a6e-ad80-ff13ca690b27",
   "metadata": {},
   "outputs": [],
   "source": [
    "res2 = admix_prs.stratify_calculate_r2(df, x_col=\"PHENO\", y_col=\"PRS_MEAN\", grp_col=\"PC1_Q\")"
   ]
  },
  {
   "cell_type": "code",
   "execution_count": null,
   "id": "e1bbf842-5aff-4724-92ba-6735ce716bd3",
   "metadata": {},
   "outputs": [],
   "source": [
    "res3 = admix_prs.stratify_calculate_r2(df, x_col=\"PHENO_G\", y_col=\"PRS_MEAN\", grp_col=\"PC2_Q\")"
   ]
  },
  {
   "cell_type": "code",
   "execution_count": null,
   "id": "cd88dbf2-6865-44e1-b108-15cf4199c66b",
   "metadata": {},
   "outputs": [],
   "source": [
    "res4 = admix_prs.stratify_calculate_r2(df, x_col=\"PHENO\", y_col=\"PRS_MEAN\", grp_col=\"PC2_Q\")"
   ]
  },
  {
   "cell_type": "code",
   "execution_count": null,
   "id": "92a191a7-3db0-4fff-a3b4-209270588b2d",
   "metadata": {},
   "outputs": [],
   "source": [
    "res5 = admix_prs.stratify_calculate_r2(df, x_col=\"PHENO_G\", y_col=\"PRS_MEAN\", grp_col=\"SEX\")"
   ]
  },
  {
   "cell_type": "code",
   "execution_count": null,
   "id": "6e798726-bbe0-4417-8b8a-029e6a016f32",
   "metadata": {},
   "outputs": [],
   "source": [
    "res6 = admix_prs.stratify_calculate_r2(df, x_col=\"PHENO\", y_col=\"PRS_MEAN\", grp_col=\"SEX\")"
   ]
  },
  {
   "cell_type": "code",
   "execution_count": null,
   "id": "6db173c0-a08e-4175-afe0-ea7ca632dd41",
   "metadata": {},
   "outputs": [],
   "source": [
    "res7 = admix_prs.stratify_calculate_r2(df, x_col=\"PHENO_G\", y_col=\"PRS_MEAN\", grp_col=\"AGE_Q\")"
   ]
  },
  {
   "cell_type": "code",
   "execution_count": null,
   "id": "9d778486-4958-4bd5-a986-c5cd891a7988",
   "metadata": {},
   "outputs": [],
   "source": [
    "res8 = admix_prs.stratify_calculate_r2(df, x_col=\"PHENO\", y_col=\"PRS_MEAN\", grp_col=\"AGE_Q\")"
   ]
  },
  {
   "cell_type": "code",
   "execution_count": null,
   "id": "c0bd404d-b92e-4b4c-b85c-7d430ac4bcbd",
   "metadata": {},
   "outputs": [],
   "source": []
  },
  {
   "cell_type": "code",
   "execution_count": null,
   "id": "82990805-9e55-40c8-aa28-0ab265832092",
   "metadata": {},
   "outputs": [],
   "source": [
    "df[\"PHENO_STD\"] = np.sqrt(df[\"PRS_STD\"] ** 2 + 0.75)\n",
    "df[\"PRS_LOW\"] = df[\"PRS_MEAN\"] - 1.645 * df[\"PRS_STD\"]\n",
    "df[\"PRS_UPP\"] = df[\"PRS_MEAN\"] + 1.645 * df[\"PRS_STD\"]\n",
    "df[\"PHENO_LOW\"] = df[\"PRS_MEAN\"] - 1.645 * df[\"PHENO_STD\"]\n",
    "df[\"PHENO_UPP\"] = df[\"PRS_MEAN\"] + 1.645 * df[\"PHENO_STD\"]"
   ]
  },
  {
   "cell_type": "code",
   "execution_count": 19,
   "id": "8cb7cb79-4e44-4504-98dc-ceb43eda9133",
   "metadata": {},
   "outputs": [
    {
     "ename": "TypeError",
     "evalue": "eval_calibration() got an unexpected keyword argument 'y_col'",
     "output_type": "error",
     "traceback": [
      "\u001b[0;31m---------------------------------------------------------------------------\u001b[0m",
      "\u001b[0;31mTypeError\u001b[0m                                 Traceback (most recent call last)",
      "\u001b[0;32m<ipython-input-19-6d84bee43afb>\u001b[0m in \u001b[0;36m<module>\u001b[0;34m\u001b[0m\n\u001b[0;32m----> 1\u001b[0;31m \u001b[0madmix_prs\u001b[0m\u001b[0;34m.\u001b[0m\u001b[0meval_calibration\u001b[0m\u001b[0;34m(\u001b[0m\u001b[0mdf\u001b[0m\u001b[0;34m,\u001b[0m \u001b[0mx_col\u001b[0m\u001b[0;34m=\u001b[0m\u001b[0;34m\"PHENO_G\"\u001b[0m\u001b[0;34m,\u001b[0m \u001b[0my_col\u001b[0m\u001b[0;34m=\u001b[0m\u001b[0;34m\"PRS_MEAN\"\u001b[0m\u001b[0;34m)\u001b[0m\u001b[0;34m\u001b[0m\u001b[0;34m\u001b[0m\u001b[0m\n\u001b[0m",
      "\u001b[0;31mTypeError\u001b[0m: eval_calibration() got an unexpected keyword argument 'y_col'"
     ]
    }
   ],
   "source": [
    "res9 = admix_prs.eval_calibration(df, x_col=\"PHENO_G\", lower_col=\"PRS_LOW\", upper_col=\"PRS_UPP\", grp_col=\"AGE\")"
   ]
  },
  {
   "cell_type": "code",
   "execution_count": null,
   "id": "b29c5dcd-616d-414d-bf17-7af90e0de255",
   "metadata": {},
   "outputs": [],
   "source": [
    "res10 = admix_prs.eval_calibration(df, x_col=\"PHENO_G\", lower_col=\"PRS_LOW\", upper_col=\"PRS_UPP\", grp_col=\"SEX\")"
   ]
  },
  {
   "cell_type": "code",
   "execution_count": null,
   "id": "0f8da7ae-53a4-4150-b02a-476e84ea8080",
   "metadata": {},
   "outputs": [],
   "source": [
    "res11 = admix_prs.eval_calibration(df, x_col=\"PHENO_G\", lower_col=\"PRS_LOW\", upper_col=\"PRS_UPP\", grp_col=\"PC1\")"
   ]
  },
  {
   "cell_type": "code",
   "execution_count": null,
   "id": "297761b1-56e8-45f8-a485-44e75c075e84",
   "metadata": {},
   "outputs": [],
   "source": [
    "res12 = admix_prs.eval_calibration(df, x_col=\"PHENO_G\", lower_col=\"PRS_LOW\", upper_col=\"PRS_UPP\", grp_col=\"PC2\""
   ]
  },
  {
   "cell_type": "code",
   "execution_count": null,
   "id": "5d412082-e9bf-4065-ba9c-5487b5090e30",
   "metadata": {},
   "outputs": [],
   "source": [
    "res13 = admix_prs.eval_calibration(df, x_col=\"PHENO\", lower_col=\"PHENO_LOW\", upper_col=\"PHENO_UPP\", grp_col=\"AGE\")"
   ]
  },
  {
   "cell_type": "code",
   "execution_count": null,
   "id": "1407c281-dfaa-499d-8f29-a5a06a32facf",
   "metadata": {},
   "outputs": [],
   "source": [
    "res14 = admix_prs.eval_calibration(df, x_col=\"PHENO\", lower_col=\"PHENO_LOW\", upper_col=\"PHENO_UPP\", grp_col=\"SEX\")"
   ]
  },
  {
   "cell_type": "code",
   "execution_count": 6,
   "id": "f5c76ec5-8877-493b-a7b2-c161d6cad1d7",
   "metadata": {},
   "outputs": [
    {
     "ename": "NameError",
     "evalue": "name 'df' is not defined",
     "output_type": "error",
     "traceback": [
      "\u001b[0;31m---------------------------------------------------------------------------\u001b[0m",
      "\u001b[0;31mNameError\u001b[0m                                 Traceback (most recent call last)",
      "\u001b[0;32m<ipython-input-6-a751b2b508e2>\u001b[0m in \u001b[0;36m<module>\u001b[0;34m\u001b[0m\n\u001b[0;32m----> 1\u001b[0;31m \u001b[0mres15\u001b[0m \u001b[0;34m=\u001b[0m \u001b[0madmix_prs\u001b[0m\u001b[0;34m.\u001b[0m\u001b[0meval_calibration\u001b[0m\u001b[0;34m(\u001b[0m\u001b[0mdf\u001b[0m\u001b[0;34m,\u001b[0m \u001b[0mx_col\u001b[0m\u001b[0;34m=\u001b[0m\u001b[0;34m\"PHENO\"\u001b[0m\u001b[0;34m,\u001b[0m \u001b[0mlower_col\u001b[0m\u001b[0;34m=\u001b[0m\u001b[0;34m\"PHENO_LOW\"\u001b[0m\u001b[0;34m,\u001b[0m \u001b[0mupper_col\u001b[0m\u001b[0;34m=\u001b[0m\u001b[0;34m\"PHENO_UPP\"\u001b[0m\u001b[0;34m,\u001b[0m \u001b[0mgrp_col\u001b[0m\u001b[0;34m=\u001b[0m\u001b[0;34m\"PC1\"\u001b[0m\u001b[0;34m)\u001b[0m\u001b[0;34m\u001b[0m\u001b[0;34m\u001b[0m\u001b[0m\n\u001b[0m",
      "\u001b[0;31mNameError\u001b[0m: name 'df' is not defined"
     ]
    }
   ],
   "source": [
    "res15 = admix_prs.eval_calibration(df, x_col=\"PHENO\", lower_col=\"PHENO_LOW\", upper_col=\"PHENO_UPP\", grp_col=\"PC1\")"
   ]
  },
  {
   "cell_type": "code",
   "execution_count": null,
   "id": "877a5666-9945-4273-aef4-fc26da804ec9",
   "metadata": {},
   "outputs": [],
   "source": [
    "res16 = admix_prs.eval_calibration(df, x_col=\"PHENO\", lower_col=\"PHENO_LOW\", upper_col=\"PHENO_UPP\", grp_col=\"PC2\")"
   ]
  },
  {
   "cell_type": "markdown",
   "id": "17732599-a7c6-4441-ae29-d4cbd4ba0c87",
   "metadata": {},
   "source": [
    "# TODO:\n",
    "1. stratify_calculate_r2 by PC1, PC2, AGE, SEX\n",
    "- R2 different by PC1 and PC2, but not by AGE, SEX\n",
    "- do this for both PHENO_G and PHENO\n",
    "\n",
    "2. eval_calibration using PHENO_G and `[MEAN - 1.645 * STD, MEAN + 1.645 * STD]` \n",
    "- expect 90% coverage\n",
    "3. eval_calibration using PHENO and `[MEAN - 1.645 * PHENO-STD, MEAN + 1.645 * PHENO-STD]`"
   ]
  },
  {
   "cell_type": "markdown",
   "id": "060cea8b-d93f-4e3f-9d6d-79b5f735364c",
   "metadata": {},
   "source": [
    "- PHENO-G ~ PRS-MEAN + STD(PRS)\n",
    "- PHENO ~ PRS-MEAN + STD(PRS + ENV)\n",
    "\n",
    "STD(PRS + ENV) = sqrt(PRS-STD ** 2 + ENV-STD ** 2)\n",
    "\n",
    "df[\"PHENO-STD\"] = np.sqrt(df[\"PRS-STD\"] ** 2 + 0.75)\n",
    "\n",
    "# simulated heritability is 0.25\n",
    "# var[y] = 1\n",
    "# hsq = var[gv] / (var[gv] + var[e]) = 0.25\n",
    "# var[e] = 0.75\n",
    "\n",
    "ENV-STD ** 2 = 0.75 = 1 - 0.25"
   ]
  },
  {
   "cell_type": "code",
   "execution_count": null,
   "id": "57932af1-4c2a-41cd-bf4d-d9215427ccac",
   "metadata": {},
   "outputs": [],
   "source": []
  }
 ],
 "metadata": {
  "kernelspec": {
   "display_name": "Python 3",
   "language": "python",
   "name": "python3"
  },
  "language_info": {
   "codemirror_mode": {
    "name": "ipython",
    "version": 3
   },
   "file_extension": ".py",
   "mimetype": "text/x-python",
   "name": "python",
   "nbconvert_exporter": "python",
   "pygments_lexer": "ipython3",
   "version": "3.9.1"
  }
 },
 "nbformat": 4,
 "nbformat_minor": 5
}
