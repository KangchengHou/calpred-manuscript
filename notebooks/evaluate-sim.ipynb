{
 "cells": [
  {
   "cell_type": "code",
   "execution_count": 10,
   "id": "dd0c4a3c-fca9-4d05-aa78-4f9cf0e2ff11",
   "metadata": {},
   "outputs": [
    {
     "name": "stdout",
     "output_type": "stream",
     "text": [
      "The autoreload extension is already loaded. To reload it, use:\n",
      "  %reload_ext autoreload\n"
     ]
    }
   ],
   "source": [
    "%load_ext autoreload\n",
    "%autoreload 2\n",
    "\n",
    "import numpy as np\n",
    "import pandas as pd\n",
    "import pickle\n",
    "import os\n",
    "import admix_prs"
   ]
  },
  {
   "cell_type": "markdown",
   "id": "1e88477b-864d-4d18-97ee-0f0a17642b70",
   "metadata": {},
   "source": [
    "# Load data"
   ]
  },
  {
   "cell_type": "code",
   "execution_count": 11,
   "id": "0c0d60e6-afd8-43f1-a182-89be8133de0b",
   "metadata": {},
   "outputs": [],
   "source": [
    "PHENO_PATH = \"/u/project/pasaniuc/kangchen/tmp/prs-1219/REAL-PHENO/all-pheno.csv\"\n",
    "df_pheno = pd.read_csv(PHENO_PATH, index_col=0)\n",
    "df_pheno[\"PC1_Q\"] = admix_prs.make_levels(df_pheno, stratify_col=\"PC1\", n_level=5)\n",
    "df_pheno[\"PC2_Q\"] = admix_prs.make_levels(df_pheno, stratify_col=\"PC2\", n_level=5)\n",
    "df_pheno[\"AGE_Q\"] = admix_prs.make_levels(df_pheno, stratify_col=\"AGE\", n_level=5)"
   ]
  },
  {
   "cell_type": "code",
   "execution_count": 12,
   "id": "4f3bfb48-35f0-4e1f-957f-93825466a3c7",
   "metadata": {},
   "outputs": [],
   "source": [
    "config = \"hsq-0.25-pcausal-0.01-hermodel-uniform\""
   ]
  },
  {
   "cell_type": "code",
   "execution_count": 13,
   "id": "f31afc0a-95f7-4df5-a3a4-e003809e1e19",
   "metadata": {},
   "outputs": [],
   "source": [
    "if os.path.exists(\"df_res_list.pkl\"):\n",
    "    with open(\"df_res_list.pkl\", \"rb\") as f:\n",
    "        df_res_list = pickle.load(f)\n",
    "else:\n",
    "    df_res_list = admix_prs.load_sim_data(config)\n",
    "    with open(\"df_res_list.pkl\", \"wb\") as f:\n",
    "        pickle.dump(df_res_list, f)"
   ]
  },
  {
   "cell_type": "code",
   "execution_count": 25,
   "id": "f7d99fec-48e1-4df8-94c4-d4031efed71f",
   "metadata": {},
   "outputs": [],
   "source": [
    "n_sim = len(df_res_list)"
   ]
  },
  {
   "cell_type": "code",
   "execution_count": 14,
   "id": "cf9e3aab-efd9-49af-b13d-8880923bef98",
   "metadata": {},
   "outputs": [],
   "source": [
    "res_dict = {\n",
    "    'r2': {\n",
    "        'pheno_g': {'pc1': list(), 'pc2':list(), 'age':list(), 'sex':list()},\n",
    "        'pheno': {'pc1': list(), 'pc2':list(), 'age':list(), 'sex':list()}    \n",
    "    },\n",
    "    'cali':{\n",
    "        'pheno_g': {'pc1': list(), 'pc2':list(), 'age':list(), 'sex':list()},\n",
    "        'pheno': {'pc1': list(), 'pc2':list(), 'age':list(), 'sex':list()}    \n",
    "    }\n",
    "}"
   ]
  },
  {
   "cell_type": "code",
   "execution_count": 61,
   "id": "dd8df665-2aef-4e80-9f73-39afc780f17a",
   "metadata": {},
   "outputs": [],
   "source": [
    "\n",
    "for i_sim in range(n_sim):\n",
    "    df_prs = df_res_list[i_sim].copy()\n",
    "    df_prs[\"PHENO_G\"] -= df_prs[\"PHENO\"].mean()\n",
    "    df_prs[\"PHENO\"] -= df_prs[\"PHENO\"].mean()\n",
    "    df_prs[\"ID\"] = df_prs.index\n",
    "    df_prs[\"ID\"] = df_prs[\"ID\"].apply(lambda x: x.split(\"_\")[0])\n",
    "    df_prs.index = df_prs[\"ID\"]\n",
    "    df_prs = df_prs.drop(columns=[\"ID\"])\n",
    "    df_prs = df_prs.dropna()\n",
    "    df_prs.index = df_prs.index.astype(int)\n",
    "    df_prs[\"PHENO_STD\"] = np.sqrt(df_prs[\"PRS_STD\"] ** 2 + 0.75)\n",
    "    df_prs[\"PRS_LOW\"] = df_prs[\"PRS_MEAN\"] - 1.645 * df_prs[\"PRS_STD\"]\n",
    "    df_prs[\"PRS_UPP\"] = df_prs[\"PRS_MEAN\"] + 1.645 * df_prs[\"PRS_STD\"]\n",
    "    df_prs[\"PHENO_LOW\"] = df_prs[\"PRS_MEAN\"] - 1.645 * df_prs[\"PHENO_STD\"]\n",
    "    df_prs[\"PHENO_UPP\"] = df_prs[\"PRS_MEAN\"] + 1.645 * df_prs[\"PHENO_STD\"]\n",
    "    df_info = pd.merge(df_pheno, df_prs, left_index=True, right_index=True)    \n",
    "    \n",
    "    res_dict['r2']['pheno_g']['pc1'].append(admix_prs.stratify_calculate_r2(df_info, x_col=\"PHENO_G\", y_col=\"PRS_MEAN\", group_col=\"PC1_Q\"))\n",
    "    res_dict['r2']['pheno_g']['pc2'].append(admix_prs.stratify_calculate_r2(df_info, x_col=\"PHENO_G\", y_col=\"PRS_MEAN\", group_col=\"PC2_Q\"))\n",
    "    res_dict['r2']['pheno_g']['sex'].append(admix_prs.stratify_calculate_r2(df_info, x_col=\"PHENO_G\", y_col=\"PRS_MEAN\", group_col=\"SEX\"))\n",
    "    res_dict['r2']['pheno_g']['age'].append(admix_prs.stratify_calculate_r2(df_info, x_col=\"PHENO_G\", y_col=\"PRS_MEAN\", group_col=\"AGE_Q\"))\n",
    "    res_dict['r2']['pheno']['pc1'].append(admix_prs.stratify_calculate_r2(df_info, x_col=\"PHENO\", y_col=\"PRS_MEAN\", group_col=\"PC1_Q\"))\n",
    "    res_dict['r2']['pheno']['pc2'].append(admix_prs.stratify_calculate_r2(df_info, x_col=\"PHENO\", y_col=\"PRS_MEAN\", group_col=\"PC2_Q\"))\n",
    "    res_dict['r2']['pheno']['sex'].append(admix_prs.stratify_calculate_r2(df_info, x_col=\"PHENO\", y_col=\"PRS_MEAN\", group_col=\"SEX\"))\n",
    "    res_dict['r2']['pheno']['age'].append(admix_prs.stratify_calculate_r2(df_info, x_col=\"PHENO\", y_col=\"PRS_MEAN\", group_col=\"AGE_Q\"))\n",
    "    res_dict['cali']['pheno_g']['pc1'].append(admix_prs.eval_calibration(df_info, x_col=\"PHENO_G\", lower_col=\"PRS_LOW\", upper_col=\"PRS_UPP\", group_col=\"PC1_Q\"))\n",
    "    res_dict['cali']['pheno_g']['pc2'].append(admix_prs.eval_calibration(df_info, x_col=\"PHENO_G\", lower_col=\"PRS_LOW\", upper_col=\"PRS_UPP\", group_col=\"PC2_Q\"))\n",
    "    res_dict['cali']['pheno_g']['sex'].append(admix_prs.eval_calibration(df_info, x_col=\"PHENO_G\", lower_col=\"PRS_LOW\", upper_col=\"PRS_UPP\", group_col=\"SEX\"))\n",
    "    res_dict['cali']['pheno_g']['age'].append(admix_prs.eval_calibration(df_info, x_col=\"PHENO_G\", lower_col=\"PRS_LOW\", upper_col=\"PRS_UPP\", group_col=\"AGE_Q\"))\n",
    "    res_dict['cali']['pheno']['pc1'].append(admix_prs.eval_calibration(df_info, x_col=\"PHENO\", lower_col=\"PHENO_LOW\", upper_col=\"PHENO_UPP\", group_col=\"PC1_Q\"))\n",
    "    res_dict['cali']['pheno']['pc2'].append(admix_prs.eval_calibration(df_info, x_col=\"PHENO\", lower_col=\"PHENO_LOW\", upper_col=\"PHENO_UPP\", group_col=\"PC2_Q\"))\n",
    "    res_dict['cali']['pheno']['age'].append(admix_prs.eval_calibration(df_info, x_col=\"PHENO\", lower_col=\"PHENO_LOW\", upper_col=\"PHENO_UPP\", group_col=\"AGE_Q\"))\n",
    "    res_dict['cali']['pheno']['sex'].append(admix_prs.eval_calibration(df_info, x_col=\"PHENO\", lower_col=\"PHENO_LOW\", upper_col=\"PHENO_UPP\", group_col=\"SEX\"))\n",
    "    "
   ]
  },
  {
   "cell_type": "code",
   "execution_count": 62,
   "id": "3e84fb49-f931-4696-b734-3d8a5321b313",
   "metadata": {},
   "outputs": [
    {
     "data": {
      "text/plain": [
       "[                PC1_Q        R2    R2_std\n",
       " 0  (-19.271, -13.615]  0.729972  0.006727\n",
       " 1  (-13.615, -12.613]  0.732209  0.008188\n",
       " 2  (-12.613, -11.683]  0.736849  0.004965\n",
       " 3  (-11.683, -10.323]  0.733245  0.005711\n",
       " 4  (-10.323, 419.396]  0.653893  0.003369,\n",
       "                 PC1_Q        R2    R2_std\n",
       " 0  (-19.271, -13.615]  0.738519  0.005314\n",
       " 1  (-13.615, -12.613]  0.724991  0.006109\n",
       " 2  (-12.613, -11.683]  0.734305  0.005966\n",
       " 3  (-11.683, -10.323]  0.739448  0.003722\n",
       " 4  (-10.323, 419.396]  0.694450  0.001878,\n",
       "                 PC1_Q        R2    R2_std\n",
       " 0  (-19.271, -13.615]  0.739149  0.009384\n",
       " 1  (-13.615, -12.613]  0.740538  0.005211\n",
       " 2  (-12.613, -11.683]  0.735786  0.005596\n",
       " 3  (-11.683, -10.323]  0.739621  0.005079\n",
       " 4  (-10.323, 419.396]  0.618882  0.004150,\n",
       "                 PC1_Q        R2    R2_std\n",
       " 0  (-19.271, -13.615]  0.724696  0.005586\n",
       " 1  (-13.615, -12.613]  0.738864  0.005235\n",
       " 2  (-12.613, -11.683]  0.736219  0.005788\n",
       " 3  (-11.683, -10.323]  0.740725  0.005321\n",
       " 4  (-10.323, 419.396]  0.647987  0.002166,\n",
       "                 PC1_Q        R2    R2_std\n",
       " 0  (-19.271, -13.615]  0.717078  0.008089\n",
       " 1  (-13.615, -12.613]  0.720082  0.003568\n",
       " 2  (-12.613, -11.683]  0.721735  0.008365\n",
       " 3  (-11.683, -10.323]  0.728794  0.006145\n",
       " 4  (-10.323, 419.396]  0.473939  0.003244,\n",
       "                 PC1_Q        R2    R2_std\n",
       " 0  (-19.271, -13.615]  0.731186  0.008837\n",
       " 1  (-13.615, -12.613]  0.728944  0.007496\n",
       " 2  (-12.613, -11.683]  0.736141  0.005775\n",
       " 3  (-11.683, -10.323]  0.731495  0.008029\n",
       " 4  (-10.323, 419.396]  0.656047  0.004092,\n",
       "                 PC1_Q        R2    R2_std\n",
       " 0  (-19.271, -13.615]  0.735614  0.006192\n",
       " 1  (-13.615, -12.613]  0.727094  0.009720\n",
       " 2  (-12.613, -11.683]  0.739920  0.007480\n",
       " 3  (-11.683, -10.323]  0.737095  0.006181\n",
       " 4  (-10.323, 419.396]  0.695137  0.003988,\n",
       "                 PC1_Q        R2    R2_std\n",
       " 0  (-19.271, -13.615]  0.736154  0.006707\n",
       " 1  (-13.615, -12.613]  0.732871  0.006802\n",
       " 2  (-12.613, -11.683]  0.740125  0.005202\n",
       " 3  (-11.683, -10.323]  0.741657  0.006163\n",
       " 4  (-10.323, 419.396]  0.618053  0.001706,\n",
       "                 PC1_Q        R2    R2_std\n",
       " 0  (-19.271, -13.615]  0.727600  0.004552\n",
       " 1  (-13.615, -12.613]  0.738254  0.007002\n",
       " 2  (-12.613, -11.683]  0.734612  0.007382\n",
       " 3  (-11.683, -10.323]  0.740397  0.008341\n",
       " 4  (-10.323, 419.396]  0.648722  0.002886,\n",
       "                 PC1_Q        R2    R2_std\n",
       " 0  (-19.271, -13.615]  0.718162  0.006794\n",
       " 1  (-13.615, -12.613]  0.720818  0.007629\n",
       " 2  (-12.613, -11.683]  0.724564  0.008285\n",
       " 3  (-11.683, -10.323]  0.732868  0.003322\n",
       " 4  (-10.323, 419.396]  0.474300  0.001741]"
      ]
     },
     "execution_count": 62,
     "metadata": {},
     "output_type": "execute_result"
    }
   ],
   "source": [
    "res_dict['r2']['pheno_g']['pc1']"
   ]
  },
  {
   "cell_type": "code",
   "execution_count": 81,
   "id": "efb15a14-8e25-4314-9039-bbf34b43acd8",
   "metadata": {},
   "outputs": [
    {
     "name": "stderr",
     "output_type": "stream",
     "text": [
      "<ipython-input-81-b7c6a211ba31>:3: FutureWarning: Passing 'suffixes' which cause duplicate columns {'R2_std_x', 'R2_x'} in the result is deprecated and will raise a MergeError in a future version.\n",
      "  df_merged = reduce(lambda  left,right: pd.merge(left,right,\n"
     ]
    }
   ],
   "source": [
    "from functools import reduce\n",
    "dfs = [res_dict['r2']['pheno_g']['pc1'][i] for i in range(n_sim)]\n",
    "df_merged = reduce(lambda  left,right: pd.merge(left,right,\n",
    "                                                left_on='PC1_Q', \n",
    "                                                right_on='PC1_Q'), dfs)"
   ]
  },
  {
   "cell_type": "code",
   "execution_count": 82,
   "id": "0c578239-94b4-41db-a9b5-d758553a88d7",
   "metadata": {},
   "outputs": [],
   "source": [
    "df_merged = df_merged.rename(columns={\"R2\":\"R2_sim5\", \"R2_std\":\"R2_std_sim5\"})\n",
    "d1 = {'R2_x': ['R2_sim1', 'R2_sim3']}\n",
    "d2 = {'R2_y': ['R2_sim2', 'R2_sim4']}\n",
    "d3 = {'R2_std_x': ['R2_std_sim1', 'R2_std_sim3']}\n",
    "d4 = {'R2_std_y': ['R2_std_sim2', 'R2_std_sim4']}\n",
    "d_li = [d1, d2, d3, d4]\n",
    "for d in d_li:\n",
    "    df_merged = df_merged.rename(columns=lambda c: d[c].pop(0) if c in d.keys() else c)"
   ]
  },
  {
   "cell_type": "code",
   "execution_count": 90,
   "id": "10239bd2-a7cc-48d3-af36-ccfc76dc3320",
   "metadata": {},
   "outputs": [
    {
     "data": {
      "text/html": [
       "<div>\n",
       "<style scoped>\n",
       "    .dataframe tbody tr th:only-of-type {\n",
       "        vertical-align: middle;\n",
       "    }\n",
       "\n",
       "    .dataframe tbody tr th {\n",
       "        vertical-align: top;\n",
       "    }\n",
       "\n",
       "    .dataframe thead th {\n",
       "        text-align: right;\n",
       "    }\n",
       "</style>\n",
       "<table border=\"1\" class=\"dataframe\">\n",
       "  <thead>\n",
       "    <tr style=\"text-align: right;\">\n",
       "      <th></th>\n",
       "      <th>PC1_Q</th>\n",
       "      <th>R2_sim1</th>\n",
       "      <th>R2_std_sim1</th>\n",
       "      <th>R2_sim2</th>\n",
       "      <th>R2_std_sim2</th>\n",
       "      <th>R2_sim3</th>\n",
       "      <th>R2_std_sim3</th>\n",
       "      <th>R2_sim4</th>\n",
       "      <th>R2_std_sim4</th>\n",
       "      <th>R2_sim5</th>\n",
       "      <th>R2_std_sim5</th>\n",
       "    </tr>\n",
       "  </thead>\n",
       "  <tbody>\n",
       "    <tr>\n",
       "      <th>0</th>\n",
       "      <td>(-19.271, -13.615]</td>\n",
       "      <td>0.729972</td>\n",
       "      <td>0.006727</td>\n",
       "      <td>0.738519</td>\n",
       "      <td>0.005314</td>\n",
       "      <td>0.739149</td>\n",
       "      <td>0.009384</td>\n",
       "      <td>0.724696</td>\n",
       "      <td>0.005586</td>\n",
       "      <td>0.717078</td>\n",
       "      <td>0.008089</td>\n",
       "    </tr>\n",
       "    <tr>\n",
       "      <th>1</th>\n",
       "      <td>(-13.615, -12.613]</td>\n",
       "      <td>0.732209</td>\n",
       "      <td>0.008188</td>\n",
       "      <td>0.724991</td>\n",
       "      <td>0.006109</td>\n",
       "      <td>0.740538</td>\n",
       "      <td>0.005211</td>\n",
       "      <td>0.738864</td>\n",
       "      <td>0.005235</td>\n",
       "      <td>0.720082</td>\n",
       "      <td>0.003568</td>\n",
       "    </tr>\n",
       "    <tr>\n",
       "      <th>2</th>\n",
       "      <td>(-12.613, -11.683]</td>\n",
       "      <td>0.736849</td>\n",
       "      <td>0.004965</td>\n",
       "      <td>0.734305</td>\n",
       "      <td>0.005966</td>\n",
       "      <td>0.735786</td>\n",
       "      <td>0.005596</td>\n",
       "      <td>0.736219</td>\n",
       "      <td>0.005788</td>\n",
       "      <td>0.721735</td>\n",
       "      <td>0.008365</td>\n",
       "    </tr>\n",
       "    <tr>\n",
       "      <th>3</th>\n",
       "      <td>(-11.683, -10.323]</td>\n",
       "      <td>0.733245</td>\n",
       "      <td>0.005711</td>\n",
       "      <td>0.739448</td>\n",
       "      <td>0.003722</td>\n",
       "      <td>0.739621</td>\n",
       "      <td>0.005079</td>\n",
       "      <td>0.740725</td>\n",
       "      <td>0.005321</td>\n",
       "      <td>0.728794</td>\n",
       "      <td>0.006145</td>\n",
       "    </tr>\n",
       "    <tr>\n",
       "      <th>4</th>\n",
       "      <td>(-10.323, 419.396]</td>\n",
       "      <td>0.653893</td>\n",
       "      <td>0.003369</td>\n",
       "      <td>0.694450</td>\n",
       "      <td>0.001878</td>\n",
       "      <td>0.618882</td>\n",
       "      <td>0.004150</td>\n",
       "      <td>0.647987</td>\n",
       "      <td>0.002166</td>\n",
       "      <td>0.473939</td>\n",
       "      <td>0.003244</td>\n",
       "    </tr>\n",
       "  </tbody>\n",
       "</table>\n",
       "</div>"
      ],
      "text/plain": [
       "                PC1_Q   R2_sim1  R2_std_sim1   R2_sim2  R2_std_sim2   R2_sim3  \\\n",
       "0  (-19.271, -13.615]  0.729972     0.006727  0.738519     0.005314  0.739149   \n",
       "1  (-13.615, -12.613]  0.732209     0.008188  0.724991     0.006109  0.740538   \n",
       "2  (-12.613, -11.683]  0.736849     0.004965  0.734305     0.005966  0.735786   \n",
       "3  (-11.683, -10.323]  0.733245     0.005711  0.739448     0.003722  0.739621   \n",
       "4  (-10.323, 419.396]  0.653893     0.003369  0.694450     0.001878  0.618882   \n",
       "\n",
       "   R2_std_sim3   R2_sim4  R2_std_sim4   R2_sim5  R2_std_sim5  \n",
       "0     0.009384  0.724696     0.005586  0.717078     0.008089  \n",
       "1     0.005211  0.738864     0.005235  0.720082     0.003568  \n",
       "2     0.005596  0.736219     0.005788  0.721735     0.008365  \n",
       "3     0.005079  0.740725     0.005321  0.728794     0.006145  \n",
       "4     0.004150  0.647987     0.002166  0.473939     0.003244  "
      ]
     },
     "execution_count": 90,
     "metadata": {},
     "output_type": "execute_result"
    }
   ],
   "source": [
    "df_merged"
   ]
  },
  {
   "cell_type": "code",
   "execution_count": 93,
   "id": "f93dc165-6503-4f33-b3dc-ea7586173926",
   "metadata": {},
   "outputs": [
    {
     "data": {
      "text/plain": [
       "0    0.729883\n",
       "1    0.731337\n",
       "2    0.732979\n",
       "3    0.736366\n",
       "4    0.617830\n",
       "dtype: float64"
      ]
     },
     "execution_count": 93,
     "metadata": {},
     "output_type": "execute_result"
    }
   ],
   "source": [
    "df_merged[['R2_sim1', 'R2_sim2', 'R2_sim3', 'R2_sim4', 'R2_sim5']].mean(axis=1)"
   ]
  },
  {
   "cell_type": "code",
   "execution_count": 94,
   "id": "9dd69b32-d8bc-4b1b-ab96-f89e08ba0f11",
   "metadata": {},
   "outputs": [
    {
     "data": {
      "text/plain": [
       "0    0.007020\n",
       "1    0.005662\n",
       "2    0.006136\n",
       "3    0.005195\n",
       "4    0.002961\n",
       "dtype: float64"
      ]
     },
     "execution_count": 94,
     "metadata": {},
     "output_type": "execute_result"
    }
   ],
   "source": [
    "df_merged[['R2_std_sim1', 'R2_std_sim2', 'R2_std_sim3', 'R2_std_sim4', 'R2_std_sim5']].mean(axis=1)"
   ]
  },
  {
   "cell_type": "code",
   "execution_count": null,
   "id": "65e0fe63-7840-4af5-8da2-9ac95f4a96f8",
   "metadata": {},
   "outputs": [],
   "source": []
  },
  {
   "cell_type": "code",
   "execution_count": null,
   "id": "d0c9876f-a5b8-46ff-92b7-930d92b1f2be",
   "metadata": {},
   "outputs": [],
   "source": []
  },
  {
   "cell_type": "code",
   "execution_count": null,
   "id": "de54b6ab-bc13-4a6a-816e-823e18dc89f5",
   "metadata": {},
   "outputs": [],
   "source": []
  },
  {
   "cell_type": "code",
   "execution_count": null,
   "id": "62167049-a9b7-4112-9b03-c4cf47dcaca3",
   "metadata": {},
   "outputs": [],
   "source": []
  },
  {
   "cell_type": "markdown",
   "id": "17732599-a7c6-4441-ae29-d4cbd4ba0c87",
   "metadata": {},
   "source": [
    "1. stratify_calculate_r2 by PC1, PC2, AGE, SEX\n",
    "- R2 different by PC1 and PC2, but not by AGE, SEX\n",
    "- do this for both PHENO_G and PHENO\n",
    "\n",
    "2. eval_calibration using PHENO_G and `[MEAN - 1.645 * STD, MEAN + 1.645 * STD]` \n",
    "- expect 90% coverage\n",
    "3. eval_calibration using PHENO and `[MEAN - 1.645 * PHENO-STD, MEAN + 1.645 * PHENO-STD]`"
   ]
  },
  {
   "cell_type": "markdown",
   "id": "060cea8b-d93f-4e3f-9d6d-79b5f735364c",
   "metadata": {},
   "source": [
    "- PHENO-G ~ PRS-MEAN + STD(PRS)\n",
    "- PHENO ~ PRS-MEAN + STD(PRS + ENV)\n",
    "simulated heritability is 0.25\n",
    "var[y] = 1\n",
    "hsq = var[gv] / (var[gv] + var[e]) = 0.25\n",
    "var[e] = 0.75\n",
    "\n",
    "STD(PRS + ENV) = sqrt(PRS-STD ** 2 + ENV-STD ** 2)\n",
    "\n",
    "df[\"PHENO-STD\"] = np.sqrt(df[\"PRS-STD\"] ** 2 + 0.75)\n",
    "\n",
    "ENV-STD ** 2 = 0.75 = 1 - 0.25"
   ]
  }
 ],
 "metadata": {
  "kernelspec": {
   "display_name": "Python 3",
   "language": "python",
   "name": "python3"
  },
  "language_info": {
   "codemirror_mode": {
    "name": "ipython",
    "version": 3
   },
   "file_extension": ".py",
   "mimetype": "text/x-python",
   "name": "python",
   "nbconvert_exporter": "python",
   "pygments_lexer": "ipython3",
   "version": "3.9.1"
  }
 },
 "nbformat": 4,
 "nbformat_minor": 5
}
