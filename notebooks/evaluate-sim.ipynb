{
 "cells": [
  {
   "cell_type": "code",
   "execution_count": 2,
   "id": "dd0c4a3c-fca9-4d05-aa78-4f9cf0e2ff11",
   "metadata": {},
   "outputs": [
    {
     "name": "stdout",
     "output_type": "stream",
     "text": [
      "The autoreload extension is already loaded. To reload it, use:\n",
      "  %reload_ext autoreload\n",
      "The lab_black extension is already loaded. To reload it, use:\n",
      "  %reload_ext lab_black\n"
     ]
    }
   ],
   "source": [
    "%load_ext autoreload\n",
    "%autoreload 2\n",
    "%load_ext lab_black\n",
    "\n",
    "import numpy as np\n",
    "import pandas as pd\n",
    "import pickle\n",
    "import os\n",
    "import admix_prs"
   ]
  },
  {
   "cell_type": "markdown",
   "id": "1e88477b-864d-4d18-97ee-0f0a17642b70",
   "metadata": {},
   "source": [
    "# Load data"
   ]
  },
  {
   "cell_type": "code",
   "execution_count": 4,
   "id": "4f3bfb48-35f0-4e1f-957f-93825466a3c7",
   "metadata": {},
   "outputs": [],
   "source": [
    "config = \"hsq-0.25-pcausal-0.01-hermodel-uniform\""
   ]
  },
  {
   "cell_type": "code",
   "execution_count": 5,
   "id": "f31afc0a-95f7-4df5-a3a4-e003809e1e19",
   "metadata": {},
   "outputs": [
    {
     "name": "stderr",
     "output_type": "stream",
     "text": [
      "100%|██████████| 5/5 [02:26<00:00, 29.35s/it]\n"
     ]
    }
   ],
   "source": [
    "if os.path.exists(\"df_res_list.pkl\"):\n",
    "    with open(\"df_res_list.pkl\", \"rb\") as f:\n",
    "        df_res_list = pickle.load(f)\n",
    "else:\n",
    "    df_res_list = admix_prs.load_sim_data(config)\n",
    "    with open(\"df_res_list.pkl\", \"wb\") as f:\n",
    "        pickle.dump(df_res_list, f)"
   ]
  },
  {
   "cell_type": "code",
   "execution_count": 12,
   "id": "63d2ea6f-f398-4ac2-99ef-565d2379ffd1",
   "metadata": {},
   "outputs": [],
   "source": [
    "df = df_res_list[0].copy()\n",
    "df[\"PHENO_G\"] -= df[\"PHENO\"].mean()\n",
    "df[\"PHENO\"] -= df[\"PHENO\"].mean()"
   ]
  },
  {
   "cell_type": "code",
   "execution_count": 18,
   "id": "db17ff20-aecb-4bfd-8318-abdb42d63ac6",
   "metadata": {},
   "outputs": [
    {
     "ename": "TypeError",
     "evalue": "stratify_calculate_r2() missing 1 required positional argument: 'stratify_col'",
     "output_type": "error",
     "traceback": [
      "\u001b[0;31m---------------------------------------------------------------------------\u001b[0m",
      "\u001b[0;31mTypeError\u001b[0m                                 Traceback (most recent call last)",
      "\u001b[0;32m<ipython-input-18-1c4d4a0be2ad>\u001b[0m in \u001b[0;36m<module>\u001b[0;34m\u001b[0m\n\u001b[0;32m----> 1\u001b[0;31m \u001b[0madmix_prs\u001b[0m\u001b[0;34m.\u001b[0m\u001b[0mstratify_calculate_r2\u001b[0m\u001b[0;34m(\u001b[0m\u001b[0mdf\u001b[0m\u001b[0;34m,\u001b[0m \u001b[0mx_col\u001b[0m\u001b[0;34m=\u001b[0m\u001b[0;34m\"PHENO_G\"\u001b[0m\u001b[0;34m,\u001b[0m \u001b[0my_col\u001b[0m\u001b[0;34m=\u001b[0m\u001b[0;34m\"PRS_MEAN\"\u001b[0m\u001b[0;34m)\u001b[0m\u001b[0;34m\u001b[0m\u001b[0;34m\u001b[0m\u001b[0m\n\u001b[0m",
      "\u001b[0;31mTypeError\u001b[0m: stratify_calculate_r2() missing 1 required positional argument: 'stratify_col'"
     ]
    }
   ],
   "source": [
    "admix_prs.stratify_calculate_r2(df, x_col=\"PHENO_G\", y_col=\"PRS_MEAN\")"
   ]
  },
  {
   "cell_type": "code",
   "execution_count": 19,
   "id": "8cb7cb79-4e44-4504-98dc-ceb43eda9133",
   "metadata": {},
   "outputs": [
    {
     "ename": "TypeError",
     "evalue": "eval_calibration() got an unexpected keyword argument 'y_col'",
     "output_type": "error",
     "traceback": [
      "\u001b[0;31m---------------------------------------------------------------------------\u001b[0m",
      "\u001b[0;31mTypeError\u001b[0m                                 Traceback (most recent call last)",
      "\u001b[0;32m<ipython-input-19-6d84bee43afb>\u001b[0m in \u001b[0;36m<module>\u001b[0;34m\u001b[0m\n\u001b[0;32m----> 1\u001b[0;31m \u001b[0madmix_prs\u001b[0m\u001b[0;34m.\u001b[0m\u001b[0meval_calibration\u001b[0m\u001b[0;34m(\u001b[0m\u001b[0mdf\u001b[0m\u001b[0;34m,\u001b[0m \u001b[0mx_col\u001b[0m\u001b[0;34m=\u001b[0m\u001b[0;34m\"PHENO_G\"\u001b[0m\u001b[0;34m,\u001b[0m \u001b[0my_col\u001b[0m\u001b[0;34m=\u001b[0m\u001b[0;34m\"PRS_MEAN\"\u001b[0m\u001b[0;34m)\u001b[0m\u001b[0;34m\u001b[0m\u001b[0;34m\u001b[0m\u001b[0m\n\u001b[0m",
      "\u001b[0;31mTypeError\u001b[0m: eval_calibration() got an unexpected keyword argument 'y_col'"
     ]
    }
   ],
   "source": [
    "admix_prs.eval_calibration(df, x_col=\"PHENO_G\", y_col=\"PRS_MEAN\")"
   ]
  },
  {
   "cell_type": "markdown",
   "id": "17732599-a7c6-4441-ae29-d4cbd4ba0c87",
   "metadata": {},
   "source": [
    "# TODO:\n",
    "1. stratify_calculate_r2 by PC\n",
    "2. eval_calibration using PHENO_G and `[MEAN - 1.645 * STD, MEAN + 1.645 * STD]`\n",
    "3. eval_calibration using PHENO and `[MEAN - 1.645 * (STD + env-noise), MEAN + 1.645 * (STD + env-noise)]`"
   ]
  },
  {
   "cell_type": "code",
   "execution_count": null,
   "id": "04d86992-808c-488a-9e1e-8d0d73a9c770",
   "metadata": {},
   "outputs": [],
   "source": []
  }
 ],
 "metadata": {
  "kernelspec": {
   "display_name": "Python 3",
   "language": "python",
   "name": "python3"
  },
  "language_info": {
   "codemirror_mode": {
    "name": "ipython",
    "version": 3
   },
   "file_extension": ".py",
   "mimetype": "text/x-python",
   "name": "python",
   "nbconvert_exporter": "python",
   "pygments_lexer": "ipython3",
   "version": "3.8.5"
  }
 },
 "nbformat": 4,
 "nbformat_minor": 5
}
